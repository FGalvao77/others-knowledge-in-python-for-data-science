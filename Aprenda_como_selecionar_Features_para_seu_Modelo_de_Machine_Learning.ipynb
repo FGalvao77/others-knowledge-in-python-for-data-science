{
  "nbformat": 4,
  "nbformat_minor": 0,
  "metadata": {
    "colab": {
      "name": "Aprenda como selecionar Features para seu Modelo de Machine Learning.ipynb",
      "provenance": [],
      "collapsed_sections": [],
      "authorship_tag": "ABX9TyMh7ylfWTZdF51z8iYXImwA",
      "include_colab_link": true
    },
    "kernelspec": {
      "name": "python3",
      "display_name": "Python 3"
    },
    "language_info": {
      "name": "python"
    }
  },
  "cells": [
    {
      "cell_type": "markdown",
      "metadata": {
        "id": "view-in-github",
        "colab_type": "text"
      },
      "source": [
        "<a href=\"https://colab.research.google.com/github/FGalvao77/others-knowledge-in-python-for-data-science/blob/main/Aprenda_como_selecionar_Features_para_seu_Modelo_de_Machine_Learning.ipynb\" target=\"_parent\"><img src=\"https://colab.research.google.com/assets/colab-badge.svg\" alt=\"Open In Colab\"/></a>"
      ]
    },
    {
      "cell_type": "markdown",
      "metadata": {
        "id": "ZQq1Z9MtTWZp"
      },
      "source": [
        "# **Aprenda como selecionar Features para seu Modelo de Machine Learning**"
      ]
    },
    {
      "cell_type": "markdown",
      "metadata": {
        "id": "gVyXvrCFTbnh"
      },
      "source": [
        "A ``Feature Selection`` deve ser feita depois da etapa de pré-processamento dos dados. O objetivo é selecionar as melhores variáveis como possíveis variáveis preditoras.\n",
        "\n",
        "**Porque fazer Seleção de Features?**\n",
        "\n",
        "- Algumas Features (Features não informativas) pode adicionar ruído ao modelo.\n",
        "      Exemplo: nome, id, id_de_variaveis\n",
        "\n",
        "- Modelos simples são explicativos, devemos evitar a perda da explicabilidade dos nossos modelos.\n",
        "\n",
        "- Muitas features podem causar problemas como tempos excessivos para treino, ou ainda dificuldades de colocar modelos em produção.\n",
        "\n",
        "A etapa de feature selection ajuda a reduzir o overfitting, aumenta a acurácia do modelo e reduz o tempo de treinamento."
      ]
    },
    {
      "cell_type": "markdown",
      "metadata": {
        "id": "pJTOSTBsT6DX"
      },
      "source": [
        "## **Tipos de Algoritmos e Métodos**"
      ]
    },
    {
      "cell_type": "markdown",
      "metadata": {
        "id": "XYOFdGaJT-EW"
      },
      "source": [
        "- ``Filter Methods``: Métodos de seleção que utiliza medidas estatísticas para atribuir um score para cada feature. As features são classificadas pelo score para serem mantidas ou removidas do modelo. Normalmente se usam testes univariados que consideram a independência da feature com a variável alvo. Exemplo: chi squared, scores com coeficiente de correlação.\n",
        "\n",
        "- ``Wrapper Methods``: Métodos de seleção que selecionam um conjunto de features, onde diferentes combinações são preparadas, avaliadas e comparadas. Um modelo preditivo é usado para avaliar a combinação de features a atribuir um score baseado em uma acurácia de modelo. Exemplo: algoritmo RFE\n",
        "\n",
        "- ``Embedded Methods``: Métodos Embedded aprendem quais feature melhor contribuiem para a acurácia do modelo no momento de construção do modelo. Exemplo: métodos de penalização, algoritmos Lasso, Elastic NEt e Ridge Regression."
      ]
    },
    {
      "cell_type": "markdown",
      "metadata": {
        "id": "6QJCwBiDULvu"
      },
      "source": [
        "## **Seleção de Features com Python**"
      ]
    },
    {
      "cell_type": "code",
      "metadata": {
        "id": "LxF6Exf0T50X"
      },
      "source": [
        "import pandas as pd\n",
        "colnames = ['preg', 'plas', 'pres', 'skin', 'test', 'mass', 'pedi', \n",
        "            'age', 'class']"
      ],
      "execution_count": null,
      "outputs": []
    },
    {
      "cell_type": "code",
      "metadata": {
        "id": "D7odAc1zT5s3"
      },
      "source": [
        "# lendo o arquivo\n",
        "df = pd.read_csv('https://raw.githubusercontent.com/jbrownlee/Datasets/master/pima-indians-diabetes.csv', \n",
        "                 names=colnames)"
      ],
      "execution_count": null,
      "outputs": []
    },
    {
      "cell_type": "markdown",
      "metadata": {
        "id": "DkVYZXfOU95x"
      },
      "source": [
        "Essa é uma base de dados para trabalhar com classificação, onde o objetivo é prever através de algumas características se uma pessoa tem diabetes ou não."
      ]
    },
    {
      "cell_type": "code",
      "metadata": {
        "colab": {
          "base_uri": "https://localhost:8080/",
          "height": 204
        },
        "id": "xbDpeAvmT5qf",
        "outputId": "3e2bc83d-b6a8-4006-975b-a0e9f4e215fa"
      },
      "source": [
        "# visualizando as 5 primeiras linhas do df\n",
        "df.head()"
      ],
      "execution_count": null,
      "outputs": [
        {
          "output_type": "execute_result",
          "data": {
            "text/html": [
              "<div>\n",
              "<style scoped>\n",
              "    .dataframe tbody tr th:only-of-type {\n",
              "        vertical-align: middle;\n",
              "    }\n",
              "\n",
              "    .dataframe tbody tr th {\n",
              "        vertical-align: top;\n",
              "    }\n",
              "\n",
              "    .dataframe thead th {\n",
              "        text-align: right;\n",
              "    }\n",
              "</style>\n",
              "<table border=\"1\" class=\"dataframe\">\n",
              "  <thead>\n",
              "    <tr style=\"text-align: right;\">\n",
              "      <th></th>\n",
              "      <th>preg</th>\n",
              "      <th>plas</th>\n",
              "      <th>pres</th>\n",
              "      <th>skin</th>\n",
              "      <th>test</th>\n",
              "      <th>mass</th>\n",
              "      <th>pedi</th>\n",
              "      <th>age</th>\n",
              "      <th>class</th>\n",
              "    </tr>\n",
              "  </thead>\n",
              "  <tbody>\n",
              "    <tr>\n",
              "      <th>0</th>\n",
              "      <td>6</td>\n",
              "      <td>148</td>\n",
              "      <td>72</td>\n",
              "      <td>35</td>\n",
              "      <td>0</td>\n",
              "      <td>33.6</td>\n",
              "      <td>0.627</td>\n",
              "      <td>50</td>\n",
              "      <td>1</td>\n",
              "    </tr>\n",
              "    <tr>\n",
              "      <th>1</th>\n",
              "      <td>1</td>\n",
              "      <td>85</td>\n",
              "      <td>66</td>\n",
              "      <td>29</td>\n",
              "      <td>0</td>\n",
              "      <td>26.6</td>\n",
              "      <td>0.351</td>\n",
              "      <td>31</td>\n",
              "      <td>0</td>\n",
              "    </tr>\n",
              "    <tr>\n",
              "      <th>2</th>\n",
              "      <td>8</td>\n",
              "      <td>183</td>\n",
              "      <td>64</td>\n",
              "      <td>0</td>\n",
              "      <td>0</td>\n",
              "      <td>23.3</td>\n",
              "      <td>0.672</td>\n",
              "      <td>32</td>\n",
              "      <td>1</td>\n",
              "    </tr>\n",
              "    <tr>\n",
              "      <th>3</th>\n",
              "      <td>1</td>\n",
              "      <td>89</td>\n",
              "      <td>66</td>\n",
              "      <td>23</td>\n",
              "      <td>94</td>\n",
              "      <td>28.1</td>\n",
              "      <td>0.167</td>\n",
              "      <td>21</td>\n",
              "      <td>0</td>\n",
              "    </tr>\n",
              "    <tr>\n",
              "      <th>4</th>\n",
              "      <td>0</td>\n",
              "      <td>137</td>\n",
              "      <td>40</td>\n",
              "      <td>35</td>\n",
              "      <td>168</td>\n",
              "      <td>43.1</td>\n",
              "      <td>2.288</td>\n",
              "      <td>33</td>\n",
              "      <td>1</td>\n",
              "    </tr>\n",
              "  </tbody>\n",
              "</table>\n",
              "</div>"
            ],
            "text/plain": [
              "   preg  plas  pres  skin  test  mass   pedi  age  class\n",
              "0     6   148    72    35     0  33.6  0.627   50      1\n",
              "1     1    85    66    29     0  26.6  0.351   31      0\n",
              "2     8   183    64     0     0  23.3  0.672   32      1\n",
              "3     1    89    66    23    94  28.1  0.167   21      0\n",
              "4     0   137    40    35   168  43.1  2.288   33      1"
            ]
          },
          "metadata": {
            "tags": []
          },
          "execution_count": 5
        }
      ]
    },
    {
      "cell_type": "code",
      "metadata": {
        "colab": {
          "base_uri": "https://localhost:8080/"
        },
        "id": "yT_fXG2PT5n_",
        "outputId": "f83a6490-c984-4390-9d28-d941cffc825a"
      },
      "source": [
        "# informações gerais do df\n",
        "df.info()"
      ],
      "execution_count": null,
      "outputs": [
        {
          "output_type": "stream",
          "text": [
            "<class 'pandas.core.frame.DataFrame'>\n",
            "RangeIndex: 768 entries, 0 to 767\n",
            "Data columns (total 9 columns):\n",
            " #   Column  Non-Null Count  Dtype  \n",
            "---  ------  --------------  -----  \n",
            " 0   preg    768 non-null    int64  \n",
            " 1   plas    768 non-null    int64  \n",
            " 2   pres    768 non-null    int64  \n",
            " 3   skin    768 non-null    int64  \n",
            " 4   test    768 non-null    int64  \n",
            " 5   mass    768 non-null    float64\n",
            " 6   pedi    768 non-null    float64\n",
            " 7   age     768 non-null    int64  \n",
            " 8   class   768 non-null    int64  \n",
            "dtypes: float64(2), int64(7)\n",
            "memory usage: 54.1 KB\n"
          ],
          "name": "stdout"
        }
      ]
    },
    {
      "cell_type": "code",
      "metadata": {
        "colab": {
          "base_uri": "https://localhost:8080/"
        },
        "id": "HDzMQBR_T5lF",
        "outputId": "c9b9702e-16e9-418f-82b0-e1836335da0e"
      },
      "source": [
        "# visualizando a quantidade de linhas e colunas\n",
        "df.shape"
      ],
      "execution_count": null,
      "outputs": [
        {
          "output_type": "execute_result",
          "data": {
            "text/plain": [
              "(768, 9)"
            ]
          },
          "metadata": {
            "tags": []
          },
          "execution_count": 7
        }
      ]
    },
    {
      "cell_type": "markdown",
      "metadata": {
        "id": "Oo9DQKzeVbRN"
      },
      "source": [
        "Temos 9 colunas, sendo 8 as características e uma classe, a base não possui dados nulos."
      ]
    },
    {
      "cell_type": "code",
      "metadata": {
        "colab": {
          "base_uri": "https://localhost:8080/"
        },
        "id": "OKvuHWkVVduO",
        "outputId": "f170e8c8-1883-4cdf-e408-ffccc96c7823"
      },
      "source": [
        "# realizando a contagem dos tipos de dados \n",
        "df.dtypes.value_counts()"
      ],
      "execution_count": null,
      "outputs": [
        {
          "output_type": "execute_result",
          "data": {
            "text/plain": [
              "int64      7\n",
              "float64    2\n",
              "dtype: int64"
            ]
          },
          "metadata": {
            "tags": []
          },
          "execution_count": 8
        }
      ]
    },
    {
      "cell_type": "markdown",
      "metadata": {
        "id": "JyN4BYFuV4r8"
      },
      "source": [
        "## **Separando os dados**\n",
        " - variávies independentes\n",
        " - variável dependente"
      ]
    },
    {
      "cell_type": "code",
      "metadata": {
        "id": "_5RWKnZsTSpF"
      },
      "source": [
        "X = df.drop(['class'], axis=1)  # extraindo o target da base das variáveis independentes\n",
        "y = df['class']   # target"
      ],
      "execution_count": null,
      "outputs": []
    },
    {
      "cell_type": "markdown",
      "metadata": {
        "id": "nh-Ta448WyYM"
      },
      "source": [
        "## **Testes estatísticos**"
      ]
    },
    {
      "cell_type": "markdown",
      "metadata": {
        "id": "8AKgApmcW1A8"
      },
      "source": [
        "Podem ser usados para selecionar os atributos que possuem forte relacionamento com a variável que estamos tentando prever."
      ]
    },
    {
      "cell_type": "markdown",
      "metadata": {
        "id": "n1E_-1RJW3fs"
      },
      "source": [
        "**Métodos disponíveis:**\n",
        "\n",
        "- ``f_classif:`` é adequado quando os dados são numéricos e a variável alvo é categórica.\n",
        "\n",
        "- ``mutual_info_classif``: é mais adequando quando não há uma dependência linear entre as features e a variável alvo.\n",
        "\n",
        "- ``f_regression``: aplicado para problemas de regressão."
      ]
    },
    {
      "cell_type": "markdown",
      "metadata": {
        "id": "TJu7AR8jXDOb"
      },
      "source": [
        "O **Scikit-learn** fornece a função ``SelectkBest()`` que pode ser usada com diversos testes estatísticos. Informamos para o parâmetro ``k`` o número de recursos a serem selecionados como os mais importantes."
      ]
    },
    {
      "cell_type": "code",
      "metadata": {
        "id": "Clf6LzNeVQAf"
      },
      "source": [
        "from sklearn.feature_selection import SelectKBest, f_classif, mutual_info_classif\n"
      ],
      "execution_count": null,
      "outputs": []
    },
    {
      "cell_type": "code",
      "metadata": {
        "id": "e1jak6XEVQeP"
      },
      "source": [
        "f_classif = SelectKBest(score_func=f_classif, \n",
        "                        k=4)"
      ],
      "execution_count": null,
      "outputs": []
    },
    {
      "cell_type": "code",
      "metadata": {
        "id": "AfBenNuBVQhP"
      },
      "source": [
        "fit = f_classif.fit(X, y)\n",
        "features = fit.transform(X)"
      ],
      "execution_count": null,
      "outputs": []
    },
    {
      "cell_type": "code",
      "metadata": {
        "colab": {
          "base_uri": "https://localhost:8080/"
        },
        "id": "Vgkl30ZKXbtW",
        "outputId": "30c23b33-03bd-424b-de6c-c320374cc0fa"
      },
      "source": [
        "# visualizando as features\n",
        "features"
      ],
      "execution_count": null,
      "outputs": [
        {
          "output_type": "execute_result",
          "data": {
            "text/plain": [
              "array([[  6. , 148. ,  33.6,  50. ],\n",
              "       [  1. ,  85. ,  26.6,  31. ],\n",
              "       [  8. , 183. ,  23.3,  32. ],\n",
              "       ...,\n",
              "       [  5. , 121. ,  26.2,  30. ],\n",
              "       [  1. , 126. ,  30.1,  47. ],\n",
              "       [  1. ,  93. ,  30.4,  23. ]])"
            ]
          },
          "metadata": {
            "tags": []
          },
          "execution_count": 13
        }
      ]
    },
    {
      "cell_type": "markdown",
      "metadata": {
        "id": "mC--DaSnYkYK"
      },
      "source": [
        "Segundo o f_classif essas são as ``4 características`` que tiveram a maior pontuação. Vamos descobrir quais são essas características."
      ]
    },
    {
      "cell_type": "code",
      "metadata": {
        "colab": {
          "base_uri": "https://localhost:8080/",
          "height": 419
        },
        "id": "R1dyReXiXbqI",
        "outputId": "44959006-3c71-4dc4-a48c-9122a11247a1"
      },
      "source": [
        "cols = fit.get_support(indices=True)\n",
        "df.iloc[:, cols]"
      ],
      "execution_count": null,
      "outputs": [
        {
          "output_type": "execute_result",
          "data": {
            "text/html": [
              "<div>\n",
              "<style scoped>\n",
              "    .dataframe tbody tr th:only-of-type {\n",
              "        vertical-align: middle;\n",
              "    }\n",
              "\n",
              "    .dataframe tbody tr th {\n",
              "        vertical-align: top;\n",
              "    }\n",
              "\n",
              "    .dataframe thead th {\n",
              "        text-align: right;\n",
              "    }\n",
              "</style>\n",
              "<table border=\"1\" class=\"dataframe\">\n",
              "  <thead>\n",
              "    <tr style=\"text-align: right;\">\n",
              "      <th></th>\n",
              "      <th>preg</th>\n",
              "      <th>plas</th>\n",
              "      <th>mass</th>\n",
              "      <th>age</th>\n",
              "    </tr>\n",
              "  </thead>\n",
              "  <tbody>\n",
              "    <tr>\n",
              "      <th>0</th>\n",
              "      <td>6</td>\n",
              "      <td>148</td>\n",
              "      <td>33.6</td>\n",
              "      <td>50</td>\n",
              "    </tr>\n",
              "    <tr>\n",
              "      <th>1</th>\n",
              "      <td>1</td>\n",
              "      <td>85</td>\n",
              "      <td>26.6</td>\n",
              "      <td>31</td>\n",
              "    </tr>\n",
              "    <tr>\n",
              "      <th>2</th>\n",
              "      <td>8</td>\n",
              "      <td>183</td>\n",
              "      <td>23.3</td>\n",
              "      <td>32</td>\n",
              "    </tr>\n",
              "    <tr>\n",
              "      <th>3</th>\n",
              "      <td>1</td>\n",
              "      <td>89</td>\n",
              "      <td>28.1</td>\n",
              "      <td>21</td>\n",
              "    </tr>\n",
              "    <tr>\n",
              "      <th>4</th>\n",
              "      <td>0</td>\n",
              "      <td>137</td>\n",
              "      <td>43.1</td>\n",
              "      <td>33</td>\n",
              "    </tr>\n",
              "    <tr>\n",
              "      <th>...</th>\n",
              "      <td>...</td>\n",
              "      <td>...</td>\n",
              "      <td>...</td>\n",
              "      <td>...</td>\n",
              "    </tr>\n",
              "    <tr>\n",
              "      <th>763</th>\n",
              "      <td>10</td>\n",
              "      <td>101</td>\n",
              "      <td>32.9</td>\n",
              "      <td>63</td>\n",
              "    </tr>\n",
              "    <tr>\n",
              "      <th>764</th>\n",
              "      <td>2</td>\n",
              "      <td>122</td>\n",
              "      <td>36.8</td>\n",
              "      <td>27</td>\n",
              "    </tr>\n",
              "    <tr>\n",
              "      <th>765</th>\n",
              "      <td>5</td>\n",
              "      <td>121</td>\n",
              "      <td>26.2</td>\n",
              "      <td>30</td>\n",
              "    </tr>\n",
              "    <tr>\n",
              "      <th>766</th>\n",
              "      <td>1</td>\n",
              "      <td>126</td>\n",
              "      <td>30.1</td>\n",
              "      <td>47</td>\n",
              "    </tr>\n",
              "    <tr>\n",
              "      <th>767</th>\n",
              "      <td>1</td>\n",
              "      <td>93</td>\n",
              "      <td>30.4</td>\n",
              "      <td>23</td>\n",
              "    </tr>\n",
              "  </tbody>\n",
              "</table>\n",
              "<p>768 rows × 4 columns</p>\n",
              "</div>"
            ],
            "text/plain": [
              "     preg  plas  mass  age\n",
              "0       6   148  33.6   50\n",
              "1       1    85  26.6   31\n",
              "2       8   183  23.3   32\n",
              "3       1    89  28.1   21\n",
              "4       0   137  43.1   33\n",
              "..    ...   ...   ...  ...\n",
              "763    10   101  32.9   63\n",
              "764     2   122  36.8   27\n",
              "765     5   121  26.2   30\n",
              "766     1   126  30.1   47\n",
              "767     1    93  30.4   23\n",
              "\n",
              "[768 rows x 4 columns]"
            ]
          },
          "metadata": {
            "tags": []
          },
          "execution_count": 14
        }
      ]
    },
    {
      "cell_type": "markdown",
      "metadata": {
        "id": "lhgLvZGcZAoi"
      },
      "source": [
        "Através do método .loc localizamos os respectivos índices das 4 características mais importantes."
      ]
    },
    {
      "cell_type": "markdown",
      "metadata": {
        "id": "Bmc2bE3lZCqi"
      },
      "source": [
        "## **Aplicando o Chi2**"
      ]
    },
    {
      "cell_type": "markdown",
      "metadata": {
        "id": "RSMcBmyNZF_y"
      },
      "source": [
        "``Mede a dependência entre variáveis estocásticas, o uso dessa função “elimina” os recursos com maior probabilidade de serem independentes da classe e, portanto, irrelevantes para a classificação.``\n",
        "\n",
        "\n",
        "- **Scikit Learn**: https://scikit-learn.org/stable/modules/generated/sklearn.feature_selection.chi2.html\n"
      ]
    },
    {
      "cell_type": "markdown",
      "metadata": {
        "id": "lGWKWRedZfH6"
      },
      "source": [
        "- Usado normalmente quando temos features categóricas e variável alvo categórica."
      ]
    },
    {
      "cell_type": "code",
      "metadata": {
        "id": "812PS3wyXbnz"
      },
      "source": [
        "from sklearn.feature_selection import SelectKBest, chi2"
      ],
      "execution_count": null,
      "outputs": []
    },
    {
      "cell_type": "code",
      "metadata": {
        "id": "ty8VBvVuXblT"
      },
      "source": [
        "# feature extraction\n",
        "test = SelectKBest(chi2, k=4)\n",
        "fit = test.fit(X, y)\n",
        "features = fit.transform(X)"
      ],
      "execution_count": null,
      "outputs": []
    },
    {
      "cell_type": "code",
      "metadata": {
        "colab": {
          "base_uri": "https://localhost:8080/"
        },
        "id": "RR2y6lByXbiZ",
        "outputId": "75fe59a2-95ca-4bcd-b181-ae32c4f799a4"
      },
      "source": [
        "# visualizando as features\n",
        "features"
      ],
      "execution_count": null,
      "outputs": [
        {
          "output_type": "execute_result",
          "data": {
            "text/plain": [
              "array([[148. ,   0. ,  33.6,  50. ],\n",
              "       [ 85. ,   0. ,  26.6,  31. ],\n",
              "       [183. ,   0. ,  23.3,  32. ],\n",
              "       ...,\n",
              "       [121. , 112. ,  26.2,  30. ],\n",
              "       [126. ,   0. ,  30.1,  47. ],\n",
              "       [ 93. ,   0. ,  30.4,  23. ]])"
            ]
          },
          "metadata": {
            "tags": []
          },
          "execution_count": 17
        }
      ]
    },
    {
      "cell_type": "code",
      "metadata": {
        "colab": {
          "base_uri": "https://localhost:8080/",
          "height": 204
        },
        "id": "wsXyvD2gZoEQ",
        "outputId": "8bd6ddee-aa6b-4c91-c1f1-54888e4bbf93"
      },
      "source": [
        "fit.get_support(indices=True)\n",
        "cols = fit.get_support(indices=True)\n",
        "df.iloc[:, cols].head()"
      ],
      "execution_count": null,
      "outputs": [
        {
          "output_type": "execute_result",
          "data": {
            "text/html": [
              "<div>\n",
              "<style scoped>\n",
              "    .dataframe tbody tr th:only-of-type {\n",
              "        vertical-align: middle;\n",
              "    }\n",
              "\n",
              "    .dataframe tbody tr th {\n",
              "        vertical-align: top;\n",
              "    }\n",
              "\n",
              "    .dataframe thead th {\n",
              "        text-align: right;\n",
              "    }\n",
              "</style>\n",
              "<table border=\"1\" class=\"dataframe\">\n",
              "  <thead>\n",
              "    <tr style=\"text-align: right;\">\n",
              "      <th></th>\n",
              "      <th>plas</th>\n",
              "      <th>test</th>\n",
              "      <th>mass</th>\n",
              "      <th>age</th>\n",
              "    </tr>\n",
              "  </thead>\n",
              "  <tbody>\n",
              "    <tr>\n",
              "      <th>0</th>\n",
              "      <td>148</td>\n",
              "      <td>0</td>\n",
              "      <td>33.6</td>\n",
              "      <td>50</td>\n",
              "    </tr>\n",
              "    <tr>\n",
              "      <th>1</th>\n",
              "      <td>85</td>\n",
              "      <td>0</td>\n",
              "      <td>26.6</td>\n",
              "      <td>31</td>\n",
              "    </tr>\n",
              "    <tr>\n",
              "      <th>2</th>\n",
              "      <td>183</td>\n",
              "      <td>0</td>\n",
              "      <td>23.3</td>\n",
              "      <td>32</td>\n",
              "    </tr>\n",
              "    <tr>\n",
              "      <th>3</th>\n",
              "      <td>89</td>\n",
              "      <td>94</td>\n",
              "      <td>28.1</td>\n",
              "      <td>21</td>\n",
              "    </tr>\n",
              "    <tr>\n",
              "      <th>4</th>\n",
              "      <td>137</td>\n",
              "      <td>168</td>\n",
              "      <td>43.1</td>\n",
              "      <td>33</td>\n",
              "    </tr>\n",
              "  </tbody>\n",
              "</table>\n",
              "</div>"
            ],
            "text/plain": [
              "   plas  test  mass  age\n",
              "0   148     0  33.6   50\n",
              "1    85     0  26.6   31\n",
              "2   183     0  23.3   32\n",
              "3    89    94  28.1   21\n",
              "4   137   168  43.1   33"
            ]
          },
          "metadata": {
            "tags": []
          },
          "execution_count": 18
        }
      ]
    },
    {
      "cell_type": "code",
      "metadata": {
        "colab": {
          "base_uri": "https://localhost:8080/"
        },
        "id": "AXTA82HsZoCC",
        "outputId": "700cd122-ea1f-4412-a438-6af279154fa4"
      },
      "source": [
        "df.iloc[:, cols].shape"
      ],
      "execution_count": null,
      "outputs": [
        {
          "output_type": "execute_result",
          "data": {
            "text/plain": [
              "(768, 4)"
            ]
          },
          "metadata": {
            "tags": []
          },
          "execution_count": 19
        }
      ]
    },
    {
      "cell_type": "markdown",
      "metadata": {
        "id": "Dot6vAn6aisA"
      },
      "source": [
        "## **Aplicando o Recursive Feature Elimination – RFE**"
      ]
    },
    {
      "cell_type": "markdown",
      "metadata": {
        "id": "qthnlbSvamJj"
      },
      "source": [
        "Remove recursivamente os atributos e constrói o modelo com os atributos remanescentes, ou seja, os modelos são construídos a partir da remoção de features.\n",
        "\n",
        "- Utiliza a acurácia do modelo para identificar atributos ou a combinação destes que melhor contribui para uma melhor performance.\n",
        "\n",
        "- Em grandes bases de dados o tempo de processamento pode ser um problema.\n",
        "Antes de aplicar essa técnica obrigatoriamente temos que ter um modelo de Machine Learning."
      ]
    },
    {
      "cell_type": "code",
      "metadata": {
        "id": "xXQyW4F1Zn-D"
      },
      "source": [
        "from sklearn.linear_model import LogisticRegression"
      ],
      "execution_count": null,
      "outputs": []
    },
    {
      "cell_type": "code",
      "metadata": {
        "id": "Do_E9aZ7Zn7a"
      },
      "source": [
        "model = LogisticRegression(max_iter=2000)"
      ],
      "execution_count": null,
      "outputs": []
    },
    {
      "cell_type": "code",
      "metadata": {
        "id": "Oump60gYZn4y"
      },
      "source": [
        "from sklearn.feature_selection import RFE"
      ],
      "execution_count": null,
      "outputs": []
    },
    {
      "cell_type": "code",
      "metadata": {
        "id": "08tkGK_Jatsw"
      },
      "source": [
        "rfe = RFE(model, 4)\n",
        "fit = rfe.fit(X, y)"
      ],
      "execution_count": null,
      "outputs": []
    },
    {
      "cell_type": "code",
      "metadata": {
        "colab": {
          "base_uri": "https://localhost:8080/"
        },
        "id": "oS_IPw0jatoc",
        "outputId": "f132adbb-eb91-4c3e-da94-dd335ac0f4c4"
      },
      "source": [
        "# mostrando o número de features\n",
        "print(f'Número de features {fit.n_features_}')"
      ],
      "execution_count": null,
      "outputs": [
        {
          "output_type": "stream",
          "text": [
            "Número de features 4\n"
          ],
          "name": "stdout"
        }
      ]
    },
    {
      "cell_type": "code",
      "metadata": {
        "colab": {
          "base_uri": "https://localhost:8080/",
          "height": 419
        },
        "id": "Q50QBGIsatlo",
        "outputId": "8aeb95f4-fcd5-44e7-92ab-c2130dd56771"
      },
      "source": [
        "# visualizano os índices\n",
        "cols = fit.get_support(indices=True)\n",
        "df.iloc[:, cols]"
      ],
      "execution_count": null,
      "outputs": [
        {
          "output_type": "execute_result",
          "data": {
            "text/html": [
              "<div>\n",
              "<style scoped>\n",
              "    .dataframe tbody tr th:only-of-type {\n",
              "        vertical-align: middle;\n",
              "    }\n",
              "\n",
              "    .dataframe tbody tr th {\n",
              "        vertical-align: top;\n",
              "    }\n",
              "\n",
              "    .dataframe thead th {\n",
              "        text-align: right;\n",
              "    }\n",
              "</style>\n",
              "<table border=\"1\" class=\"dataframe\">\n",
              "  <thead>\n",
              "    <tr style=\"text-align: right;\">\n",
              "      <th></th>\n",
              "      <th>preg</th>\n",
              "      <th>plas</th>\n",
              "      <th>mass</th>\n",
              "      <th>pedi</th>\n",
              "    </tr>\n",
              "  </thead>\n",
              "  <tbody>\n",
              "    <tr>\n",
              "      <th>0</th>\n",
              "      <td>6</td>\n",
              "      <td>148</td>\n",
              "      <td>33.6</td>\n",
              "      <td>0.627</td>\n",
              "    </tr>\n",
              "    <tr>\n",
              "      <th>1</th>\n",
              "      <td>1</td>\n",
              "      <td>85</td>\n",
              "      <td>26.6</td>\n",
              "      <td>0.351</td>\n",
              "    </tr>\n",
              "    <tr>\n",
              "      <th>2</th>\n",
              "      <td>8</td>\n",
              "      <td>183</td>\n",
              "      <td>23.3</td>\n",
              "      <td>0.672</td>\n",
              "    </tr>\n",
              "    <tr>\n",
              "      <th>3</th>\n",
              "      <td>1</td>\n",
              "      <td>89</td>\n",
              "      <td>28.1</td>\n",
              "      <td>0.167</td>\n",
              "    </tr>\n",
              "    <tr>\n",
              "      <th>4</th>\n",
              "      <td>0</td>\n",
              "      <td>137</td>\n",
              "      <td>43.1</td>\n",
              "      <td>2.288</td>\n",
              "    </tr>\n",
              "    <tr>\n",
              "      <th>...</th>\n",
              "      <td>...</td>\n",
              "      <td>...</td>\n",
              "      <td>...</td>\n",
              "      <td>...</td>\n",
              "    </tr>\n",
              "    <tr>\n",
              "      <th>763</th>\n",
              "      <td>10</td>\n",
              "      <td>101</td>\n",
              "      <td>32.9</td>\n",
              "      <td>0.171</td>\n",
              "    </tr>\n",
              "    <tr>\n",
              "      <th>764</th>\n",
              "      <td>2</td>\n",
              "      <td>122</td>\n",
              "      <td>36.8</td>\n",
              "      <td>0.340</td>\n",
              "    </tr>\n",
              "    <tr>\n",
              "      <th>765</th>\n",
              "      <td>5</td>\n",
              "      <td>121</td>\n",
              "      <td>26.2</td>\n",
              "      <td>0.245</td>\n",
              "    </tr>\n",
              "    <tr>\n",
              "      <th>766</th>\n",
              "      <td>1</td>\n",
              "      <td>126</td>\n",
              "      <td>30.1</td>\n",
              "      <td>0.349</td>\n",
              "    </tr>\n",
              "    <tr>\n",
              "      <th>767</th>\n",
              "      <td>1</td>\n",
              "      <td>93</td>\n",
              "      <td>30.4</td>\n",
              "      <td>0.315</td>\n",
              "    </tr>\n",
              "  </tbody>\n",
              "</table>\n",
              "<p>768 rows × 4 columns</p>\n",
              "</div>"
            ],
            "text/plain": [
              "     preg  plas  mass   pedi\n",
              "0       6   148  33.6  0.627\n",
              "1       1    85  26.6  0.351\n",
              "2       8   183  23.3  0.672\n",
              "3       1    89  28.1  0.167\n",
              "4       0   137  43.1  2.288\n",
              "..    ...   ...   ...    ...\n",
              "763    10   101  32.9  0.171\n",
              "764     2   122  36.8  0.340\n",
              "765     5   121  26.2  0.245\n",
              "766     1   126  30.1  0.349\n",
              "767     1    93  30.4  0.315\n",
              "\n",
              "[768 rows x 4 columns]"
            ]
          },
          "metadata": {
            "tags": []
          },
          "execution_count": 25
        }
      ]
    },
    {
      "cell_type": "markdown",
      "metadata": {
        "id": "dCeLKHV8bhon"
      },
      "source": [
        "Precisamos informar ao RFE o número de atributos caso contrário ele tentará reduzir pela metade esse valor de acordo com o número de features do conjunto de dados."
      ]
    },
    {
      "cell_type": "markdown",
      "metadata": {
        "id": "JBMsWp9BbjK_"
      },
      "source": [
        "## **Feature Importance**"
      ]
    },
    {
      "cell_type": "markdown",
      "metadata": {
        "id": "v19D4dcabmHC"
      },
      "source": [
        "Métodos ensembles como o algoritmo ``Random Forest``, podem ser usados para estimar a importância de cada atributo. Ele retorna um score para cada atributo, quanto maior o score, maior é a importância desse atributo."
      ]
    },
    {
      "cell_type": "code",
      "metadata": {
        "id": "T4F29UrVatjd"
      },
      "source": [
        "from sklearn.ensemble import RandomForestClassifier"
      ],
      "execution_count": null,
      "outputs": []
    },
    {
      "cell_type": "code",
      "metadata": {
        "id": "dkezPzXiatg-"
      },
      "source": [
        "# feature extraction\n",
        "model = RandomForestClassifier(n_estimators=10)"
      ],
      "execution_count": null,
      "outputs": []
    },
    {
      "cell_type": "code",
      "metadata": {
        "colab": {
          "base_uri": "https://localhost:8080/"
        },
        "id": "YiUSjP0OateU",
        "outputId": "6e2dd5f4-6c16-4790-8e02-9f4d2ad0d317"
      },
      "source": [
        "model.fit(X, y)"
      ],
      "execution_count": null,
      "outputs": [
        {
          "output_type": "execute_result",
          "data": {
            "text/plain": [
              "RandomForestClassifier(bootstrap=True, ccp_alpha=0.0, class_weight=None,\n",
              "                       criterion='gini', max_depth=None, max_features='auto',\n",
              "                       max_leaf_nodes=None, max_samples=None,\n",
              "                       min_impurity_decrease=0.0, min_impurity_split=None,\n",
              "                       min_samples_leaf=1, min_samples_split=2,\n",
              "                       min_weight_fraction_leaf=0.0, n_estimators=10,\n",
              "                       n_jobs=None, oob_score=False, random_state=None,\n",
              "                       verbose=0, warm_start=False)"
            ]
          },
          "metadata": {
            "tags": []
          },
          "execution_count": 28
        }
      ]
    },
    {
      "cell_type": "code",
      "metadata": {
        "colab": {
          "base_uri": "https://localhost:8080/"
        },
        "id": "MO91QmLvatbw",
        "outputId": "75a2acd9-7197-41bf-ffd8-4702921ab5d0"
      },
      "source": [
        "# score de cada um dos atributos\n",
        "model.feature_importances_"
      ],
      "execution_count": null,
      "outputs": [
        {
          "output_type": "execute_result",
          "data": {
            "text/plain": [
              "array([0.0930539 , 0.25037144, 0.09307909, 0.06498616, 0.07933614,\n",
              "       0.18565281, 0.11951115, 0.11400932])"
            ]
          },
          "metadata": {
            "tags": []
          },
          "execution_count": 29
        }
      ]
    },
    {
      "cell_type": "code",
      "metadata": {
        "colab": {
          "base_uri": "https://localhost:8080/"
        },
        "id": "gplR-hlIb5Nv",
        "outputId": "a0f08cdf-6134-4d2f-e3c5-3e3e48fdcae1"
      },
      "source": [
        "# nomes das colunas\n",
        "colnames"
      ],
      "execution_count": null,
      "outputs": [
        {
          "output_type": "execute_result",
          "data": {
            "text/plain": [
              "['preg', 'plas', 'pres', 'skin', 'test', 'mass', 'pedi', 'age', 'class']"
            ]
          },
          "metadata": {
            "tags": []
          },
          "execution_count": 30
        }
      ]
    },
    {
      "cell_type": "code",
      "metadata": {
        "id": "Dc1PqPj3b5JQ"
      },
      "source": [
        "# criando um Dataframe com as colunas e seus scores\n",
        "import pandas as pd\n",
        "\n",
        "features_importances = pd.DataFrame(model.feature_importances_,\n",
        "                                    index = X.columns,\n",
        "                                    columns=['importance']).sort_values('importance', \n",
        "                                                                        ascending=False)"
      ],
      "execution_count": null,
      "outputs": []
    },
    {
      "cell_type": "code",
      "metadata": {
        "colab": {
          "base_uri": "https://localhost:8080/",
          "height": 297
        },
        "id": "LegLbOC4cvLV",
        "outputId": "b068f363-7840-4579-a2a0-67ee45cd15dc"
      },
      "source": [
        "features_importances"
      ],
      "execution_count": null,
      "outputs": [
        {
          "output_type": "execute_result",
          "data": {
            "text/html": [
              "<div>\n",
              "<style scoped>\n",
              "    .dataframe tbody tr th:only-of-type {\n",
              "        vertical-align: middle;\n",
              "    }\n",
              "\n",
              "    .dataframe tbody tr th {\n",
              "        vertical-align: top;\n",
              "    }\n",
              "\n",
              "    .dataframe thead th {\n",
              "        text-align: right;\n",
              "    }\n",
              "</style>\n",
              "<table border=\"1\" class=\"dataframe\">\n",
              "  <thead>\n",
              "    <tr style=\"text-align: right;\">\n",
              "      <th></th>\n",
              "      <th>importance</th>\n",
              "    </tr>\n",
              "  </thead>\n",
              "  <tbody>\n",
              "    <tr>\n",
              "      <th>plas</th>\n",
              "      <td>0.250371</td>\n",
              "    </tr>\n",
              "    <tr>\n",
              "      <th>mass</th>\n",
              "      <td>0.185653</td>\n",
              "    </tr>\n",
              "    <tr>\n",
              "      <th>pedi</th>\n",
              "      <td>0.119511</td>\n",
              "    </tr>\n",
              "    <tr>\n",
              "      <th>age</th>\n",
              "      <td>0.114009</td>\n",
              "    </tr>\n",
              "    <tr>\n",
              "      <th>pres</th>\n",
              "      <td>0.093079</td>\n",
              "    </tr>\n",
              "    <tr>\n",
              "      <th>preg</th>\n",
              "      <td>0.093054</td>\n",
              "    </tr>\n",
              "    <tr>\n",
              "      <th>test</th>\n",
              "      <td>0.079336</td>\n",
              "    </tr>\n",
              "    <tr>\n",
              "      <th>skin</th>\n",
              "      <td>0.064986</td>\n",
              "    </tr>\n",
              "  </tbody>\n",
              "</table>\n",
              "</div>"
            ],
            "text/plain": [
              "      importance\n",
              "plas    0.250371\n",
              "mass    0.185653\n",
              "pedi    0.119511\n",
              "age     0.114009\n",
              "pres    0.093079\n",
              "preg    0.093054\n",
              "test    0.079336\n",
              "skin    0.064986"
            ]
          },
          "metadata": {
            "tags": []
          },
          "execution_count": 32
        }
      ]
    },
    {
      "cell_type": "code",
      "metadata": {
        "colab": {
          "base_uri": "https://localhost:8080/",
          "height": 282
        },
        "id": "XeQt44rdb5Gv",
        "outputId": "d1c33605-202c-40cd-8864-555df63dc3ca"
      },
      "source": [
        "# visualizando as importâncias de forma gráfica\n",
        "features_importances.plot(kind='bar');"
      ],
      "execution_count": null,
      "outputs": [
        {
          "output_type": "display_data",
          "data": {
            "image/png": "[encoded data removed]",
            "text/plain": [
              "<Figure size 432x288 with 1 Axes>"
            ]
          },
          "metadata": {
            "tags": [],
            "needs_background": "light"
          }
        }
      ]
    },
    {
      "cell_type": "markdown",
      "metadata": {
        "id": "DSDqzWtBdEGk"
      },
      "source": [
        "## **Automatizando a Seleção de Features**"
      ]
    },
    {
      "cell_type": "markdown",
      "metadata": {
        "id": "wxY5mYSodG99"
      },
      "source": [
        "- Se estiver usando scikit-learn podemos usar Pipelines para automatização.\n",
        "\n",
        "- Incluímos a feature selection como uma das etapas do pipeline."
      ]
    },
    {
      "cell_type": "code",
      "metadata": {
        "id": "_hjVFfRqdCXh"
      },
      "source": [
        "from sklearn.pipeline import Pipeline"
      ],
      "execution_count": null,
      "outputs": []
    },
    {
      "cell_type": "code",
      "metadata": {
        "id": "ns8uBb5ddCVD"
      },
      "source": [
        "clf = Pipeline([\n",
        "                ('feature_selection', RFE(LogisticRegression(max_iter=200), 4)),\n",
        "                ('classification', RandomForestClassifier())\n",
        "])"
      ],
      "execution_count": null,
      "outputs": []
    },
    {
      "cell_type": "code",
      "metadata": {
        "colab": {
          "base_uri": "https://localhost:8080/"
        },
        "id": "N3AbEwWsdCRl",
        "outputId": "ab228aae-6c88-426d-f22e-5d9ca5004155"
      },
      "source": [
        "clf.fit(X, y)"
      ],
      "execution_count": null,
      "outputs": [
        {
          "output_type": "execute_result",
          "data": {
            "text/plain": [
              "Pipeline(memory=None,\n",
              "         steps=[('feature_selection',\n",
              "                 RFE(estimator=LogisticRegression(C=1.0, class_weight=None,\n",
              "                                                  dual=False,\n",
              "                                                  fit_intercept=True,\n",
              "                                                  intercept_scaling=1,\n",
              "                                                  l1_ratio=None, max_iter=200,\n",
              "                                                  multi_class='auto',\n",
              "                                                  n_jobs=None, penalty='l2',\n",
              "                                                  random_state=None,\n",
              "                                                  solver='lbfgs', tol=0.0001,\n",
              "                                                  verbose=0, warm_start=False),\n",
              "                     n_features_to_select=4, step=1, verbose=0)),\n",
              "                ('classif...\n",
              "                 RandomForestClassifier(bootstrap=True, ccp_alpha=0.0,\n",
              "                                        class_weight=None, criterion='gini',\n",
              "                                        max_depth=None, max_features='auto',\n",
              "                                        max_leaf_nodes=None, max_samples=None,\n",
              "                                        min_impurity_decrease=0.0,\n",
              "                                        min_impurity_split=None,\n",
              "                                        min_samples_leaf=1, min_samples_split=2,\n",
              "                                        min_weight_fraction_leaf=0.0,\n",
              "                                        n_estimators=100, n_jobs=None,\n",
              "                                        oob_score=False, random_state=None,\n",
              "                                        verbose=0, warm_start=False))],\n",
              "         verbose=False)"
            ]
          },
          "metadata": {
            "tags": []
          },
          "execution_count": 36
        }
      ]
    },
    {
      "cell_type": "code",
      "metadata": {
        "colab": {
          "base_uri": "https://localhost:8080/"
        },
        "id": "hEaUb1OFdCOt",
        "outputId": "9621e0a4-e215-4713-c108-729f35c7a361"
      },
      "source": [
        "# etapas do Pipeline\n",
        "clf.steps"
      ],
      "execution_count": null,
      "outputs": [
        {
          "output_type": "execute_result",
          "data": {
            "text/plain": [
              "[('feature_selection',\n",
              "  RFE(estimator=LogisticRegression(C=1.0, class_weight=None, dual=False,\n",
              "                                   fit_intercept=True, intercept_scaling=1,\n",
              "                                   l1_ratio=None, max_iter=200,\n",
              "                                   multi_class='auto', n_jobs=None, penalty='l2',\n",
              "                                   random_state=None, solver='lbfgs', tol=0.0001,\n",
              "                                   verbose=0, warm_start=False),\n",
              "      n_features_to_select=4, step=1, verbose=0)),\n",
              " ('classification',\n",
              "  RandomForestClassifier(bootstrap=True, ccp_alpha=0.0, class_weight=None,\n",
              "                         criterion='gini', max_depth=None, max_features='auto',\n",
              "                         max_leaf_nodes=None, max_samples=None,\n",
              "                         min_impurity_decrease=0.0, min_impurity_split=None,\n",
              "                         min_samples_leaf=1, min_samples_split=2,\n",
              "                         min_weight_fraction_leaf=0.0, n_estimators=100,\n",
              "                         n_jobs=None, oob_score=False, random_state=None,\n",
              "                         verbose=0, warm_start=False))]"
            ]
          },
          "metadata": {
            "tags": []
          },
          "execution_count": 37
        }
      ]
    },
    {
      "cell_type": "markdown",
      "metadata": {
        "id": "78_n7cpkd3n1"
      },
      "source": [
        "## **Qual Método utilizar?**"
      ]
    },
    {
      "cell_type": "markdown",
      "metadata": {
        "id": "TAa4oKT6d655"
      },
      "source": [
        "- Tente usar o RFE caso tenha recursos computacionais para isso.\n",
        "\n",
        "- Se estiver trabalhando com Classificação e as features forem numéricas utilize f_classif ou mutual_info_classif.\n",
        "\n",
        "- Se estiver trabalhando com Regressão e as features forem numéricas utilize f_regression ou mutual_info_regression.\n",
        "\n",
        "- Caso esteja trabalhando com features categóricas utilize chi2\n",
        "Automatize essa etapa com Pipelines para evitar erros."
      ]
    },
    {
      "cell_type": "markdown",
      "metadata": {
        "id": "e0EAh6ykeJYL"
      },
      "source": [
        "## **Aula sobre Feature Selection:**\n",
        "- https://youtu.be/4RGT2YRHERY"
      ]
    },
    {
      "cell_type": "markdown",
      "metadata": {
        "id": "DUozigQ8eCiE"
      },
      "source": [
        "## **Conclusão:**"
      ]
    },
    {
      "cell_type": "markdown",
      "metadata": {
        "id": "IApBfwXkeGbc"
      },
      "source": [
        "Nesse artigo você conheceu as técnicas mais usadas para a seleção de recursos numéricos ou categóricos.\n",
        "\n",
        "A seleção de features é uma tarefa muito importante em um projeto de Data Science, uma vez que os algoritmos são altamente influenciados pela qualidade dos atributos, se as features forem ineficientes os algoritmos de Machine Learning não tem um bom desempenho.\n",
        "\n",
        "Espero que tenha gostado e se você tiver alguma dúvida ou sugestão basta deixar um comentário, vamos gostar de interagir com você."
      ]
    },
    {
      "cell_type": "markdown",
      "metadata": {
        "id": "4tu-fp3W4VTf"
      },
      "source": [
        "## **Vamos realizar a seleção das features em outra base de dados**"
      ]
    },
    {
      "cell_type": "markdown",
      "metadata": {
        "id": "eUl8dhJKGZ8U"
      },
      "source": [
        "**Detalhes**\n",
        "\n",
        "Esse arquivo que iremos utilizar é dos resultados do ENEM 2016 e, que está dispoinível neste link [`train.csv`](https://github.com/FGalvao77/Previsao-da-nota-de-matematica-do-Enem-2016/blob/main/datasets/train.csv).\n",
        "\n",
        "Qualquer dúvida a respeito das colunas, consulte o [**Dicionário dos Microdados do Enem 2016**](https://s3-us-west-1.amazonaws.com/acceleration-assets-highway/data-science/dicionario-de-dados.zip).\n",
        "\n",
        "Porém o desafio é descobrir quais `features` tem maior influência com a nota da prova de matemática no arquivo [`test.csv`](https://github.com/FGalvao77/Previsao-da-nota-de-matematica-do-Enem-2016/blob/main/datasets/test.csv) e, por fim criar um modelo preditivo para nota da prova de matemática **(coluna NU_NOTA_MT)**.\n",
        "\n",
        "**Vamos para o desafio!**\n",
        "\n"
      ]
    },
    {
      "cell_type": "code",
      "metadata": {
        "id": "20D5JbOGb5EG",
        "colab": {
          "resources": {
            "http://localhost:8080/nbextensions/google.colab/files.js": {
              "data": "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",
              "ok": true,
              "headers": [
                [
                  "content-type",
                  "application/javascript"
                ]
              ],
              "status": 200,
              "status_text": ""
            }
          },
          "base_uri": "https://localhost:8080/",
          "height": 72
        },
        "outputId": "8b8d9225-2090-4fa7-8da0-946f7ceafd44"
      },
      "source": [
        "# realizando o carregamento do conjunto de dados para google colab\n",
        "from google.colab import files  # biblioteca utilizada para carregar os dados para o google colab\n",
        "uploaded = files.upload()"
      ],
      "execution_count": null,
      "outputs": [
        {
          "output_type": "display_data",
          "data": {
            "text/html": [
              "\n",
              "     <input type=\"file\" id=\"files-063cb5b8-81e2-461a-b4ca-0160ca73fd67\" name=\"files[]\" multiple disabled\n",
              "        style=\"border:none\" />\n",
              "     <output id=\"result-063cb5b8-81e2-461a-b4ca-0160ca73fd67\">\n",
              "      Upload widget is only available when the cell has been executed in the\n",
              "      current browser session. Please rerun this cell to enable.\n",
              "      </output>\n",
              "      <script src=\"/nbextensions/google.colab/files.js\"></script> "
            ],
            "text/plain": [
              "<IPython.core.display.HTML object>"
            ]
          },
          "metadata": {
            "tags": []
          }
        },
        {
          "output_type": "stream",
          "text": [
            "Saving test.csv to test.csv\n"
          ],
          "name": "stdout"
        }
      ]
    },
    {
      "cell_type": "code",
      "metadata": {
        "id": "L-rXsjk6LvR_"
      },
      "source": [
        "# importando a biblioteca\n",
        "import pandas as pd"
      ],
      "execution_count": null,
      "outputs": []
    },
    {
      "cell_type": "code",
      "metadata": {
        "id": "YQRM1LqP8LKi"
      },
      "source": [
        "# instanciando os conjuntos de dados\n",
        "df_train = pd.read_csv('train.csv', sep=',' , encoding='UTF8' )\n",
        "df_test = pd.read_csv('test.csv', sep=',' , encoding='UTF8' )"
      ],
      "execution_count": null,
      "outputs": []
    },
    {
      "cell_type": "code",
      "metadata": {
        "colab": {
          "base_uri": "https://localhost:8080/"
        },
        "id": "012CrKbhT1cS",
        "outputId": "653e8e2a-61d3-4d51-9417-e362558f53d5"
      },
      "source": [
        "# visualizando a qunatidades de linhas e colunas nas bases de dados\n",
        "print(df_train.shape, df_test.shape)"
      ],
      "execution_count": null,
      "outputs": [
        {
          "output_type": "stream",
          "text": [
            "(13730, 167) (4576, 47)\n"
          ],
          "name": "stdout"
        }
      ]
    },
    {
      "cell_type": "code",
      "metadata": {
        "colab": {
          "base_uri": "https://localhost:8080/"
        },
        "id": "7NWsXhDVL9d7",
        "outputId": "ace107b4-9d4d-419a-dd88-52a61229211d"
      },
      "source": [
        "# visualizando as 5 primeiras linhas da coluna alvo do df_train\n",
        "df_train['NU_NOTA_MT'].head()"
      ],
      "execution_count": null,
      "outputs": [
        {
          "output_type": "execute_result",
          "data": {
            "text/plain": [
              "0    399.4\n",
              "1    459.8\n",
              "2      NaN\n",
              "3      NaN\n",
              "4      NaN\n",
              "Name: NU_NOTA_MT, dtype: float64"
            ]
          },
          "metadata": {
            "tags": []
          },
          "execution_count": 7
        }
      ]
    },
    {
      "cell_type": "code",
      "metadata": {
        "colab": {
          "base_uri": "https://localhost:8080/"
        },
        "id": "Dqm7ot16NEBu",
        "outputId": "30476a71-bb6c-43e2-b39a-d25013b8aa3b"
      },
      "source": [
        "# contabilizando os valores ausentes das bases de dados\n",
        "print('df_train:', df_train.isna().value_counts().sum())\n",
        "print('df_test:', df_test.isna().value_counts().sum())"
      ],
      "execution_count": null,
      "outputs": [
        {
          "output_type": "stream",
          "text": [
            "df_train: 13730\n",
            "df_test: 4576\n"
          ],
          "name": "stdout"
        }
      ]
    },
    {
      "cell_type": "code",
      "metadata": {
        "colab": {
          "base_uri": "https://localhost:8080/"
        },
        "id": "2dc45jtnXhq6",
        "outputId": "0704dacb-4c42-46fc-a58c-0c55b83f38ee"
      },
      "source": [
        "# contabilizando os valores ausentes somente do df_train e do nosso alvo\n",
        "df_train['NU_NOTA_MT'].isna().value_counts().sum()"
      ],
      "execution_count": null,
      "outputs": [
        {
          "output_type": "execute_result",
          "data": {
            "text/plain": [
              "13730"
            ]
          },
          "metadata": {
            "tags": []
          },
          "execution_count": 9
        }
      ]
    },
    {
      "cell_type": "code",
      "metadata": {
        "colab": {
          "base_uri": "https://localhost:8080/"
        },
        "id": "vaWAZPmYNVUU",
        "outputId": "8c0ffea1-8b4c-4bca-b334-81ee979dedd3"
      },
      "source": [
        "# verificando se há valores ausentes no df_train como todo e contabilizando-os\n",
        "df_train.isna().sum()"
      ],
      "execution_count": null,
      "outputs": [
        {
          "output_type": "execute_result",
          "data": {
            "text/plain": [
              "Unnamed: 0                 0\n",
              "NU_INSCRICAO               0\n",
              "NU_ANO                     0\n",
              "CO_MUNICIPIO_RESIDENCIA    0\n",
              "NO_MUNICIPIO_RESIDENCIA    0\n",
              "                          ..\n",
              "Q046                       0\n",
              "Q047                       0\n",
              "Q048                       0\n",
              "Q049                       0\n",
              "Q050                       0\n",
              "Length: 167, dtype: int64"
            ]
          },
          "metadata": {
            "tags": []
          },
          "execution_count": 10
        }
      ]
    },
    {
      "cell_type": "markdown",
      "metadata": {
        "id": "jDegg80cPwow"
      },
      "source": [
        "**Vamos melhor essa visualização de forma gráfica**\n"
      ]
    },
    {
      "cell_type": "code",
      "metadata": {
        "id": "b39_QmunPofJ"
      },
      "source": [
        "# importando as bibliotecas\n",
        "import seaborn as sns\n",
        "import matplotlib.pyplot as plt"
      ],
      "execution_count": null,
      "outputs": []
    },
    {
      "cell_type": "code",
      "metadata": {
        "colab": {
          "base_uri": "https://localhost:8080/",
          "height": 805
        },
        "id": "n2e86bYqPjMw",
        "outputId": "c24bc63f-cf47-4415-a1ea-4d1b03d27ae3"
      },
      "source": [
        "# verificando se há valores nulos no df\n",
        "# caso exista, haverá linhas brancas no gráfico\n",
        "plt.figure(figsize=(14,11))\n",
        "sns.heatmap(df_train.isnull(), cmap='Blues', cbar=True);"
      ],
      "execution_count": null,
      "outputs": [
        {
          "output_type": "display_data",
          "data": {
            "image/png": "[encoded data removed]",
            "text/plain": [
              "<Figure size 1008x792 with 2 Axes>"
            ]
          },
          "metadata": {
            "tags": [],
            "needs_background": "light"
          }
        }
      ]
    },
    {
      "cell_type": "markdown",
      "metadata": {
        "id": "fY9D-0wFQrgy"
      },
      "source": [
        ">> Temos valores ausentes, pórem essa visualização está um tanto confusa."
      ]
    },
    {
      "cell_type": "markdown",
      "metadata": {
        "id": "C-wm04jdOAae"
      },
      "source": [
        "Para melhor nossa visualização vamos somente selecionar as `features` que possuem valores númericos."
      ]
    },
    {
      "cell_type": "code",
      "metadata": {
        "colab": {
          "base_uri": "https://localhost:8080/"
        },
        "id": "sssDIiQ5Ny8c",
        "outputId": "f53941ef-28f5-4409-8218-70227935f239"
      },
      "source": [
        "# informações gerais\n",
        "df_train.info()"
      ],
      "execution_count": null,
      "outputs": [
        {
          "output_type": "stream",
          "text": [
            "<class 'pandas.core.frame.DataFrame'>\n",
            "RangeIndex: 13730 entries, 0 to 13729\n",
            "Columns: 167 entries, Unnamed: 0 to Q050\n",
            "dtypes: float64(28), int64(79), object(60)\n",
            "memory usage: 17.5+ MB\n"
          ],
          "name": "stdout"
        }
      ]
    },
    {
      "cell_type": "markdown",
      "metadata": {
        "id": "w52eaKI5PNAK"
      },
      "source": [
        "Com a função `.corr()` vamos identificar quais as colunas **(features)** que mais possuem correlação com o target **(NU_NOTA_MT)**.\n",
        "\n",
        "Iremos também realizar um `.dropna()` **(excluir valores ausentes)** e também um `.sort_values(ascending=False)` **(deixar em ordem crescente)** e, em seguida exibir as 15 primeiras linhas para mostrar as que possuem maior valor de correlação."
      ]
    },
    {
      "cell_type": "code",
      "metadata": {
        "colab": {
          "base_uri": "https://localhost:8080/"
        },
        "id": "WNysMaxlRY9D",
        "outputId": "69420f24-399f-48f7-9f9b-24502e4b44b7"
      },
      "source": [
        "df_train.corr()['NU_NOTA_MT'].dropna().sort_values(ascending=False).head(15)"
      ],
      "execution_count": null,
      "outputs": [
        {
          "output_type": "execute_result",
          "data": {
            "text/plain": [
              "NU_NOTA_MT                 1.000000\n",
              "NU_NOTA_CN                 0.584941\n",
              "NU_NOTA_CH                 0.529594\n",
              "NU_NOTA_LC                 0.494695\n",
              "NU_NOTA_REDACAO            0.379376\n",
              "TP_DEPENDENCIA_ADM_ESC     0.373233\n",
              "NU_NOTA_COMP3              0.350307\n",
              "NU_NOTA_COMP5              0.343337\n",
              "NU_NOTA_COMP4              0.342282\n",
              "NU_NOTA_COMP2              0.335638\n",
              "NU_NOTA_COMP1              0.299402\n",
              "CO_MUNICIPIO_NASCIMENTO    0.113416\n",
              "CO_UF_NASCIMENTO           0.112236\n",
              "CO_MUNICIPIO_PROVA         0.109433\n",
              "CO_MUNICIPIO_RESIDENCIA    0.108850\n",
              "Name: NU_NOTA_MT, dtype: float64"
            ]
          },
          "metadata": {
            "tags": []
          },
          "execution_count": 14
        }
      ]
    },
    {
      "cell_type": "markdown",
      "metadata": {
        "id": "nf_rr5F4SmLE"
      },
      "source": [
        "Vamos separar as **features** até a `NU_NOTA_COMP1`, que são as que apresenta maiores valores de correlção e, em seguida plotar um gráfico de correlação."
      ]
    },
    {
      "cell_type": "markdown",
      "metadata": {
        "id": "koUpAt2mT9TQ"
      },
      "source": [
        "**Mas antes, vamos instanciar as colunas em uma lista para posteriormente realizarmos manipulações e análises.**"
      ]
    },
    {
      "cell_type": "code",
      "metadata": {
        "id": "W97DQQJGSEhC"
      },
      "source": [
        "# instanciando as features principais da base df_train\n",
        "\n",
        "plt.style.use('ggplot')\n",
        "\n",
        "features = [\n",
        "            'NU_NOTA_MT',\n",
        "            'NU_NOTA_CN',\n",
        "            'NU_NOTA_CH',\n",
        "            'NU_NOTA_LC',\n",
        "            'NU_NOTA_REDACAO',\n",
        "            'TP_DEPENDENCIA_ADM_ESC',\n",
        "            'NU_NOTA_COMP1',\n",
        "            'NU_NOTA_COMP2',\n",
        "            'NU_NOTA_COMP3',\n",
        "            'NU_NOTA_COMP4',\n",
        "            'NU_NOTA_COMP5']"
      ],
      "execution_count": null,
      "outputs": []
    },
    {
      "cell_type": "code",
      "metadata": {
        "colab": {
          "base_uri": "https://localhost:8080/",
          "height": 618
        },
        "id": "V4hFkutQNy5Y",
        "outputId": "65ddd328-e064-4c23-e12f-d9142f6abb79"
      },
      "source": [
        "# plotando gráfico de calor para uma melhor visualização da correlação do df_train\n",
        "# aqui utilizaremos somentes as features selecionadas\n",
        "corr = df_train[features].corr()\n",
        "ax = plt.subplots(figsize=(11, 8))\n",
        "sns.heatmap(corr,  annot=True, annot_kws={\"size\": 10});"
      ],
      "execution_count": null,
      "outputs": [
        {
          "output_type": "display_data",
          "data": {
            "image/png": "[encoded data removed]",
            "text/plain": [
              "<Figure size 792x576 with 2 Axes>"
            ]
          },
          "metadata": {
            "tags": []
          }
        }
      ]
    },
    {
      "cell_type": "markdown",
      "metadata": {
        "id": "eHfffA7oUmgj"
      },
      "source": [
        "Agora que temos as nossas principais `features`, vamos novamente plotar o gráfico para visualizar os valores ausentes"
      ]
    },
    {
      "cell_type": "code",
      "metadata": {
        "colab": {
          "base_uri": "https://localhost:8080/",
          "height": 781
        },
        "id": "jUK4P15PNyf5",
        "outputId": "67ba8cb4-2f6a-49ca-a63c-ba1cd59a52db"
      },
      "source": [
        "# verificando se há valores nulos no df\n",
        "# caso exista, haverá linhas brancas no gráfico\n",
        "plt.figure(figsize=(14,11))\n",
        "sns.heatmap(df_train[features].isnull(), cmap='Blues', cbar=True);"
      ],
      "execution_count": null,
      "outputs": [
        {
          "output_type": "display_data",
          "data": {
            "image/png": "[encoded data removed]",
            "text/plain": [
              "<Figure size 1008x792 with 2 Axes>"
            ]
          },
          "metadata": {
            "tags": []
          }
        }
      ]
    },
    {
      "cell_type": "markdown",
      "metadata": {
        "id": "Yu-5JMbeU_pJ"
      },
      "source": [
        ">> Realmente há muitos valores ausentes. E precisaremos tratar de alguma forma este problema!!\n",
        "\n",
        "Primeiro vamos explorar essa situação um pouco mais."
      ]
    },
    {
      "cell_type": "code",
      "metadata": {
        "colab": {
          "base_uri": "https://localhost:8080/",
          "height": 390
        },
        "id": "rQ1_IaElVR2t",
        "outputId": "b7b8dbdf-7638-48ec-f4ce-0600b8452d93"
      },
      "source": [
        "# aqui iremos visualizar a quantidade de dados ausentes proporcional a quantidade total de dados em cada coluna\n",
        "total = df_train[features].isnull().sum().sort_values(ascending = False)\n",
        "percentual = (df_train[features].isnull().sum()/df_train[features].isnull().count()*100).sort_values(ascending = False)\n",
        "faltantes  = pd.concat([total, percentual], axis=1, keys=['Total', 'Dados faltando (%)'])\n",
        "faltantes.head(len(features))     # visualizando em relação a quantidade de features"
      ],
      "execution_count": null,
      "outputs": [
        {
          "output_type": "execute_result",
          "data": {
            "text/html": [
              "<div>\n",
              "<style scoped>\n",
              "    .dataframe tbody tr th:only-of-type {\n",
              "        vertical-align: middle;\n",
              "    }\n",
              "\n",
              "    .dataframe tbody tr th {\n",
              "        vertical-align: top;\n",
              "    }\n",
              "\n",
              "    .dataframe thead th {\n",
              "        text-align: right;\n",
              "    }\n",
              "</style>\n",
              "<table border=\"1\" class=\"dataframe\">\n",
              "  <thead>\n",
              "    <tr style=\"text-align: right;\">\n",
              "      <th></th>\n",
              "      <th>Total</th>\n",
              "      <th>Dados faltando (%)</th>\n",
              "    </tr>\n",
              "  </thead>\n",
              "  <tbody>\n",
              "    <tr>\n",
              "      <th>TP_DEPENDENCIA_ADM_ESC</th>\n",
              "      <td>9448</td>\n",
              "      <td>68.812819</td>\n",
              "    </tr>\n",
              "    <tr>\n",
              "      <th>NU_NOTA_COMP5</th>\n",
              "      <td>3597</td>\n",
              "      <td>26.198106</td>\n",
              "    </tr>\n",
              "    <tr>\n",
              "      <th>NU_NOTA_COMP4</th>\n",
              "      <td>3597</td>\n",
              "      <td>26.198106</td>\n",
              "    </tr>\n",
              "    <tr>\n",
              "      <th>NU_NOTA_COMP3</th>\n",
              "      <td>3597</td>\n",
              "      <td>26.198106</td>\n",
              "    </tr>\n",
              "    <tr>\n",
              "      <th>NU_NOTA_COMP2</th>\n",
              "      <td>3597</td>\n",
              "      <td>26.198106</td>\n",
              "    </tr>\n",
              "    <tr>\n",
              "      <th>NU_NOTA_COMP1</th>\n",
              "      <td>3597</td>\n",
              "      <td>26.198106</td>\n",
              "    </tr>\n",
              "    <tr>\n",
              "      <th>NU_NOTA_REDACAO</th>\n",
              "      <td>3597</td>\n",
              "      <td>26.198106</td>\n",
              "    </tr>\n",
              "    <tr>\n",
              "      <th>NU_NOTA_LC</th>\n",
              "      <td>3597</td>\n",
              "      <td>26.198106</td>\n",
              "    </tr>\n",
              "    <tr>\n",
              "      <th>NU_NOTA_MT</th>\n",
              "      <td>3597</td>\n",
              "      <td>26.198106</td>\n",
              "    </tr>\n",
              "    <tr>\n",
              "      <th>NU_NOTA_CH</th>\n",
              "      <td>3389</td>\n",
              "      <td>24.683176</td>\n",
              "    </tr>\n",
              "    <tr>\n",
              "      <th>NU_NOTA_CN</th>\n",
              "      <td>3389</td>\n",
              "      <td>24.683176</td>\n",
              "    </tr>\n",
              "  </tbody>\n",
              "</table>\n",
              "</div>"
            ],
            "text/plain": [
              "                        Total  Dados faltando (%)\n",
              "TP_DEPENDENCIA_ADM_ESC   9448           68.812819\n",
              "NU_NOTA_COMP5            3597           26.198106\n",
              "NU_NOTA_COMP4            3597           26.198106\n",
              "NU_NOTA_COMP3            3597           26.198106\n",
              "NU_NOTA_COMP2            3597           26.198106\n",
              "NU_NOTA_COMP1            3597           26.198106\n",
              "NU_NOTA_REDACAO          3597           26.198106\n",
              "NU_NOTA_LC               3597           26.198106\n",
              "NU_NOTA_MT               3597           26.198106\n",
              "NU_NOTA_CH               3389           24.683176\n",
              "NU_NOTA_CN               3389           24.683176"
            ]
          },
          "metadata": {
            "tags": []
          },
          "execution_count": 20
        }
      ]
    },
    {
      "cell_type": "markdown",
      "metadata": {
        "id": "NsSf7ZTvWL9o"
      },
      "source": [
        "Vamos partir para uma estratégia para tratar esses dados ausentes"
      ]
    },
    {
      "cell_type": "code",
      "metadata": {
        "id": "xEVpkseiVRzT"
      },
      "source": [
        "# realizando uma cópia de cada conjunto de dados \n",
        "# para podermos trata os dados ausentes e não sobrescrever as bases principais\n",
        "df_train_01 = df_train.copy()\n",
        "df_test_01 = df_test.copy()"
      ],
      "execution_count": null,
      "outputs": []
    },
    {
      "cell_type": "markdown",
      "metadata": {
        "id": "tHVIip1TYPTH"
      },
      "source": [
        "A príncipio irei adotar a estratégia de preencher com o valor da `média` de cada coluna."
      ]
    },
    {
      "cell_type": "code",
      "metadata": {
        "id": "KwwsCCBb_5dX"
      },
      "source": [
        "# vamos realizar o preenchimento dos dados faltantes com o valor da média\n",
        "media_train = df_train_01.mean()\n",
        "media_test = df_test_01.mean()"
      ],
      "execution_count": null,
      "outputs": []
    },
    {
      "cell_type": "code",
      "metadata": {
        "id": "DWPLufpP_-AH"
      },
      "source": [
        "# atribuindo os valores para onde há valores faltantes\n",
        "df_train_01.fillna(value=media_train, inplace=True)\n",
        "df_test_01.fillna(value=media_test, inplace=True)"
      ],
      "execution_count": null,
      "outputs": []
    },
    {
      "cell_type": "code",
      "metadata": {
        "colab": {
          "base_uri": "https://localhost:8080/",
          "height": 390
        },
        "id": "UmdpU920YtJW",
        "outputId": "878c1841-a757-4402-f56a-95d693a3c1c3"
      },
      "source": [
        "# vamos novamente visualizar a quantidade de dados ausentes proporcional a quantidade total de dados em cada coluna\n",
        "total = df_train_01[features].isnull().sum().sort_values(ascending = False)\n",
        "percentual = (df_train_01[features].isnull().sum()/df_train_01[features].isnull().count()*100).sort_values(ascending = False)\n",
        "faltantes  = pd.concat([total, percentual], axis=1, keys=['Total', 'Dados faltando (%)'])\n",
        "faltantes.head(len(features))"
      ],
      "execution_count": null,
      "outputs": [
        {
          "output_type": "execute_result",
          "data": {
            "text/html": [
              "<div>\n",
              "<style scoped>\n",
              "    .dataframe tbody tr th:only-of-type {\n",
              "        vertical-align: middle;\n",
              "    }\n",
              "\n",
              "    .dataframe tbody tr th {\n",
              "        vertical-align: top;\n",
              "    }\n",
              "\n",
              "    .dataframe thead th {\n",
              "        text-align: right;\n",
              "    }\n",
              "</style>\n",
              "<table border=\"1\" class=\"dataframe\">\n",
              "  <thead>\n",
              "    <tr style=\"text-align: right;\">\n",
              "      <th></th>\n",
              "      <th>Total</th>\n",
              "      <th>Dados faltando (%)</th>\n",
              "    </tr>\n",
              "  </thead>\n",
              "  <tbody>\n",
              "    <tr>\n",
              "      <th>NU_NOTA_COMP5</th>\n",
              "      <td>0</td>\n",
              "      <td>0.0</td>\n",
              "    </tr>\n",
              "    <tr>\n",
              "      <th>NU_NOTA_COMP4</th>\n",
              "      <td>0</td>\n",
              "      <td>0.0</td>\n",
              "    </tr>\n",
              "    <tr>\n",
              "      <th>NU_NOTA_COMP3</th>\n",
              "      <td>0</td>\n",
              "      <td>0.0</td>\n",
              "    </tr>\n",
              "    <tr>\n",
              "      <th>NU_NOTA_COMP2</th>\n",
              "      <td>0</td>\n",
              "      <td>0.0</td>\n",
              "    </tr>\n",
              "    <tr>\n",
              "      <th>NU_NOTA_COMP1</th>\n",
              "      <td>0</td>\n",
              "      <td>0.0</td>\n",
              "    </tr>\n",
              "    <tr>\n",
              "      <th>TP_DEPENDENCIA_ADM_ESC</th>\n",
              "      <td>0</td>\n",
              "      <td>0.0</td>\n",
              "    </tr>\n",
              "    <tr>\n",
              "      <th>NU_NOTA_REDACAO</th>\n",
              "      <td>0</td>\n",
              "      <td>0.0</td>\n",
              "    </tr>\n",
              "    <tr>\n",
              "      <th>NU_NOTA_LC</th>\n",
              "      <td>0</td>\n",
              "      <td>0.0</td>\n",
              "    </tr>\n",
              "    <tr>\n",
              "      <th>NU_NOTA_CH</th>\n",
              "      <td>0</td>\n",
              "      <td>0.0</td>\n",
              "    </tr>\n",
              "    <tr>\n",
              "      <th>NU_NOTA_CN</th>\n",
              "      <td>0</td>\n",
              "      <td>0.0</td>\n",
              "    </tr>\n",
              "    <tr>\n",
              "      <th>NU_NOTA_MT</th>\n",
              "      <td>0</td>\n",
              "      <td>0.0</td>\n",
              "    </tr>\n",
              "  </tbody>\n",
              "</table>\n",
              "</div>"
            ],
            "text/plain": [
              "                        Total  Dados faltando (%)\n",
              "NU_NOTA_COMP5               0                 0.0\n",
              "NU_NOTA_COMP4               0                 0.0\n",
              "NU_NOTA_COMP3               0                 0.0\n",
              "NU_NOTA_COMP2               0                 0.0\n",
              "NU_NOTA_COMP1               0                 0.0\n",
              "TP_DEPENDENCIA_ADM_ESC      0                 0.0\n",
              "NU_NOTA_REDACAO             0                 0.0\n",
              "NU_NOTA_LC                  0                 0.0\n",
              "NU_NOTA_CH                  0                 0.0\n",
              "NU_NOTA_CN                  0                 0.0\n",
              "NU_NOTA_MT                  0                 0.0"
            ]
          },
          "metadata": {
            "tags": []
          },
          "execution_count": 84
        }
      ]
    },
    {
      "cell_type": "code",
      "metadata": {
        "colab": {
          "base_uri": "https://localhost:8080/",
          "height": 781
        },
        "id": "FJlgjnVhVY8b",
        "outputId": "1f7e085f-d115-4115-d4ca-b34bc694c3d8"
      },
      "source": [
        "# vamos plotar o gráfico novamente depois de tratado os dados ausentes\n",
        "# verificando se há valores nulos no df_train_01\n",
        "# caso exista, haverá linhas brancas no gráfico\n",
        "plt.figure(figsize=(14,11))\n",
        "sns.heatmap(df_train_01[features].isnull(), cmap='Blues', cbar=True);"
      ],
      "execution_count": null,
      "outputs": [
        {
          "output_type": "display_data",
          "data": {
            "image/png": "[encoded data removed]",
            "text/plain": [
              "<Figure size 1008x792 with 2 Axes>"
            ]
          },
          "metadata": {
            "tags": []
          }
        }
      ]
    },
    {
      "cell_type": "markdown",
      "metadata": {
        "id": "D7PGcJ6RY9oY"
      },
      "source": [
        ">> Legal ; ) Conseguimos resolver este problema!! Vamos adiante..."
      ]
    },
    {
      "cell_type": "markdown",
      "metadata": {
        "id": "hbfLyfXHZmVK"
      },
      "source": [
        "O **Scikit-learn** fornece a função ``SelectkBest()`` que pode ser usada com diversos testes estatísticos. Informamos para o parâmetro ``k`` o número de recursos a serem selecionados como os mais importantes.\n",
        "\n",
        "Podem ser usados para selecionar os atributos que possuem forte relacionamento com a variável que estamos tentando prever."
      ]
    },
    {
      "cell_type": "markdown",
      "metadata": {
        "id": "3JmPF8H7Z-Yk"
      },
      "source": [
        "**Métodos disponíveis:**\n",
        "\n",
        "- ``f_classif:`` é adequado quando os dados são numéricos e a variável alvo é categórica.\n",
        "\n",
        "- ``mutual_info_classif``: é mais adequando quando não há uma dependência linear entre as features e a variável alvo.\n",
        "\n",
        "- ``f_regression``: aplicado para problemas de regressão."
      ]
    },
    {
      "cell_type": "markdown",
      "metadata": {
        "id": "KCJhfR7TaUIS"
      },
      "source": [
        "**Como nosso problema é de regressão, utilizaremos o `f_regression`**"
      ]
    },
    {
      "cell_type": "code",
      "metadata": {
        "id": "xOGWe6Pu4Ujc"
      },
      "source": [
        "# importando a função\n",
        "from sklearn.feature_selection import SelectKBest, f_regression"
      ],
      "execution_count": null,
      "outputs": []
    },
    {
      "cell_type": "code",
      "metadata": {
        "id": "s5tnlADL4UgL"
      },
      "source": [
        "# instanciando o nosso modelo\n",
        "f_regr = SelectKBest(score_func=f_regression, \n",
        "                        k=9)"
      ],
      "execution_count": null,
      "outputs": []
    },
    {
      "cell_type": "code",
      "metadata": {
        "id": "v-g9SCcr_99G"
      },
      "source": [
        "# separando a base\n",
        "X_train = df_train_01[features]\n",
        "y_train = df_train_01['NU_NOTA_MT']\n",
        "X_test = df_test_01"
      ],
      "execution_count": null,
      "outputs": []
    },
    {
      "cell_type": "code",
      "metadata": {
        "id": "1SZ00M674UeE"
      },
      "source": [
        "# treinando o modelo\n",
        "fit = f_regr.fit(X_train, y_train)\n",
        "features = fit.transform(X_train)"
      ],
      "execution_count": null,
      "outputs": []
    },
    {
      "cell_type": "code",
      "metadata": {
        "colab": {
          "base_uri": "https://localhost:8080/"
        },
        "id": "Z_vZY7mA4Ubx",
        "outputId": "2101b7d9-4a10-48b7-8f71-ecc2100aff09"
      },
      "source": [
        "# visualizando o resultado\n",
        "features"
      ],
      "execution_count": null,
      "outputs": [
        {
          "output_type": "execute_result",
          "data": {
            "text/plain": [
              "array([[399.4       , 436.3       , 495.4       , ..., 120.        ,\n",
              "         80.        ,  80.        ],\n",
              "       [459.8       , 474.5       , 544.1       , ..., 120.        ,\n",
              "        120.        ,  80.        ],\n",
              "       [482.49792756, 473.49515521, 529.66108694, ..., 106.82423764,\n",
              "        113.12395145,  77.37244646],\n",
              "       ...,\n",
              "       [398.        , 460.5       , 528.9       , ..., 120.        ,\n",
              "        120.        , 120.        ],\n",
              "       [386.6       , 422.5       , 621.7       , ...,  80.        ,\n",
              "         80.        , 100.        ],\n",
              "       [428.9       , 488.7       , 575.3       , ...,  80.        ,\n",
              "        120.        ,  80.        ]])"
            ]
          },
          "metadata": {
            "tags": []
          },
          "execution_count": 91
        }
      ]
    },
    {
      "cell_type": "code",
      "metadata": {
        "colab": {
          "base_uri": "https://localhost:8080/",
          "height": 359
        },
        "id": "sNH9O5OR4UZ_",
        "outputId": "680584f9-f4ca-42d7-ca9c-5ae69eee9780"
      },
      "source": [
        "# visualizando as colunas\n",
        "cols = fit.get_support(indices=True)\n",
        "X_train.iloc[:, cols].head(10)"
      ],
      "execution_count": null,
      "outputs": [
        {
          "output_type": "execute_result",
          "data": {
            "text/html": [
              "<div>\n",
              "<style scoped>\n",
              "    .dataframe tbody tr th:only-of-type {\n",
              "        vertical-align: middle;\n",
              "    }\n",
              "\n",
              "    .dataframe tbody tr th {\n",
              "        vertical-align: top;\n",
              "    }\n",
              "\n",
              "    .dataframe thead th {\n",
              "        text-align: right;\n",
              "    }\n",
              "</style>\n",
              "<table border=\"1\" class=\"dataframe\">\n",
              "  <thead>\n",
              "    <tr style=\"text-align: right;\">\n",
              "      <th></th>\n",
              "      <th>NU_NOTA_MT</th>\n",
              "      <th>NU_NOTA_CN</th>\n",
              "      <th>NU_NOTA_CH</th>\n",
              "      <th>NU_NOTA_LC</th>\n",
              "      <th>NU_NOTA_REDACAO</th>\n",
              "      <th>NU_NOTA_COMP2</th>\n",
              "      <th>NU_NOTA_COMP3</th>\n",
              "      <th>NU_NOTA_COMP4</th>\n",
              "      <th>NU_NOTA_COMP5</th>\n",
              "    </tr>\n",
              "  </thead>\n",
              "  <tbody>\n",
              "    <tr>\n",
              "      <th>0</th>\n",
              "      <td>399.400000</td>\n",
              "      <td>436.300000</td>\n",
              "      <td>495.400000</td>\n",
              "      <td>581.200000</td>\n",
              "      <td>520.000000</td>\n",
              "      <td>120.000000</td>\n",
              "      <td>120.000000</td>\n",
              "      <td>80.000000</td>\n",
              "      <td>80.000000</td>\n",
              "    </tr>\n",
              "    <tr>\n",
              "      <th>1</th>\n",
              "      <td>459.800000</td>\n",
              "      <td>474.500000</td>\n",
              "      <td>544.100000</td>\n",
              "      <td>599.000000</td>\n",
              "      <td>580.000000</td>\n",
              "      <td>120.000000</td>\n",
              "      <td>120.000000</td>\n",
              "      <td>120.000000</td>\n",
              "      <td>80.000000</td>\n",
              "    </tr>\n",
              "    <tr>\n",
              "      <th>2</th>\n",
              "      <td>482.497928</td>\n",
              "      <td>473.495155</td>\n",
              "      <td>529.661087</td>\n",
              "      <td>516.472841</td>\n",
              "      <td>529.048258</td>\n",
              "      <td>111.915918</td>\n",
              "      <td>106.824238</td>\n",
              "      <td>113.123951</td>\n",
              "      <td>77.372446</td>\n",
              "    </tr>\n",
              "    <tr>\n",
              "      <th>3</th>\n",
              "      <td>482.497928</td>\n",
              "      <td>473.495155</td>\n",
              "      <td>529.661087</td>\n",
              "      <td>516.472841</td>\n",
              "      <td>529.048258</td>\n",
              "      <td>111.915918</td>\n",
              "      <td>106.824238</td>\n",
              "      <td>113.123951</td>\n",
              "      <td>77.372446</td>\n",
              "    </tr>\n",
              "    <tr>\n",
              "      <th>4</th>\n",
              "      <td>482.497928</td>\n",
              "      <td>473.495155</td>\n",
              "      <td>529.661087</td>\n",
              "      <td>516.472841</td>\n",
              "      <td>529.048258</td>\n",
              "      <td>111.915918</td>\n",
              "      <td>106.824238</td>\n",
              "      <td>113.123951</td>\n",
              "      <td>77.372446</td>\n",
              "    </tr>\n",
              "    <tr>\n",
              "      <th>5</th>\n",
              "      <td>364.500000</td>\n",
              "      <td>439.700000</td>\n",
              "      <td>583.200000</td>\n",
              "      <td>410.900000</td>\n",
              "      <td>620.000000</td>\n",
              "      <td>120.000000</td>\n",
              "      <td>120.000000</td>\n",
              "      <td>160.000000</td>\n",
              "      <td>100.000000</td>\n",
              "    </tr>\n",
              "    <tr>\n",
              "      <th>6</th>\n",
              "      <td>529.200000</td>\n",
              "      <td>420.100000</td>\n",
              "      <td>604.200000</td>\n",
              "      <td>484.500000</td>\n",
              "      <td>560.000000</td>\n",
              "      <td>120.000000</td>\n",
              "      <td>120.000000</td>\n",
              "      <td>120.000000</td>\n",
              "      <td>100.000000</td>\n",
              "    </tr>\n",
              "    <tr>\n",
              "      <th>7</th>\n",
              "      <td>566.700000</td>\n",
              "      <td>619.600000</td>\n",
              "      <td>625.800000</td>\n",
              "      <td>611.200000</td>\n",
              "      <td>620.000000</td>\n",
              "      <td>120.000000</td>\n",
              "      <td>120.000000</td>\n",
              "      <td>120.000000</td>\n",
              "      <td>120.000000</td>\n",
              "    </tr>\n",
              "    <tr>\n",
              "      <th>8</th>\n",
              "      <td>372.400000</td>\n",
              "      <td>500.500000</td>\n",
              "      <td>555.200000</td>\n",
              "      <td>521.800000</td>\n",
              "      <td>680.000000</td>\n",
              "      <td>160.000000</td>\n",
              "      <td>140.000000</td>\n",
              "      <td>140.000000</td>\n",
              "      <td>100.000000</td>\n",
              "    </tr>\n",
              "    <tr>\n",
              "      <th>9</th>\n",
              "      <td>482.497928</td>\n",
              "      <td>473.495155</td>\n",
              "      <td>529.661087</td>\n",
              "      <td>516.472841</td>\n",
              "      <td>529.048258</td>\n",
              "      <td>111.915918</td>\n",
              "      <td>106.824238</td>\n",
              "      <td>113.123951</td>\n",
              "      <td>77.372446</td>\n",
              "    </tr>\n",
              "  </tbody>\n",
              "</table>\n",
              "</div>"
            ],
            "text/plain": [
              "   NU_NOTA_MT  NU_NOTA_CN  ...  NU_NOTA_COMP4  NU_NOTA_COMP5\n",
              "0  399.400000  436.300000  ...      80.000000      80.000000\n",
              "1  459.800000  474.500000  ...     120.000000      80.000000\n",
              "2  482.497928  473.495155  ...     113.123951      77.372446\n",
              "3  482.497928  473.495155  ...     113.123951      77.372446\n",
              "4  482.497928  473.495155  ...     113.123951      77.372446\n",
              "5  364.500000  439.700000  ...     160.000000     100.000000\n",
              "6  529.200000  420.100000  ...     120.000000     100.000000\n",
              "7  566.700000  619.600000  ...     120.000000     120.000000\n",
              "8  372.400000  500.500000  ...     140.000000     100.000000\n",
              "9  482.497928  473.495155  ...     113.123951      77.372446\n",
              "\n",
              "[10 rows x 9 columns]"
            ]
          },
          "metadata": {
            "tags": []
          },
          "execution_count": 92
        }
      ]
    },
    {
      "cell_type": "markdown",
      "metadata": {
        "id": "Rr6AfGgac6Sa"
      },
      "source": [
        ">> Conseguimos identificar quais `features` principais"
      ]
    },
    {
      "cell_type": "markdown",
      "metadata": {
        "id": "QxY934rae8q0"
      },
      "source": [
        "# **Agora vamos fazer as nossas predições**"
      ]
    },
    {
      "cell_type": "markdown",
      "metadata": {
        "id": "bfRK3YmafFyM"
      },
      "source": [
        "**Pórem iremos aplicar outras técnicas. Vamos adiante...**"
      ]
    },
    {
      "cell_type": "markdown",
      "metadata": {
        "id": "QoiaYn-0ffBn"
      },
      "source": [
        "## **Aplicando One Hot Encoder**"
      ]
    },
    {
      "cell_type": "code",
      "metadata": {
        "id": "cLnmsN_34UXO",
        "colab": {
          "base_uri": "https://localhost:8080/"
        },
        "outputId": "659b0f08-0f8b-49c9-d657-7d5d14c8a7c8"
      },
      "source": [
        "# instale o category_encoders\n",
        "!pip install category_encoders"
      ],
      "execution_count": null,
      "outputs": [
        {
          "output_type": "stream",
          "text": [
            "Requirement already satisfied: category_encoders in /usr/local/lib/python3.7/dist-packages (2.2.2)\n",
            "Requirement already satisfied: scikit-learn>=0.20.0 in /usr/local/lib/python3.7/dist-packages (from category_encoders) (0.22.2.post1)\n",
            "Requirement already satisfied: scipy>=1.0.0 in /usr/local/lib/python3.7/dist-packages (from category_encoders) (1.4.1)\n",
            "Requirement already satisfied: statsmodels>=0.9.0 in /usr/local/lib/python3.7/dist-packages (from category_encoders) (0.10.2)\n",
            "Requirement already satisfied: numpy>=1.14.0 in /usr/local/lib/python3.7/dist-packages (from category_encoders) (1.19.5)\n",
            "Requirement already satisfied: pandas>=0.21.1 in /usr/local/lib/python3.7/dist-packages (from category_encoders) (1.1.5)\n",
            "Requirement already satisfied: patsy>=0.5.1 in /usr/local/lib/python3.7/dist-packages (from category_encoders) (0.5.1)\n",
            "Requirement already satisfied: joblib>=0.11 in /usr/local/lib/python3.7/dist-packages (from scikit-learn>=0.20.0->category_encoders) (1.0.1)\n",
            "Requirement already satisfied: python-dateutil>=2.7.3 in /usr/local/lib/python3.7/dist-packages (from pandas>=0.21.1->category_encoders) (2.8.1)\n",
            "Requirement already satisfied: pytz>=2017.2 in /usr/local/lib/python3.7/dist-packages (from pandas>=0.21.1->category_encoders) (2018.9)\n",
            "Requirement already satisfied: six in /usr/local/lib/python3.7/dist-packages (from patsy>=0.5.1->category_encoders) (1.15.0)\n"
          ],
          "name": "stdout"
        }
      ]
    },
    {
      "cell_type": "code",
      "metadata": {
        "id": "H7b_XtIU4UU4"
      },
      "source": [
        "# importando a biblioteca\n",
        "from category_encoders import OneHotEncoder"
      ],
      "execution_count": null,
      "outputs": []
    },
    {
      "cell_type": "code",
      "metadata": {
        "id": "0qU5rRVnfzwq"
      },
      "source": [
        "# instanciando o modelo\n",
        "ohe = OneHotEncoder(use_cat_names=True)"
      ],
      "execution_count": null,
      "outputs": []
    },
    {
      "cell_type": "markdown",
      "metadata": {
        "id": "qhzYc_m-gSWU"
      },
      "source": [
        "O `use_cat_names=True` coloca o nome de cada categoria no inicio de cada coluna."
      ]
    },
    {
      "cell_type": "code",
      "metadata": {
        "colab": {
          "base_uri": "https://localhost:8080/"
        },
        "id": "92G7N1pFfzs4",
        "outputId": "6b5efa46-ae29-4518-ac17-a5e9ed058fb3"
      },
      "source": [
        "# treinando o modelo\n",
        "X_train = ohe.fit_transform(X_train)"
      ],
      "execution_count": null,
      "outputs": [
        {
          "output_type": "stream",
          "text": [
            "/usr/local/lib/python3.7/dist-packages/category_encoders/utils.py:21: FutureWarning: is_categorical is deprecated and will be removed in a future version.  Use is_categorical_dtype instead\n",
            "  elif pd.api.types.is_categorical(cols):\n"
          ],
          "name": "stderr"
        }
      ]
    },
    {
      "cell_type": "code",
      "metadata": {
        "colab": {
          "base_uri": "https://localhost:8080/",
          "height": 224
        },
        "id": "2C16VFRXfzqG",
        "outputId": "90fd292b-a5ff-49d8-bf3a-2e210cf986ee"
      },
      "source": [
        "# visualizando o resultado do one hot encoder\n",
        "X_train.head()"
      ],
      "execution_count": null,
      "outputs": [
        {
          "output_type": "execute_result",
          "data": {
            "text/html": [
              "<div>\n",
              "<style scoped>\n",
              "    .dataframe tbody tr th:only-of-type {\n",
              "        vertical-align: middle;\n",
              "    }\n",
              "\n",
              "    .dataframe tbody tr th {\n",
              "        vertical-align: top;\n",
              "    }\n",
              "\n",
              "    .dataframe thead th {\n",
              "        text-align: right;\n",
              "    }\n",
              "</style>\n",
              "<table border=\"1\" class=\"dataframe\">\n",
              "  <thead>\n",
              "    <tr style=\"text-align: right;\">\n",
              "      <th></th>\n",
              "      <th>NU_NOTA_MT</th>\n",
              "      <th>NU_NOTA_CN</th>\n",
              "      <th>NU_NOTA_CH</th>\n",
              "      <th>NU_NOTA_LC</th>\n",
              "      <th>NU_NOTA_REDACAO</th>\n",
              "      <th>TP_DEPENDENCIA_ADM_ESC</th>\n",
              "      <th>NU_NOTA_COMP1</th>\n",
              "      <th>NU_NOTA_COMP2</th>\n",
              "      <th>NU_NOTA_COMP3</th>\n",
              "      <th>NU_NOTA_COMP4</th>\n",
              "      <th>NU_NOTA_COMP5</th>\n",
              "    </tr>\n",
              "  </thead>\n",
              "  <tbody>\n",
              "    <tr>\n",
              "      <th>0</th>\n",
              "      <td>399.400000</td>\n",
              "      <td>436.300000</td>\n",
              "      <td>495.400000</td>\n",
              "      <td>581.200000</td>\n",
              "      <td>520.000000</td>\n",
              "      <td>2.259692</td>\n",
              "      <td>120.000000</td>\n",
              "      <td>120.000000</td>\n",
              "      <td>120.000000</td>\n",
              "      <td>80.000000</td>\n",
              "      <td>80.000000</td>\n",
              "    </tr>\n",
              "    <tr>\n",
              "      <th>1</th>\n",
              "      <td>459.800000</td>\n",
              "      <td>474.500000</td>\n",
              "      <td>544.100000</td>\n",
              "      <td>599.000000</td>\n",
              "      <td>580.000000</td>\n",
              "      <td>2.000000</td>\n",
              "      <td>140.000000</td>\n",
              "      <td>120.000000</td>\n",
              "      <td>120.000000</td>\n",
              "      <td>120.000000</td>\n",
              "      <td>80.000000</td>\n",
              "    </tr>\n",
              "    <tr>\n",
              "      <th>2</th>\n",
              "      <td>482.497928</td>\n",
              "      <td>473.495155</td>\n",
              "      <td>529.661087</td>\n",
              "      <td>516.472841</td>\n",
              "      <td>529.048258</td>\n",
              "      <td>2.259692</td>\n",
              "      <td>119.811704</td>\n",
              "      <td>111.915918</td>\n",
              "      <td>106.824238</td>\n",
              "      <td>113.123951</td>\n",
              "      <td>77.372446</td>\n",
              "    </tr>\n",
              "    <tr>\n",
              "      <th>3</th>\n",
              "      <td>482.497928</td>\n",
              "      <td>473.495155</td>\n",
              "      <td>529.661087</td>\n",
              "      <td>516.472841</td>\n",
              "      <td>529.048258</td>\n",
              "      <td>2.259692</td>\n",
              "      <td>119.811704</td>\n",
              "      <td>111.915918</td>\n",
              "      <td>106.824238</td>\n",
              "      <td>113.123951</td>\n",
              "      <td>77.372446</td>\n",
              "    </tr>\n",
              "    <tr>\n",
              "      <th>4</th>\n",
              "      <td>482.497928</td>\n",
              "      <td>473.495155</td>\n",
              "      <td>529.661087</td>\n",
              "      <td>516.472841</td>\n",
              "      <td>529.048258</td>\n",
              "      <td>2.259692</td>\n",
              "      <td>119.811704</td>\n",
              "      <td>111.915918</td>\n",
              "      <td>106.824238</td>\n",
              "      <td>113.123951</td>\n",
              "      <td>77.372446</td>\n",
              "    </tr>\n",
              "  </tbody>\n",
              "</table>\n",
              "</div>"
            ],
            "text/plain": [
              "   NU_NOTA_MT  NU_NOTA_CN  ...  NU_NOTA_COMP4  NU_NOTA_COMP5\n",
              "0  399.400000  436.300000  ...      80.000000      80.000000\n",
              "1  459.800000  474.500000  ...     120.000000      80.000000\n",
              "2  482.497928  473.495155  ...     113.123951      77.372446\n",
              "3  482.497928  473.495155  ...     113.123951      77.372446\n",
              "4  482.497928  473.495155  ...     113.123951      77.372446\n",
              "\n",
              "[5 rows x 11 columns]"
            ]
          },
          "metadata": {
            "tags": []
          },
          "execution_count": 97
        }
      ]
    },
    {
      "cell_type": "markdown",
      "metadata": {
        "id": "vFCvLqbcgxpu"
      },
      "source": [
        "## **Aplicando um pré-processador**"
      ]
    },
    {
      "cell_type": "markdown",
      "metadata": {
        "id": "WSFjFHG_g2Je"
      },
      "source": [
        "O `StandardScaler` executa a tarefa de padronização, ou seja, transforma todas as features para que elas fiquem em uma mesma escala. **Cada coluna vai ter média igual a 0 e desvio padrão igual a 1**.\n",
        "\n",
        "E pra isso iremos importar tanto o `StandardScaler` como o `MinMaxScaler`"
      ]
    },
    {
      "cell_type": "code",
      "metadata": {
        "id": "YEy9rkNUfzm_"
      },
      "source": [
        "# importando as funções\n",
        "from sklearn.preprocessing import StandardScaler, MinMaxScaler"
      ],
      "execution_count": null,
      "outputs": []
    },
    {
      "cell_type": "code",
      "metadata": {
        "id": "cG1Fj9gEfzjp"
      },
      "source": [
        "# instanciando o modelo\n",
        "scaler = StandardScaler().fit(X_train)"
      ],
      "execution_count": null,
      "outputs": []
    },
    {
      "cell_type": "code",
      "metadata": {
        "colab": {
          "base_uri": "https://localhost:8080/"
        },
        "id": "xR52200thTll",
        "outputId": "50f2c766-d51e-4ba9-ed92-729d24bb94d5"
      },
      "source": [
        "# visualizando o modelo\n",
        "StandardScaler(copy=True,\n",
        "               with_mean=True, with_std=True )"
      ],
      "execution_count": null,
      "outputs": [
        {
          "output_type": "execute_result",
          "data": {
            "text/plain": [
              "StandardScaler(copy=True, with_mean=True, with_std=True)"
            ]
          },
          "metadata": {
            "tags": []
          },
          "execution_count": 100
        }
      ]
    },
    {
      "cell_type": "code",
      "metadata": {
        "id": "2AGhjCJlhThZ"
      },
      "source": [
        "# aplicando o modelo e realizando a transformação dos dados\n",
        "valores_scalados = scaler.transform(X_train)"
      ],
      "execution_count": null,
      "outputs": []
    },
    {
      "cell_type": "code",
      "metadata": {
        "colab": {
          "base_uri": "https://localhost:8080/"
        },
        "id": "7MgDVrJhhTeR",
        "outputId": "4204191f-58ca-4466-8029-65ce65408db8"
      },
      "source": [
        "# visualizando os valores escalados da primeira linha\n",
        "valores_scalados[:1]"
      ],
      "execution_count": null,
      "outputs": [
        {
          "output_type": "execute_result",
          "data": {
            "text/plain": [
              "array([[-9.69020120e-01, -6.02879362e-01, -5.35492559e-01,\n",
              "         1.09696343e+00, -6.82655339e-02,  1.13844777e-15,\n",
              "         7.34415151e-03,  2.78935852e-01,  4.46628135e-01,\n",
              "        -1.15171214e+00,  7.10220523e-02]])"
            ]
          },
          "metadata": {
            "tags": []
          },
          "execution_count": 102
        }
      ]
    },
    {
      "cell_type": "code",
      "metadata": {
        "colab": {
          "base_uri": "https://localhost:8080/"
        },
        "id": "_KFZB-X5oz_N",
        "outputId": "f9ca8b74-2eb3-445d-9943-171f977a5955"
      },
      "source": [
        "# visualizando a quantidade de linhas e colunas\n",
        "valores_scalados.shape"
      ],
      "execution_count": null,
      "outputs": [
        {
          "output_type": "execute_result",
          "data": {
            "text/plain": [
              "(13730, 11)"
            ]
          },
          "metadata": {
            "tags": []
          },
          "execution_count": 103
        }
      ]
    },
    {
      "cell_type": "code",
      "metadata": {
        "id": "0SJEZ3CChTa4"
      },
      "source": [
        "# aplicando o StanderScaler nos dados de treino\n",
        "X_train = scaler.transform(X_train)"
      ],
      "execution_count": null,
      "outputs": []
    },
    {
      "cell_type": "markdown",
      "metadata": {
        "id": "7x3808eMWG0i"
      },
      "source": [
        "Iremos aplicar o `DecisionTreeREgressor`"
      ]
    },
    {
      "cell_type": "code",
      "metadata": {
        "id": "b2YJa435mXS0"
      },
      "source": [
        "# importando a biblioteca \n",
        "from sklearn.tree import DecisionTreeRegressor\n",
        "reg_tree = DecisionTreeRegressor()"
      ],
      "execution_count": null,
      "outputs": []
    },
    {
      "cell_type": "code",
      "metadata": {
        "id": "Vdu3Gt40mXP7"
      },
      "source": [
        "# passando para o modelo os dados de treino \n",
        "reg_tree = reg_tree.fit(X_train, y_train)"
      ],
      "execution_count": null,
      "outputs": []
    },
    {
      "cell_type": "code",
      "metadata": {
        "id": "_F4I0ecsrMR0"
      },
      "source": [
        "# # avaliando a acurácia\n",
        "# acuracia = reg_tree.score(X_test, y_train)\n",
        "# acuracia"
      ],
      "execution_count": null,
      "outputs": []
    },
    {
      "cell_type": "markdown",
      "metadata": {
        "id": "yonAFCyunCo7"
      },
      "source": [
        "É necessário aplicar todos os métodos acima para os dados de teste, garantindo que eles estejam no mesmo formato do dados de treino, caso contrário o modelo não será capaz de prever novos resultados ou essa previsão será muito ruim."
      ]
    },
    {
      "cell_type": "code",
      "metadata": {
        "id": "xc2Y7CDZih4C"
      },
      "source": [
        ""
      ],
      "execution_count": null,
      "outputs": []
    },
    {
      "cell_type": "code",
      "metadata": {
        "id": "5Pa0q2PGih2A"
      },
      "source": [
        ""
      ],
      "execution_count": null,
      "outputs": []
    },
    {
      "cell_type": "code",
      "metadata": {
        "id": "AS9Dw4VeihzC"
      },
      "source": [
        ""
      ],
      "execution_count": null,
      "outputs": []
    },
    {
      "cell_type": "code",
      "metadata": {
        "id": "aE5d91fuihwb"
      },
      "source": [
        ""
      ],
      "execution_count": null,
      "outputs": []
    },
    {
      "cell_type": "code",
      "metadata": {
        "id": "U2AWK7Lyihti"
      },
      "source": [
        ""
      ],
      "execution_count": null,
      "outputs": []
    }
  ]
}