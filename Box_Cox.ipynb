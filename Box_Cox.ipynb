{
  "nbformat": 4,
  "nbformat_minor": 0,
  "metadata": {
    "colab": {
      "name": "Box-Cox.ipynb",
      "provenance": [],
      "collapsed_sections": [],
      "authorship_tag": "ABX9TyM+IUkeK4rYj2Cmt79+iOvD",
      "include_colab_link": true
    },
    "kernelspec": {
      "name": "python3",
      "display_name": "Python 3"
    },
    "language_info": {
      "name": "python"
    }
  },
  "cells": [
    {
      "cell_type": "markdown",
      "metadata": {
        "id": "view-in-github",
        "colab_type": "text"
      },
      "source": [
        "<a href=\"https://colab.research.google.com/github/FGalvao77/others-knowledge-in-python-for-data-science/blob/main/Box_Cox.ipynb\" target=\"_parent\"><img src=\"https://colab.research.google.com/assets/colab-badge.svg\" alt=\"Open In Colab\"/></a>"
      ]
    },
    {
      "cell_type": "markdown",
      "metadata": {
        "id": "6D8EX3NlpKpa"
      },
      "source": [
        "# **Box-Cox**"
      ]
    },
    {
      "cell_type": "code",
      "metadata": {
        "id": "MnjxjbG1pDOS"
      },
      "source": [
        "# importando as bibliotecas necessárias\n",
        "from scipy import stats\n",
        "import matplotlib.pyplot as plt\n",
        "import numpy as np\n",
        "import seaborn as sns\n",
        "\n",
        "import warnings\n",
        "warnings.filterwarnings('ignore')"
      ],
      "execution_count": 1,
      "outputs": []
    },
    {
      "cell_type": "markdown",
      "metadata": {
        "id": "TGbIFBjrqKfZ"
      },
      "source": [
        "**Extração de uma amostra da distribuição Beta (dados não normais)**"
      ]
    },
    {
      "cell_type": "code",
      "metadata": {
        "id": "7OQVWejYpItr"
      },
      "source": [
        "# instanciando uma amostra de dados não normais\n",
        "# para isso, utilizando a função \"np.random.beta()\"\n",
        "dados_anormais = np.random.beta(1,3,6000)"
      ],
      "execution_count": 13,
      "outputs": []
    },
    {
      "cell_type": "code",
      "metadata": {
        "colab": {
          "base_uri": "https://localhost:8080/"
        },
        "id": "a65pJdCfpRf6",
        "outputId": "aa0e451c-a51b-4a97-ec9d-ea797d077733"
      },
      "source": [
        "# visualizando as amostras\n",
        "dados_anormais"
      ],
      "execution_count": 14,
      "outputs": [
        {
          "output_type": "execute_result",
          "data": {
            "text/plain": [
              "array([0.63039586, 0.18640665, 0.31590138, ..., 0.56135343, 0.1796213 ,\n",
              "       0.03122653])"
            ]
          },
          "metadata": {
            "tags": []
          },
          "execution_count": 14
        }
      ]
    },
    {
      "cell_type": "code",
      "metadata": {
        "colab": {
          "base_uri": "https://localhost:8080/"
        },
        "id": "61nFKxjzpRci",
        "outputId": "3f32d957-4c79-4b6e-9353-44642af75c4e"
      },
      "source": [
        "# tamanho da amostra\n",
        "len(dados_anormais)"
      ],
      "execution_count": 15,
      "outputs": [
        {
          "output_type": "execute_result",
          "data": {
            "text/plain": [
              "6000"
            ]
          },
          "metadata": {
            "tags": []
          },
          "execution_count": 15
        }
      ]
    },
    {
      "cell_type": "code",
      "metadata": {
        "colab": {
          "base_uri": "https://localhost:8080/",
          "height": 402
        },
        "id": "a9TnZVDepRZy",
        "outputId": "751e4f6a-ef6d-4a91-d93a-edefc1da57be"
      },
      "source": [
        "# plotando um gráfico de distribuição dos dados\n",
        "plt.figure(figsize=(8,8))\n",
        "sns.displot(dados_anormais)\n",
        "plt.title('Distribuição não normal')\n",
        "plt.show()"
      ],
      "execution_count": 27,
      "outputs": [
        {
          "output_type": "display_data",
          "data": {
            "text/plain": [
              "<Figure size 576x576 with 0 Axes>"
            ]
          },
          "metadata": {
            "tags": []
          }
        },
        {
          "output_type": "display_data",
          "data": {
            "image/png": "[encoded data removed]",
            "text/plain": [
              "<Figure size 360x360 with 1 Axes>"
            ]
          },
          "metadata": {
            "tags": [],
            "needs_background": "light"
          }
        }
      ]
    },
    {
      "cell_type": "markdown",
      "metadata": {
        "id": "VrM-AvXWrhEc"
      },
      "source": [
        "> ***A curva não segue uma distribuição normal.***"
      ]
    },
    {
      "cell_type": "markdown",
      "metadata": {
        "id": "Q9P-qtUBrxiz"
      },
      "source": [
        "## **Transformando com ``Box-Cox``**"
      ]
    },
    {
      "cell_type": "code",
      "metadata": {
        "id": "OJFhNXOypRWy"
      },
      "source": [
        "# instanciando na variável \"dist_transf\" os dados transformados\n",
        "# utilizando a função lambda e o \"stats.boxcox()\"\n",
        "dist_transf, lambda_encontrado = stats.boxcox(dados_anormais)"
      ],
      "execution_count": 25,
      "outputs": []
    },
    {
      "cell_type": "code",
      "metadata": {
        "colab": {
          "base_uri": "https://localhost:8080/"
        },
        "id": "AUBqU78xpRUC",
        "outputId": "9e503ad2-5bbc-4139-c03d-40cb0f56729c"
      },
      "source": [
        "# imprimindo o melhor lambda encontrado\n",
        "print(f'O melhor lambda é de: {lambda_encontrado}')"
      ],
      "execution_count": 26,
      "outputs": [
        {
          "output_type": "stream",
          "text": [
            "O melhor lambda é de: 0.40833925870142007\n"
          ],
          "name": "stdout"
        }
      ]
    },
    {
      "cell_type": "code",
      "metadata": {
        "colab": {
          "base_uri": "https://localhost:8080/",
          "height": 402
        },
        "id": "L-U87mukqwoV",
        "outputId": "42bfc19b-937d-4a59-bab5-bc82c2753369"
      },
      "source": [
        "# plotando um gráfico de distribuição com os dados transformados\n",
        "plt.figure(figsize=(8,8))\n",
        "sns.displot(dist_transf)\n",
        "plt.title('Dados transformados')\n",
        "plt.show()"
      ],
      "execution_count": 28,
      "outputs": [
        {
          "output_type": "display_data",
          "data": {
            "text/plain": [
              "<Figure size 576x576 with 0 Axes>"
            ]
          },
          "metadata": {
            "tags": []
          }
        },
        {
          "output_type": "display_data",
          "data": {
            "image/png": "[encoded data removed]",
            "text/plain": [
              "<Figure size 360x360 with 1 Axes>"
            ]
          },
          "metadata": {
            "tags": [],
            "needs_background": "light"
          }
        }
      ]
    },
    {
      "cell_type": "markdown",
      "metadata": {
        "id": "gVT0wtmxsz6y"
      },
      "source": [
        "> ***Dados transformados com o ``Box-Cox``.***"
      ]
    },
    {
      "cell_type": "code",
      "metadata": {
        "id": "H9GdbviFqwlA"
      },
      "source": [
        ""
      ],
      "execution_count": null,
      "outputs": []
    },
    {
      "cell_type": "code",
      "metadata": {
        "id": "Diz6FWBiqwjD"
      },
      "source": [
        ""
      ],
      "execution_count": null,
      "outputs": []
    },
    {
      "cell_type": "code",
      "metadata": {
        "id": "QfT7fDY8qwfW"
      },
      "source": [
        ""
      ],
      "execution_count": null,
      "outputs": []
    }
  ]
}