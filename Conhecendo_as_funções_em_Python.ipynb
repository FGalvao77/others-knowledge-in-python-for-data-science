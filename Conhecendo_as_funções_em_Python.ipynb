{
  "nbformat": 4,
  "nbformat_minor": 0,
  "metadata": {
    "colab": {
      "name": "Conhecendo as funções em Python.ipynb",
      "provenance": [],
      "collapsed_sections": [],
      "authorship_tag": "ABX9TyPjdQFnjoh78XLWUJbbKca1",
      "include_colab_link": true
    },
    "kernelspec": {
      "name": "python3",
      "display_name": "Python 3"
    },
    "language_info": {
      "name": "python"
    }
  },
  "cells": [
    {
      "cell_type": "markdown",
      "metadata": {
        "id": "view-in-github",
        "colab_type": "text"
      },
      "source": [
        "<a href=\"https://colab.research.google.com/github/FGalvao77/others-knowledge-in-python-for-data-science/blob/main/Conhecendo_as_fun%C3%A7%C3%B5es_em_Python.ipynb\" target=\"_parent\"><img src=\"https://colab.research.google.com/assets/colab-badge.svg\" alt=\"Open In Colab\"/></a>"
      ]
    },
    {
      "cell_type": "markdown",
      "metadata": {
        "id": "HXiyHNsjqd_M"
      },
      "source": [
        "# **FUNÇÕES**"
      ]
    },
    {
      "cell_type": "code",
      "metadata": {
        "id": "AsEyyo8SqXaj"
      },
      "source": [
        "# função para somar dois números inteiros\n",
        "def soma(x,y):\n",
        "  res = x+y\n",
        "  return res"
      ],
      "execution_count": null,
      "outputs": []
    },
    {
      "cell_type": "code",
      "metadata": {
        "colab": {
          "base_uri": "https://localhost:8080/"
        },
        "id": "HyIzWzGzqXX7",
        "outputId": "7c6b0b5f-d7ad-4e3f-c6b1-13c21d94674e"
      },
      "source": [
        "soma(5,-3)"
      ],
      "execution_count": null,
      "outputs": [
        {
          "output_type": "execute_result",
          "data": {
            "text/plain": [
              "2"
            ]
          },
          "metadata": {
            "tags": []
          },
          "execution_count": 5
        }
      ]
    },
    {
      "cell_type": "code",
      "metadata": {
        "id": "RG8knSheqXVY"
      },
      "source": [
        "# função para subtrair dois números inteiros\n",
        "def subtrai(x,y):\n",
        "  return x-y"
      ],
      "execution_count": null,
      "outputs": []
    },
    {
      "cell_type": "code",
      "metadata": {
        "colab": {
          "base_uri": "https://localhost:8080/"
        },
        "id": "5HwriLrcsR5h",
        "outputId": "2496ad5d-c8e6-4851-aecb-b6a9909dbfbb"
      },
      "source": [
        "subtrai(7,9)"
      ],
      "execution_count": null,
      "outputs": [
        {
          "output_type": "execute_result",
          "data": {
            "text/plain": [
              "-2"
            ]
          },
          "metadata": {
            "tags": []
          },
          "execution_count": 7
        }
      ]
    },
    {
      "cell_type": "code",
      "metadata": {
        "id": "RjyGfCA_syJW"
      },
      "source": [
        "# função para calcular um número real qualquer elevado a potência de 2\n",
        "def potencia_2(x):\n",
        "  return x ** 2"
      ],
      "execution_count": null,
      "outputs": []
    },
    {
      "cell_type": "code",
      "metadata": {
        "colab": {
          "base_uri": "https://localhost:8080/"
        },
        "id": "ooHaxnrRsyap",
        "outputId": "0c442605-08cf-4345-b8b7-6d4a9ac3de52"
      },
      "source": [
        "potencia_2(2)"
      ],
      "execution_count": null,
      "outputs": [
        {
          "output_type": "execute_result",
          "data": {
            "text/plain": [
              "4"
            ]
          },
          "metadata": {
            "tags": []
          },
          "execution_count": 10
        }
      ]
    },
    {
      "cell_type": "code",
      "metadata": {
        "colab": {
          "base_uri": "https://localhost:8080/"
        },
        "id": "6Fqr09cmsyHp",
        "outputId": "882224ea-3b03-4e1e-db22-77177eaf476a"
      },
      "source": [
        "potencia_2(-2)"
      ],
      "execution_count": null,
      "outputs": [
        {
          "output_type": "execute_result",
          "data": {
            "text/plain": [
              "4"
            ]
          },
          "metadata": {
            "tags": []
          },
          "execution_count": 11
        }
      ]
    },
    {
      "cell_type": "code",
      "metadata": {
        "id": "unG3LA1NsyEC"
      },
      "source": [
        "# função para calcular um número real qualquer elevado a potência dele mesmo\n",
        "def potencia_X(x):\n",
        "  return x ** x"
      ],
      "execution_count": null,
      "outputs": []
    },
    {
      "cell_type": "code",
      "metadata": {
        "colab": {
          "base_uri": "https://localhost:8080/"
        },
        "id": "78cYW5qUsyCS",
        "outputId": "d5f76594-87ca-4612-8b2d-5497fc970e5a"
      },
      "source": [
        "potencia_X(2)"
      ],
      "execution_count": null,
      "outputs": [
        {
          "output_type": "execute_result",
          "data": {
            "text/plain": [
              "4"
            ]
          },
          "metadata": {
            "tags": []
          },
          "execution_count": 19
        }
      ]
    },
    {
      "cell_type": "code",
      "metadata": {
        "colab": {
          "base_uri": "https://localhost:8080/"
        },
        "id": "W5oVnDStsx-8",
        "outputId": "654de745-b52e-4169-be3a-59dce18c5fe9"
      },
      "source": [
        "potencia_X(3)"
      ],
      "execution_count": null,
      "outputs": [
        {
          "output_type": "execute_result",
          "data": {
            "text/plain": [
              "27"
            ]
          },
          "metadata": {
            "tags": []
          },
          "execution_count": 20
        }
      ]
    },
    {
      "cell_type": "code",
      "metadata": {
        "colab": {
          "base_uri": "https://localhost:8080/"
        },
        "id": "n3tAo0X5sx82",
        "outputId": "3018539b-8cd8-42ed-c8de-a0d54fa05f0a"
      },
      "source": [
        "potencia_X(1.5)"
      ],
      "execution_count": null,
      "outputs": [
        {
          "output_type": "execute_result",
          "data": {
            "text/plain": [
              "1.8371173070873836"
            ]
          },
          "metadata": {
            "tags": []
          },
          "execution_count": 32
        }
      ]
    },
    {
      "cell_type": "code",
      "metadata": {
        "id": "bwrUwpaiAGY9"
      },
      "source": [
        "# função para calcular a potençiação, conforme definição do usuário \n",
        "def pont_x():\n",
        "  base = int (input('Digite o número da base: '))\n",
        "  expoente = int (input('Digite o número do expoente: '))\n",
        "  return float (base ** expoente)"
      ],
      "execution_count": null,
      "outputs": []
    },
    {
      "cell_type": "code",
      "metadata": {
        "colab": {
          "base_uri": "https://localhost:8080/"
        },
        "id": "3m7wAvnTBHsq",
        "outputId": "1a9addec-a6fb-4749-abe5-ceae9e3d9ee1"
      },
      "source": [
        "pont_x()"
      ],
      "execution_count": null,
      "outputs": [
        {
          "output_type": "stream",
          "text": [
            "Digite o número da base: 2\n",
            "Digite o número do expoente: 10\n"
          ],
          "name": "stdout"
        },
        {
          "output_type": "execute_result",
          "data": {
            "text/plain": [
              "1024.0"
            ]
          },
          "metadata": {
            "tags": []
          },
          "execution_count": 97
        }
      ]
    },
    {
      "cell_type": "code",
      "metadata": {
        "id": "Ro3ioc8xykLc"
      },
      "source": [
        "# função para calcular a raiz quadrada\n",
        "def raizQuad(x):\n",
        "  return float (x**0.5)"
      ],
      "execution_count": null,
      "outputs": []
    },
    {
      "cell_type": "code",
      "metadata": {
        "colab": {
          "base_uri": "https://localhost:8080/"
        },
        "id": "FsuM6WwgzTD5",
        "outputId": "580ab5b4-c9f8-43ca-898e-a287fac81f10"
      },
      "source": [
        "raizQuad(16)"
      ],
      "execution_count": null,
      "outputs": [
        {
          "output_type": "execute_result",
          "data": {
            "text/plain": [
              "4.0"
            ]
          },
          "metadata": {
            "tags": []
          },
          "execution_count": 67
        }
      ]
    },
    {
      "cell_type": "code",
      "metadata": {
        "colab": {
          "base_uri": "https://localhost:8080/"
        },
        "id": "DiIw4ZBe0Nzw",
        "outputId": "b2a90a3b-d6f3-4987-89ab-845e86120b11"
      },
      "source": [
        "raizQuad(25)"
      ],
      "execution_count": null,
      "outputs": [
        {
          "output_type": "execute_result",
          "data": {
            "text/plain": [
              "5.0"
            ]
          },
          "metadata": {
            "tags": []
          },
          "execution_count": 69
        }
      ]
    },
    {
      "cell_type": "code",
      "metadata": {
        "id": "a0PVplXYqW1l"
      },
      "source": [
        "# função para solicitar a digitação do nome e imprimir o resultado\n",
        "def printName():\n",
        "  name = input('Digite seu nome: ')\n",
        "  return name"
      ],
      "execution_count": null,
      "outputs": []
    },
    {
      "cell_type": "code",
      "metadata": {
        "colab": {
          "base_uri": "https://localhost:8080/"
        },
        "id": "Bg5xm75OqXf1",
        "outputId": "c2db088a-3c04-4ae6-a004-c1b6551b2ae7"
      },
      "source": [
        "# chamando a função\n",
        "print(printName())"
      ],
      "execution_count": null,
      "outputs": [
        {
          "output_type": "stream",
          "text": [
            "Digite seu nome: Fernando\n",
            "Fernando\n"
          ],
          "name": "stdout"
        }
      ]
    },
    {
      "cell_type": "code",
      "metadata": {
        "colab": {
          "base_uri": "https://localhost:8080/",
          "height": 52
        },
        "id": "qVZeDBNAqXdU",
        "outputId": "3db36aae-636c-4cb0-e8b3-ad3c7b948488"
      },
      "source": [
        "# ou através\n",
        "printName()"
      ],
      "execution_count": null,
      "outputs": [
        {
          "output_type": "stream",
          "text": [
            "Digite seu nome: Fernando\n"
          ],
          "name": "stdout"
        },
        {
          "output_type": "execute_result",
          "data": {
            "application/vnd.google.colaboratory.intrinsic+json": {
              "type": "string"
            },
            "text/plain": [
              "'Fernando'"
            ]
          },
          "metadata": {
            "tags": []
          },
          "execution_count": 3
        }
      ]
    },
    {
      "cell_type": "code",
      "metadata": {
        "id": "Ga2W0bAmwu3p"
      },
      "source": [
        "# função para imprimir nome, sobrenome e concatenando \n",
        "def personal_data():\n",
        "  firstName = input('Digite seu nome: ')\n",
        "  lastName = input('Digite seu sobrenome: ')\n",
        "  return firstName + ' ' + lastName"
      ],
      "execution_count": null,
      "outputs": []
    },
    {
      "cell_type": "code",
      "metadata": {
        "colab": {
          "base_uri": "https://localhost:8080/"
        },
        "id": "GX0QgdjQw_Mo",
        "outputId": "f95bdf5a-fc92-430d-eedd-ddea5245dd89"
      },
      "source": [
        "print(personal_data())"
      ],
      "execution_count": null,
      "outputs": [
        {
          "output_type": "stream",
          "text": [
            "Digite seu nome: Fernando\n",
            "Digite seu sobrenome: Galvão\n",
            "Fernando Galvão\n"
          ],
          "name": "stdout"
        }
      ]
    },
    {
      "cell_type": "code",
      "metadata": {
        "id": "FqHQ9DBlsx5f"
      },
      "source": [
        "# melhorando a função acima\n",
        "def personal_data():\n",
        "  firstName = input('Digite seu nome: ')\n",
        "  lastName = input('Digite seu sobrenome: ')\n",
        "  age = int (input('Digite sua idade'))\n",
        "  print('\\n\\t\\tDADOS PESSOAIS')\n",
        "  return (f\"\"\"\\tNome completo: {firstName + ' ' + lastName}\n",
        "        Idade: {age}\"\"\")"
      ],
      "execution_count": null,
      "outputs": []
    },
    {
      "cell_type": "code",
      "metadata": {
        "colab": {
          "base_uri": "https://localhost:8080/"
        },
        "id": "pVTsW7K3sx2h",
        "outputId": "1f6b300d-63e0-4955-84fc-7042f4c7efba"
      },
      "source": [
        "print(personal_data())"
      ],
      "execution_count": null,
      "outputs": [
        {
          "output_type": "stream",
          "text": [
            "Digite seu nome: Fernando\n",
            "Digite seu sobrenome: Galvão\n",
            "Digite sua idade44\n",
            "\n",
            "\t\tDADOS PESSOAIS\n",
            "\tNome completo: Fernando Galvão\n",
            "        Idade: \t44\n"
          ],
          "name": "stdout"
        }
      ]
    },
    {
      "cell_type": "code",
      "metadata": {
        "id": "tEwk8ZDzsRz5"
      },
      "source": [
        ""
      ],
      "execution_count": null,
      "outputs": []
    },
    {
      "cell_type": "code",
      "metadata": {
        "id": "nQXz7zuqsRwL"
      },
      "source": [
        ""
      ],
      "execution_count": null,
      "outputs": []
    },
    {
      "cell_type": "code",
      "metadata": {
        "id": "DE11cG3psRs5"
      },
      "source": [
        ""
      ],
      "execution_count": null,
      "outputs": []
    },
    {
      "cell_type": "code",
      "metadata": {
        "id": "A28__PynsRf6"
      },
      "source": [
        ""
      ],
      "execution_count": null,
      "outputs": []
    }
  ]
}