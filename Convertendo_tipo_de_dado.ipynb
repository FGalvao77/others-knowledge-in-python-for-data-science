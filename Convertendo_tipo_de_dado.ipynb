{
  "nbformat": 4,
  "nbformat_minor": 0,
  "metadata": {
    "colab": {
      "name": "Convertendo tipo de dado.ipynb",
      "provenance": [],
      "collapsed_sections": [],
      "authorship_tag": "ABX9TyOJ/4dSglzzPKBBUVlwhGGp",
      "include_colab_link": true
    },
    "kernelspec": {
      "name": "python3",
      "display_name": "Python 3"
    },
    "language_info": {
      "name": "python"
    }
  },
  "cells": [
    {
      "cell_type": "markdown",
      "metadata": {
        "id": "view-in-github",
        "colab_type": "text"
      },
      "source": [
        "<a href=\"https://colab.research.google.com/github/FGalvao77/others-knowledge-in-python-for-data-science/blob/main/Convertendo_tipo_de_dado.ipynb\" target=\"_parent\"><img src=\"https://colab.research.google.com/assets/colab-badge.svg\" alt=\"Open In Colab\"/></a>"
      ]
    },
    {
      "cell_type": "code",
      "metadata": {
        "id": "M8974HKPHnJW"
      },
      "source": [
        "# importando a biblioteca \n",
        "import pandas as pd"
      ],
      "execution_count": 1,
      "outputs": []
    },
    {
      "cell_type": "code",
      "metadata": {
        "id": "1TaHV62_HuI0"
      },
      "source": [
        "# exemplo 1\n",
        "nome = pd.Series(['João', 'Maria', 'Letícia','Roberto', 'Joaquim'])\n",
        "altura = pd.Series([1.80, 1.79, 1.76, 1.81, 1.75], dtype='object')\n",
        "idade = pd.Series([29, 24, 30, 20, 50], dtype='object')\n",
        "matriculado = pd.Series([True, True, False, True, False], dtype='object')"
      ],
      "execution_count": 2,
      "outputs": []
    },
    {
      "cell_type": "code",
      "metadata": {
        "colab": {
          "base_uri": "https://localhost:8080/",
          "height": 204
        },
        "id": "09BVkAScHuFx",
        "outputId": "cb237987-93aa-4359-8c9a-03f37584b677"
      },
      "source": [
        "# instanciando os dados em um dataframe\n",
        "df = pd.DataFrame({\n",
        "    'nome': nome,\n",
        "    'altura': altura,\n",
        "    'idade': idade,\n",
        "    'matriculado': matriculado\n",
        "})\n",
        "\n",
        "# imprimindo o dataframe criado\n",
        "df"
      ],
      "execution_count": 3,
      "outputs": [
        {
          "output_type": "execute_result",
          "data": {
            "text/html": [
              "<div>\n",
              "<style scoped>\n",
              "    .dataframe tbody tr th:only-of-type {\n",
              "        vertical-align: middle;\n",
              "    }\n",
              "\n",
              "    .dataframe tbody tr th {\n",
              "        vertical-align: top;\n",
              "    }\n",
              "\n",
              "    .dataframe thead th {\n",
              "        text-align: right;\n",
              "    }\n",
              "</style>\n",
              "<table border=\"1\" class=\"dataframe\">\n",
              "  <thead>\n",
              "    <tr style=\"text-align: right;\">\n",
              "      <th></th>\n",
              "      <th>nome</th>\n",
              "      <th>altura</th>\n",
              "      <th>idade</th>\n",
              "      <th>matriculado</th>\n",
              "    </tr>\n",
              "  </thead>\n",
              "  <tbody>\n",
              "    <tr>\n",
              "      <th>0</th>\n",
              "      <td>João</td>\n",
              "      <td>1.8</td>\n",
              "      <td>29</td>\n",
              "      <td>True</td>\n",
              "    </tr>\n",
              "    <tr>\n",
              "      <th>1</th>\n",
              "      <td>Maria</td>\n",
              "      <td>1.79</td>\n",
              "      <td>24</td>\n",
              "      <td>True</td>\n",
              "    </tr>\n",
              "    <tr>\n",
              "      <th>2</th>\n",
              "      <td>Letícia</td>\n",
              "      <td>1.76</td>\n",
              "      <td>30</td>\n",
              "      <td>False</td>\n",
              "    </tr>\n",
              "    <tr>\n",
              "      <th>3</th>\n",
              "      <td>Roberto</td>\n",
              "      <td>1.81</td>\n",
              "      <td>20</td>\n",
              "      <td>True</td>\n",
              "    </tr>\n",
              "    <tr>\n",
              "      <th>4</th>\n",
              "      <td>Joaquim</td>\n",
              "      <td>1.75</td>\n",
              "      <td>50</td>\n",
              "      <td>False</td>\n",
              "    </tr>\n",
              "  </tbody>\n",
              "</table>\n",
              "</div>"
            ],
            "text/plain": [
              "      nome altura idade matriculado\n",
              "0     João    1.8    29        True\n",
              "1    Maria   1.79    24        True\n",
              "2  Letícia   1.76    30       False\n",
              "3  Roberto   1.81    20        True\n",
              "4  Joaquim   1.75    50       False"
            ]
          },
          "metadata": {
            "tags": []
          },
          "execution_count": 3
        }
      ]
    },
    {
      "cell_type": "code",
      "metadata": {
        "colab": {
          "base_uri": "https://localhost:8080/"
        },
        "id": "4QeA7B7rHuDI",
        "outputId": "1622716b-c95b-47f9-e033-c5e2215f08e4"
      },
      "source": [
        "# visualizando os tipos de dados no df\n",
        "df.dtypes"
      ],
      "execution_count": 4,
      "outputs": [
        {
          "output_type": "execute_result",
          "data": {
            "text/plain": [
              "nome           object\n",
              "altura         object\n",
              "idade          object\n",
              "matriculado    object\n",
              "dtype: object"
            ]
          },
          "metadata": {
            "tags": []
          },
          "execution_count": 4
        }
      ]
    },
    {
      "cell_type": "code",
      "metadata": {
        "colab": {
          "base_uri": "https://localhost:8080/"
        },
        "id": "OmPz0Ze0HuAQ",
        "outputId": "9a6af5ed-b670-4443-d859-22152b6c0cea"
      },
      "source": [
        "# realizando a transformação dos tipos de dados do df\n",
        "novo_df = df.convert_dtypes(convert_boolean=False)\n",
        "novo_df.dtypes"
      ],
      "execution_count": 5,
      "outputs": [
        {
          "output_type": "execute_result",
          "data": {
            "text/plain": [
              "nome            string\n",
              "altura         float64\n",
              "idade            Int64\n",
              "matriculado      Int64\n",
              "dtype: object"
            ]
          },
          "metadata": {
            "tags": []
          },
          "execution_count": 5
        }
      ]
    },
    {
      "cell_type": "code",
      "metadata": {
        "colab": {
          "base_uri": "https://localhost:8080/",
          "height": 204
        },
        "id": "RcVUAU_bHt6v",
        "outputId": "a7348034-fb5f-4800-8d54-1f333ff6a640"
      },
      "source": [
        "# visualizando o novo dataframe\n",
        "novo_df"
      ],
      "execution_count": 6,
      "outputs": [
        {
          "output_type": "execute_result",
          "data": {
            "text/html": [
              "<div>\n",
              "<style scoped>\n",
              "    .dataframe tbody tr th:only-of-type {\n",
              "        vertical-align: middle;\n",
              "    }\n",
              "\n",
              "    .dataframe tbody tr th {\n",
              "        vertical-align: top;\n",
              "    }\n",
              "\n",
              "    .dataframe thead th {\n",
              "        text-align: right;\n",
              "    }\n",
              "</style>\n",
              "<table border=\"1\" class=\"dataframe\">\n",
              "  <thead>\n",
              "    <tr style=\"text-align: right;\">\n",
              "      <th></th>\n",
              "      <th>nome</th>\n",
              "      <th>altura</th>\n",
              "      <th>idade</th>\n",
              "      <th>matriculado</th>\n",
              "    </tr>\n",
              "  </thead>\n",
              "  <tbody>\n",
              "    <tr>\n",
              "      <th>0</th>\n",
              "      <td>João</td>\n",
              "      <td>1.80</td>\n",
              "      <td>29</td>\n",
              "      <td>1</td>\n",
              "    </tr>\n",
              "    <tr>\n",
              "      <th>1</th>\n",
              "      <td>Maria</td>\n",
              "      <td>1.79</td>\n",
              "      <td>24</td>\n",
              "      <td>1</td>\n",
              "    </tr>\n",
              "    <tr>\n",
              "      <th>2</th>\n",
              "      <td>Letícia</td>\n",
              "      <td>1.76</td>\n",
              "      <td>30</td>\n",
              "      <td>0</td>\n",
              "    </tr>\n",
              "    <tr>\n",
              "      <th>3</th>\n",
              "      <td>Roberto</td>\n",
              "      <td>1.81</td>\n",
              "      <td>20</td>\n",
              "      <td>1</td>\n",
              "    </tr>\n",
              "    <tr>\n",
              "      <th>4</th>\n",
              "      <td>Joaquim</td>\n",
              "      <td>1.75</td>\n",
              "      <td>50</td>\n",
              "      <td>0</td>\n",
              "    </tr>\n",
              "  </tbody>\n",
              "</table>\n",
              "</div>"
            ],
            "text/plain": [
              "      nome  altura  idade  matriculado\n",
              "0     João    1.80     29            1\n",
              "1    Maria    1.79     24            1\n",
              "2  Letícia    1.76     30            0\n",
              "3  Roberto    1.81     20            1\n",
              "4  Joaquim    1.75     50            0"
            ]
          },
          "metadata": {
            "tags": []
          },
          "execution_count": 6
        }
      ]
    },
    {
      "cell_type": "code",
      "metadata": {
        "id": "Os8lEy6OHt4e"
      },
      "source": [
        "# exemplo 2\n",
        "nome = pd.Series(['João', 'Maria', 'Letícia','Roberto', 'Joaquim'])\n",
        "altura = pd.Series([1.80, 1.79, 1.76, 1.81, 1.75], dtype='object')\n",
        "idade = pd.Series([29, 24, 30, 20, 50], dtype='object')\n",
        "matriculado = pd.Series(['Sim', 'Sim', 'Não', 'Sim', 'Não'], dtype='object')"
      ],
      "execution_count": 7,
      "outputs": []
    },
    {
      "cell_type": "code",
      "metadata": {
        "colab": {
          "base_uri": "https://localhost:8080/",
          "height": 204
        },
        "id": "DuSsPELoHtyv",
        "outputId": "cfa2ad54-4cee-47b7-93db-d4467bc81b33"
      },
      "source": [
        "# instanciando os dados em um dataframe\n",
        "df = pd.DataFrame({\n",
        "    'nome': nome,\n",
        "    'altura': altura,\n",
        "    'idade': idade,\n",
        "    'matriculado': matriculado\n",
        "})\n",
        "\n",
        "# visualizando o dataframe criado\n",
        "df"
      ],
      "execution_count": 8,
      "outputs": [
        {
          "output_type": "execute_result",
          "data": {
            "text/html": [
              "<div>\n",
              "<style scoped>\n",
              "    .dataframe tbody tr th:only-of-type {\n",
              "        vertical-align: middle;\n",
              "    }\n",
              "\n",
              "    .dataframe tbody tr th {\n",
              "        vertical-align: top;\n",
              "    }\n",
              "\n",
              "    .dataframe thead th {\n",
              "        text-align: right;\n",
              "    }\n",
              "</style>\n",
              "<table border=\"1\" class=\"dataframe\">\n",
              "  <thead>\n",
              "    <tr style=\"text-align: right;\">\n",
              "      <th></th>\n",
              "      <th>nome</th>\n",
              "      <th>altura</th>\n",
              "      <th>idade</th>\n",
              "      <th>matriculado</th>\n",
              "    </tr>\n",
              "  </thead>\n",
              "  <tbody>\n",
              "    <tr>\n",
              "      <th>0</th>\n",
              "      <td>João</td>\n",
              "      <td>1.8</td>\n",
              "      <td>29</td>\n",
              "      <td>Sim</td>\n",
              "    </tr>\n",
              "    <tr>\n",
              "      <th>1</th>\n",
              "      <td>Maria</td>\n",
              "      <td>1.79</td>\n",
              "      <td>24</td>\n",
              "      <td>Sim</td>\n",
              "    </tr>\n",
              "    <tr>\n",
              "      <th>2</th>\n",
              "      <td>Letícia</td>\n",
              "      <td>1.76</td>\n",
              "      <td>30</td>\n",
              "      <td>Não</td>\n",
              "    </tr>\n",
              "    <tr>\n",
              "      <th>3</th>\n",
              "      <td>Roberto</td>\n",
              "      <td>1.81</td>\n",
              "      <td>20</td>\n",
              "      <td>Sim</td>\n",
              "    </tr>\n",
              "    <tr>\n",
              "      <th>4</th>\n",
              "      <td>Joaquim</td>\n",
              "      <td>1.75</td>\n",
              "      <td>50</td>\n",
              "      <td>Não</td>\n",
              "    </tr>\n",
              "  </tbody>\n",
              "</table>\n",
              "</div>"
            ],
            "text/plain": [
              "      nome altura idade matriculado\n",
              "0     João    1.8    29         Sim\n",
              "1    Maria   1.79    24         Sim\n",
              "2  Letícia   1.76    30         Não\n",
              "3  Roberto   1.81    20         Sim\n",
              "4  Joaquim   1.75    50         Não"
            ]
          },
          "metadata": {
            "tags": []
          },
          "execution_count": 8
        }
      ]
    },
    {
      "cell_type": "code",
      "metadata": {
        "colab": {
          "base_uri": "https://localhost:8080/"
        },
        "id": "kV8PCm-wNn4a",
        "outputId": "2d6ba458-dc03-425f-fa9e-e4b73265ed68"
      },
      "source": [
        "# visualizando os tipos de dados presentes no dataframe\n",
        "df.dtypes"
      ],
      "execution_count": 9,
      "outputs": [
        {
          "output_type": "execute_result",
          "data": {
            "text/plain": [
              "nome           object\n",
              "altura         object\n",
              "idade          object\n",
              "matriculado    object\n",
              "dtype: object"
            ]
          },
          "metadata": {
            "tags": []
          },
          "execution_count": 9
        }
      ]
    },
    {
      "cell_type": "code",
      "metadata": {
        "colab": {
          "base_uri": "https://localhost:8080/"
        },
        "id": "S8vOmU25Nn1a",
        "outputId": "844f6bb6-882f-4e8b-f7f5-1c7949ee05bf"
      },
      "source": [
        "# realizando a conversão dos tipos de dados \n",
        "novo_df = df.convert_dtypes(convert_boolean=False)\n",
        "novo_df.dtypes"
      ],
      "execution_count": 10,
      "outputs": [
        {
          "output_type": "execute_result",
          "data": {
            "text/plain": [
              "nome            string\n",
              "altura         float64\n",
              "idade            Int64\n",
              "matriculado     string\n",
              "dtype: object"
            ]
          },
          "metadata": {
            "tags": []
          },
          "execution_count": 10
        }
      ]
    },
    {
      "cell_type": "code",
      "metadata": {
        "colab": {
          "base_uri": "https://localhost:8080/",
          "height": 204
        },
        "id": "WuP82_8JNnyh",
        "outputId": "3f2ff325-53d4-4c7b-88d8-1bece93b604c"
      },
      "source": [
        "# visualizando o novo dataframe\n",
        "novo_df"
      ],
      "execution_count": 11,
      "outputs": [
        {
          "output_type": "execute_result",
          "data": {
            "text/html": [
              "<div>\n",
              "<style scoped>\n",
              "    .dataframe tbody tr th:only-of-type {\n",
              "        vertical-align: middle;\n",
              "    }\n",
              "\n",
              "    .dataframe tbody tr th {\n",
              "        vertical-align: top;\n",
              "    }\n",
              "\n",
              "    .dataframe thead th {\n",
              "        text-align: right;\n",
              "    }\n",
              "</style>\n",
              "<table border=\"1\" class=\"dataframe\">\n",
              "  <thead>\n",
              "    <tr style=\"text-align: right;\">\n",
              "      <th></th>\n",
              "      <th>nome</th>\n",
              "      <th>altura</th>\n",
              "      <th>idade</th>\n",
              "      <th>matriculado</th>\n",
              "    </tr>\n",
              "  </thead>\n",
              "  <tbody>\n",
              "    <tr>\n",
              "      <th>0</th>\n",
              "      <td>João</td>\n",
              "      <td>1.80</td>\n",
              "      <td>29</td>\n",
              "      <td>Sim</td>\n",
              "    </tr>\n",
              "    <tr>\n",
              "      <th>1</th>\n",
              "      <td>Maria</td>\n",
              "      <td>1.79</td>\n",
              "      <td>24</td>\n",
              "      <td>Sim</td>\n",
              "    </tr>\n",
              "    <tr>\n",
              "      <th>2</th>\n",
              "      <td>Letícia</td>\n",
              "      <td>1.76</td>\n",
              "      <td>30</td>\n",
              "      <td>Não</td>\n",
              "    </tr>\n",
              "    <tr>\n",
              "      <th>3</th>\n",
              "      <td>Roberto</td>\n",
              "      <td>1.81</td>\n",
              "      <td>20</td>\n",
              "      <td>Sim</td>\n",
              "    </tr>\n",
              "    <tr>\n",
              "      <th>4</th>\n",
              "      <td>Joaquim</td>\n",
              "      <td>1.75</td>\n",
              "      <td>50</td>\n",
              "      <td>Não</td>\n",
              "    </tr>\n",
              "  </tbody>\n",
              "</table>\n",
              "</div>"
            ],
            "text/plain": [
              "      nome  altura  idade matriculado\n",
              "0     João    1.80     29         Sim\n",
              "1    Maria    1.79     24         Sim\n",
              "2  Letícia    1.76     30         Não\n",
              "3  Roberto    1.81     20         Sim\n",
              "4  Joaquim    1.75     50         Não"
            ]
          },
          "metadata": {
            "tags": []
          },
          "execution_count": 11
        }
      ]
    },
    {
      "cell_type": "code",
      "metadata": {
        "colab": {
          "base_uri": "https://localhost:8080/",
          "height": 204
        },
        "id": "dcfAq-WF2tif",
        "outputId": "d8e22178-2f8c-4eef-9bdb-4636d0d73536"
      },
      "source": [
        "# excluindo a primeira coluna do \"novo_df\" e instanciando em uma nova variável\n",
        "df_tratado = novo_df.iloc[:, 1:]\n",
        "\n",
        "# visualizando o \"df_tratado\"\n",
        "df_tratado"
      ],
      "execution_count": 12,
      "outputs": [
        {
          "output_type": "execute_result",
          "data": {
            "text/html": [
              "<div>\n",
              "<style scoped>\n",
              "    .dataframe tbody tr th:only-of-type {\n",
              "        vertical-align: middle;\n",
              "    }\n",
              "\n",
              "    .dataframe tbody tr th {\n",
              "        vertical-align: top;\n",
              "    }\n",
              "\n",
              "    .dataframe thead th {\n",
              "        text-align: right;\n",
              "    }\n",
              "</style>\n",
              "<table border=\"1\" class=\"dataframe\">\n",
              "  <thead>\n",
              "    <tr style=\"text-align: right;\">\n",
              "      <th></th>\n",
              "      <th>altura</th>\n",
              "      <th>idade</th>\n",
              "      <th>matriculado</th>\n",
              "    </tr>\n",
              "  </thead>\n",
              "  <tbody>\n",
              "    <tr>\n",
              "      <th>0</th>\n",
              "      <td>1.80</td>\n",
              "      <td>29</td>\n",
              "      <td>Sim</td>\n",
              "    </tr>\n",
              "    <tr>\n",
              "      <th>1</th>\n",
              "      <td>1.79</td>\n",
              "      <td>24</td>\n",
              "      <td>Sim</td>\n",
              "    </tr>\n",
              "    <tr>\n",
              "      <th>2</th>\n",
              "      <td>1.76</td>\n",
              "      <td>30</td>\n",
              "      <td>Não</td>\n",
              "    </tr>\n",
              "    <tr>\n",
              "      <th>3</th>\n",
              "      <td>1.81</td>\n",
              "      <td>20</td>\n",
              "      <td>Sim</td>\n",
              "    </tr>\n",
              "    <tr>\n",
              "      <th>4</th>\n",
              "      <td>1.75</td>\n",
              "      <td>50</td>\n",
              "      <td>Não</td>\n",
              "    </tr>\n",
              "  </tbody>\n",
              "</table>\n",
              "</div>"
            ],
            "text/plain": [
              "   altura  idade matriculado\n",
              "0    1.80     29         Sim\n",
              "1    1.79     24         Sim\n",
              "2    1.76     30         Não\n",
              "3    1.81     20         Sim\n",
              "4    1.75     50         Não"
            ]
          },
          "metadata": {
            "tags": []
          },
          "execution_count": 12
        }
      ]
    },
    {
      "cell_type": "code",
      "metadata": {
        "colab": {
          "base_uri": "https://localhost:8080/"
        },
        "id": "ZpRQ9JB96DJQ",
        "outputId": "09e8cc30-ac6a-465a-dfc1-cd732c408575"
      },
      "source": [
        "# visualizando o tipo de dado presente em cada coluna\n",
        "# perceba que, na coluna \"matriculado\" o tipo de dado é uma \"string\"\n",
        "df_tratado.dtypes"
      ],
      "execution_count": 13,
      "outputs": [
        {
          "output_type": "execute_result",
          "data": {
            "text/plain": [
              "altura         float64\n",
              "idade            Int64\n",
              "matriculado     string\n",
              "dtype: object"
            ]
          },
          "metadata": {
            "tags": []
          },
          "execution_count": 13
        }
      ]
    },
    {
      "cell_type": "code",
      "metadata": {
        "colab": {
          "base_uri": "https://localhost:8080/"
        },
        "id": "Ulk5hNeINnv7",
        "outputId": "7cf4842a-2f61-434e-ad98-7ada267bd7cc"
      },
      "source": [
        "# convertendo a variável categórica (da coluna \"matriculado\") para variável númerica\n",
        "# 0: Não\n",
        "# 1: Sim\n",
        "for col in df_tratado.select_dtypes(include='string').columns:\n",
        "  df_tratado[col] = df_tratado[col].astype('category')\n",
        "\n",
        "  # imprimindo o mapeamento\n",
        "  print(col, '\\t', dict(enumerate(df_tratado[col].cat.categories)), end='\\n\\n')\n",
        "\n",
        "  df_tratado[col] = df_tratado[col].cat.codes"
      ],
      "execution_count": 14,
      "outputs": [
        {
          "output_type": "stream",
          "text": [
            "matriculado \t {0: 'Não', 1: 'Sim'}\n",
            "\n"
          ],
          "name": "stdout"
        }
      ]
    },
    {
      "cell_type": "code",
      "metadata": {
        "colab": {
          "base_uri": "https://localhost:8080/",
          "height": 204
        },
        "id": "tJ8xJSobNntT",
        "outputId": "68d57297-e187-4b7e-90d6-792ead2f1611"
      },
      "source": [
        "# visualizando o \"df_tratado\" após a conversão da variável categórica para númerica\n",
        "df_tratado.head()"
      ],
      "execution_count": 15,
      "outputs": [
        {
          "output_type": "execute_result",
          "data": {
            "text/html": [
              "<div>\n",
              "<style scoped>\n",
              "    .dataframe tbody tr th:only-of-type {\n",
              "        vertical-align: middle;\n",
              "    }\n",
              "\n",
              "    .dataframe tbody tr th {\n",
              "        vertical-align: top;\n",
              "    }\n",
              "\n",
              "    .dataframe thead th {\n",
              "        text-align: right;\n",
              "    }\n",
              "</style>\n",
              "<table border=\"1\" class=\"dataframe\">\n",
              "  <thead>\n",
              "    <tr style=\"text-align: right;\">\n",
              "      <th></th>\n",
              "      <th>altura</th>\n",
              "      <th>idade</th>\n",
              "      <th>matriculado</th>\n",
              "    </tr>\n",
              "  </thead>\n",
              "  <tbody>\n",
              "    <tr>\n",
              "      <th>0</th>\n",
              "      <td>1.80</td>\n",
              "      <td>29</td>\n",
              "      <td>1</td>\n",
              "    </tr>\n",
              "    <tr>\n",
              "      <th>1</th>\n",
              "      <td>1.79</td>\n",
              "      <td>24</td>\n",
              "      <td>1</td>\n",
              "    </tr>\n",
              "    <tr>\n",
              "      <th>2</th>\n",
              "      <td>1.76</td>\n",
              "      <td>30</td>\n",
              "      <td>0</td>\n",
              "    </tr>\n",
              "    <tr>\n",
              "      <th>3</th>\n",
              "      <td>1.81</td>\n",
              "      <td>20</td>\n",
              "      <td>1</td>\n",
              "    </tr>\n",
              "    <tr>\n",
              "      <th>4</th>\n",
              "      <td>1.75</td>\n",
              "      <td>50</td>\n",
              "      <td>0</td>\n",
              "    </tr>\n",
              "  </tbody>\n",
              "</table>\n",
              "</div>"
            ],
            "text/plain": [
              "   altura  idade  matriculado\n",
              "0    1.80     29            1\n",
              "1    1.79     24            1\n",
              "2    1.76     30            0\n",
              "3    1.81     20            1\n",
              "4    1.75     50            0"
            ]
          },
          "metadata": {
            "tags": []
          },
          "execution_count": 15
        }
      ]
    },
    {
      "cell_type": "code",
      "metadata": {
        "colab": {
          "base_uri": "https://localhost:8080/"
        },
        "id": "v5FtaP5oNnnp",
        "outputId": "7c4dfe3c-9306-477c-859e-ec5b055d4660"
      },
      "source": [
        "# informações gerais do df\n",
        "df_tratado.info()"
      ],
      "execution_count": 16,
      "outputs": [
        {
          "output_type": "stream",
          "text": [
            "<class 'pandas.core.frame.DataFrame'>\n",
            "RangeIndex: 5 entries, 0 to 4\n",
            "Data columns (total 3 columns):\n",
            " #   Column       Non-Null Count  Dtype  \n",
            "---  ------       --------------  -----  \n",
            " 0   altura       5 non-null      float64\n",
            " 1   idade        5 non-null      Int64  \n",
            " 2   matriculado  5 non-null      int8   \n",
            "dtypes: Int64(1), float64(1), int8(1)\n",
            "memory usage: 218.0 bytes\n"
          ],
          "name": "stdout"
        }
      ]
    },
    {
      "cell_type": "code",
      "metadata": {
        "id": "ct68AbrTNnkx",
        "colab": {
          "base_uri": "https://localhost:8080/"
        },
        "outputId": "5a6bf565-40de-4a29-ab1c-4c231273549a"
      },
      "source": [
        "# visualizando o tipo de dado em cada coluna\n",
        "df_tratado.dtypes"
      ],
      "execution_count": 17,
      "outputs": [
        {
          "output_type": "execute_result",
          "data": {
            "text/plain": [
              "altura         float64\n",
              "idade            Int64\n",
              "matriculado       int8\n",
              "dtype: object"
            ]
          },
          "metadata": {
            "tags": []
          },
          "execution_count": 17
        }
      ]
    },
    {
      "cell_type": "code",
      "metadata": {
        "id": "qw3KFSylNniC"
      },
      "source": [
        ""
      ],
      "execution_count": null,
      "outputs": []
    },
    {
      "cell_type": "code",
      "metadata": {
        "id": "tQ6hUkhHJOGv",
        "colab": {
          "base_uri": "https://localhost:8080/"
        },
        "outputId": "d619fe56-f9ee-4d7f-87d5-d9677e5834f3"
      },
      "source": [
        "# instalando ruby\n",
        "!pip install ruby"
      ],
      "execution_count": 18,
      "outputs": [
        {
          "output_type": "stream",
          "text": [
            "Collecting ruby\n",
            "  Downloading https://files.pythonhosted.org/packages/6a/cb/4b6ddfc4139c649949dbcebbd1f50fff07b04317e2a31fa3d06394c7915a/ruby-0.0.2-py3-none-any.whl\n",
            "Requirement already satisfied: nltk<4 in /usr/local/lib/python3.7/dist-packages (from ruby) (3.2.5)\n",
            "Requirement already satisfied: six in /usr/local/lib/python3.7/dist-packages (from nltk<4->ruby) (1.15.0)\n",
            "Installing collected packages: ruby\n",
            "Successfully installed ruby-0.0.2\n"
          ],
          "name": "stdout"
        }
      ]
    },
    {
      "cell_type": "code",
      "metadata": {
        "colab": {
          "base_uri": "https://localhost:8080/"
        },
        "id": "OAoorKu3c76M",
        "outputId": "9985c6ec-fe57-4476-ea15-f0dfb7bf3aae"
      },
      "source": [
        "# instalando julia\n",
        "!pip install julia"
      ],
      "execution_count": 19,
      "outputs": [
        {
          "output_type": "stream",
          "text": [
            "Collecting julia\n",
            "\u001b[?25l  Downloading https://files.pythonhosted.org/packages/79/15/b7ffd6aab0902a8430db614f964c2516db52f847a3c42d99904de72c1faa/julia-0.5.6-py2.py3-none-any.whl (67kB)\n",
            "\r\u001b[K     |████▉                           | 10kB 12.3MB/s eta 0:00:01\r\u001b[K     |█████████▊                      | 20kB 16.7MB/s eta 0:00:01\r\u001b[K     |██████████████▋                 | 30kB 7.8MB/s eta 0:00:01\r\u001b[K     |███████████████████▌            | 40kB 7.9MB/s eta 0:00:01\r\u001b[K     |████████████████████████▍       | 51kB 4.9MB/s eta 0:00:01\r\u001b[K     |█████████████████████████████▎  | 61kB 5.3MB/s eta 0:00:01\r\u001b[K     |████████████████████████████████| 71kB 3.0MB/s \n",
            "\u001b[?25hInstalling collected packages: julia\n",
            "Successfully installed julia-0.5.6\n"
          ],
          "name": "stdout"
        }
      ]
    },
    {
      "cell_type": "code",
      "metadata": {
        "id": "YDL7sWH8dMtO"
      },
      "source": [
        ""
      ],
      "execution_count": null,
      "outputs": []
    },
    {
      "cell_type": "code",
      "metadata": {
        "id": "AQtLIyT7dMni"
      },
      "source": [
        ""
      ],
      "execution_count": null,
      "outputs": []
    },
    {
      "cell_type": "code",
      "metadata": {
        "id": "mj_PYKC_JODj"
      },
      "source": [
        ""
      ],
      "execution_count": null,
      "outputs": []
    },
    {
      "cell_type": "code",
      "metadata": {
        "id": "-Xo3ujFCJOAo"
      },
      "source": [
        ""
      ],
      "execution_count": null,
      "outputs": []
    }
  ]
}