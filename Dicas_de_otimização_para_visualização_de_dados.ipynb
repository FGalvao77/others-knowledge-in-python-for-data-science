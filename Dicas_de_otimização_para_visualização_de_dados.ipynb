{
  "nbformat": 4,
  "nbformat_minor": 0,
  "metadata": {
    "colab": {
      "name": "Dicas de otimização para visualização de dados.ipynb",
      "provenance": [],
      "collapsed_sections": [],
      "authorship_tag": "ABX9TyNr0NT0Dkwklf5WmUhh+AZX",
      "include_colab_link": true
    },
    "kernelspec": {
      "name": "python3",
      "display_name": "Python 3"
    },
    "language_info": {
      "name": "python"
    }
  },
  "cells": [
    {
      "cell_type": "markdown",
      "metadata": {
        "id": "view-in-github",
        "colab_type": "text"
      },
      "source": [
        "<a href=\"https://colab.research.google.com/github/FGalvao77/others-knowledge-in-python-for-data-science/blob/main/Dicas_de_otimiza%C3%A7%C3%A3o_para_visualiza%C3%A7%C3%A3o_de_dados.ipynb\" target=\"_parent\"><img src=\"https://colab.research.google.com/assets/colab-badge.svg\" alt=\"Open In Colab\"/></a>"
      ]
    },
    {
      "cell_type": "markdown",
      "metadata": {
        "id": "sWtLNDC0g1Nf"
      },
      "source": [
        "# **Visualização de dados**"
      ]
    },
    {
      "cell_type": "markdown",
      "metadata": {
        "id": "xMVjUcjfg_ED"
      },
      "source": [
        "`Vamos conhecer uma técnica para simplificar nossas visualizações.`\n",
        "\n",
        "Para isso, vamos usar a técnica conhecida como **ECDF (Emperical Cumulative Distribution Frequency**.\n",
        " - onde organiza os dados crescentemente no eixo X. E no eixo Y, lemos os números de observações e criamos o exato números de pontos equidistantes entre 0 e 1 (ex. se temos 10 pontos de dados, Y varia a cada 0.1, formando 10 valores entre 0 e 1).\n",
        "\n",
        " Na prática, isso vai virar um gráfico que te informa rapidamente aporecentagem de dados que está abaixo de um ponto específico.\n",
        "\n",
        "**Vamos para a prática!**\n",
        "\n"
      ]
    },
    {
      "cell_type": "code",
      "metadata": {
        "id": "VB4nhD0ykiwd"
      },
      "source": [
        "# importando as bibliotecas\n",
        "import numpy as np\n",
        "import seaborn as sns\n",
        "import matplotlib.pyplot as plt\n",
        "\n",
        "%matplotlib inline"
      ],
      "execution_count": 61,
      "outputs": []
    },
    {
      "cell_type": "code",
      "metadata": {
        "id": "cOZ6Co02gutf"
      },
      "source": [
        "# criando a função\n",
        "def ecdf(dados):\n",
        "  n = len(dados)\n",
        "\n",
        "  # sort x ascending\n",
        "  x = np.sort(dados)\n",
        "\n",
        "  # pontos de dados uniformemente espaçados entre 0 e 1 com o mesmo comprimento de dados\n",
        "  y = np.arange(1, n + 1) / n\n",
        "  return x, y\n"
      ],
      "execution_count": 2,
      "outputs": []
    },
    {
      "cell_type": "code",
      "metadata": {
        "id": "tGwC28rTjQ2R"
      },
      "source": [
        "# instanciando a base de dados\n",
        "df_tips = sns.load_dataset('tips')"
      ],
      "execution_count": 62,
      "outputs": []
    },
    {
      "cell_type": "code",
      "metadata": {
        "colab": {
          "base_uri": "https://localhost:8080/"
        },
        "id": "_CwY0AsWoLQn",
        "outputId": "ffa473f2-faf3-4127-a3f7-7e68aa41126a"
      },
      "source": [
        "# informações gerais\n",
        "df_tips.info()"
      ],
      "execution_count": 63,
      "outputs": [
        {
          "output_type": "stream",
          "text": [
            "<class 'pandas.core.frame.DataFrame'>\n",
            "RangeIndex: 244 entries, 0 to 243\n",
            "Data columns (total 7 columns):\n",
            " #   Column      Non-Null Count  Dtype   \n",
            "---  ------      --------------  -----   \n",
            " 0   total_bill  244 non-null    float64 \n",
            " 1   tip         244 non-null    float64 \n",
            " 2   sex         244 non-null    category\n",
            " 3   smoker      244 non-null    category\n",
            " 4   day         244 non-null    category\n",
            " 5   time        244 non-null    category\n",
            " 6   size        244 non-null    int64   \n",
            "dtypes: category(4), float64(2), int64(1)\n",
            "memory usage: 7.3 KB\n"
          ],
          "name": "stdout"
        }
      ]
    },
    {
      "cell_type": "code",
      "metadata": {
        "id": "181H4IcdjQzT"
      },
      "source": [
        "# aplicando a função\n",
        "x, y = ecdf(df_tips.tip)"
      ],
      "execution_count": 64,
      "outputs": []
    },
    {
      "cell_type": "code",
      "metadata": {
        "colab": {
          "base_uri": "https://localhost:8080/"
        },
        "id": "zCHVRfRwsO0e",
        "outputId": "6dd70d92-c789-4d92-cd7a-98626ba7f00c"
      },
      "source": [
        "df_tips.tip"
      ],
      "execution_count": 65,
      "outputs": [
        {
          "output_type": "execute_result",
          "data": {
            "text/plain": [
              "0      1.01\n",
              "1      1.66\n",
              "2      3.50\n",
              "3      3.31\n",
              "4      3.61\n",
              "       ... \n",
              "239    5.92\n",
              "240    2.00\n",
              "241    2.00\n",
              "242    1.75\n",
              "243    3.00\n",
              "Name: tip, Length: 244, dtype: float64"
            ]
          },
          "metadata": {
            "tags": []
          },
          "execution_count": 65
        }
      ]
    },
    {
      "cell_type": "code",
      "metadata": {
        "colab": {
          "base_uri": "https://localhost:8080/",
          "height": 551
        },
        "id": "m5bkQ6pgjQxA",
        "outputId": "0e008220-9bfd-40f4-cb08-2203b42fdcd7"
      },
      "source": [
        "# plotando o gráfico\n",
        "plt.figure(figsize=(12,9))\n",
        "plt.plot(x, y, marker = 'o', linestyle = 'none', alpha = 0.8)\n",
        "plt.plot(2.88, 0.5, marker = '*', color = 'red')\n",
        "plt.xlabel('Tips $ Amt')\n",
        "plt.ylabel('Probabilidades')\n",
        "plt.annotate('<-- 50% de dados abaixo de x = $ 2.88',\n",
        "             xy = (3.2, 0.5))\n",
        "plt.show();"
      ],
      "execution_count": 66,
      "outputs": [
        {
          "output_type": "display_data",
          "data": {
            "image/png": "[encoded data removed]",
            "text/plain": [
              "<Figure size 864x648 with 1 Axes>"
            ]
          },
          "metadata": {
            "tags": [],
            "needs_background": "light"
          }
        }
      ]
    },
    {
      "cell_type": "markdown",
      "metadata": {
        "id": "S5bXbxsvo58x"
      },
      "source": [
        "**Vamos para outro dataset**\n",
        " - repositório: https://github.com/mwaskom/seaborn-data"
      ]
    },
    {
      "cell_type": "code",
      "metadata": {
        "id": "cIB07-gEo43j"
      },
      "source": [
        "# instanciando a base de dados\n",
        "df_mpg = sns.load_dataset('mpg')"
      ],
      "execution_count": 104,
      "outputs": []
    },
    {
      "cell_type": "code",
      "metadata": {
        "colab": {
          "base_uri": "https://localhost:8080/"
        },
        "id": "Cy7HkBdWo41S",
        "outputId": "5f71a823-7695-44dc-ed1d-6f772d3dae02"
      },
      "source": [
        "# informações gerais\n",
        "df_mpg.info()"
      ],
      "execution_count": 105,
      "outputs": [
        {
          "output_type": "stream",
          "text": [
            "<class 'pandas.core.frame.DataFrame'>\n",
            "RangeIndex: 398 entries, 0 to 397\n",
            "Data columns (total 9 columns):\n",
            " #   Column        Non-Null Count  Dtype  \n",
            "---  ------        --------------  -----  \n",
            " 0   mpg           398 non-null    float64\n",
            " 1   cylinders     398 non-null    int64  \n",
            " 2   displacement  398 non-null    float64\n",
            " 3   horsepower    392 non-null    float64\n",
            " 4   weight        398 non-null    int64  \n",
            " 5   acceleration  398 non-null    float64\n",
            " 6   model_year    398 non-null    int64  \n",
            " 7   origin        398 non-null    object \n",
            " 8   name          398 non-null    object \n",
            "dtypes: float64(4), int64(3), object(2)\n",
            "memory usage: 28.1+ KB\n"
          ],
          "name": "stdout"
        }
      ]
    },
    {
      "cell_type": "code",
      "metadata": {
        "id": "yT67ZHayo4yO"
      },
      "source": [
        "# aplicando a função\n",
        "x, y = ecdf(df_mpg.mpg)"
      ],
      "execution_count": 106,
      "outputs": []
    },
    {
      "cell_type": "code",
      "metadata": {
        "colab": {
          "base_uri": "https://localhost:8080/"
        },
        "id": "KvTIHawZtoFr",
        "outputId": "b6149689-f7b4-4b42-d8f8-f8da077267cf"
      },
      "source": [
        "x.mean()"
      ],
      "execution_count": 107,
      "outputs": [
        {
          "output_type": "execute_result",
          "data": {
            "text/plain": [
              "23.514572864321607"
            ]
          },
          "metadata": {
            "tags": []
          },
          "execution_count": 107
        }
      ]
    },
    {
      "cell_type": "code",
      "metadata": {
        "colab": {
          "base_uri": "https://localhost:8080/"
        },
        "id": "mAtX-7AVuDru",
        "outputId": "6ead88c3-5b68-4e9f-c5a0-94c542096e8d"
      },
      "source": [
        "y.mean()"
      ],
      "execution_count": 108,
      "outputs": [
        {
          "output_type": "execute_result",
          "data": {
            "text/plain": [
              "0.5012562814070352"
            ]
          },
          "metadata": {
            "tags": []
          },
          "execution_count": 108
        }
      ]
    },
    {
      "cell_type": "code",
      "metadata": {
        "colab": {
          "base_uri": "https://localhost:8080/",
          "height": 551
        },
        "id": "BlpUxqvpo4v9",
        "outputId": "3a609988-06e3-4e5e-af2f-07564cfa9c00"
      },
      "source": [
        "# plotando o gráfico\n",
        "plt.figure(figsize=(12,9))\n",
        "plt.plot(x, y, marker = 'o', linestyle = 'none', alpha = 0.8)\n",
        "plt.plot(23.0, 0.5, marker = '*', color = 'red')\n",
        "plt.xlabel('Mpg $ Amt')\n",
        "plt.ylabel('Probabilidades')\n",
        "plt.annotate('<-- 50% de dados abaixo de x = MPG 23.51',\n",
        "             xy = (23.5, 0.5))\n",
        "plt.show();"
      ],
      "execution_count": 109,
      "outputs": [
        {
          "output_type": "display_data",
          "data": {
            "image/png": "[encoded data removed]",
            "text/plain": [
              "<Figure size 864x648 with 1 Axes>"
            ]
          },
          "metadata": {
            "tags": [],
            "needs_background": "light"
          }
        }
      ]
    },
    {
      "cell_type": "markdown",
      "metadata": {
        "id": "EYjSy1gevuoY"
      },
      "source": [
        "**Vamos para mais aplicação da técnica**"
      ]
    },
    {
      "cell_type": "code",
      "metadata": {
        "id": "O0hkMNxZv0ep"
      },
      "source": [
        "# instanciando a base de dados\n",
        "df_diamonds = sns.load_dataset('diamonds')"
      ],
      "execution_count": 76,
      "outputs": []
    },
    {
      "cell_type": "code",
      "metadata": {
        "colab": {
          "base_uri": "https://localhost:8080/"
        },
        "id": "MH79L2KIv08x",
        "outputId": "646f39ac-8b82-4c3b-94e8-639de643f31e"
      },
      "source": [
        "# informações gerais\n",
        "df_diamonds.info()"
      ],
      "execution_count": 77,
      "outputs": [
        {
          "output_type": "stream",
          "text": [
            "<class 'pandas.core.frame.DataFrame'>\n",
            "RangeIndex: 53940 entries, 0 to 53939\n",
            "Data columns (total 10 columns):\n",
            " #   Column   Non-Null Count  Dtype   \n",
            "---  ------   --------------  -----   \n",
            " 0   carat    53940 non-null  float64 \n",
            " 1   cut      53940 non-null  category\n",
            " 2   color    53940 non-null  category\n",
            " 3   clarity  53940 non-null  category\n",
            " 4   depth    53940 non-null  float64 \n",
            " 5   table    53940 non-null  float64 \n",
            " 6   price    53940 non-null  int64   \n",
            " 7   x        53940 non-null  float64 \n",
            " 8   y        53940 non-null  float64 \n",
            " 9   z        53940 non-null  float64 \n",
            "dtypes: category(3), float64(6), int64(1)\n",
            "memory usage: 3.0 MB\n"
          ],
          "name": "stdout"
        }
      ]
    },
    {
      "cell_type": "code",
      "metadata": {
        "id": "V6aeonhWv04h"
      },
      "source": [
        "# aplicando a função\n",
        "x, y = ecdf(df_diamonds.price)"
      ],
      "execution_count": 78,
      "outputs": []
    },
    {
      "cell_type": "code",
      "metadata": {
        "colab": {
          "base_uri": "https://localhost:8080/"
        },
        "id": "GguXfy7nwVbA",
        "outputId": "333249e9-5590-432c-e5ab-331d61906c23"
      },
      "source": [
        "x.mean()"
      ],
      "execution_count": 80,
      "outputs": [
        {
          "output_type": "execute_result",
          "data": {
            "text/plain": [
              "3932.799721913237"
            ]
          },
          "metadata": {
            "tags": []
          },
          "execution_count": 80
        }
      ]
    },
    {
      "cell_type": "code",
      "metadata": {
        "colab": {
          "base_uri": "https://localhost:8080/"
        },
        "id": "OS7UKziLwc7u",
        "outputId": "80dfe765-3c13-4149-d6c2-2cf94f34944b"
      },
      "source": [
        "y.mean()"
      ],
      "execution_count": 81,
      "outputs": [
        {
          "output_type": "execute_result",
          "data": {
            "text/plain": [
              "0.5000092695587691"
            ]
          },
          "metadata": {
            "tags": []
          },
          "execution_count": 81
        }
      ]
    },
    {
      "cell_type": "code",
      "metadata": {
        "colab": {
          "base_uri": "https://localhost:8080/",
          "height": 551
        },
        "id": "HvUJMIA0v02o",
        "outputId": "38994337-faec-4a06-e10d-8d521ec3e5de"
      },
      "source": [
        "# plotando o gráfico\n",
        "plt.figure(figsize=(12,9))\n",
        "plt.plot(x, y, marker = 'o', linestyle = 'none', alpha = 0.8)\n",
        "plt.plot(2480, 0.5, marker = '*', color = 'red')\n",
        "plt.xlabel('Price $ Amt')\n",
        "plt.ylabel('Probabilidades')\n",
        "plt.annotate('<-- 50% de dados abaixo de x = $ 3932.7',\n",
        "             xy = (2725, 0.5))\n",
        "plt.show();"
      ],
      "execution_count": 103,
      "outputs": [
        {
          "output_type": "display_data",
          "data": {
            "image/png": "[encoded data removed]",
            "text/plain": [
              "<Figure size 864x648 with 1 Axes>"
            ]
          },
          "metadata": {
            "tags": [],
            "needs_background": "light"
          }
        }
      ]
    },
    {
      "cell_type": "markdown",
      "metadata": {
        "id": "2A6gL5tEzMrh"
      },
      "source": [
        "Fica aqui um link para conhecer suas aplicações. \n",
        " - **Obs:** a utilização da técnica está na linguagem R.\n",
        "  - https://data.library.virginia.edu/understanding-empirical-cumulative-distribution-functions/"
      ]
    },
    {
      "cell_type": "code",
      "metadata": {
        "id": "mO-953Tvv0mR"
      },
      "source": [
        ""
      ],
      "execution_count": null,
      "outputs": []
    },
    {
      "cell_type": "code",
      "metadata": {
        "id": "gP3Ac0-Mv0jc"
      },
      "source": [
        ""
      ],
      "execution_count": null,
      "outputs": []
    }
  ]
}