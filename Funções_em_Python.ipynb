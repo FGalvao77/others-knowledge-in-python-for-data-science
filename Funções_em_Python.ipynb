{
  "nbformat": 4,
  "nbformat_minor": 0,
  "metadata": {
    "colab": {
      "name": "Funções em Python.ipynb",
      "provenance": [],
      "collapsed_sections": [],
      "include_colab_link": true
    },
    "kernelspec": {
      "name": "python3",
      "display_name": "Python 3"
    }
  },
  "cells": [
    {
      "cell_type": "markdown",
      "metadata": {
        "id": "view-in-github",
        "colab_type": "text"
      },
      "source": [
        "<a href=\"https://colab.research.google.com/github/FGalvao77/others-knowledge-in-python-for-data-science/blob/main/Fun%C3%A7%C3%B5es_em_Python.ipynb\" target=\"_parent\"><img src=\"https://colab.research.google.com/assets/colab-badge.svg\" alt=\"Open In Colab\"/></a>"
      ]
    },
    {
      "cell_type": "code",
      "metadata": {
        "id": "1LgKXX7wiftk",
        "colab": {
          "base_uri": "https://localhost:8080/"
        },
        "outputId": "1380bdf8-862e-4c0a-e785-cae205da007d"
      },
      "source": [
        "a = 34\n",
        " \n",
        "def imprimir_variavel():\n",
        "    a = 12\n",
        "    print(a)\n",
        " \n",
        "print(a)\n",
        "imprimir_variavel()\n",
        "print(a)"
      ],
      "execution_count": null,
      "outputs": [
        {
          "output_type": "stream",
          "text": [
            "34\n",
            "12\n",
            "34\n"
          ],
          "name": "stdout"
        }
      ]
    },
    {
      "cell_type": "code",
      "metadata": {
        "id": "mutr-TnKlbjv"
      },
      "source": [
        "def elevar_quadrado(numero):\n",
        "    resultado = numero ** 2\n",
        "    return resultado"
      ],
      "execution_count": null,
      "outputs": []
    },
    {
      "cell_type": "code",
      "metadata": {
        "id": "VncsKQcelbba"
      },
      "source": [
        "meu_valor_calculado = elevar_quadrado(5)"
      ],
      "execution_count": null,
      "outputs": []
    },
    {
      "cell_type": "code",
      "metadata": {
        "id": "4NrlrFTXiuRv",
        "colab": {
          "base_uri": "https://localhost:8080/"
        },
        "outputId": "1e823c02-f9ce-4041-b9b9-28c7a0217328"
      },
      "source": [
        "meu_valor_calculado"
      ],
      "execution_count": null,
      "outputs": [
        {
          "output_type": "execute_result",
          "data": {
            "text/plain": [
              "25"
            ]
          },
          "metadata": {
            "tags": []
          },
          "execution_count": 4
        }
      ]
    },
    {
      "cell_type": "code",
      "metadata": {
        "id": "zJrljEQljOI4"
      },
      "source": [
        "def calcular():\n",
        "  a = 2\n",
        "  b = 3\n",
        "  \n",
        "  soma = a + b\n",
        "  \n",
        "  print(soma)\n",
        "\n",
        "calcular()\n",
        "\n",
        "print(soma)"
      ],
      "execution_count": null,
      "outputs": []
    },
    {
      "cell_type": "code",
      "metadata": {
        "id": "Ze7f6M1un6vF"
      },
      "source": [
        "def verificar_motorista(idade, cnh):\n",
        "    verificacao = (idade >= 18) and (cnh)\n",
        "    return verificacao"
      ],
      "execution_count": null,
      "outputs": []
    },
    {
      "cell_type": "code",
      "metadata": {
        "id": "KkVXbxcUoSW0",
        "colab": {
          "base_uri": "https://localhost:8080/"
        },
        "outputId": "4966aef4-14fa-4571-df33-f7968980f3cc"
      },
      "source": [
        "verificar_motorista(23, True)"
      ],
      "execution_count": null,
      "outputs": [
        {
          "output_type": "execute_result",
          "data": {
            "text/plain": [
              "True"
            ]
          },
          "metadata": {
            "tags": []
          },
          "execution_count": 7
        }
      ]
    },
    {
      "cell_type": "code",
      "metadata": {
        "colab": {
          "base_uri": "https://localhost:8080/"
        },
        "id": "ZbRZEwq7hNqg",
        "outputId": "f0913dfe-c07a-4775-b65f-5b29c703f3bb"
      },
      "source": [
        "verificar_motorista(18, False)"
      ],
      "execution_count": null,
      "outputs": [
        {
          "output_type": "execute_result",
          "data": {
            "text/plain": [
              "False"
            ]
          },
          "metadata": {
            "tags": []
          },
          "execution_count": 14
        }
      ]
    },
    {
      "cell_type": "code",
      "metadata": {
        "id": "_yGpKgN1on_t"
      },
      "source": [
        "elevar = lambda x: x ** 2 "
      ],
      "execution_count": null,
      "outputs": []
    },
    {
      "cell_type": "code",
      "metadata": {
        "id": "2ukm14FIo6u3",
        "colab": {
          "base_uri": "https://localhost:8080/"
        },
        "outputId": "5bde43fa-7908-4215-c40f-a9ab688d12de"
      },
      "source": [
        "elevar(5)"
      ],
      "execution_count": null,
      "outputs": [
        {
          "output_type": "execute_result",
          "data": {
            "text/plain": [
              "25"
            ]
          },
          "metadata": {
            "tags": []
          },
          "execution_count": 16
        }
      ]
    },
    {
      "cell_type": "code",
      "metadata": {
        "colab": {
          "base_uri": "https://localhost:8080/"
        },
        "id": "a282mpjlheGR",
        "outputId": "0624faca-a2b8-4398-b0de-ab33c006f53f"
      },
      "source": [
        "elevar(4)"
      ],
      "execution_count": null,
      "outputs": [
        {
          "output_type": "execute_result",
          "data": {
            "text/plain": [
              "16"
            ]
          },
          "metadata": {
            "tags": []
          },
          "execution_count": 17
        }
      ]
    },
    {
      "cell_type": "code",
      "metadata": {
        "id": "BkQNTFBKpG5P"
      },
      "source": [
        "df.colunaA.apply(lambda x: x ** 2)"
      ],
      "execution_count": null,
      "outputs": []
    },
    {
      "cell_type": "markdown",
      "metadata": {
        "id": "oTvA852NjURa"
      },
      "source": [
        "# Exercícios"
      ]
    },
    {
      "cell_type": "markdown",
      "metadata": {
        "id": "UpGkAmmimHrp"
      },
      "source": [
        "**Escreva uma função que imprima o seu nome na tela**"
      ]
    },
    {
      "cell_type": "code",
      "metadata": {
        "id": "XFPNg56JmOYC",
        "colab": {
          "base_uri": "https://localhost:8080/"
        },
        "outputId": "ab2eb8e7-6aae-4cad-8845-8f90a844ee3e"
      },
      "source": [
        "def printingYourName():\n",
        "  print('Fernando Galvão')\n",
        "\n",
        "printingYourName()"
      ],
      "execution_count": null,
      "outputs": [
        {
          "output_type": "stream",
          "text": [
            "Fernando Galvão\n"
          ],
          "name": "stdout"
        }
      ]
    },
    {
      "cell_type": "code",
      "metadata": {
        "id": "I9JP1OSai6vF"
      },
      "source": [
        "# criando uma função que recebe como argumentos - firstName (nome) e lastName (sobrenome)\n",
        "def printingYourName(fristName, lastName):\n",
        "  fullName = nome + ' ' + sobrenome   # concatenando os argumentos e instanciando numa variável - fullName (nome completo)\n",
        "  return fullName.title()   # usando a função \".title()\" para deixar a primeira letra do nome e sobrenome em caixa alta"
      ],
      "execution_count": null,
      "outputs": []
    },
    {
      "cell_type": "code",
      "metadata": {
        "colab": {
          "base_uri": "https://localhost:8080/"
        },
        "id": "r1nQb2xyjDQi",
        "outputId": "80563b19-de8a-41b2-d34c-06bff46df325"
      },
      "source": [
        "# instanciando um usuário  - \"user_01\"\n",
        "user_01 = printingYourName('fernando', 'galvão')\n",
        "print(user_01)"
      ],
      "execution_count": null,
      "outputs": [
        {
          "output_type": "stream",
          "text": [
            "Fernando Galvão\n"
          ],
          "name": "stdout"
        }
      ]
    },
    {
      "cell_type": "markdown",
      "metadata": {
        "id": "vf_qI3kH8U1V"
      },
      "source": [
        "Instanciando demais usuários"
      ]
    },
    {
      "cell_type": "code",
      "metadata": {
        "colab": {
          "base_uri": "https://localhost:8080/",
          "height": 35
        },
        "id": "QWc38f4WkWlK",
        "outputId": "a1937d1d-dc30-47d5-c675-1e57adb33d3b"
      },
      "source": [
        "user_02 = printingYourName('kátia', 'galvão')\n",
        "user_02"
      ],
      "execution_count": null,
      "outputs": [
        {
          "output_type": "execute_result",
          "data": {
            "application/vnd.google.colaboratory.intrinsic+json": {
              "type": "string"
            },
            "text/plain": [
              "'Kátia Galvão'"
            ]
          },
          "metadata": {
            "tags": []
          },
          "execution_count": 4
        }
      ]
    },
    {
      "cell_type": "code",
      "metadata": {
        "colab": {
          "base_uri": "https://localhost:8080/",
          "height": 35
        },
        "id": "ZOPniIYykqzG",
        "outputId": "6fd03101-4c32-4438-9f3d-560ed59a66d9"
      },
      "source": [
        "user_03 = printingYourName('sara', 'galvão')\n",
        "user_03"
      ],
      "execution_count": null,
      "outputs": [
        {
          "output_type": "execute_result",
          "data": {
            "application/vnd.google.colaboratory.intrinsic+json": {
              "type": "string"
            },
            "text/plain": [
              "'Sara Galvão'"
            ]
          },
          "metadata": {
            "tags": []
          },
          "execution_count": 5
        }
      ]
    },
    {
      "cell_type": "code",
      "metadata": {
        "colab": {
          "base_uri": "https://localhost:8080/",
          "height": 35
        },
        "id": "Lzqu1sjqkx0V",
        "outputId": "ced402dc-bb10-4e69-adaa-442cb5ddb954"
      },
      "source": [
        "user_04 = printingYourName('eloah', 'galvão')\n",
        "user_04"
      ],
      "execution_count": null,
      "outputs": [
        {
          "output_type": "execute_result",
          "data": {
            "application/vnd.google.colaboratory.intrinsic+json": {
              "type": "string"
            },
            "text/plain": [
              "'Eloah Galvão'"
            ]
          },
          "metadata": {
            "tags": []
          },
          "execution_count": 6
        }
      ]
    },
    {
      "cell_type": "code",
      "metadata": {
        "colab": {
          "base_uri": "https://localhost:8080/"
        },
        "id": "V5xyJhR_k5ls",
        "outputId": "60509f60-a02d-42bc-dc71-0f5f02181773"
      },
      "source": [
        "# imprimindo todos usuários\n",
        "print(f'{user_01} \\n{user_02} \\n{user_03} \\n{user_04}')"
      ],
      "execution_count": null,
      "outputs": [
        {
          "output_type": "stream",
          "text": [
            "Fernando Galvão \n",
            "Kátia Galvão \n",
            "Sara Galvão \n",
            "Eloah Galvão\n"
          ],
          "name": "stdout"
        }
      ]
    },
    {
      "cell_type": "code",
      "metadata": {
        "colab": {
          "base_uri": "https://localhost:8080/"
        },
        "id": "XIYYHfAW6XIM",
        "outputId": "0c35e85d-dc3b-4026-c4b1-4f3bdf5b3c87"
      },
      "source": [
        "# criando uma lista com os usuários\n",
        "users = [user_01, user_02, user_03, user_04]\n",
        "print(users)\n",
        "print(type(users))    # verificando a classe do objeto criado"
      ],
      "execution_count": null,
      "outputs": [
        {
          "output_type": "stream",
          "text": [
            "['Fernando Galvão', 'Kátia Galvão', 'Sara Galvão', 'Eloah Galvão']\n",
            "<class 'list'>\n"
          ],
          "name": "stdout"
        }
      ]
    },
    {
      "cell_type": "code",
      "metadata": {
        "colab": {
          "base_uri": "https://localhost:8080/"
        },
        "id": "6IweOYFz6wO1",
        "outputId": "b2232c98-e0a9-469a-b2b2-9b9b821278a7"
      },
      "source": [
        "# realizando um for para imprimir a lista\n",
        "for i in users:\n",
        "  print(i)"
      ],
      "execution_count": null,
      "outputs": [
        {
          "output_type": "stream",
          "text": [
            "Fernando Galvão\n",
            "Kátia Galvão\n",
            "Sara Galvão\n",
            "Eloah Galvão\n"
          ],
          "name": "stdout"
        }
      ]
    },
    {
      "cell_type": "code",
      "metadata": {
        "colab": {
          "base_uri": "https://localhost:8080/",
          "height": 35
        },
        "id": "nRAM3Zin64Bz",
        "outputId": "1abd3c1b-f0c7-4440-dd9a-0671d8d6517e"
      },
      "source": [
        "# imprimindo o primeiro nome da lista\n",
        "# para isso, usando a posição do índice\n",
        "users[0]"
      ],
      "execution_count": null,
      "outputs": [
        {
          "output_type": "execute_result",
          "data": {
            "application/vnd.google.colaboratory.intrinsic+json": {
              "type": "string"
            },
            "text/plain": [
              "'Fernando Galvão'"
            ]
          },
          "metadata": {
            "tags": []
          },
          "execution_count": 16
        }
      ]
    },
    {
      "cell_type": "code",
      "metadata": {
        "colab": {
          "base_uri": "https://localhost:8080/",
          "height": 35
        },
        "id": "_cJoudrJ9NNZ",
        "outputId": "7975af9a-9599-44b1-9682-b94a9cef658a"
      },
      "source": [
        "# imprimindo o terceiro usuário (índice 2)\n",
        "# e passando também como segundo parâmetro, somente o primeiro nome\n",
        "users[2][:4]"
      ],
      "execution_count": null,
      "outputs": [
        {
          "output_type": "execute_result",
          "data": {
            "application/vnd.google.colaboratory.intrinsic+json": {
              "type": "string"
            },
            "text/plain": [
              "'Sara'"
            ]
          },
          "metadata": {
            "tags": []
          },
          "execution_count": 18
        }
      ]
    },
    {
      "cell_type": "code",
      "metadata": {
        "colab": {
          "base_uri": "https://localhost:8080/",
          "height": 35
        },
        "id": "lcEIQr-N93eU",
        "outputId": "ef9e6d02-7afb-4b4d-c55d-25e7fcaa2158"
      },
      "source": [
        "# podemos realizar slicing em uma lista\n",
        "users[1][:3]"
      ],
      "execution_count": null,
      "outputs": [
        {
          "output_type": "execute_result",
          "data": {
            "application/vnd.google.colaboratory.intrinsic+json": {
              "type": "string"
            },
            "text/plain": [
              "'Kát'"
            ]
          },
          "metadata": {
            "tags": []
          },
          "execution_count": 22
        }
      ]
    },
    {
      "cell_type": "code",
      "metadata": {
        "id": "gIusTVv1mPG6",
        "colab": {
          "base_uri": "https://localhost:8080/"
        },
        "outputId": "5079f34e-dfab-4856-9221-319299d2c478"
      },
      "source": [
        "#@title\n",
        "def imprimir_nome():\n",
        "    print(\"Nome de Sobrenome\")\n",
        "\n",
        "\n",
        "imprimir_nome()"
      ],
      "execution_count": null,
      "outputs": [
        {
          "output_type": "stream",
          "text": [
            "Nome de Sobrenome\n"
          ],
          "name": "stdout"
        }
      ]
    },
    {
      "cell_type": "markdown",
      "metadata": {
        "id": "s4GrKFUfmTiX"
      },
      "source": [
        "**Escreva uma função que some 3 números informados no argumento**"
      ]
    },
    {
      "cell_type": "code",
      "metadata": {
        "id": "fFYW3uYem-aJ"
      },
      "source": [
        "def soma(x, y, z):\n",
        "  resultado = x + y + z\n",
        "  return resultado"
      ],
      "execution_count": null,
      "outputs": []
    },
    {
      "cell_type": "code",
      "metadata": {
        "colab": {
          "base_uri": "https://localhost:8080/"
        },
        "id": "HRgrCPgTl3ao",
        "outputId": "d98158b8-a768-4e7c-b9bb-05f924f2c8f8"
      },
      "source": [
        "print(soma(7,5,3))"
      ],
      "execution_count": null,
      "outputs": [
        {
          "output_type": "stream",
          "text": [
            "15\n"
          ],
          "name": "stdout"
        }
      ]
    },
    {
      "cell_type": "code",
      "metadata": {
        "colab": {
          "base_uri": "https://localhost:8080/"
        },
        "id": "D-PRZu_S-VPe",
        "outputId": "6b6ba892-d78a-49b9-c01f-1e233208f2b3"
      },
      "source": [
        "print(soma(-15, 20, 3))"
      ],
      "execution_count": null,
      "outputs": [
        {
          "output_type": "stream",
          "text": [
            "8\n"
          ],
          "name": "stdout"
        }
      ]
    },
    {
      "cell_type": "code",
      "metadata": {
        "id": "cxuFAt5BmGhI"
      },
      "source": [
        "# num_01 = input('Digite o primeiro número: ')\n",
        "# num_02 = input('Digite o segundo número: ')\n",
        "# num_03 = input('Digite o terceiro número: ')\n",
        "\n",
        "def somarNumeros(num_01, num_02, num_03):\n",
        "  resposta = int(num_01) + int(num_02) + int(num_03)\n",
        "  return resposta\n",
        "\n",
        "# print(f'\\nA soma dos números {num_01} + {num_02} + {num_03} é {somarNumeros(num_01, num_02, num_03)}')"
      ],
      "execution_count": null,
      "outputs": []
    },
    {
      "cell_type": "code",
      "metadata": {
        "colab": {
          "base_uri": "https://localhost:8080/"
        },
        "id": "PL-2N5K1Ef5_",
        "outputId": "1be9b611-8096-4838-c239-89d38463d7ee"
      },
      "source": [
        "num_01 = input('Digite o primeiro número: ')\n",
        "num_02 = input('Digite o segundo número: ')\n",
        "num_03 = input('Digite o terceiro número: ')\n",
        "\n",
        "print(f'\\nA soma dos números {num_01} + {num_02} + {num_03} é {somarNumeros(num_01, num_02, num_03)}')"
      ],
      "execution_count": null,
      "outputs": [
        {
          "output_type": "stream",
          "text": [
            "Digite o primeiro número: 7\n",
            "Digite o segundo número: 12\n",
            "Digite o terceiro número: 1\n",
            "\n",
            "A soma dos números 7 + 12 + 1 é 20\n"
          ],
          "name": "stdout"
        }
      ]
    },
    {
      "cell_type": "code",
      "metadata": {
        "id": "Z-KVUcyDmZxM",
        "colab": {
          "base_uri": "https://localhost:8080/"
        },
        "outputId": "724baef9-459a-4988-d27a-87a8c46e9ccc"
      },
      "source": [
        "#@title\n",
        "def somar_numeros(a, b, c):\n",
        "    resultado = a + b + c\n",
        "    return resultado\n",
        "\n",
        "\n",
        "somar_numeros(4, 8, 1)"
      ],
      "execution_count": null,
      "outputs": [
        {
          "output_type": "execute_result",
          "data": {
            "text/plain": [
              "13"
            ]
          },
          "metadata": {
            "tags": []
          },
          "execution_count": 61
        }
      ]
    },
    {
      "cell_type": "markdown",
      "metadata": {
        "id": "zKxdbAnymutN"
      },
      "source": [
        "**Escreva uma função que retorne o tamanho de qualquer palavra**"
      ]
    },
    {
      "cell_type": "code",
      "metadata": {
        "id": "HPGgm11bm9oD",
        "colab": {
          "base_uri": "https://localhost:8080/"
        },
        "outputId": "a8c3181e-a830-424c-ca77-401389a7a35a"
      },
      "source": [
        "def tamanhoStr(frase):\n",
        "  return len(frase)\n",
        "\n",
        "tamanhoStr('Python é fantástico!')"
      ],
      "execution_count": null,
      "outputs": [
        {
          "output_type": "execute_result",
          "data": {
            "text/plain": [
              "20"
            ]
          },
          "metadata": {
            "tags": []
          },
          "execution_count": 28
        }
      ]
    },
    {
      "cell_type": "code",
      "metadata": {
        "id": "JGnacFyxom6v"
      },
      "source": [
        "# tamanho = input('Digite a frase e/ou palavra: ')\n",
        "\n",
        "def verificarQtdCaracter(tamanho):\n",
        "  return len(tamanho)\n",
        "\n",
        "# print(f'\\nA frase e/ou a palavra possui {verificarQtdCaracter(tamanho)} caractere(s).')"
      ],
      "execution_count": null,
      "outputs": []
    },
    {
      "cell_type": "code",
      "metadata": {
        "colab": {
          "base_uri": "https://localhost:8080/"
        },
        "id": "MEKUeV2pEzCp",
        "outputId": "311e2b16-36fd-44d1-fb2c-13c6e19a6e7b"
      },
      "source": [
        "tamanho = input('Digite a frase e/ou palavra: ')\n",
        "\n",
        "print(f'\\nA frase e/ou a palavra possui {verificarQtdCaracter(tamanho)} caractere(s).')"
      ],
      "execution_count": null,
      "outputs": [
        {
          "output_type": "stream",
          "text": [
            "Digite a frase e/ou palavra: fernando\n",
            "\n",
            "A frase e/ou a palavra possui 8 caractere(s).\n"
          ],
          "name": "stdout"
        }
      ]
    },
    {
      "cell_type": "code",
      "metadata": {
        "id": "BTeKehB5nCgx",
        "colab": {
          "base_uri": "https://localhost:8080/"
        },
        "outputId": "d00fef48-daa3-4317-a6b3-0b4b74ecccb5"
      },
      "source": [
        "#@title\n",
        "def tamanho_string(palavra):\n",
        "    return len(palavra)\n",
        "\n",
        "\n",
        "tamanho_string(\"Teste de funcao\")"
      ],
      "execution_count": null,
      "outputs": [
        {
          "output_type": "execute_result",
          "data": {
            "text/plain": [
              "15"
            ]
          },
          "metadata": {
            "tags": []
          },
          "execution_count": 68
        }
      ]
    },
    {
      "cell_type": "markdown",
      "metadata": {
        "id": "Y1lEKQTonNCC"
      },
      "source": [
        "**Escreva uma função que verifica se alguém é maior de 18 anos e se possui habilitação.**"
      ]
    },
    {
      "cell_type": "code",
      "metadata": {
        "id": "ZqDlYl3NnXSO",
        "colab": {
          "base_uri": "https://localhost:8080/"
        },
        "outputId": "880e4a7c-9661-45b2-d262-446312ad6797"
      },
      "source": [
        "def verificarMotorista(idade, cnh):\n",
        "  verificado = (idade >= 18) and (cnh)\n",
        "  return verificado\n",
        "\n",
        "verificarMotorista(25, True)"
      ],
      "execution_count": null,
      "outputs": [
        {
          "output_type": "execute_result",
          "data": {
            "text/plain": [
              "True"
            ]
          },
          "metadata": {
            "tags": []
          },
          "execution_count": 5
        }
      ]
    },
    {
      "cell_type": "code",
      "metadata": {
        "colab": {
          "base_uri": "https://localhost:8080/"
        },
        "id": "OQlsHMGv_b5K",
        "outputId": "fdd5926b-f92d-4cae-ff86-14fa419eced8"
      },
      "source": [
        "verificarMotorista(18, False)"
      ],
      "execution_count": null,
      "outputs": [
        {
          "output_type": "execute_result",
          "data": {
            "text/plain": [
              "False"
            ]
          },
          "metadata": {
            "tags": []
          },
          "execution_count": 6
        }
      ]
    },
    {
      "cell_type": "code",
      "metadata": {
        "id": "U4wpMXLLrWPC"
      },
      "source": [
        "# suaIdade = int(input('Digite a sua idade: '))\n",
        "# possuiCNH = input('Possui CNH? (digite SIM ou NÃO): ').lower()\n",
        " \n",
        "# suaIdade = int(suaIdade)\n",
        "\n",
        "def verificarMotorista(suaIdade, possuiCNH):\n",
        "  verificado = (suaIdade >= 18) and (possuiCNH == 'sim')\n",
        "\n",
        "  if verificado == True:\n",
        "    print('\\n\\tVocê pode dirigir ;)')\n",
        "  else:\n",
        "    print('\\n\\tVocê não pode dirigir :(')\n",
        "\n",
        "# verificarMotorista(suaIdade, possuiCNH)"
      ],
      "execution_count": null,
      "outputs": []
    },
    {
      "cell_type": "code",
      "metadata": {
        "colab": {
          "base_uri": "https://localhost:8080/"
        },
        "id": "DuXRUIcjPSL_",
        "outputId": "cf6293f7-5dd3-4b75-f7df-a1a9db063f97"
      },
      "source": [
        "suaIdade = int(input('Digite a sua idade: '))\n",
        "possuiCNH = input('Possui CNH? (digite SIM ou NÃO): ').lower()\n",
        "verificarMotorista(suaIdade, possuiCNH)"
      ],
      "execution_count": null,
      "outputs": [
        {
          "output_type": "stream",
          "text": [
            "Digite a sua idade: 18\n",
            "Possui CNH? (digite SIM ou NÃO): sim\n",
            "\n",
            "\tVocê pode dirigir ;)\n"
          ],
          "name": "stdout"
        }
      ]
    },
    {
      "cell_type": "code",
      "metadata": {
        "id": "m5JNjOQ5nXj0"
      },
      "source": [
        "#@title\n",
        "def checar_motorista(idade, cnh):\n",
        "    verificacao = (idade >= 18) and (cnh)\n",
        "    return verificacao\n",
        "\n",
        "\n",
        "checar_motorista(23, False)"
      ],
      "execution_count": null,
      "outputs": []
    },
    {
      "cell_type": "code",
      "metadata": {
        "id": "F0p7-Sx_cnhB"
      },
      "source": [
        ""
      ],
      "execution_count": null,
      "outputs": []
    },
    {
      "cell_type": "code",
      "metadata": {
        "id": "H_LRPHrrTsKO"
      },
      "source": [
        ""
      ],
      "execution_count": null,
      "outputs": []
    },
    {
      "cell_type": "code",
      "metadata": {
        "id": "NPXvdznrTsGu"
      },
      "source": [
        "def driver_verification(age, qualification):\n",
        "  result = (age >= 18) and (qualification == 'y')\n",
        "\n",
        "  if result == True:\n",
        "    print('\\n\\tYou can drive!')\n",
        "  else:\n",
        "    print('''\\n\\tYou can't drive!''' )"
      ],
      "execution_count": null,
      "outputs": []
    },
    {
      "cell_type": "code",
      "metadata": {
        "colab": {
          "base_uri": "https://localhost:8080/"
        },
        "id": "uWF3DuyWTsCX",
        "outputId": "1149f2d4-4d61-4977-d575-41a54b7e5f87"
      },
      "source": [
        "age = int(input('Your age?: '))\n",
        "qualification = input(\"Driver's license? (Y / n): \").lower()\n",
        "\n",
        "driver_verification(age, qualification)"
      ],
      "execution_count": null,
      "outputs": [
        {
          "output_type": "stream",
          "text": [
            "Your age?: 25\n",
            "Driver's license? (Y / n): y\n",
            "\n",
            "\tYou can drive!\n"
          ],
          "name": "stdout"
        }
      ]
    }
  ]
}