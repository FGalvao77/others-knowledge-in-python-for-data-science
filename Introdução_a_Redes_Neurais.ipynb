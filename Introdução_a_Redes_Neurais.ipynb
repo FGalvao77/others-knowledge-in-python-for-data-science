{
  "nbformat": 4,
  "nbformat_minor": 0,
  "metadata": {
    "colab": {
      "name": "Introdução a Redes Neurais.ipynb",
      "provenance": [],
      "collapsed_sections": [],
      "authorship_tag": "ABX9TyMdXG8d7T0WmWWYodtnAHFF",
      "include_colab_link": true
    },
    "kernelspec": {
      "name": "python3",
      "display_name": "Python 3"
    }
  },
  "cells": [
    {
      "cell_type": "markdown",
      "metadata": {
        "id": "view-in-github",
        "colab_type": "text"
      },
      "source": [
        "<a href=\"https://colab.research.google.com/github/FGalvao77/others-knowledge-in-python-for-data-science/blob/main/Introdu%C3%A7%C3%A3o_a_Redes_Neurais.ipynb\" target=\"_parent\"><img src=\"https://colab.research.google.com/assets/colab-badge.svg\" alt=\"Open In Colab\"/></a>"
      ]
    },
    {
      "cell_type": "markdown",
      "metadata": {
        "id": "Yppe5SVYiYqm"
      },
      "source": [
        "# Rede neural artificial\n",
        "\n",
        "Em ciência da computação e campos relacionados, redes neurais artificiais (RNAs) são modelos computacionais inspirados pelo sistema nervoso central de um animal (em particular o cérebro) que são capazes de realizar o aprendizado de máquina bem como o reconhecimento de padrões. Redes neurais artificiais geralmente são apresentadas como sistemas de \"neurônios interconectados, que podem computar valores de entradas\", simulando o comportamento de redes neurais biológicas."
      ]
    },
    {
      "cell_type": "markdown",
      "metadata": {
        "id": "88pfK6Ukin_D"
      },
      "source": [
        "![image.png](data:image/png;base64,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)"
      ]
    },
    {
      "cell_type": "markdown",
      "metadata": {
        "id": "IQpAj7xDi04F"
      },
      "source": [
        "Por exemplo, uma rede neural para o reconhecimento de escrita manual é definida por um conjunto de neurônios de entrada que podem ser ativados pelos pixels de uma imagem de entrada. Os dados adquiridos por essa ativação dos neurônios são então repassados​​, ponderados e transformados por uma função determinada pelo designer da rede, a outros neurônios. Este processo é repetido até que, finalmente, um neurônio de saída é ativado. Isso determina que caractere foi lido.\n",
        "\n",
        "Assim como outros métodos de aprendizado de máquina, sistemas que aprendem a partir dos dados, redes neurais têm sido usadas para resolver uma grande variedade de tarefas que são difíceis de resolver utilizando programação baseada em regras comuns, incluindo visão computacional e reconhecimento de voz.\n",
        "\n",
        "**fonte:**\n",
        "- https://pt.wikipedia.org/wiki/Rede_neural_artificial"
      ]
    },
    {
      "cell_type": "markdown",
      "metadata": {
        "id": "Ghc2v2M8h3oG"
      },
      "source": [
        "Segue material teórico para outras consultas.\n",
        "\n",
        "**fontes:**\n",
        "\n",
        "- Uma Breve História das Redes Neurais Artificiais (Data Science Academy)\n",
        " -http://deeplearningbook.com.br/uma-breve-historia-das-redes-neurais-artificiais/\n",
        "\n",
        "- Redes Neurais - O que são e qual sua importância?\n",
        " - https://www.sas.com/pt_br/insights/analytics/neural-networks.html\n",
        "\n",
        "- Redes Neurais Artificiais\n",
        " - https://sites.icmc.usp.br/andre/research/neural/#:~:text=Redes%20Neurais%20Artificiais%20s%C3%A3o%20t%C3%A9cnicas,adquirem%20conhecimento%20atrav%C3%A9s%20da%20experi%C3%AAncia.\n",
        "\n",
        "- Entendendo o funcionamento de uma Rede Neural Artificial\n",
        " - https://medium.com/brasil-ai/entendendo-o-funcionamento-de-uma-rede-neural-artificial-4463fcf44dd0\n",
        "\n",
        "- Redes Neurais Artificiais - Unicamp\n",
        " - ftp://ftp.dca.fee.unicamp.br/pub/docs/vonzuben/ia006_03/topico5_03.pdf\n",
        "\n",
        "- Construa uma rede neural para executar a classificação (Coding TensorFlow em português)\n",
        " - https://www.youtube.com/watch?v=qaIX5ZLiR1g\n",
        "\n",
        "- Redes Neurais Multicamadas com Python e Keras\n",
        "por Carlos Melo\n",
        " - https://sigmoidal.ai/redes-neurais-python-keras-2/\n",
        "\n",
        "- Hiper-parâmetros em Ação! Parte I — Funções de Ativação\n",
        " - https://medium.com/ensina-ai/hiper-par%C3%A2metros-em-a%C3%A7%C3%A3o-parte-i-fun%C3%A7%C3%B5es-de-ativa%C3%A7%C3%A3o-cd37600e46c6\n",
        "\n",
        "- Redes Neurais Artificiais: Algoritmo Backpropagation\n",
        " - https://www.devmedia.com.br/redes-neurais-artificiais-algoritmo-backpropagation/28559\n",
        "\n",
        "- Utilização de Algoritmo Genético na Parametrização de Redes Neurais Artificiais Para\n",
        "Aplicação na Elaboração de Orçamento de Vendas \n",
        " - http://www.anpad.org.br/admin/pdf/enanpad2004-ccg-2233.pdf\n",
        "\n",
        "- Aplicação de uma rede neural artificial para a avaliação da rugosidade e soprosidade vocal\n",
        " - https://www.teses.usp.br/teses/disponiveis/82/82131/tde-22062016-114356/publico/Tese_Baravieira_PaulaB.pdf\n",
        "\n",
        " \n"
      ]
    },
    {
      "cell_type": "markdown",
      "metadata": {
        "id": "9aTRyLHHVnew"
      },
      "source": [
        "**Implementação de Redes Neurais**"
      ]
    },
    {
      "cell_type": "code",
      "metadata": {
        "id": "dvp1UyBtE2By"
      },
      "source": [
        "# importnado as bibliotecas\n",
        "from sklearn.neural_network import MLPRegressor\n",
        "from sklearn.model_selection import train_test_split\n",
        "from sklearn.preprocessing import MinMaxScaler\n",
        "from sklearn.datasets import load_boston"
      ],
      "execution_count": null,
      "outputs": []
    },
    {
      "cell_type": "code",
      "metadata": {
        "id": "JyMJmGLGE92a"
      },
      "source": [
        "# carregando o dataset\n",
        "X, y = load_boston(return_X_y=True)"
      ],
      "execution_count": null,
      "outputs": []
    },
    {
      "cell_type": "code",
      "metadata": {
        "colab": {
          "base_uri": "https://localhost:8080/"
        },
        "id": "FqVShdqtW9bG",
        "outputId": "4e6cdd02-9c6a-4e04-c34b-45f5d1f6c805"
      },
      "source": [
        "# visualizando a quantidade de linhas e colunas nas variáveis \"X\" e \"y\"\n",
        "print(f\"X: {X.shape}, \\ny: {y.shape}\")"
      ],
      "execution_count": null,
      "outputs": [
        {
          "output_type": "stream",
          "text": [
            "X: (506, 13), \n",
            "y: (506,)\n"
          ],
          "name": "stdout"
        }
      ]
    },
    {
      "cell_type": "code",
      "metadata": {
        "id": "bPA_kgbTE9zm"
      },
      "source": [
        "# separando os dados de treino e teste\n",
        "X_train, X_test, y_train, y_test = train_test_split(X, y)"
      ],
      "execution_count": null,
      "outputs": []
    },
    {
      "cell_type": "code",
      "metadata": {
        "id": "ELdewLypE9x5"
      },
      "source": [
        "# realizando a normalização dos dados (escala menores)\n",
        "# para isso utilizaremos o \"MinMaxScaler\"\n",
        "\n",
        "# instanciando o algoritmo na variável \"mm\"\n",
        "mm = MinMaxScaler()"
      ],
      "execution_count": null,
      "outputs": []
    },
    {
      "cell_type": "code",
      "metadata": {
        "id": "2dGvd_imE9vM"
      },
      "source": [
        "# realizando a transformação nos dados de treino e teste\n",
        "X_train = mm.fit_transform(X_train) # aqui já aplicamos o treinamento do modelo\n",
        "X_test = mm.transform(X_test) # só realizamos a transformação"
      ],
      "execution_count": null,
      "outputs": []
    },
    {
      "cell_type": "code",
      "metadata": {
        "id": "QK1fVFQVE9sH"
      },
      "source": [
        "# instanciando o algoritmo da rede neural na variável \"nlp\" \n",
        "# e configurando a quantidade de camadas ocultas de neurônios\n",
        "nlp = MLPRegressor(hidden_layer_sizes=(10,5))"
      ],
      "execution_count": null,
      "outputs": []
    },
    {
      "cell_type": "code",
      "metadata": {
        "id": "0Lf31ePFE9pR",
        "colab": {
          "base_uri": "https://localhost:8080/"
        },
        "outputId": "97a4c0f8-94c2-4833-b75c-d4f6f4858faf"
      },
      "source": [
        "# treinando a rede neural \"nlp\"\n",
        "nlp.fit(X_train, y_train)"
      ],
      "execution_count": null,
      "outputs": [
        {
          "output_type": "stream",
          "text": [
            "/usr/local/lib/python3.7/dist-packages/sklearn/neural_network/_multilayer_perceptron.py:571: ConvergenceWarning: Stochastic Optimizer: Maximum iterations (200) reached and the optimization hasn't converged yet.\n",
            "  % self.max_iter, ConvergenceWarning)\n"
          ],
          "name": "stderr"
        },
        {
          "output_type": "execute_result",
          "data": {
            "text/plain": [
              "MLPRegressor(activation='relu', alpha=0.0001, batch_size='auto', beta_1=0.9,\n",
              "             beta_2=0.999, early_stopping=False, epsilon=1e-08,\n",
              "             hidden_layer_sizes=(10, 5), learning_rate='constant',\n",
              "             learning_rate_init=0.001, max_fun=15000, max_iter=200,\n",
              "             momentum=0.9, n_iter_no_change=10, nesterovs_momentum=True,\n",
              "             power_t=0.5, random_state=None, shuffle=True, solver='adam',\n",
              "             tol=0.0001, validation_fraction=0.1, verbose=False,\n",
              "             warm_start=False)"
            ]
          },
          "metadata": {
            "tags": []
          },
          "execution_count": 67
        }
      ]
    },
    {
      "cell_type": "code",
      "metadata": {
        "id": "F7uAdMcvE9mK",
        "colab": {
          "base_uri": "https://localhost:8080/"
        },
        "outputId": "94c63cbe-6228-45c7-ce62-b4e49fe7d658"
      },
      "source": [
        "# avaliando a rede neural\n",
        "nlp.score(X_test, y_test)"
      ],
      "execution_count": null,
      "outputs": [
        {
          "output_type": "execute_result",
          "data": {
            "text/plain": [
              "-0.38949523232063"
            ]
          },
          "metadata": {
            "tags": []
          },
          "execution_count": 68
        }
      ]
    },
    {
      "cell_type": "markdown",
      "metadata": {
        "id": "i-0y6U_Wan2F"
      },
      "source": [
        "**Observe que, o resultado foi péssimo**\n",
        "\n",
        " - Vamos alterar o parâmetro das camadas ocultas e, novamente realizar o seu treinamento e avaliar o modelo."
      ]
    },
    {
      "cell_type": "code",
      "metadata": {
        "id": "vOb7GCSeE9jp"
      },
      "source": [
        "# re-configurando a camada oculta de neurônios\n",
        "nlp = MLPRegressor(hidden_layer_sizes=(100,50))"
      ],
      "execution_count": null,
      "outputs": []
    },
    {
      "cell_type": "code",
      "metadata": {
        "id": "lS2OM56SE9g2",
        "colab": {
          "base_uri": "https://localhost:8080/"
        },
        "outputId": "a61544aa-cd8c-4660-c934-243c4c65cec3"
      },
      "source": [
        "# treinando novamente a rede neural \"nlp\"\n",
        "nlp.fit(X_train, y_train)"
      ],
      "execution_count": null,
      "outputs": [
        {
          "output_type": "stream",
          "text": [
            "/usr/local/lib/python3.7/dist-packages/sklearn/neural_network/_multilayer_perceptron.py:571: ConvergenceWarning: Stochastic Optimizer: Maximum iterations (200) reached and the optimization hasn't converged yet.\n",
            "  % self.max_iter, ConvergenceWarning)\n"
          ],
          "name": "stderr"
        },
        {
          "output_type": "execute_result",
          "data": {
            "text/plain": [
              "MLPRegressor(activation='relu', alpha=0.0001, batch_size='auto', beta_1=0.9,\n",
              "             beta_2=0.999, early_stopping=False, epsilon=1e-08,\n",
              "             hidden_layer_sizes=(100, 50), learning_rate='constant',\n",
              "             learning_rate_init=0.001, max_fun=15000, max_iter=200,\n",
              "             momentum=0.9, n_iter_no_change=10, nesterovs_momentum=True,\n",
              "             power_t=0.5, random_state=None, shuffle=True, solver='adam',\n",
              "             tol=0.0001, validation_fraction=0.1, verbose=False,\n",
              "             warm_start=False)"
            ]
          },
          "metadata": {
            "tags": []
          },
          "execution_count": 70
        }
      ]
    },
    {
      "cell_type": "code",
      "metadata": {
        "id": "4IBverplE9eT",
        "colab": {
          "base_uri": "https://localhost:8080/"
        },
        "outputId": "4cc2f64b-8159-4113-a543-e85332da7058"
      },
      "source": [
        "# avaliando a rede neural\n",
        "nlp.score(X_test, y_test)"
      ],
      "execution_count": null,
      "outputs": [
        {
          "output_type": "execute_result",
          "data": {
            "text/plain": [
              "0.7025880328316407"
            ]
          },
          "metadata": {
            "tags": []
          },
          "execution_count": 71
        }
      ]
    },
    {
      "cell_type": "code",
      "metadata": {
        "id": "B4dTxdyPE9TX"
      },
      "source": [
        "# re-configurando a camada oculta de neurônios\n",
        "nlp = MLPRegressor(hidden_layer_sizes=(100,100))"
      ],
      "execution_count": null,
      "outputs": []
    },
    {
      "cell_type": "code",
      "metadata": {
        "id": "b8FnNrsmE9Qn",
        "colab": {
          "base_uri": "https://localhost:8080/"
        },
        "outputId": "dd353a9d-7984-4e1b-a7d2-a1b953d743e6"
      },
      "source": [
        "# treinando novamente a rede neural \"nlp\"\n",
        "nlp.fit(X_train, y_train)"
      ],
      "execution_count": null,
      "outputs": [
        {
          "output_type": "stream",
          "text": [
            "/usr/local/lib/python3.7/dist-packages/sklearn/neural_network/_multilayer_perceptron.py:571: ConvergenceWarning: Stochastic Optimizer: Maximum iterations (200) reached and the optimization hasn't converged yet.\n",
            "  % self.max_iter, ConvergenceWarning)\n"
          ],
          "name": "stderr"
        },
        {
          "output_type": "execute_result",
          "data": {
            "text/plain": [
              "MLPRegressor(activation='relu', alpha=0.0001, batch_size='auto', beta_1=0.9,\n",
              "             beta_2=0.999, early_stopping=False, epsilon=1e-08,\n",
              "             hidden_layer_sizes=(100, 100), learning_rate='constant',\n",
              "             learning_rate_init=0.001, max_fun=15000, max_iter=200,\n",
              "             momentum=0.9, n_iter_no_change=10, nesterovs_momentum=True,\n",
              "             power_t=0.5, random_state=None, shuffle=True, solver='adam',\n",
              "             tol=0.0001, validation_fraction=0.1, verbose=False,\n",
              "             warm_start=False)"
            ]
          },
          "metadata": {
            "tags": []
          },
          "execution_count": 73
        }
      ]
    },
    {
      "cell_type": "code",
      "metadata": {
        "id": "sOJkbFWCE9OG",
        "colab": {
          "base_uri": "https://localhost:8080/"
        },
        "outputId": "226105f3-4350-4490-c503-2f4daa24a266"
      },
      "source": [
        "# avaliando a rede neural\n",
        "nlp.score(X_test, y_test)"
      ],
      "execution_count": null,
      "outputs": [
        {
          "output_type": "execute_result",
          "data": {
            "text/plain": [
              "0.7445261337871335"
            ]
          },
          "metadata": {
            "tags": []
          },
          "execution_count": 74
        }
      ]
    },
    {
      "cell_type": "markdown",
      "metadata": {
        "id": "d75nQHULQpLc"
      },
      "source": [
        "**Houve melhora no** ``score`` **do modelo**.\n",
        " - mas vamos explorar outras possibilidades.\n"
      ]
    },
    {
      "cell_type": "code",
      "metadata": {
        "id": "aJYhgCbnE9LX"
      },
      "source": [
        "# re-configurando a camada oculta de neurônios\n",
        "nlp = MLPRegressor(hidden_layer_sizes=(100,100, 50)) # configurando uma terceira camada oculta de 50"
      ],
      "execution_count": null,
      "outputs": []
    },
    {
      "cell_type": "code",
      "metadata": {
        "id": "b-4RmAK_E9Hs",
        "colab": {
          "base_uri": "https://localhost:8080/"
        },
        "outputId": "d2ef975d-2edb-4333-fd96-c09b0bf0bdcc"
      },
      "source": [
        "# treinando novamente a rede neural \"nlp\"\n",
        "nlp.fit(X_train, y_train)"
      ],
      "execution_count": null,
      "outputs": [
        {
          "output_type": "stream",
          "text": [
            "/usr/local/lib/python3.7/dist-packages/sklearn/neural_network/_multilayer_perceptron.py:571: ConvergenceWarning: Stochastic Optimizer: Maximum iterations (200) reached and the optimization hasn't converged yet.\n",
            "  % self.max_iter, ConvergenceWarning)\n"
          ],
          "name": "stderr"
        },
        {
          "output_type": "execute_result",
          "data": {
            "text/plain": [
              "MLPRegressor(activation='relu', alpha=0.0001, batch_size='auto', beta_1=0.9,\n",
              "             beta_2=0.999, early_stopping=False, epsilon=1e-08,\n",
              "             hidden_layer_sizes=(100, 100, 50), learning_rate='constant',\n",
              "             learning_rate_init=0.001, max_fun=15000, max_iter=200,\n",
              "             momentum=0.9, n_iter_no_change=10, nesterovs_momentum=True,\n",
              "             power_t=0.5, random_state=None, shuffle=True, solver='adam',\n",
              "             tol=0.0001, validation_fraction=0.1, verbose=False,\n",
              "             warm_start=False)"
            ]
          },
          "metadata": {
            "tags": []
          },
          "execution_count": 76
        }
      ]
    },
    {
      "cell_type": "code",
      "metadata": {
        "id": "N9O6_gKeE9E2",
        "colab": {
          "base_uri": "https://localhost:8080/"
        },
        "outputId": "1647109a-0dce-4e3c-abc4-60fbef0507fe"
      },
      "source": [
        "# avaliando a rede neural\n",
        "nlp.score(X_test, y_test)"
      ],
      "execution_count": null,
      "outputs": [
        {
          "output_type": "execute_result",
          "data": {
            "text/plain": [
              "0.7750137408197855"
            ]
          },
          "metadata": {
            "tags": []
          },
          "execution_count": 77
        }
      ]
    },
    {
      "cell_type": "code",
      "metadata": {
        "id": "btUnHniqE9CZ"
      },
      "source": [
        "# re-configurando a camada oculta de neurônios\n",
        "nlp = MLPRegressor(hidden_layer_sizes=(100,100, 100)) # configurando a terceira camada oculta de 100"
      ],
      "execution_count": null,
      "outputs": []
    },
    {
      "cell_type": "code",
      "metadata": {
        "id": "6vlr5X6GE8_0",
        "colab": {
          "base_uri": "https://localhost:8080/"
        },
        "outputId": "dda98418-1ca9-4e39-ff9c-eda4e5f9ebdf"
      },
      "source": [
        "# treinando novamente a rede neural \"nlp\"\n",
        "nlp.fit(X_train, y_train)"
      ],
      "execution_count": null,
      "outputs": [
        {
          "output_type": "stream",
          "text": [
            "/usr/local/lib/python3.7/dist-packages/sklearn/neural_network/_multilayer_perceptron.py:571: ConvergenceWarning: Stochastic Optimizer: Maximum iterations (200) reached and the optimization hasn't converged yet.\n",
            "  % self.max_iter, ConvergenceWarning)\n"
          ],
          "name": "stderr"
        },
        {
          "output_type": "execute_result",
          "data": {
            "text/plain": [
              "MLPRegressor(activation='relu', alpha=0.0001, batch_size='auto', beta_1=0.9,\n",
              "             beta_2=0.999, early_stopping=False, epsilon=1e-08,\n",
              "             hidden_layer_sizes=(100, 100, 100), learning_rate='constant',\n",
              "             learning_rate_init=0.001, max_fun=15000, max_iter=200,\n",
              "             momentum=0.9, n_iter_no_change=10, nesterovs_momentum=True,\n",
              "             power_t=0.5, random_state=None, shuffle=True, solver='adam',\n",
              "             tol=0.0001, validation_fraction=0.1, verbose=False,\n",
              "             warm_start=False)"
            ]
          },
          "metadata": {
            "tags": []
          },
          "execution_count": 79
        }
      ]
    },
    {
      "cell_type": "code",
      "metadata": {
        "id": "6ZGHXXSYE89P",
        "colab": {
          "base_uri": "https://localhost:8080/"
        },
        "outputId": "83ef6954-ae92-4773-bee1-b1272d312cf9"
      },
      "source": [
        "# avaliando a rede neural\n",
        "nlp.score(X_test, y_test)"
      ],
      "execution_count": null,
      "outputs": [
        {
          "output_type": "execute_result",
          "data": {
            "text/plain": [
              "0.7709229173071166"
            ]
          },
          "metadata": {
            "tags": []
          },
          "execution_count": 80
        }
      ]
    },
    {
      "cell_type": "code",
      "metadata": {
        "id": "jr-dlo2uE86x"
      },
      "source": [
        "# re-configurando a camada oculta de neurônios\n",
        "nlp = MLPRegressor(hidden_layer_sizes=(100,100,50,50)) # configurando uma quarta camada oculta de 50"
      ],
      "execution_count": null,
      "outputs": []
    },
    {
      "cell_type": "code",
      "metadata": {
        "id": "FOnRPBf3E84A",
        "colab": {
          "base_uri": "https://localhost:8080/"
        },
        "outputId": "796255d9-ed18-43e5-c691-55e06f388d47"
      },
      "source": [
        "# treinando novamente a rede neural \"nlp\"\n",
        "nlp.fit(X_train, y_train)"
      ],
      "execution_count": null,
      "outputs": [
        {
          "output_type": "stream",
          "text": [
            "/usr/local/lib/python3.7/dist-packages/sklearn/neural_network/_multilayer_perceptron.py:571: ConvergenceWarning: Stochastic Optimizer: Maximum iterations (200) reached and the optimization hasn't converged yet.\n",
            "  % self.max_iter, ConvergenceWarning)\n"
          ],
          "name": "stderr"
        },
        {
          "output_type": "execute_result",
          "data": {
            "text/plain": [
              "MLPRegressor(activation='relu', alpha=0.0001, batch_size='auto', beta_1=0.9,\n",
              "             beta_2=0.999, early_stopping=False, epsilon=1e-08,\n",
              "             hidden_layer_sizes=(100, 100, 50, 50), learning_rate='constant',\n",
              "             learning_rate_init=0.001, max_fun=15000, max_iter=200,\n",
              "             momentum=0.9, n_iter_no_change=10, nesterovs_momentum=True,\n",
              "             power_t=0.5, random_state=None, shuffle=True, solver='adam',\n",
              "             tol=0.0001, validation_fraction=0.1, verbose=False,\n",
              "             warm_start=False)"
            ]
          },
          "metadata": {
            "tags": []
          },
          "execution_count": 82
        }
      ]
    },
    {
      "cell_type": "code",
      "metadata": {
        "id": "sfF7xjldE81c",
        "colab": {
          "base_uri": "https://localhost:8080/"
        },
        "outputId": "9aa48f64-6052-42a3-f93d-81820ff01274"
      },
      "source": [
        "# avaliando a rede neural\n",
        "nlp.score(X_test, y_test)"
      ],
      "execution_count": null,
      "outputs": [
        {
          "output_type": "execute_result",
          "data": {
            "text/plain": [
              "0.7623304515778465"
            ]
          },
          "metadata": {
            "tags": []
          },
          "execution_count": 83
        }
      ]
    },
    {
      "cell_type": "markdown",
      "metadata": {
        "id": "vdDy0yT7ixPr"
      },
      "source": [
        "**Perceba que, alterando a quantidade ocultas de neurônios e de camadas. Houve leve ganho de performance.**\n",
        " - Vamos partir para outra especificação:\n",
        "  - alterando as iterações da rede"
      ]
    },
    {
      "cell_type": "code",
      "metadata": {
        "id": "mWdchLRDE8y0"
      },
      "source": [
        "# re-configurando a camada oculta de neurônios\n",
        "nlp = MLPRegressor(hidden_layer_sizes=(100,100,50,50), \n",
        "                   max_iter=1000) # por padrão é 200, vamos alterar para 1000"
      ],
      "execution_count": null,
      "outputs": []
    },
    {
      "cell_type": "code",
      "metadata": {
        "id": "x3GlMVBbE8wC",
        "colab": {
          "base_uri": "https://localhost:8080/"
        },
        "outputId": "1c054830-65e5-4e18-f2dd-6705daab4a30"
      },
      "source": [
        "# treinando novamente a rede neural \"nlp\"\n",
        "nlp.fit(X_train, y_train)"
      ],
      "execution_count": null,
      "outputs": [
        {
          "output_type": "execute_result",
          "data": {
            "text/plain": [
              "MLPRegressor(activation='relu', alpha=0.0001, batch_size='auto', beta_1=0.9,\n",
              "             beta_2=0.999, early_stopping=False, epsilon=1e-08,\n",
              "             hidden_layer_sizes=(100, 100, 50, 50), learning_rate='constant',\n",
              "             learning_rate_init=0.001, max_fun=15000, max_iter=1000,\n",
              "             momentum=0.9, n_iter_no_change=10, nesterovs_momentum=True,\n",
              "             power_t=0.5, random_state=None, shuffle=True, solver='adam',\n",
              "             tol=0.0001, validation_fraction=0.1, verbose=False,\n",
              "             warm_start=False)"
            ]
          },
          "metadata": {
            "tags": []
          },
          "execution_count": 85
        }
      ]
    },
    {
      "cell_type": "code",
      "metadata": {
        "id": "4vHkOMnKE8tg",
        "colab": {
          "base_uri": "https://localhost:8080/"
        },
        "outputId": "0533feaf-e065-43bd-bf0b-70e2b6b5bab9"
      },
      "source": [
        "# avaliando a rede neural\n",
        "nlp.score(X_test, y_test)"
      ],
      "execution_count": null,
      "outputs": [
        {
          "output_type": "execute_result",
          "data": {
            "text/plain": [
              "0.8486245708618431"
            ]
          },
          "metadata": {
            "tags": []
          },
          "execution_count": 86
        }
      ]
    },
    {
      "cell_type": "markdown",
      "metadata": {
        "id": "jgB0i73jRtjY"
      },
      "source": [
        "**Agora chegamos ao fim!**\n",
        "\n",
        "``O importante é que essas re-configurações vão ocorrendo de pouco em pouco, até encontrar uma condição que seja aceitável. Mas não esquecendo e tomando o devido cuidado com o underfitting e overfitting.`` "
      ]
    },
    {
      "cell_type": "code",
      "metadata": {
        "id": "k1AiI6JaE8qk"
      },
      "source": [
        ""
      ],
      "execution_count": null,
      "outputs": []
    },
    {
      "cell_type": "code",
      "metadata": {
        "id": "2m0_VYQOE8nn"
      },
      "source": [
        ""
      ],
      "execution_count": null,
      "outputs": []
    },
    {
      "cell_type": "code",
      "metadata": {
        "id": "r8vCzbNEE8lP"
      },
      "source": [
        ""
      ],
      "execution_count": null,
      "outputs": []
    },
    {
      "cell_type": "code",
      "metadata": {
        "id": "_n35Lsd-E8io"
      },
      "source": [
        ""
      ],
      "execution_count": null,
      "outputs": []
    },
    {
      "cell_type": "code",
      "metadata": {
        "id": "dpNU-RRFE8gV"
      },
      "source": [
        ""
      ],
      "execution_count": null,
      "outputs": []
    },
    {
      "cell_type": "code",
      "metadata": {
        "id": "E_bAHRgnE8d4"
      },
      "source": [
        ""
      ],
      "execution_count": null,
      "outputs": []
    },
    {
      "cell_type": "code",
      "metadata": {
        "id": "9kgnyv19E8bm"
      },
      "source": [
        ""
      ],
      "execution_count": null,
      "outputs": []
    },
    {
      "cell_type": "code",
      "metadata": {
        "id": "bQFVcE0DE8ZJ"
      },
      "source": [
        ""
      ],
      "execution_count": null,
      "outputs": []
    },
    {
      "cell_type": "code",
      "metadata": {
        "id": "f37LE69ME8W3"
      },
      "source": [
        ""
      ],
      "execution_count": null,
      "outputs": []
    },
    {
      "cell_type": "code",
      "metadata": {
        "id": "5FJCFTroE8UW"
      },
      "source": [
        ""
      ],
      "execution_count": null,
      "outputs": []
    },
    {
      "cell_type": "code",
      "metadata": {
        "id": "HQaT20TQE8R4"
      },
      "source": [
        ""
      ],
      "execution_count": null,
      "outputs": []
    },
    {
      "cell_type": "code",
      "metadata": {
        "id": "lnZ-x29PE8Pb"
      },
      "source": [
        ""
      ],
      "execution_count": null,
      "outputs": []
    },
    {
      "cell_type": "code",
      "metadata": {
        "id": "TaG0YxqAE8NB"
      },
      "source": [
        ""
      ],
      "execution_count": null,
      "outputs": []
    },
    {
      "cell_type": "code",
      "metadata": {
        "id": "1xuDusrvE8Kn"
      },
      "source": [
        ""
      ],
      "execution_count": null,
      "outputs": []
    },
    {
      "cell_type": "code",
      "metadata": {
        "id": "ayUwgiSaE8JF"
      },
      "source": [
        ""
      ],
      "execution_count": null,
      "outputs": []
    },
    {
      "cell_type": "code",
      "metadata": {
        "id": "Ubp9X2-mE8Hd"
      },
      "source": [
        ""
      ],
      "execution_count": null,
      "outputs": []
    },
    {
      "cell_type": "code",
      "metadata": {
        "id": "GUYhBcdUE8FG"
      },
      "source": [
        ""
      ],
      "execution_count": null,
      "outputs": []
    },
    {
      "cell_type": "code",
      "metadata": {
        "id": "0nqak12_E8Cl"
      },
      "source": [
        ""
      ],
      "execution_count": null,
      "outputs": []
    },
    {
      "cell_type": "code",
      "metadata": {
        "id": "jfcsSt23E8BG"
      },
      "source": [
        ""
      ],
      "execution_count": null,
      "outputs": []
    },
    {
      "cell_type": "code",
      "metadata": {
        "id": "uF8gpAu3E79K"
      },
      "source": [
        ""
      ],
      "execution_count": null,
      "outputs": []
    },
    {
      "cell_type": "code",
      "metadata": {
        "id": "N5v8kz8xE765"
      },
      "source": [
        ""
      ],
      "execution_count": null,
      "outputs": []
    },
    {
      "cell_type": "code",
      "metadata": {
        "id": "MJy-e-MRE74c"
      },
      "source": [
        ""
      ],
      "execution_count": null,
      "outputs": []
    },
    {
      "cell_type": "code",
      "metadata": {
        "id": "CGpuUfdGE71k"
      },
      "source": [
        ""
      ],
      "execution_count": null,
      "outputs": []
    },
    {
      "cell_type": "code",
      "metadata": {
        "id": "7Gd3BacJE7zM"
      },
      "source": [
        ""
      ],
      "execution_count": null,
      "outputs": []
    }
  ]
}