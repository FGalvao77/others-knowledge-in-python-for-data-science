{
  "nbformat": 4,
  "nbformat_minor": 0,
  "metadata": {
    "colab": {
      "name": "Introdução ao TensorFlow.ipynb",
      "provenance": [],
      "collapsed_sections": [],
      "authorship_tag": "ABX9TyMkh18wcbc8jLaHoKiI8yVO",
      "include_colab_link": true
    },
    "kernelspec": {
      "name": "python3",
      "display_name": "Python 3"
    }
  },
  "cells": [
    {
      "cell_type": "markdown",
      "metadata": {
        "id": "view-in-github",
        "colab_type": "text"
      },
      "source": [
        "<a href=\"https://colab.research.google.com/github/FGalvao77/others-knowledge-in-python-for-data-science/blob/main/Introdu%C3%A7%C3%A3o_ao_TensorFlow.ipynb\" target=\"_parent\"><img src=\"https://colab.research.google.com/assets/colab-badge.svg\" alt=\"Open In Colab\"/></a>"
      ]
    },
    {
      "cell_type": "markdown",
      "metadata": {
        "id": "auc7ycGZrAoD"
      },
      "source": [
        "# **TensorFlow**\n",
        "\n",
        "TensorFlow é uma biblioteca de código aberto para aprendizado de máquina aplicável a uma ampla variedade de tarefas. É um sistema para criação e treinamento de redes neurais para detectar e decifrar padrões e correlações, análogo (mas não igual) à forma como humanos aprendem e raciocinam.[3] Ele é usado tanto para a pesquisa quanto produção no Google, e está aos poucos substituindo seu antecessor de código proprietário, DistBelief.\n",
        "\n",
        "TensorFlow foi desenvolvido pela equipe Google Brain para uso interno na empresa. Foi lançado sob a licença de código aberto Apache 2.0 em 9 de novembro de 2015."
      ]
    },
    {
      "cell_type": "markdown",
      "metadata": {
        "id": "unYT8KtxrUuB"
      },
      "source": [
        "### **História**\n",
        "\n",
        "**DistBelief** \n",
        "\n",
        "A partir de 2011, a Google Brain construiu DistBelief como um sistema proprietário para aprendizagem de máquina baseado em aprendizagem profunda em redes neurais. Seu uso cresceu rapidamente pelas diversas empresas do grupo Alphabet em pesquisa e aplicações comerciais.O Google colocou vários programadores, incluindo Jeff Dean, para simplificar e refatorar o código base de DistBelief para que fosse mais rápido, mais robusto e uma biblioteca que poderia ser usada por aplicativos, e esse projeto eventualmente tornou-se o TensorFlow. Em 2009, a equipe, liderada por Geoffrey Hinton, tinha implementado backpropagation generalizada e outras melhorias, o que permitiu a geração de redes neurais com muito maior precisão, como uma redução de 25% de erros no reconhecimento de fala.\n",
        "\n",
        "**TensorFlow**\n",
        "\n",
        "TensorFlow é a segunda geração do sistema projetado pelo Google Brain. A versão 1.0.0 foi lançada em 15 de fevereiro de 2015. Embora a implementação de referência seja executada em dispositivos individuais, TensorFlow pode também ser executado em múltiplas CPUs e GPUs (com extensões opcionais CUDA para GPGPU). TensorFlow está disponível em versões de 64 bits Linux, MacOS, Windows e plataformas de computação móveis, incluindo Android e iOS.\n",
        "\n",
        "Cálculos no TensorFlow são expressos como grafos de fluxo de dados mantendo um estado. O nome TensorFlow deriva das operações que tais redes neurais realizam em arranjos de dados multidimensionais. Estas matrizes são chamadas de \"tensores\". Em junho de 2016, Dean afirmou que 1.500 repositórios no GitHub mencionavam TensorFlow, dos quais apenas 5 eram do Google.\n",
        "\n",
        "**Tensor Processing Unit (TPU)**\n",
        "\n",
        "Em maio de 2016, o Google anunciou o seu tensor processing unit (TPU), um ASIC construído especificamente para aprendizado de máquina e adaptado para o TensorFlow. TPU é um acelerador de inteligência artificial programável projetado para fornecer alta taxa de transferência para aritmética de baixa precisão (como 8 bits), e orientada para o uso ou a execução de modelos, ao invés de treino. O Google anunciou que estava usando TPUs dentro de seus centros de dados há mais de um ano, e constatou que eles conseguiam uma otimização uma ordem de magnitude melhor em performance por watt para aprendizado de máquina.\n",
        "\n",
        "Em maio de 2017, o Google anunciou a segunda geração, bem como a disponibilidade dos TPUs no Google Compute Engine.A segunda geração de TPUs alcança até 180 teraflops de desempenho, e quando organizados em clusters de 64 TPUs, fornecem até 11.5 petaflops.\n",
        "\n",
        "**TensorFlow Lite**\n",
        "\n",
        "Em maio de 2017, o Google anunciou um stack de software especificamente para desenvolvimento Android, TensorFlow Lite,[14] começando com Android Oreo.\n",
        "\n",
        "**Aplicações**\n",
        "O Google lançou oficialmente RankBrain em 26 de outubro de 2015, apoiado pelo TensorFlow."
      ]
    },
    {
      "cell_type": "markdown",
      "metadata": {
        "id": "NuOiqQKUsm1h"
      },
      "source": [
        "### **Recursos**\n",
        "TensorFlow fornece uma API em Python, bem como C++, Haskell, Java, Go, e Rust. Pacotes de terceiros estão disponíveis para C#, Julia, R e Scala.\n",
        "\n",
        "Entre as aplicações para as quais TensorFlow é a base, estão software de classificação automatizada de imagens, como o DeepDream.RankBrain agora lida com um número substancial de consultas de pesquisa, substituindo e complementando o algoritmo estático tradicional de busca baseado em resultados.\n",
        "\n",
        "fonte:\n",
        " - https://pt.wikipedia.org/wiki/TensorFlow\n"
      ]
    },
    {
      "cell_type": "markdown",
      "metadata": {
        "id": "cgajEjf5s-ee"
      },
      "source": [
        "**Para se aprofundar acesse o site oficial:**\n",
        " - https://www.tensorflow.org/\n",
        "\n",
        "**Canal oficial no YouTube:**\n",
        " - https://www.youtube.com/channel/UC0rqucBdTuFTjJiefW5t-IQ"
      ]
    },
    {
      "cell_type": "code",
      "metadata": {
        "id": "51taqNdCUHkw"
      },
      "source": [
        "# importando as bibliotecas\n",
        "import tensorflow as tf\n",
        "from tensorflow import keras\n",
        "import numpy as np"
      ],
      "execution_count": null,
      "outputs": []
    },
    {
      "cell_type": "code",
      "metadata": {
        "id": "6KpXOPRMUmZr"
      },
      "source": [
        "# importando o dataset\n",
        "# este dataset já está embutido na biblioteca \"keras\"\n",
        "fashion_mnist = keras.datasets.fashion_mnist"
      ],
      "execution_count": null,
      "outputs": []
    },
    {
      "cell_type": "code",
      "metadata": {
        "id": "rRm82bMDUmWy",
        "colab": {
          "base_uri": "https://localhost:8080/"
        },
        "outputId": "0dfcb9a3-6d01-4b8e-c633-bb709bcde21e"
      },
      "source": [
        "# separando os dados de treino e teste\n",
        "(train_images, train_labels), (test_images, test_labels) = fashion_mnist.load_data()"
      ],
      "execution_count": null,
      "outputs": [
        {
          "output_type": "stream",
          "text": [
            "Downloading data from https://storage.googleapis.com/tensorflow/tf-keras-datasets/train-labels-idx1-ubyte.gz\n",
            "32768/29515 [=================================] - 0s 0us/step\n",
            "Downloading data from https://storage.googleapis.com/tensorflow/tf-keras-datasets/train-images-idx3-ubyte.gz\n",
            "26427392/26421880 [==============================] - 0s 0us/step\n",
            "Downloading data from https://storage.googleapis.com/tensorflow/tf-keras-datasets/t10k-labels-idx1-ubyte.gz\n",
            "8192/5148 [===============================================] - 0s 0us/step\n",
            "Downloading data from https://storage.googleapis.com/tensorflow/tf-keras-datasets/t10k-images-idx3-ubyte.gz\n",
            "4423680/4422102 [==============================] - 0s 0us/step\n"
          ],
          "name": "stdout"
        }
      ]
    },
    {
      "cell_type": "code",
      "metadata": {
        "colab": {
          "base_uri": "https://localhost:8080/"
        },
        "id": "rhWrWdKFUmT6",
        "outputId": "c66ed624-72df-4b2f-e7ee-096101a20ad1"
      },
      "source": [
        "# verificando o tamanho da base de treino - tensor 3D\n",
        "train_images.shape # 60000 elementos de matrizes de 28 por 28"
      ],
      "execution_count": null,
      "outputs": [
        {
          "output_type": "execute_result",
          "data": {
            "text/plain": [
              "(60000, 28, 28)"
            ]
          },
          "metadata": {
            "tags": []
          },
          "execution_count": 16
        }
      ]
    },
    {
      "cell_type": "code",
      "metadata": {
        "colab": {
          "base_uri": "https://localhost:8080/"
        },
        "id": "l3eLvjOzUmQo",
        "outputId": "ad28b591-b528-48e7-efa9-055a3ae55ceb"
      },
      "source": [
        "# verificando o tamanho dos rótulos de treino\n",
        "len(train_labels)"
      ],
      "execution_count": null,
      "outputs": [
        {
          "output_type": "execute_result",
          "data": {
            "text/plain": [
              "60000"
            ]
          },
          "metadata": {
            "tags": []
          },
          "execution_count": 4
        }
      ]
    },
    {
      "cell_type": "code",
      "metadata": {
        "colab": {
          "base_uri": "https://localhost:8080/"
        },
        "id": "nSH-22SIUmLv",
        "outputId": "52f48304-491b-47f0-a5de-9512182d10b1"
      },
      "source": [
        "# verificando os rótulos da base de treino\n",
        "np.unique(train_labels)"
      ],
      "execution_count": null,
      "outputs": [
        {
          "output_type": "execute_result",
          "data": {
            "text/plain": [
              "array([0, 1, 2, 3, 4, 5, 6, 7, 8, 9], dtype=uint8)"
            ]
          },
          "metadata": {
            "tags": []
          },
          "execution_count": 5
        }
      ]
    },
    {
      "cell_type": "code",
      "metadata": {
        "colab": {
          "base_uri": "https://localhost:8080/"
        },
        "id": "vXo2zA49UmIa",
        "outputId": "967ad8d2-1d86-41ef-bdd1-35d5d4292dab"
      },
      "source": [
        "# conferindo o tamanho da base de teste - tensor 3D\n",
        "test_images.shape # 10000 elementos de matrizes de 28 por 28"
      ],
      "execution_count": null,
      "outputs": [
        {
          "output_type": "execute_result",
          "data": {
            "text/plain": [
              "(10000, 28, 28)"
            ]
          },
          "metadata": {
            "tags": []
          },
          "execution_count": 6
        }
      ]
    },
    {
      "cell_type": "code",
      "metadata": {
        "colab": {
          "base_uri": "https://localhost:8080/"
        },
        "id": "wwnehRiPUmFO",
        "outputId": "33cb6861-5249-459e-e8a6-652928a2e76c"
      },
      "source": [
        "# verificando a quantidade de rótulos na base de teste\n",
        "len(test_images)"
      ],
      "execution_count": null,
      "outputs": [
        {
          "output_type": "execute_result",
          "data": {
            "text/plain": [
              "10000"
            ]
          },
          "metadata": {
            "tags": []
          },
          "execution_count": 7
        }
      ]
    },
    {
      "cell_type": "code",
      "metadata": {
        "colab": {
          "base_uri": "https://localhost:8080/"
        },
        "id": "srUwL63IUmCK",
        "outputId": "c17e2ebc-a1ca-48f5-916e-2fae1c57a5ce"
      },
      "source": [
        "# verificando os rótulos de teste\n",
        "# por questão de limitação de espaço (total de 10.000)\n",
        "# é somente exibido os três primeiros e três últimos rótulos de teste\n",
        "test_labels"
      ],
      "execution_count": null,
      "outputs": [
        {
          "output_type": "execute_result",
          "data": {
            "text/plain": [
              "array([9, 2, 1, ..., 8, 1, 5], dtype=uint8)"
            ]
          },
          "metadata": {
            "tags": []
          },
          "execution_count": 9
        }
      ]
    },
    {
      "cell_type": "code",
      "metadata": {
        "id": "4bDnLWLTUl_d"
      },
      "source": [
        "# as imagens de treino e teste é  composta ppr matriz de 28 por 28\n",
        "# e cada um desses elementos da matriz é exatamente um pixel entre 0 e 255\n",
        "# sendo 0 ausência de cor e 255 máxima intensidade de cor\n",
        "# e alguns modelos, tais como a regressão linear e as próprias redes neurais, eles se beneficiam de atributos escalados\n",
        "# eles utilizam uma técnica de gradiente para otimização - uma derivada\n",
        "\n",
        "# transformando nossa imagem em escala pequena\n",
        "# como nossa imagem tem entre 0 e 255 pixels\n",
        "# então podemos dividir a matriz \n",
        "# portanto o pixel com maior intensidade de 255 será igual 1\n",
        "# de menor intensidade que é 0 continuará sendo 0\n",
        "# e os de intensidade intermediária estará entre 0 e 1\n",
        "# dessa forma, implicitamente estamos utilizando o \"MinMaxScaller\" sem chamá-lo\n",
        "\n",
        "train_images = train_images / 255.0\n",
        "\n",
        "test_images = test_images / 255.0"
      ],
      "execution_count": null,
      "outputs": []
    },
    {
      "cell_type": "code",
      "metadata": {
        "id": "ZlWZuSvJUl8U",
        "colab": {
          "base_uri": "https://localhost:8080/"
        },
        "outputId": "9176d506-faf2-40da-91c7-aa9646c368f5"
      },
      "source": [
        "# instanciando o modelo e sua arquitetura\n",
        "model = keras.Sequential([\n",
        "                          keras.layers.Flatten(input_shape=(28, 28)),\n",
        "                          keras.layers.Dense(128, activation=tf.nn.relu), # 128 neurônios\n",
        "                          keras.layers.Dense(10, activation=tf.nn.softmax) # 10 neurônios\n",
        "                          # a última camada é exatemente a quantidade de classe presente no dataset\n",
        "])\n",
        "\n",
        "# dados sumarizados do modelo\n",
        "# mostra quantos pesos tem a rede neural e a estrutura do mesmo e suas camadas\n",
        "model.summary()"
      ],
      "execution_count": null,
      "outputs": [
        {
          "output_type": "stream",
          "text": [
            "Model: \"sequential_1\"\n",
            "_________________________________________________________________\n",
            "Layer (type)                 Output Shape              Param #   \n",
            "=================================================================\n",
            "flatten_1 (Flatten)          (None, 784)               0         \n",
            "_________________________________________________________________\n",
            "dense_2 (Dense)              (None, 128)               100480    \n",
            "_________________________________________________________________\n",
            "dense_3 (Dense)              (None, 10)                1290      \n",
            "=================================================================\n",
            "Total params: 101,770\n",
            "Trainable params: 101,770\n",
            "Non-trainable params: 0\n",
            "_________________________________________________________________\n"
          ],
          "name": "stdout"
        }
      ]
    },
    {
      "cell_type": "code",
      "metadata": {
        "id": "VcTBaWLJUl5N"
      },
      "source": [
        "# compilando o modelo com a função \"compile\"\n",
        "model.compile(optimizer='adam', # otimizador para os pesos de treinamento\n",
        "              loss='sparse_categorical_crossentropy', # métrica de erro -entropia cruzada categórica esparsa\n",
        "              metrics=['accuracy']) # porcentagem de elementos classificados corretamente sobre o total"
      ],
      "execution_count": null,
      "outputs": []
    },
    {
      "cell_type": "code",
      "metadata": {
        "id": "gbv15gRdUl2n",
        "colab": {
          "base_uri": "https://localhost:8080/"
        },
        "outputId": "0f4041b2-953f-472d-a10f-ba5309f01347"
      },
      "source": [
        "# aplicando o treinamento do modelo e avaliando sua acurácia por épocas\n",
        "model.fit(train_images, train_labels, \n",
        "          epochs=5) # 5 épocas de treinamento - iterações do conjunto de dados"
      ],
      "execution_count": null,
      "outputs": [
        {
          "output_type": "stream",
          "text": [
            "Epoch 1/5\n",
            "1875/1875 [==============================] - 5s 2ms/step - loss: 0.6364 - accuracy: 0.7779\n",
            "Epoch 2/5\n",
            "1875/1875 [==============================] - 5s 2ms/step - loss: 0.3844 - accuracy: 0.8638\n",
            "Epoch 3/5\n",
            "1875/1875 [==============================] - 4s 2ms/step - loss: 0.3360 - accuracy: 0.8771\n",
            "Epoch 4/5\n",
            "1875/1875 [==============================] - 4s 2ms/step - loss: 0.3092 - accuracy: 0.8870\n",
            "Epoch 5/5\n",
            "1875/1875 [==============================] - 4s 2ms/step - loss: 0.2896 - accuracy: 0.8937\n"
          ],
          "name": "stdout"
        },
        {
          "output_type": "execute_result",
          "data": {
            "text/plain": [
              "<tensorflow.python.keras.callbacks.History at 0x7fc002497d90>"
            ]
          },
          "metadata": {
            "tags": []
          },
          "execution_count": 14
        }
      ]
    },
    {
      "cell_type": "code",
      "metadata": {
        "id": "PM4T8_G2Ulzz",
        "colab": {
          "base_uri": "https://localhost:8080/"
        },
        "outputId": "91c4b862-95ee-421a-9079-22672d6cbcc9"
      },
      "source": [
        "# avaliando acurácia sobre os dados de teste\n",
        "test_loss, test_acc = model.evaluate(test_images, \n",
        "                                     test_labels)\n",
        "print('Test accuracy: ', test_acc) # acurácia do teste"
      ],
      "execution_count": null,
      "outputs": [
        {
          "output_type": "stream",
          "text": [
            "313/313 [==============================] - 1s 1ms/step - loss: 0.3488 - accuracy: 0.8745\n",
            "Test accuracy:  0.8744999766349792\n"
          ],
          "name": "stdout"
        }
      ]
    },
    {
      "cell_type": "code",
      "metadata": {
        "id": "F6XOaSZKcDG9"
      },
      "source": [
        "# criando uma variável para avaliar a predição para cada uma das imagens de teste \n",
        "predictions = model.predict(test_images) "
      ],
      "execution_count": null,
      "outputs": []
    },
    {
      "cell_type": "code",
      "metadata": {
        "id": "w2PG3qQYUlwr",
        "colab": {
          "base_uri": "https://localhost:8080/"
        },
        "outputId": "6ce030e5-07d2-4d3d-ad73-734894dafbe0"
      },
      "source": [
        "# imprimindo a primeira predição\n",
        "predictions[0] # um array de 10 elementos com notações científicas\n",
        "# onde a classificação será dada com a maior valor das predições"
      ],
      "execution_count": null,
      "outputs": [
        {
          "output_type": "execute_result",
          "data": {
            "text/plain": [
              "array([4.5976827e-09, 8.4506928e-07, 2.9672587e-09, 4.6438800e-10,\n",
              "       5.9740985e-09, 1.7678109e-03, 1.3262469e-07, 3.6451835e-02,\n",
              "       3.9933689e-06, 9.6177530e-01], dtype=float32)"
            ]
          },
          "metadata": {
            "tags": []
          },
          "execution_count": 17
        }
      ]
    },
    {
      "cell_type": "code",
      "metadata": {
        "colab": {
          "base_uri": "https://localhost:8080/"
        },
        "id": "L2C0uuJnlBa6",
        "outputId": "cea8a1f9-1ad2-42ad-ed5c-d990de6bf4ad"
      },
      "source": [
        "# verificando o índice máximo\n",
        "np.argmax(predictions[0]) # temos a classe \"9\""
      ],
      "execution_count": null,
      "outputs": [
        {
          "output_type": "execute_result",
          "data": {
            "text/plain": [
              "9"
            ]
          },
          "metadata": {
            "tags": []
          },
          "execution_count": 18
        }
      ]
    },
    {
      "cell_type": "code",
      "metadata": {
        "colab": {
          "base_uri": "https://localhost:8080/"
        },
        "id": "b3DJz1y3lBYY",
        "outputId": "6bf3ce7f-047f-4e9a-faad-2a78bed93442"
      },
      "source": [
        "# avaliando a assertividade do modelo\n",
        "# para a primeira imagem o modelo acertou\n",
        "test_labels[0]"
      ],
      "execution_count": null,
      "outputs": [
        {
          "output_type": "execute_result",
          "data": {
            "text/plain": [
              "9"
            ]
          },
          "metadata": {
            "tags": []
          },
          "execution_count": 34
        }
      ]
    },
    {
      "cell_type": "code",
      "metadata": {
        "colab": {
          "base_uri": "https://localhost:8080/"
        },
        "id": "tFgvkWMhlBVR",
        "outputId": "2857af39-c95e-4ecb-c247-d3b2bb1cc90a"
      },
      "source": [
        "# realizando uma avaliação separada - individual de cada uma das imagens\n",
        "img = test_images[0] # instanciando a imagem de teste [0] na variável \"img\"\n",
        "print(img.shape) # imprimindo o shape da imagem - 28 x 28 "
      ],
      "execution_count": null,
      "outputs": [
        {
          "output_type": "stream",
          "text": [
            "(28, 28)\n"
          ],
          "name": "stdout"
        }
      ]
    },
    {
      "cell_type": "code",
      "metadata": {
        "colab": {
          "base_uri": "https://localhost:8080/"
        },
        "id": "_ZIaxCaslBS2",
        "outputId": "e183f85f-8e4b-4548-bdcd-eb8f8a144612"
      },
      "source": [
        "# o modelo espera um vetor de imagem que seja passado e, aqui só temos uma imagem sozinha\n",
        "# iremos utlizar o numpy para expandir a dimensão dessa imagem para ter um vetor \n",
        "img = (np.expand_dims(img, 0)) # a função \"expand_dims\" irar expandir a dimensão da imagem colocando dentro de um novo vetor\n",
        "print(img.shape) # imprimindo o shape do vetor"
      ],
      "execution_count": null,
      "outputs": [
        {
          "output_type": "stream",
          "text": [
            "(1, 28, 28)\n"
          ],
          "name": "stdout"
        }
      ]
    },
    {
      "cell_type": "code",
      "metadata": {
        "colab": {
          "base_uri": "https://localhost:8080/"
        },
        "id": "Jai8zV1MlBQF",
        "outputId": "d3c15487-f58a-4a60-cfe8-3544fc1c9f91"
      },
      "source": [
        "# aplicando essa nova imagem de vetor ao modelo\n",
        "predictions_single = model.predict(img) # instanciando a predição da única imagem na variável \"predictions_single\"\n",
        "print(predictions_single) # imprimindo a variável \"predictions_single\" com o valor das predições"
      ],
      "execution_count": null,
      "outputs": [
        {
          "output_type": "stream",
          "text": [
            "[[4.5976911e-09 8.4507167e-07 2.9672587e-09 4.6438800e-10 5.9740985e-09\n",
            "  1.7678109e-03 1.3262495e-07 3.6451872e-02 3.9933689e-06 9.6177530e-01]]\n"
          ],
          "name": "stdout"
        }
      ]
    },
    {
      "cell_type": "code",
      "metadata": {
        "colab": {
          "base_uri": "https://localhost:8080/"
        },
        "id": "iYavbh9DlBNb",
        "outputId": "ab362021-4869-49eb-8a56-0e9fd084f2a1"
      },
      "source": [
        "# efetuando a predição\n",
        "# retornará o rótulo da primeira imagem\n",
        "np.argmax(predictions_single[0])"
      ],
      "execution_count": null,
      "outputs": [
        {
          "output_type": "execute_result",
          "data": {
            "text/plain": [
              "9"
            ]
          },
          "metadata": {
            "tags": []
          },
          "execution_count": 24
        }
      ]
    },
    {
      "cell_type": "code",
      "metadata": {
        "id": "sWeXK4yrlBLC"
      },
      "source": [
        ""
      ],
      "execution_count": null,
      "outputs": []
    },
    {
      "cell_type": "code",
      "metadata": {
        "id": "qFq2eitllBIJ"
      },
      "source": [
        ""
      ],
      "execution_count": null,
      "outputs": []
    }
  ]
}