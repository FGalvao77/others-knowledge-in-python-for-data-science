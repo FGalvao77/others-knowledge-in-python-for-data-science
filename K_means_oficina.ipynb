{
  "nbformat": 4,
  "nbformat_minor": 0,
  "metadata": {
    "kernelspec": {
      "display_name": "Python 3",
      "language": "python",
      "name": "python3"
    },
    "language_info": {
      "codemirror_mode": {
        "name": "ipython",
        "version": 3
      },
      "file_extension": ".py",
      "mimetype": "text/x-python",
      "name": "python",
      "nbconvert_exporter": "python",
      "pygments_lexer": "ipython3",
      "version": "3.7.7"
    },
    "colab": {
      "name": "K_means_oficina.ipynb",
      "provenance": [],
      "collapsed_sections": [],
      "include_colab_link": true
    }
  },
  "cells": [
    {
      "cell_type": "markdown",
      "metadata": {
        "id": "view-in-github",
        "colab_type": "text"
      },
      "source": [
        "<a href=\"https://colab.research.google.com/github/FGalvao77/others-knowledge-in-python-for-data-science/blob/main/K_means_oficina.ipynb\" target=\"_parent\"><img src=\"https://colab.research.google.com/assets/colab-badge.svg\" alt=\"Open In Colab\"/></a>"
      ]
    },
    {
      "cell_type": "markdown",
      "metadata": {
        "id": "75mq5LeIXHEJ"
      },
      "source": [
        "# **K-means (oficina prática)**"
      ]
    },
    {
      "cell_type": "markdown",
      "metadata": {
        "id": "tE0AosQMXeLd"
      },
      "source": [
        "Nessa atividade, o desafio é segmentar grupos de clientes dadas algumas variáveis.\n"
      ]
    },
    {
      "cell_type": "code",
      "metadata": {
        "id": "zVKtZXakQEu_"
      },
      "source": [
        "# importando as bibliotecas\n",
        "import numpy as np\n",
        "import pandas as pd\n",
        "import matplotlib.pyplot as plt\n",
        "from sklearn.cluster import KMeans"
      ],
      "execution_count": null,
      "outputs": []
    },
    {
      "cell_type": "markdown",
      "metadata": {
        "id": "qdQmu90MQEvK"
      },
      "source": [
        "### Leitura dos dados"
      ]
    },
    {
      "cell_type": "code",
      "metadata": {
        "colab": {
          "base_uri": "https://localhost:8080/",
          "height": 204
        },
        "id": "ntO4j6NQQEvL",
        "outputId": "088de316-ecf6-4fda-fdc0-35ff4edaa351"
      },
      "source": [
        "# realizando a leitura da base de dados e instanciando na variável \"df\"\n",
        "df = pd.read_csv('Mall_Customers.csv')\n",
        "df.head() # visualizando as 5 primeiras linhas"
      ],
      "execution_count": null,
      "outputs": [
        {
          "output_type": "execute_result",
          "data": {
            "text/html": [
              "<div>\n",
              "<style scoped>\n",
              "    .dataframe tbody tr th:only-of-type {\n",
              "        vertical-align: middle;\n",
              "    }\n",
              "\n",
              "    .dataframe tbody tr th {\n",
              "        vertical-align: top;\n",
              "    }\n",
              "\n",
              "    .dataframe thead th {\n",
              "        text-align: right;\n",
              "    }\n",
              "</style>\n",
              "<table border=\"1\" class=\"dataframe\">\n",
              "  <thead>\n",
              "    <tr style=\"text-align: right;\">\n",
              "      <th></th>\n",
              "      <th>CustomerID</th>\n",
              "      <th>Gender</th>\n",
              "      <th>Age</th>\n",
              "      <th>Annual Income (k$)</th>\n",
              "      <th>Spending Score (1-100)</th>\n",
              "    </tr>\n",
              "  </thead>\n",
              "  <tbody>\n",
              "    <tr>\n",
              "      <th>0</th>\n",
              "      <td>1</td>\n",
              "      <td>Male</td>\n",
              "      <td>19</td>\n",
              "      <td>15</td>\n",
              "      <td>39</td>\n",
              "    </tr>\n",
              "    <tr>\n",
              "      <th>1</th>\n",
              "      <td>2</td>\n",
              "      <td>Male</td>\n",
              "      <td>21</td>\n",
              "      <td>15</td>\n",
              "      <td>81</td>\n",
              "    </tr>\n",
              "    <tr>\n",
              "      <th>2</th>\n",
              "      <td>3</td>\n",
              "      <td>Female</td>\n",
              "      <td>20</td>\n",
              "      <td>16</td>\n",
              "      <td>6</td>\n",
              "    </tr>\n",
              "    <tr>\n",
              "      <th>3</th>\n",
              "      <td>4</td>\n",
              "      <td>Female</td>\n",
              "      <td>23</td>\n",
              "      <td>16</td>\n",
              "      <td>77</td>\n",
              "    </tr>\n",
              "    <tr>\n",
              "      <th>4</th>\n",
              "      <td>5</td>\n",
              "      <td>Female</td>\n",
              "      <td>31</td>\n",
              "      <td>17</td>\n",
              "      <td>40</td>\n",
              "    </tr>\n",
              "  </tbody>\n",
              "</table>\n",
              "</div>"
            ],
            "text/plain": [
              "   CustomerID  Gender  Age  Annual Income (k$)  Spending Score (1-100)\n",
              "0           1    Male   19                  15                      39\n",
              "1           2    Male   21                  15                      81\n",
              "2           3  Female   20                  16                       6\n",
              "3           4  Female   23                  16                      77\n",
              "4           5  Female   31                  17                      40"
            ]
          },
          "metadata": {
            "tags": []
          },
          "execution_count": 3
        }
      ]
    },
    {
      "cell_type": "code",
      "metadata": {
        "colab": {
          "base_uri": "https://localhost:8080/"
        },
        "id": "XZhftYQGQEvN",
        "outputId": "504a0dea-ddd8-4b30-e9cc-e23cf14b1f41"
      },
      "source": [
        "# quantidade de linhas e colunas\n",
        "df.shape"
      ],
      "execution_count": null,
      "outputs": [
        {
          "output_type": "execute_result",
          "data": {
            "text/plain": [
              "(200, 5)"
            ]
          },
          "metadata": {
            "tags": []
          },
          "execution_count": 4
        }
      ]
    },
    {
      "cell_type": "markdown",
      "metadata": {
        "id": "PG7pb12SQEvO"
      },
      "source": [
        "### Verificar dados nulos"
      ]
    },
    {
      "cell_type": "code",
      "metadata": {
        "colab": {
          "base_uri": "https://localhost:8080/"
        },
        "id": "sfD3GIBvQEvP",
        "outputId": "8ac758b1-857e-4bca-b875-ae3226a496cb"
      },
      "source": [
        "df.isnull().sum()"
      ],
      "execution_count": null,
      "outputs": [
        {
          "output_type": "execute_result",
          "data": {
            "text/plain": [
              "CustomerID                0\n",
              "Gender                    0\n",
              "Age                       0\n",
              "Annual Income (k$)        0\n",
              "Spending Score (1-100)    0\n",
              "dtype: int64"
            ]
          },
          "metadata": {
            "tags": []
          },
          "execution_count": 5
        }
      ]
    },
    {
      "cell_type": "markdown",
      "metadata": {
        "id": "0CVb40rfQEvP"
      },
      "source": [
        "### Informações estatísticas"
      ]
    },
    {
      "cell_type": "code",
      "metadata": {
        "colab": {
          "base_uri": "https://localhost:8080/",
          "height": 297
        },
        "id": "7iQzfB7zQEvQ",
        "outputId": "3fbcf219-f4bd-48a9-88d1-fdf97342a30d"
      },
      "source": [
        "df.describe()"
      ],
      "execution_count": null,
      "outputs": [
        {
          "output_type": "execute_result",
          "data": {
            "text/html": [
              "<div>\n",
              "<style scoped>\n",
              "    .dataframe tbody tr th:only-of-type {\n",
              "        vertical-align: middle;\n",
              "    }\n",
              "\n",
              "    .dataframe tbody tr th {\n",
              "        vertical-align: top;\n",
              "    }\n",
              "\n",
              "    .dataframe thead th {\n",
              "        text-align: right;\n",
              "    }\n",
              "</style>\n",
              "<table border=\"1\" class=\"dataframe\">\n",
              "  <thead>\n",
              "    <tr style=\"text-align: right;\">\n",
              "      <th></th>\n",
              "      <th>CustomerID</th>\n",
              "      <th>Age</th>\n",
              "      <th>Annual Income (k$)</th>\n",
              "      <th>Spending Score (1-100)</th>\n",
              "    </tr>\n",
              "  </thead>\n",
              "  <tbody>\n",
              "    <tr>\n",
              "      <th>count</th>\n",
              "      <td>200.000000</td>\n",
              "      <td>200.000000</td>\n",
              "      <td>200.000000</td>\n",
              "      <td>200.000000</td>\n",
              "    </tr>\n",
              "    <tr>\n",
              "      <th>mean</th>\n",
              "      <td>100.500000</td>\n",
              "      <td>38.850000</td>\n",
              "      <td>60.560000</td>\n",
              "      <td>50.200000</td>\n",
              "    </tr>\n",
              "    <tr>\n",
              "      <th>std</th>\n",
              "      <td>57.879185</td>\n",
              "      <td>13.969007</td>\n",
              "      <td>26.264721</td>\n",
              "      <td>25.823522</td>\n",
              "    </tr>\n",
              "    <tr>\n",
              "      <th>min</th>\n",
              "      <td>1.000000</td>\n",
              "      <td>18.000000</td>\n",
              "      <td>15.000000</td>\n",
              "      <td>1.000000</td>\n",
              "    </tr>\n",
              "    <tr>\n",
              "      <th>25%</th>\n",
              "      <td>50.750000</td>\n",
              "      <td>28.750000</td>\n",
              "      <td>41.500000</td>\n",
              "      <td>34.750000</td>\n",
              "    </tr>\n",
              "    <tr>\n",
              "      <th>50%</th>\n",
              "      <td>100.500000</td>\n",
              "      <td>36.000000</td>\n",
              "      <td>61.500000</td>\n",
              "      <td>50.000000</td>\n",
              "    </tr>\n",
              "    <tr>\n",
              "      <th>75%</th>\n",
              "      <td>150.250000</td>\n",
              "      <td>49.000000</td>\n",
              "      <td>78.000000</td>\n",
              "      <td>73.000000</td>\n",
              "    </tr>\n",
              "    <tr>\n",
              "      <th>max</th>\n",
              "      <td>200.000000</td>\n",
              "      <td>70.000000</td>\n",
              "      <td>137.000000</td>\n",
              "      <td>99.000000</td>\n",
              "    </tr>\n",
              "  </tbody>\n",
              "</table>\n",
              "</div>"
            ],
            "text/plain": [
              "       CustomerID         Age  Annual Income (k$)  Spending Score (1-100)\n",
              "count  200.000000  200.000000          200.000000              200.000000\n",
              "mean   100.500000   38.850000           60.560000               50.200000\n",
              "std     57.879185   13.969007           26.264721               25.823522\n",
              "min      1.000000   18.000000           15.000000                1.000000\n",
              "25%     50.750000   28.750000           41.500000               34.750000\n",
              "50%    100.500000   36.000000           61.500000               50.000000\n",
              "75%    150.250000   49.000000           78.000000               73.000000\n",
              "max    200.000000   70.000000          137.000000               99.000000"
            ]
          },
          "metadata": {
            "tags": []
          },
          "execution_count": 6
        }
      ]
    },
    {
      "cell_type": "markdown",
      "metadata": {
        "id": "-v_1G_dqQEvQ"
      },
      "source": [
        "### Gerando gráfico da idade versus score do cliente"
      ]
    },
    {
      "cell_type": "code",
      "metadata": {
        "colab": {
          "base_uri": "https://localhost:8080/",
          "height": 279
        },
        "id": "k6nx-IOuQEvR",
        "outputId": "8cd83cbe-77d9-4192-b09a-32942bf889c7"
      },
      "source": [
        "plt.scatter(df['Age'], df['Spending Score (1-100)'], s=50)\n",
        "plt.xlabel('Idade')\n",
        "plt.ylabel('Score (1-100)')\n",
        "plt.show()"
      ],
      "execution_count": null,
      "outputs": [
        {
          "output_type": "display_data",
          "data": {
            "image/png": "[encoded data removed]",
            "text/plain": [
              "<Figure size 432x288 with 1 Axes>"
            ]
          },
          "metadata": {
            "tags": [],
            "needs_background": "light"
          }
        }
      ]
    },
    {
      "cell_type": "markdown",
      "metadata": {
        "id": "RrDzexCAQEvS"
      },
      "source": [
        "### Agora é sua vez de praticar"
      ]
    },
    {
      "cell_type": "markdown",
      "metadata": {
        "id": "BycpyCOEQEvS"
      },
      "source": [
        "selecione os dados de 'Age' e 'Spending Score (1-100)' no dataframe para realizar o agrupamento com kmeans"
      ]
    },
    {
      "cell_type": "code",
      "metadata": {
        "id": "BOdtr_lIQEvS"
      },
      "source": [
        "# selecione no dataframe df as colunas Age e Spending Score (1-100)"
      ],
      "execution_count": null,
      "outputs": []
    },
    {
      "cell_type": "code",
      "metadata": {
        "colab": {
          "base_uri": "https://localhost:8080/",
          "height": 204
        },
        "id": "LJswNnFiRoqB",
        "outputId": "6e1280b8-5a6a-4da1-ec15-c9e85c919ac3"
      },
      "source": [
        "# realizando a seleção e instanciando na variável \"X\"\n",
        "X = df[['Age', 'Spending Score (1-100)']] \n",
        "X.head() # visualizando as 5 primeiras linhas"
      ],
      "execution_count": null,
      "outputs": [
        {
          "output_type": "execute_result",
          "data": {
            "text/html": [
              "<div>\n",
              "<style scoped>\n",
              "    .dataframe tbody tr th:only-of-type {\n",
              "        vertical-align: middle;\n",
              "    }\n",
              "\n",
              "    .dataframe tbody tr th {\n",
              "        vertical-align: top;\n",
              "    }\n",
              "\n",
              "    .dataframe thead th {\n",
              "        text-align: right;\n",
              "    }\n",
              "</style>\n",
              "<table border=\"1\" class=\"dataframe\">\n",
              "  <thead>\n",
              "    <tr style=\"text-align: right;\">\n",
              "      <th></th>\n",
              "      <th>Age</th>\n",
              "      <th>Spending Score (1-100)</th>\n",
              "    </tr>\n",
              "  </thead>\n",
              "  <tbody>\n",
              "    <tr>\n",
              "      <th>0</th>\n",
              "      <td>19</td>\n",
              "      <td>39</td>\n",
              "    </tr>\n",
              "    <tr>\n",
              "      <th>1</th>\n",
              "      <td>21</td>\n",
              "      <td>81</td>\n",
              "    </tr>\n",
              "    <tr>\n",
              "      <th>2</th>\n",
              "      <td>20</td>\n",
              "      <td>6</td>\n",
              "    </tr>\n",
              "    <tr>\n",
              "      <th>3</th>\n",
              "      <td>23</td>\n",
              "      <td>77</td>\n",
              "    </tr>\n",
              "    <tr>\n",
              "      <th>4</th>\n",
              "      <td>31</td>\n",
              "      <td>40</td>\n",
              "    </tr>\n",
              "  </tbody>\n",
              "</table>\n",
              "</div>"
            ],
            "text/plain": [
              "   Age  Spending Score (1-100)\n",
              "0   19                      39\n",
              "1   21                      81\n",
              "2   20                       6\n",
              "3   23                      77\n",
              "4   31                      40"
            ]
          },
          "metadata": {
            "tags": []
          },
          "execution_count": 13
        }
      ]
    },
    {
      "cell_type": "markdown",
      "metadata": {
        "id": "_ZRfNxDuQEvT"
      },
      "source": [
        "### Clusterizando com k = 5"
      ]
    },
    {
      "cell_type": "code",
      "metadata": {
        "id": "uJjO3-VmQEvT"
      },
      "source": [
        "# escreva aqui em baixo o código para fazer a clusterização"
      ],
      "execution_count": null,
      "outputs": []
    },
    {
      "cell_type": "code",
      "metadata": {
        "id": "k67ttkwHRisz"
      },
      "source": [
        "# importando a biblioteca necessária\n",
        "from sklearn.cluster import KMeans"
      ],
      "execution_count": null,
      "outputs": []
    },
    {
      "cell_type": "code",
      "metadata": {
        "id": "OSGdHU2ARumv"
      },
      "source": [
        "# instanciando o modelo e definindo a quantidade de clusters\n",
        "modelo_kmeans = KMeans(n_clusters=5, init='k-means++')"
      ],
      "execution_count": null,
      "outputs": []
    },
    {
      "cell_type": "code",
      "metadata": {
        "colab": {
          "base_uri": "https://localhost:8080/"
        },
        "id": "1HRneVKCRukc",
        "outputId": "e229409f-00c9-496b-86e5-6cce37bdce79"
      },
      "source": [
        "# aplicando o modelo \n",
        "y_kmeans = modelo_kmeans.fit_predict(X)\n",
        "print(y_kmeans)"
      ],
      "execution_count": null,
      "outputs": [
        {
          "output_type": "stream",
          "text": [
            "[1 3 0 3 1 3 0 3 4 3 4 3 4 3 0 3 1 1 4 3 1 3 4 3 4 3 4 1 0 3 4 3 4 3 4 3 4\n",
            " 3 0 3 2 3 2 1 4 1 2 1 1 1 2 1 1 2 2 2 2 2 1 2 2 1 2 2 2 1 2 2 1 1 2 2 2 2\n",
            " 2 1 2 1 1 2 2 1 2 2 1 2 2 1 1 2 2 1 2 1 1 1 2 1 2 1 1 2 2 1 2 1 2 2 2 2 2\n",
            " 1 1 1 1 1 2 2 2 2 1 1 1 3 0 3 2 3 4 3 4 3 1 3 0 3 4 3 0 3 4 3 1 3 0 3 2 3\n",
            " 0 3 4 3 4 3 4 3 0 3 0 3 2 3 0 3 4 3 4 3 0 1 0 3 0 3 4 3 4 3 4 3 0 3 4 3 2\n",
            " 3 4 3 0 3 0 3 0 3 4 3 4 3 0 3]\n"
          ],
          "name": "stdout"
        }
      ]
    },
    {
      "cell_type": "code",
      "metadata": {
        "colab": {
          "base_uri": "https://localhost:8080/"
        },
        "id": "k9h7SzOeRuiN",
        "outputId": "669df81b-7cba-4cd7-8491-df58fe609862"
      },
      "source": [
        "# visualizando o primeiro grupo criado\n",
        "print(X[y_kmeans == 0])"
      ],
      "execution_count": null,
      "outputs": [
        {
          "output_type": "stream",
          "text": [
            "     Age  Spending Score (1-100)\n",
            "2     20                       6\n",
            "6     35                       6\n",
            "14    37                      13\n",
            "28    40                      31\n",
            "38    36                      26\n",
            "124   23                      29\n",
            "134   20                       5\n",
            "138   19                      10\n",
            "144   25                      12\n",
            "148   34                      22\n",
            "156   37                       1\n",
            "158   34                       1\n",
            "162   19                       5\n",
            "168   36                      27\n",
            "170   40                      13\n",
            "172   36                      10\n",
            "180   37                      32\n",
            "188   41                      17\n",
            "190   34                      23\n",
            "192   33                       8\n",
            "198   32                      18\n"
          ],
          "name": "stdout"
        }
      ]
    },
    {
      "cell_type": "code",
      "metadata": {
        "colab": {
          "base_uri": "https://localhost:8080/"
        },
        "id": "DursnxgDRufj",
        "outputId": "8bcf7ca3-c554-4019-ea88-1c544629393c"
      },
      "source": [
        "# realizando a visualização geral para a quantidade de dados separados por grupos\n",
        "print(f'''\n",
        "\\tGRUPO 0 \\n{X[y_kmeans == 0].count()}\\n\n",
        "\\tGRUPO 1 \\n{X[y_kmeans == 1].count()}\\n\n",
        "\\tGRUPO 2 \\n{X[y_kmeans == 2].count()}\\n\n",
        "\\tGRUPO 3 \\n{X[y_kmeans == 3].count()}\\n\n",
        "\\tGRUPO 4 \\n{X[y_kmeans == 4].count()}''')"
      ],
      "execution_count": null,
      "outputs": [
        {
          "output_type": "stream",
          "text": [
            "\n",
            "\tGRUPO 0 \n",
            "Age                       21\n",
            "Spending Score (1-100)    21\n",
            "dtype: int64\n",
            "\n",
            "\tGRUPO 1 \n",
            "Age                       45\n",
            "Spending Score (1-100)    45\n",
            "dtype: int64\n",
            "\n",
            "\tGRUPO 2 \n",
            "Age                       49\n",
            "Spending Score (1-100)    49\n",
            "dtype: int64\n",
            "\n",
            "\tGRUPO 3 \n",
            "Age                       57\n",
            "Spending Score (1-100)    57\n",
            "dtype: int64\n",
            "\n",
            "\tGRUPO 4 \n",
            "Age                       28\n",
            "Spending Score (1-100)    28\n",
            "dtype: int64\n"
          ],
          "name": "stdout"
        }
      ]
    },
    {
      "cell_type": "markdown",
      "metadata": {
        "id": "AHMFvqynQEvU"
      },
      "source": [
        "### Plot um gráfico com todos os grupos"
      ]
    },
    {
      "cell_type": "code",
      "metadata": {
        "id": "TxsxXKgxQEvU"
      },
      "source": [
        "# escreva aqui o código para plotar o gráfico"
      ],
      "execution_count": null,
      "outputs": []
    },
    {
      "cell_type": "code",
      "metadata": {
        "colab": {
          "base_uri": "https://localhost:8080/",
          "height": 295
        },
        "id": "XG8A7MMQSP12",
        "outputId": "c955247b-b84e-4477-e66c-c45c46bb8487"
      },
      "source": [
        "k_grupos = 5 # quantidade de clusters\n",
        "cores = ['r', 'b', 'k', 'y', 'g'] # cores dos clusters\n",
        "\n",
        "# definindo o loop\n",
        "for k in range(k_grupos):\n",
        "  cluster = X[y_kmeans == k]\n",
        "  plt.scatter(cluster['Age'], \n",
        "              cluster['Spending Score (1-100)'],\n",
        "              s = 100, c = cores[k], \n",
        "              label = f'Cluster {k}')\n",
        "\n",
        "# configurando o gráfico\n",
        "plt.title('Grupos de clientes')\n",
        "plt.xlabel('Idade')\n",
        "plt.ylabel('Score (1-100')\n",
        "plt.grid()\n",
        "plt.legend()\n",
        "plt.show()"
      ],
      "execution_count": null,
      "outputs": [
        {
          "output_type": "display_data",
          "data": {
            "image/png": "[encoded data removed]",
            "text/plain": [
              "<Figure size 432x288 with 1 Axes>"
            ]
          },
          "metadata": {
            "tags": [],
            "needs_background": "light"
          }
        }
      ]
    },
    {
      "cell_type": "markdown",
      "metadata": {
        "id": "el2UShcPTOQG"
      },
      "source": [
        "Analisando o gráfico:\n",
        " - temos que o cluster 3 é o que possui o mais alto índice de `Score` aproximado entre **70 à 100** e, idade de **20 à 40**.\n",
        " - já em contraponto temos, o cluster 4 com índice de `Score` aproximado entre **0 à 40** e, idade de **40 à 70**."
      ]
    }
  ]
}