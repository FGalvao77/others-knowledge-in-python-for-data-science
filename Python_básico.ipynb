{
  "nbformat": 4,
  "nbformat_minor": 0,
  "metadata": {
    "colab": {
      "name": "Python básico.ipynb",
      "provenance": [],
      "collapsed_sections": [],
      "authorship_tag": "ABX9TyMrrA1kgnAhQO/eKkli4iZJ",
      "include_colab_link": true
    },
    "kernelspec": {
      "name": "python3",
      "display_name": "Python 3"
    }
  },
  "cells": [
    {
      "cell_type": "markdown",
      "metadata": {
        "id": "view-in-github",
        "colab_type": "text"
      },
      "source": [
        "<a href=\"https://colab.research.google.com/github/FGalvao77/others-knowledge-in-python-for-data-science/blob/main/Python_b%C3%A1sico.ipynb\" target=\"_parent\"><img src=\"https://colab.research.google.com/assets/colab-badge.svg\" alt=\"Open In Colab\"/></a>"
      ]
    },
    {
      "cell_type": "code",
      "metadata": {
        "colab": {
          "base_uri": "https://localhost:8080/"
        },
        "id": "rtFMY5FOsnSR",
        "outputId": "62661f3b-7466-4ac7-956a-e5422d81c1e0"
      },
      "source": [
        "# imprimido \"Hello World\"\n",
        "print('Hello World')"
      ],
      "execution_count": 1,
      "outputs": [
        {
          "output_type": "stream",
          "text": [
            "Hello World\n"
          ],
          "name": "stdout"
        }
      ]
    },
    {
      "cell_type": "code",
      "metadata": {
        "colab": {
          "base_uri": "https://localhost:8080/"
        },
        "id": "c3jQ_3dGvWOC",
        "outputId": "21fa5ac1-e4ae-4ba5-9175-164bbb6d8ea3"
      },
      "source": [
        "# indentação em Python é de extrema importância\n",
        "# erro de indentação, o código apresentará erro\n",
        "if 5 > 2:\n",
        "  print('Cinco é maior que dois!')"
      ],
      "execution_count": 2,
      "outputs": [
        {
          "output_type": "stream",
          "text": [
            "Cinco é maior que dois!\n"
          ],
          "name": "stdout"
        }
      ]
    },
    {
      "cell_type": "code",
      "metadata": {
        "colab": {
          "base_uri": "https://localhost:8080/",
          "height": 129
        },
        "id": "Y10jAXCP8a0W",
        "outputId": "aaf29232-c6ef-410c-972c-b8c480d2df5f"
      },
      "source": [
        "# indentação errada\n",
        "if 5 > 2:\n",
        "print('Cinco é maior que dois!')"
      ],
      "execution_count": 3,
      "outputs": [
        {
          "output_type": "error",
          "ename": "IndentationError",
          "evalue": "ignored",
          "traceback": [
            "\u001b[0;36m  File \u001b[0;32m\"<ipython-input-3-c70b1b0a10b4>\"\u001b[0;36m, line \u001b[0;32m3\u001b[0m\n\u001b[0;31m    print('Cinco é maior que dois!')\u001b[0m\n\u001b[0m        ^\u001b[0m\n\u001b[0;31mIndentationError\u001b[0m\u001b[0;31m:\u001b[0m expected an indented block\n"
          ]
        }
      ]
    },
    {
      "cell_type": "code",
      "metadata": {
        "colab": {
          "base_uri": "https://localhost:8080/",
          "height": 35
        },
        "id": "tsglCiGhvWLt",
        "outputId": "72790b4d-be6f-4cb2-ce10-48f477ec6223"
      },
      "source": [
        "# para comentar usamos o \"#\" e três conjunto de três aspas - simples ou duplas\n",
        "# isto é um comentário\n",
        "'''\n",
        "isto também é um comentário!\n",
        "'''"
      ],
      "execution_count": 4,
      "outputs": [
        {
          "output_type": "execute_result",
          "data": {
            "application/vnd.google.colaboratory.intrinsic+json": {
              "type": "string"
            },
            "text/plain": [
              "'\\nisto também é um comentário!\\n'"
            ]
          },
          "metadata": {
            "tags": []
          },
          "execution_count": 4
        }
      ]
    },
    {
      "cell_type": "code",
      "metadata": {
        "id": "KKSMk1WMvWJU"
      },
      "source": [
        "# declarando uma variável\n",
        "nome = \"Fernando\""
      ],
      "execution_count": 5,
      "outputs": []
    },
    {
      "cell_type": "code",
      "metadata": {
        "colab": {
          "base_uri": "https://localhost:8080/",
          "height": 35
        },
        "id": "fyVj4n0cvWGy",
        "outputId": "2e24476e-b9d9-4d3f-8f00-35b5cd4bb2b2"
      },
      "source": [
        "# imprimindo a variável\n",
        "nome"
      ],
      "execution_count": 6,
      "outputs": [
        {
          "output_type": "execute_result",
          "data": {
            "application/vnd.google.colaboratory.intrinsic+json": {
              "type": "string"
            },
            "text/plain": [
              "'Fernando'"
            ]
          },
          "metadata": {
            "tags": []
          },
          "execution_count": 6
        }
      ]
    },
    {
      "cell_type": "code",
      "metadata": {
        "colab": {
          "base_uri": "https://localhost:8080/"
        },
        "id": "iBWelnDFvWEd",
        "outputId": "00d9d841-364e-4b44-cfab-4cf704517085"
      },
      "source": [
        "# atribuindo um valor númerico a variável\n",
        "x = 50\n",
        "x"
      ],
      "execution_count": 7,
      "outputs": [
        {
          "output_type": "execute_result",
          "data": {
            "text/plain": [
              "50"
            ]
          },
          "metadata": {
            "tags": []
          },
          "execution_count": 7
        }
      ]
    },
    {
      "cell_type": "code",
      "metadata": {
        "id": "AJ3x0JMivWAR"
      },
      "source": [
        "# declarando duas variáveis e seus respectivos valores\n",
        "x = 5 \n",
        "y = 10"
      ],
      "execution_count": 8,
      "outputs": []
    },
    {
      "cell_type": "code",
      "metadata": {
        "colab": {
          "base_uri": "https://localhost:8080/"
        },
        "id": "6lFPsXZOvV8H",
        "outputId": "ea562a68-9551-47ef-d0d6-fc8f3dd1889a"
      },
      "source": [
        "# realizando operação de soma com variáveis \"x\" e \"y\"\n",
        "print(x + y)"
      ],
      "execution_count": 9,
      "outputs": [
        {
          "output_type": "stream",
          "text": [
            "15\n"
          ],
          "name": "stdout"
        }
      ]
    },
    {
      "cell_type": "code",
      "metadata": {
        "colab": {
          "base_uri": "https://localhost:8080/"
        },
        "id": "mH5YY48_vV4w",
        "outputId": "89692e78-e79f-43c2-b9af-caa3caf5df84"
      },
      "source": [
        "# realizando a soma das variáveis \"x\" e \"y\"\n",
        "# o resultado instanciando em uma nova variável \"z\"\n",
        "z = x + y\n",
        "print(z) # imprimindo o valor da variável"
      ],
      "execution_count": 10,
      "outputs": [
        {
          "output_type": "stream",
          "text": [
            "15\n"
          ],
          "name": "stdout"
        }
      ]
    },
    {
      "cell_type": "code",
      "metadata": {
        "colab": {
          "base_uri": "https://localhost:8080/",
          "height": 35
        },
        "id": "yQNiBWu5vVyS",
        "outputId": "f06462e8-7da4-45d1-e47a-107d12b528aa"
      },
      "source": [
        "# forma correta de declaração de uma variável\n",
        "meu_primeiro_nome = 'Fernando'\n",
        "meu_primeiro_nome"
      ],
      "execution_count": 11,
      "outputs": [
        {
          "output_type": "execute_result",
          "data": {
            "application/vnd.google.colaboratory.intrinsic+json": {
              "type": "string"
            },
            "text/plain": [
              "'Fernando'"
            ]
          },
          "metadata": {
            "tags": []
          },
          "execution_count": 11
        }
      ]
    },
    {
      "cell_type": "code",
      "metadata": {
        "colab": {
          "base_uri": "https://localhost:8080/",
          "height": 35
        },
        "id": "rHOardN0vVt8",
        "outputId": "fe691ec0-2051-44ec-cb9a-7195cf3ff82c"
      },
      "source": [
        "# ou\n",
        "meuPrimeiroNome = 'Fernando'\n",
        "meuPrimeiroNome"
      ],
      "execution_count": 12,
      "outputs": [
        {
          "output_type": "execute_result",
          "data": {
            "application/vnd.google.colaboratory.intrinsic+json": {
              "type": "string"
            },
            "text/plain": [
              "'Fernando'"
            ]
          },
          "metadata": {
            "tags": []
          },
          "execution_count": 12
        }
      ]
    },
    {
      "cell_type": "code",
      "metadata": {
        "colab": {
          "base_uri": "https://localhost:8080/",
          "height": 129
        },
        "id": "CxZOWJFGvVr4",
        "outputId": "1efca4ad-6e71-4ab2-b4c3-1ca504352801"
      },
      "source": [
        "# formas erradas de declaração de uma variável\n",
        "# apresentará erro\n",
        "1ºnome = 'Fernando'\n",
        "1º"
      ],
      "execution_count": 13,
      "outputs": [
        {
          "output_type": "error",
          "ename": "SyntaxError",
          "evalue": "ignored",
          "traceback": [
            "\u001b[0;36m  File \u001b[0;32m\"<ipython-input-13-bb66a47451a0>\"\u001b[0;36m, line \u001b[0;32m3\u001b[0m\n\u001b[0;31m    1ºnome = 'Fernando'\u001b[0m\n\u001b[0m         ^\u001b[0m\n\u001b[0;31mSyntaxError\u001b[0m\u001b[0;31m:\u001b[0m invalid syntax\n"
          ]
        }
      ]
    },
    {
      "cell_type": "code",
      "metadata": {
        "colab": {
          "base_uri": "https://localhost:8080/",
          "height": 129
        },
        "id": "9HiWAWrSvVow",
        "outputId": "355a7d38-87b3-4da2-a063-cc447b62f9ed"
      },
      "source": [
        "# outro erro\n",
        "meu-primeiro-nome = 'Fernando'\n",
        "meu-primeiro-nome"
      ],
      "execution_count": 14,
      "outputs": [
        {
          "output_type": "error",
          "ename": "SyntaxError",
          "evalue": "ignored",
          "traceback": [
            "\u001b[0;36m  File \u001b[0;32m\"<ipython-input-14-1599e35370fa>\"\u001b[0;36m, line \u001b[0;32m2\u001b[0m\n\u001b[0;31m    meu-primeiro-nome = 'Fernando'\u001b[0m\n\u001b[0m                                  ^\u001b[0m\n\u001b[0;31mSyntaxError\u001b[0m\u001b[0;31m:\u001b[0m can't assign to operator\n"
          ]
        }
      ]
    },
    {
      "cell_type": "code",
      "metadata": {
        "id": "-qtWvJD5ye1x"
      },
      "source": [
        "# atribuindo um valor comum a três variáveis\n",
        "x = y = z = 'Laranja'"
      ],
      "execution_count": 16,
      "outputs": []
    },
    {
      "cell_type": "code",
      "metadata": {
        "colab": {
          "base_uri": "https://localhost:8080/"
        },
        "id": "scyzT75nyey4",
        "outputId": "e40a2394-4625-477e-c438-b3766aca60fd"
      },
      "source": [
        "print(x, y, z)"
      ],
      "execution_count": 17,
      "outputs": [
        {
          "output_type": "stream",
          "text": [
            "Laranja Laranja Laranja\n"
          ],
          "name": "stdout"
        }
      ]
    },
    {
      "cell_type": "code",
      "metadata": {
        "colab": {
          "base_uri": "https://localhost:8080/",
          "height": 35
        },
        "id": "WCiafSE4zIM-",
        "outputId": "69c00d10-0e1d-49c2-e279-09d856f10ee8"
      },
      "source": [
        "x"
      ],
      "execution_count": 18,
      "outputs": [
        {
          "output_type": "execute_result",
          "data": {
            "application/vnd.google.colaboratory.intrinsic+json": {
              "type": "string"
            },
            "text/plain": [
              "'Laranja'"
            ]
          },
          "metadata": {
            "tags": []
          },
          "execution_count": 18
        }
      ]
    },
    {
      "cell_type": "code",
      "metadata": {
        "colab": {
          "base_uri": "https://localhost:8080/",
          "height": 35
        },
        "id": "_LfsqXBoyev6",
        "outputId": "9cd9eb10-b464-4c9c-8055-182dcc055952"
      },
      "source": [
        "y"
      ],
      "execution_count": 19,
      "outputs": [
        {
          "output_type": "execute_result",
          "data": {
            "application/vnd.google.colaboratory.intrinsic+json": {
              "type": "string"
            },
            "text/plain": [
              "'Laranja'"
            ]
          },
          "metadata": {
            "tags": []
          },
          "execution_count": 19
        }
      ]
    },
    {
      "cell_type": "code",
      "metadata": {
        "colab": {
          "base_uri": "https://localhost:8080/",
          "height": 35
        },
        "id": "KbK8yw2wzBfG",
        "outputId": "a790444d-4330-4880-b49e-be934d9d492b"
      },
      "source": [
        "z"
      ],
      "execution_count": 20,
      "outputs": [
        {
          "output_type": "execute_result",
          "data": {
            "application/vnd.google.colaboratory.intrinsic+json": {
              "type": "string"
            },
            "text/plain": [
              "'Laranja'"
            ]
          },
          "metadata": {
            "tags": []
          },
          "execution_count": 20
        }
      ]
    },
    {
      "cell_type": "code",
      "metadata": {
        "id": "xCXq677ZzTP2"
      },
      "source": [
        "# declarando uma função global\n",
        "def minhaFunc():\n",
        "  global x\n",
        "  x = 'Python'"
      ],
      "execution_count": 21,
      "outputs": []
    },
    {
      "cell_type": "code",
      "metadata": {
        "colab": {
          "base_uri": "https://localhost:8080/"
        },
        "id": "Cxc1vZ20zTNN",
        "outputId": "b8c24a76-4815-4c3c-91e3-1d68169741c5"
      },
      "source": [
        "# imprimindo a declaração da função\n",
        "minhaFunc"
      ],
      "execution_count": 22,
      "outputs": [
        {
          "output_type": "execute_result",
          "data": {
            "text/plain": [
              "<function __main__.minhaFunc>"
            ]
          },
          "metadata": {
            "tags": []
          },
          "execution_count": 22
        }
      ]
    },
    {
      "cell_type": "code",
      "metadata": {
        "id": "6thFgMB9zTLU"
      },
      "source": [
        "# declarando uma função global\n",
        "# como comentário em seu corpo\n",
        "def minhaFunc():\n",
        "  '''\n",
        "  Criando uma função global\n",
        "  '''\n",
        "  global x\n",
        "  x = 'Python'"
      ],
      "execution_count": 23,
      "outputs": []
    },
    {
      "cell_type": "code",
      "metadata": {
        "colab": {
          "base_uri": "https://localhost:8080/"
        },
        "id": "wNBBjEe5zTIe",
        "outputId": "ae35d642-9d59-4657-d7a5-3c71e1cf8d0b"
      },
      "source": [
        "# função \"help\" para ajuda\n",
        "help(minhaFunc)"
      ],
      "execution_count": 24,
      "outputs": [
        {
          "output_type": "stream",
          "text": [
            "Help on function minhaFunc in module __main__:\n",
            "\n",
            "minhaFunc()\n",
            "    Criando uma função global\n",
            "\n"
          ],
          "name": "stdout"
        }
      ]
    },
    {
      "cell_type": "code",
      "metadata": {
        "colab": {
          "base_uri": "https://localhost:8080/"
        },
        "id": "fZBsOz1uzTFr",
        "outputId": "9667fae6-c1c1-4b07-bbf7-833c2a860c1c"
      },
      "source": [
        "# o método \"dir\" lista todas as funções/declarações globais presentes\n",
        "dir()"
      ],
      "execution_count": 25,
      "outputs": [
        {
          "output_type": "execute_result",
          "data": {
            "text/plain": [
              "['In',\n",
              " 'Out',\n",
              " '_',\n",
              " '_11',\n",
              " '_12',\n",
              " '_18',\n",
              " '_19',\n",
              " '_20',\n",
              " '_22',\n",
              " '_4',\n",
              " '_6',\n",
              " '_7',\n",
              " '__',\n",
              " '___',\n",
              " '__builtin__',\n",
              " '__builtins__',\n",
              " '__doc__',\n",
              " '__loader__',\n",
              " '__name__',\n",
              " '__package__',\n",
              " '__spec__',\n",
              " '_dh',\n",
              " '_i',\n",
              " '_i1',\n",
              " '_i10',\n",
              " '_i11',\n",
              " '_i12',\n",
              " '_i13',\n",
              " '_i14',\n",
              " '_i15',\n",
              " '_i16',\n",
              " '_i17',\n",
              " '_i18',\n",
              " '_i19',\n",
              " '_i2',\n",
              " '_i20',\n",
              " '_i21',\n",
              " '_i22',\n",
              " '_i23',\n",
              " '_i24',\n",
              " '_i25',\n",
              " '_i3',\n",
              " '_i4',\n",
              " '_i5',\n",
              " '_i6',\n",
              " '_i7',\n",
              " '_i8',\n",
              " '_i9',\n",
              " '_ih',\n",
              " '_ii',\n",
              " '_iii',\n",
              " '_oh',\n",
              " '_sh',\n",
              " 'exit',\n",
              " 'get_ipython',\n",
              " 'meuPrimeiroNome',\n",
              " 'meu_primeiro_nome',\n",
              " 'minhaFunc',\n",
              " 'nome',\n",
              " 'quit',\n",
              " 'x',\n",
              " 'y',\n",
              " 'z']"
            ]
          },
          "metadata": {
            "tags": []
          },
          "execution_count": 25
        }
      ]
    },
    {
      "cell_type": "code",
      "metadata": {
        "colab": {
          "base_uri": "https://localhost:8080/"
        },
        "id": "K6cYKpSMzTDV",
        "outputId": "8d9e7b14-a9a7-44d5-8486-c650d7bf32ad"
      },
      "source": [
        "# descobrindo o tipo de dado presente na variável\n",
        "# com a função \"type\"\n",
        "x = 5\n",
        "print(type(x))"
      ],
      "execution_count": 26,
      "outputs": [
        {
          "output_type": "stream",
          "text": [
            "<class 'int'>\n"
          ],
          "name": "stdout"
        }
      ]
    },
    {
      "cell_type": "code",
      "metadata": {
        "colab": {
          "base_uri": "https://localhost:8080/"
        },
        "id": "Axriol53zS-g",
        "outputId": "6e4570e6-308c-4003-9bb3-6ce396fd6073"
      },
      "source": [
        "# outro exemplo\n",
        "x = 'Olá mundo!'\n",
        "print(type(x))"
      ],
      "execution_count": 27,
      "outputs": [
        {
          "output_type": "stream",
          "text": [
            "<class 'str'>\n"
          ],
          "name": "stdout"
        }
      ]
    },
    {
      "cell_type": "code",
      "metadata": {
        "colab": {
          "base_uri": "https://localhost:8080/"
        },
        "id": "inFvKe7wzS8V",
        "outputId": "5984717b-5281-4341-83e5-c5afe18a11d0"
      },
      "source": [
        "# mais outro exemplo\n",
        "x = 20.5\n",
        "print(type(x))"
      ],
      "execution_count": 28,
      "outputs": [
        {
          "output_type": "stream",
          "text": [
            "<class 'float'>\n"
          ],
          "name": "stdout"
        }
      ]
    },
    {
      "cell_type": "code",
      "metadata": {
        "colab": {
          "base_uri": "https://localhost:8080/"
        },
        "id": "p5XJgJiGzS5-",
        "outputId": "e3f40f16-522d-48ba-9010-acd5671b1b91"
      },
      "source": [
        "# lista é declarda entre colchetes \"[ ]\"\n",
        "x = ['maçã', 'banana', 'morango', 'uva']\n",
        "print(type(x))"
      ],
      "execution_count": 29,
      "outputs": [
        {
          "output_type": "stream",
          "text": [
            "<class 'list'>\n"
          ],
          "name": "stdout"
        }
      ]
    },
    {
      "cell_type": "code",
      "metadata": {
        "colab": {
          "base_uri": "https://localhost:8080/"
        },
        "id": "HbEQxUfJzS0x",
        "outputId": "ddf13585-5de9-4797-8c81-255f4e35fc74"
      },
      "source": [
        "# tupla é declarada ente parenteses \"( )\"\n",
        "x = ('maçã', 'banana', 'morango', 'uva')\n",
        "print(type(x))"
      ],
      "execution_count": 30,
      "outputs": [
        {
          "output_type": "stream",
          "text": [
            "<class 'tuple'>\n"
          ],
          "name": "stdout"
        }
      ]
    },
    {
      "cell_type": "code",
      "metadata": {
        "colab": {
          "base_uri": "https://localhost:8080/"
        },
        "id": "BiNsTybYzSyk",
        "outputId": "08a5a3fb-37c5-4960-f5be-09c837a9a53e"
      },
      "source": [
        "# dicionário é declarado com uso de chaves \"{ }\"\n",
        "# para um dicionário usamos a estrutura chave e valor\n",
        "# \"chave\": valor\n",
        "x = {'nome': 'Fernando', 'idade': 36}\n",
        "print(type(x))"
      ],
      "execution_count": 31,
      "outputs": [
        {
          "output_type": "stream",
          "text": [
            "<class 'dict'>\n"
          ],
          "name": "stdout"
        }
      ]
    },
    {
      "cell_type": "code",
      "metadata": {
        "colab": {
          "base_uri": "https://localhost:8080/"
        },
        "id": "g40AdmQ5zSvk",
        "outputId": "030a07e7-990c-4dd8-e4e3-85c20c53154b"
      },
      "source": [
        "# valor boleano\n",
        "x= True\n",
        "print(type(x))"
      ],
      "execution_count": 32,
      "outputs": [
        {
          "output_type": "stream",
          "text": [
            "<class 'bool'>\n"
          ],
          "name": "stdout"
        }
      ]
    },
    {
      "cell_type": "code",
      "metadata": {
        "id": "jcPqnoQQ2vl7"
      },
      "source": [
        "# convertendo um valor de uma variável\n",
        "x = 5"
      ],
      "execution_count": 33,
      "outputs": []
    },
    {
      "cell_type": "code",
      "metadata": {
        "colab": {
          "base_uri": "https://localhost:8080/"
        },
        "id": "jPVjNYnH2vjS",
        "outputId": "961c8018-51ef-4cbb-a62b-c5787a648571"
      },
      "source": [
        "type(x) # conferindo o valor atual da variável"
      ],
      "execution_count": 34,
      "outputs": [
        {
          "output_type": "execute_result",
          "data": {
            "text/plain": [
              "int"
            ]
          },
          "metadata": {
            "tags": []
          },
          "execution_count": 34
        }
      ]
    },
    {
      "cell_type": "code",
      "metadata": {
        "id": "xxWikuu02vhZ"
      },
      "source": [
        "# realizando a conversão\n",
        "x = float(x)"
      ],
      "execution_count": 35,
      "outputs": []
    },
    {
      "cell_type": "code",
      "metadata": {
        "colab": {
          "base_uri": "https://localhost:8080/"
        },
        "id": "nkMQYiGf2ves",
        "outputId": "6b10b190-06a3-416b-9b0e-3f80be1a9532"
      },
      "source": [
        "type(x) # imprimindo o tipo de dado atualizado"
      ],
      "execution_count": 36,
      "outputs": [
        {
          "output_type": "execute_result",
          "data": {
            "text/plain": [
              "float"
            ]
          },
          "metadata": {
            "tags": []
          },
          "execution_count": 36
        }
      ]
    },
    {
      "cell_type": "code",
      "metadata": {
        "colab": {
          "base_uri": "https://localhost:8080/"
        },
        "id": "SdUwvk-M2vcT",
        "outputId": "9f61a9e0-6549-407c-8342-804d58685b94"
      },
      "source": [
        "# convertendo um \"float\" para \"int\"\n",
        "x = 5.5\n",
        "x = int(x)\n",
        "print(type(x))"
      ],
      "execution_count": 37,
      "outputs": [
        {
          "output_type": "stream",
          "text": [
            "<class 'int'>\n"
          ],
          "name": "stdout"
        }
      ]
    },
    {
      "cell_type": "code",
      "metadata": {
        "colab": {
          "base_uri": "https://localhost:8080/"
        },
        "id": "vsZWDAbi2vZU",
        "outputId": "51ecfea9-42df-45a5-fef5-85257f65ff9b"
      },
      "source": [
        "# convertendo um valor \"int\" para \"complex\"\n",
        "x = 5\n",
        "x = complex(x)\n",
        "print(type(x))"
      ],
      "execution_count": 38,
      "outputs": [
        {
          "output_type": "stream",
          "text": [
            "<class 'complex'>\n"
          ],
          "name": "stdout"
        }
      ]
    },
    {
      "cell_type": "code",
      "metadata": {
        "colab": {
          "base_uri": "https://localhost:8080/"
        },
        "id": "ksp7inEJ2vXb",
        "outputId": "51dd2520-e0cd-48ee-a7be-49ff1df76b18"
      },
      "source": [
        "# realizando a contagem de uma variável\n",
        "# com a função \"len\"\n",
        "x = 'Hello World!'\n",
        "print(len(x))"
      ],
      "execution_count": 39,
      "outputs": [
        {
          "output_type": "stream",
          "text": [
            "12\n"
          ],
          "name": "stdout"
        }
      ]
    },
    {
      "cell_type": "code",
      "metadata": {
        "colab": {
          "base_uri": "https://localhost:8080/"
        },
        "id": "234nP-ya2vUh",
        "outputId": "86991906-1289-4b1e-9dbc-f244cf2cdb91"
      },
      "source": [
        "# imprimindo o primeiro caracter da variável\n",
        "txt = 'Hello World!'\n",
        "x = txt[0]\n",
        "print(x)"
      ],
      "execution_count": 40,
      "outputs": [
        {
          "output_type": "stream",
          "text": [
            "H\n"
          ],
          "name": "stdout"
        }
      ]
    },
    {
      "cell_type": "code",
      "metadata": {
        "colab": {
          "base_uri": "https://localhost:8080/"
        },
        "id": "_LqxtZDE2vRn",
        "outputId": "28765597-4577-48c7-a0a4-001484401992"
      },
      "source": [
        "# imprimindo os caracteres \"llo\"\n",
        "# entre segundo e quarto índice\n",
        "txt = 'Hello World!'\n",
        "x = txt[2:5]\n",
        "print(x)"
      ],
      "execution_count": 41,
      "outputs": [
        {
          "output_type": "stream",
          "text": [
            "llo\n"
          ],
          "name": "stdout"
        }
      ]
    },
    {
      "cell_type": "code",
      "metadata": {
        "colab": {
          "base_uri": "https://localhost:8080/"
        },
        "id": "j9NJahJg2vPV",
        "outputId": "1442d6e1-a69a-4d07-bc10-2839cf4213cf"
      },
      "source": [
        "# removendo os espaços vazios da variável - inicio e fim\n",
        "txt = '  Hello World!  ' # dois espaços vazios no inicio e final da variável\n",
        "print(len(txt)) # imprimindo a quantidade de caracteres presentes na variável\n",
        "\n",
        "x = txt.strip() # removendo os espaços vazios\n",
        "print(len(x))\n",
        "print(x)"
      ],
      "execution_count": 42,
      "outputs": [
        {
          "output_type": "stream",
          "text": [
            "16\n",
            "12\n",
            "Hello World!\n"
          ],
          "name": "stdout"
        }
      ]
    },
    {
      "cell_type": "code",
      "metadata": {
        "colab": {
          "base_uri": "https://localhost:8080/",
          "height": 35
        },
        "id": "Kjp2-0Xq2vNa",
        "outputId": "b034c4da-0bac-46d4-d439-c23fbe5bba11"
      },
      "source": [
        "# transformando a variável para caixa alta\n",
        "# com a função \"upper()\"\n",
        "txt = 'Hello World!'\n",
        "txt = txt.upper()\n",
        "txt"
      ],
      "execution_count": 43,
      "outputs": [
        {
          "output_type": "execute_result",
          "data": {
            "application/vnd.google.colaboratory.intrinsic+json": {
              "type": "string"
            },
            "text/plain": [
              "'HELLO WORLD!'"
            ]
          },
          "metadata": {
            "tags": []
          },
          "execution_count": 43
        }
      ]
    },
    {
      "cell_type": "code",
      "metadata": {
        "colab": {
          "base_uri": "https://localhost:8080/",
          "height": 35
        },
        "id": "3iXPrDbV2vJ5",
        "outputId": "a9b76413-30d4-4f2f-e644-50717c216efc"
      },
      "source": [
        "# transformando a variável para caixa baixa\n",
        "# com a função \"lower()\"\n",
        "txt = 'Hello World!'\n",
        "txt = txt.lower()\n",
        "txt"
      ],
      "execution_count": 44,
      "outputs": [
        {
          "output_type": "execute_result",
          "data": {
            "application/vnd.google.colaboratory.intrinsic+json": {
              "type": "string"
            },
            "text/plain": [
              "'hello world!'"
            ]
          },
          "metadata": {
            "tags": []
          },
          "execution_count": 44
        }
      ]
    },
    {
      "cell_type": "code",
      "metadata": {
        "colab": {
          "base_uri": "https://localhost:8080/",
          "height": 35
        },
        "id": "O1w4MJvW2vE_",
        "outputId": "5f19023e-3b75-47c3-981b-50ede642d4e1"
      },
      "source": [
        "# realizando a troca de um caracter na variável\n",
        "# com a função \"replace\"\n",
        "txt = 'Hello World!'\n",
        "txt = txt.replace('H', 'J')\n",
        "txt"
      ],
      "execution_count": 45,
      "outputs": [
        {
          "output_type": "execute_result",
          "data": {
            "application/vnd.google.colaboratory.intrinsic+json": {
              "type": "string"
            },
            "text/plain": [
              "'Jello World!'"
            ]
          },
          "metadata": {
            "tags": []
          },
          "execution_count": 45
        }
      ]
    },
    {
      "cell_type": "code",
      "metadata": {
        "colab": {
          "base_uri": "https://localhost:8080/"
        },
        "id": "4UqZPnmD2vCd",
        "outputId": "c18b2e8e-f952-4a0e-d8ea-ce29bad85d46"
      },
      "source": [
        "# adicionado um valor da variável e um texto\n",
        "idade = 36\n",
        "txt = 'Meu nome é Fernando, e tenho {}'\n",
        "print(txt.format(idade))"
      ],
      "execution_count": 46,
      "outputs": [
        {
          "output_type": "stream",
          "text": [
            "Meu nome é Fernando, e tenho 36\n"
          ],
          "name": "stdout"
        }
      ]
    },
    {
      "cell_type": "code",
      "metadata": {
        "colab": {
          "base_uri": "https://localhost:8080/"
        },
        "id": "MHKDex4o2vAf",
        "outputId": "6693423e-ce7a-48a7-f33a-973a62165e89"
      },
      "source": [
        "# comparações boleanas\n",
        "print(10 > 9)"
      ],
      "execution_count": 47,
      "outputs": [
        {
          "output_type": "stream",
          "text": [
            "True\n"
          ],
          "name": "stdout"
        }
      ]
    },
    {
      "cell_type": "code",
      "metadata": {
        "colab": {
          "base_uri": "https://localhost:8080/"
        },
        "id": "1RwXuYlw2u9l",
        "outputId": "46d57ddf-2b8f-4ac8-fd86-5619a09594e8"
      },
      "source": [
        "# outros exemplos\n",
        "print(10 == 9)\n",
        "print(10 < 9)\n",
        "print(bool('abc'))\n",
        "print(bool(0))"
      ],
      "execution_count": 48,
      "outputs": [
        {
          "output_type": "stream",
          "text": [
            "False\n",
            "False\n",
            "True\n",
            "False\n"
          ],
          "name": "stdout"
        }
      ]
    },
    {
      "cell_type": "code",
      "metadata": {
        "colab": {
          "base_uri": "https://localhost:8080/"
        },
        "id": "5Jv0z4dy2u8D",
        "outputId": "654c53a2-bc71-4fb7-df8d-02f2bac714e4"
      },
      "source": [
        "# multiplicação\n",
        "print(10 * 5)"
      ],
      "execution_count": 49,
      "outputs": [
        {
          "output_type": "stream",
          "text": [
            "50\n"
          ],
          "name": "stdout"
        }
      ]
    },
    {
      "cell_type": "code",
      "metadata": {
        "colab": {
          "base_uri": "https://localhost:8080/"
        },
        "id": "pxyXhpFR2u5W",
        "outputId": "a947dc9e-db2d-4401-d6c5-9ac1ec2102de"
      },
      "source": [
        "# divisão\n",
        "print(10 / 2)"
      ],
      "execution_count": 50,
      "outputs": [
        {
          "output_type": "stream",
          "text": [
            "5.0\n"
          ],
          "name": "stdout"
        }
      ]
    },
    {
      "cell_type": "code",
      "metadata": {
        "colab": {
          "base_uri": "https://localhost:8080/"
        },
        "id": "U7Y-LzX72u2e",
        "outputId": "f141e422-512c-45bf-bbad-04c0288af541"
      },
      "source": [
        "# verificação se um valor esta presente em uma lista\n",
        "frutas = ['maçã', 'banana', 'uva']\n",
        "if 'maçã' in frutas:\n",
        "  print('Sim, temos maçã na lista!')"
      ],
      "execution_count": 51,
      "outputs": [
        {
          "output_type": "stream",
          "text": [
            "Sim, temos maçã na lista!\n"
          ],
          "name": "stdout"
        }
      ]
    },
    {
      "cell_type": "code",
      "metadata": {
        "id": "BfAnNjUb2uzr"
      },
      "source": [
        "# já este código abaixo não retornará nenhuma mensagem\n",
        "# só temos retorno quando a condição é verdadeira\n",
        "frutas = ['maçã', 'banana', 'uva']\n",
        "if 'melão' in frutas:\n",
        "  print('Sim, temos melão na lista!')"
      ],
      "execution_count": 52,
      "outputs": []
    },
    {
      "cell_type": "code",
      "metadata": {
        "colab": {
          "base_uri": "https://localhost:8080/"
        },
        "id": "AgtQDBV02uwy",
        "outputId": "36a9b958-32df-4da4-bfbc-5cba65e66eb3"
      },
      "source": [
        "# podemos melhor nosso código, utilizando o \"else\"\n",
        "# a função \"else\" retorna uma condição falsa\n",
        "frutas = ['maçã', 'banana', 'uva']\n",
        "if 'melão' in frutas:\n",
        "  print('Sim, temos melão na lista!')\n",
        "\n",
        "else:\n",
        "  print('Infelizemente não temos essa fruta em nossa lista!')"
      ],
      "execution_count": 53,
      "outputs": [
        {
          "output_type": "stream",
          "text": [
            "Infelizemente não temos essa fruta em nossa lista!\n"
          ],
          "name": "stdout"
        }
      ]
    },
    {
      "cell_type": "code",
      "metadata": {
        "colab": {
          "base_uri": "https://localhost:8080/"
        },
        "id": "x-2FYv7IDyw_",
        "outputId": "a3d27293-6dc1-4bb0-a561-7b7febcecd9f"
      },
      "source": [
        "# comparação entre valores\n",
        "# 5 é diferente de 10\n",
        "# utilizamos o \"!=\"\n",
        "if 5 != 10:\n",
        "  print('5 e 10 não é igual')"
      ],
      "execution_count": 54,
      "outputs": [
        {
          "output_type": "stream",
          "text": [
            "5 e 10 não é igual\n"
          ],
          "name": "stdout"
        }
      ]
    },
    {
      "cell_type": "code",
      "metadata": {
        "colab": {
          "base_uri": "https://localhost:8080/"
        },
        "id": "2PY9fEGQDyuX",
        "outputId": "f066f1e2-ccba-4384-be5f-a9a5405e2981"
      },
      "source": [
        "# 5 é igual a 10 ou 4 é igual a 4\n",
        "# para está condição, utilizamos o \"or\"\n",
        "if 5 == 10 or 4 == 4:\n",
        "  print('Pelo menos uma das afirmações é verdadeira')"
      ],
      "execution_count": 55,
      "outputs": [
        {
          "output_type": "stream",
          "text": [
            "Pelo menos uma das afirmações é verdadeira\n"
          ],
          "name": "stdout"
        }
      ]
    },
    {
      "cell_type": "code",
      "metadata": {
        "colab": {
          "base_uri": "https://localhost:8080/"
        },
        "id": "TQK7tb1PDysD",
        "outputId": "ff5925f3-33aa-4608-ce92-96146fc25d2d"
      },
      "source": [
        "# imprimindo o segundo item da lista\n",
        "frutas = ['banana', 'maçã', 'uva']\n",
        "print(frutas[1])"
      ],
      "execution_count": 56,
      "outputs": [
        {
          "output_type": "stream",
          "text": [
            "maçã\n"
          ],
          "name": "stdout"
        }
      ]
    },
    {
      "cell_type": "code",
      "metadata": {
        "colab": {
          "base_uri": "https://localhost:8080/"
        },
        "id": "upG8OjJjDypT",
        "outputId": "2795da42-2182-4021-f7ad-dc008a8b5cc6"
      },
      "source": [
        "# mudando o valor de m item em uma lista\n",
        "# trocando a maça por kiwi\n",
        "frutas = ['maça', 'banana', 'morango']\n",
        "frutas[0] = 'kiwi'\n",
        "frutas"
      ],
      "execution_count": 57,
      "outputs": [
        {
          "output_type": "execute_result",
          "data": {
            "text/plain": [
              "['kiwi', 'banana', 'morango']"
            ]
          },
          "metadata": {
            "tags": []
          },
          "execution_count": 57
        }
      ]
    },
    {
      "cell_type": "code",
      "metadata": {
        "colab": {
          "base_uri": "https://localhost:8080/"
        },
        "id": "_PkhYmFNDym_",
        "outputId": "f6797135-8217-400a-f7e2-9061db949f78"
      },
      "source": [
        "# adicionado um item novo na lista, laranja\n",
        "# utilizando o método \"append\"\n",
        "frutas = ['maça', 'banana', 'morango']\n",
        "frutas.append('laranja')\n",
        "frutas"
      ],
      "execution_count": 58,
      "outputs": [
        {
          "output_type": "execute_result",
          "data": {
            "text/plain": [
              "['maça', 'banana', 'morango', 'laranja']"
            ]
          },
          "metadata": {
            "tags": []
          },
          "execution_count": 58
        }
      ]
    },
    {
      "cell_type": "code",
      "metadata": {
        "id": "-ptcvZhLDyjx",
        "colab": {
          "base_uri": "https://localhost:8080/"
        },
        "outputId": "7a6043ed-8d70-4f57-af9f-b89f88d05071"
      },
      "source": [
        "# adicionando o limão como segundo item na lista\n",
        "# utlizando o método \"insert\" e passando a posição que deseja\n",
        "frutas = ['maçã', 'banana', 'morango']\n",
        "frutas.insert(1,'limão')\n",
        "frutas"
      ],
      "execution_count": 59,
      "outputs": [
        {
          "output_type": "execute_result",
          "data": {
            "text/plain": [
              "['maçã', 'limão', 'banana', 'morango']"
            ]
          },
          "metadata": {
            "tags": []
          },
          "execution_count": 59
        }
      ]
    },
    {
      "cell_type": "code",
      "metadata": {
        "colab": {
          "base_uri": "https://localhost:8080/"
        },
        "id": "fGvE5rCAAZ3u",
        "outputId": "abdd4025-3232-481e-863e-a5499c460649"
      },
      "source": [
        "# removendo o item banana da lista\n",
        "# com o métdo \"remove\"\n",
        "frutas = ['maçã', 'banana', 'morango']\n",
        "frutas.remove('banana')\n",
        "frutas"
      ],
      "execution_count": 60,
      "outputs": [
        {
          "output_type": "execute_result",
          "data": {
            "text/plain": [
              "['maçã', 'morango']"
            ]
          },
          "metadata": {
            "tags": []
          },
          "execution_count": 60
        }
      ]
    },
    {
      "cell_type": "code",
      "metadata": {
        "colab": {
          "base_uri": "https://localhost:8080/"
        },
        "id": "7TriPZugAZz4",
        "outputId": "03cbc8f0-a936-4336-e47c-fba034b42f09"
      },
      "source": [
        "# usando o índice negativo para imprimir o último item da lista\n",
        "frutas = ['maça', 'banana', 'morango']\n",
        "print(frutas[-1])"
      ],
      "execution_count": 61,
      "outputs": [
        {
          "output_type": "stream",
          "text": [
            "morango\n"
          ],
          "name": "stdout"
        }
      ]
    },
    {
      "cell_type": "code",
      "metadata": {
        "colab": {
          "base_uri": "https://localhost:8080/"
        },
        "id": "QcqaGtliAZxw",
        "outputId": "0c1e8be3-2535-4e84-cad9-e7dc076ed065"
      },
      "source": [
        "# usando a função \"range\" para os índices \n",
        "# imprimindo do terceiro até o quinto itme da lista\n",
        "frutas = ['maça', 'banana', 'morango', 'laranja', 'kiwi', 'melão', 'manga']\n",
        "print(frutas[2:5])"
      ],
      "execution_count": 62,
      "outputs": [
        {
          "output_type": "stream",
          "text": [
            "['morango', 'laranja', 'kiwi']\n"
          ],
          "name": "stdout"
        }
      ]
    },
    {
      "cell_type": "code",
      "metadata": {
        "colab": {
          "base_uri": "https://localhost:8080/"
        },
        "id": "55D4f6lBAZvY",
        "outputId": "a1fef055-f2f0-4864-ea94-ae55918f14b2"
      },
      "source": [
        "# usando a correta sintaxe para imprimir os números dos itens da lista\n",
        "frutas = ['maçã', 'banana', 'morango']\n",
        "print(len(frutas))"
      ],
      "execution_count": 63,
      "outputs": [
        {
          "output_type": "stream",
          "text": [
            "3\n"
          ],
          "name": "stdout"
        }
      ]
    },
    {
      "cell_type": "code",
      "metadata": {
        "colab": {
          "base_uri": "https://localhost:8080/"
        },
        "id": "u2SJl8L0AZtw",
        "outputId": "7dc16d1c-f0ee-4e9b-8dbf-7ea5ec336173"
      },
      "source": [
        "# imprimindo o primeiro item da tupla\n",
        "frutas = ('maçã', 'banana', 'morango')\n",
        "print(frutas[0])"
      ],
      "execution_count": 64,
      "outputs": [
        {
          "output_type": "stream",
          "text": [
            "maçã\n"
          ],
          "name": "stdout"
        }
      ]
    },
    {
      "cell_type": "code",
      "metadata": {
        "colab": {
          "base_uri": "https://localhost:8080/"
        },
        "id": "O5fpfsQkAZrP",
        "outputId": "0aeabd01-f848-48b3-e603-f4de71f67901"
      },
      "source": [
        "# imprimindo a quantidade de itens da tupla\n",
        "frutas = ('maçã', 'banana', 'morango')\n",
        "print(len(frutas))"
      ],
      "execution_count": 65,
      "outputs": [
        {
          "output_type": "stream",
          "text": [
            "3\n"
          ],
          "name": "stdout"
        }
      ]
    },
    {
      "cell_type": "code",
      "metadata": {
        "colab": {
          "base_uri": "https://localhost:8080/"
        },
        "id": "QRP0cQdxAZnw",
        "outputId": "73000693-08ed-46bf-a44a-0ba020a10854"
      },
      "source": [
        "# usando o indice negativo para imprimir o último item da tupla\n",
        "frutas = ('maçã', 'banana', 'morango')\n",
        "print(frutas[-1])"
      ],
      "execution_count": 66,
      "outputs": [
        {
          "output_type": "stream",
          "text": [
            "morango\n"
          ],
          "name": "stdout"
        }
      ]
    },
    {
      "cell_type": "code",
      "metadata": {
        "colab": {
          "base_uri": "https://localhost:8080/"
        },
        "id": "zzuvQXcEAZlr",
        "outputId": "d088bf2e-204e-4365-a51e-ac33d0abd8b2"
      },
      "source": [
        "# usando o método \"range\" e os seus índices para iprimir os itens\n",
        "# terceiro, quarto e quinto da tupla\n",
        "frutas = ('maçã', 'banana', 'morango', 'laranja', 'kiwi', 'melão', 'manga')\n",
        "print(frutas[2:5])"
      ],
      "execution_count": null,
      "outputs": [
        {
          "output_type": "stream",
          "text": [
            "('morango', 'laranja', 'kiwi')\n"
          ],
          "name": "stdout"
        }
      ]
    },
    {
      "cell_type": "code",
      "metadata": {
        "colab": {
          "base_uri": "https://localhost:8080/"
        },
        "id": "PQjdtKR-AZj5",
        "outputId": "9f90cc84-362e-4690-d177-1b2aa79e2177"
      },
      "source": [
        "# checando se \"maçã\" está presente\n",
        "frutas = {'maçã', 'banana', 'morango'}\n",
        "if 'maçã' in frutas:\n",
        "  print('Sim, temos maçã!')"
      ],
      "execution_count": null,
      "outputs": [
        {
          "output_type": "stream",
          "text": [
            "Sim, temos maçã!\n"
          ],
          "name": "stdout"
        }
      ]
    },
    {
      "cell_type": "code",
      "metadata": {
        "colab": {
          "base_uri": "https://localhost:8080/"
        },
        "id": "V9yqKEEIAZgy",
        "outputId": "b6b529e2-cf82-44d6-9386-d200ee0f16ee"
      },
      "source": [
        "# usando o método \"add\" para adicionar  a \"laranja\" o set de frutas\n",
        "frutas = {'maçã', 'banana', 'morango'}\n",
        "frutas.add('laranja')\n",
        "frutas"
      ],
      "execution_count": null,
      "outputs": [
        {
          "output_type": "execute_result",
          "data": {
            "text/plain": [
              "{'banana', 'laranja', 'maçã', 'morango'}"
            ]
          },
          "metadata": {
            "tags": []
          },
          "execution_count": 15
        }
      ]
    },
    {
      "cell_type": "code",
      "metadata": {
        "colab": {
          "base_uri": "https://localhost:8080/"
        },
        "id": "OUM2oVd-AZd5",
        "outputId": "3408917d-96e2-4d78-d2e1-6fe3e3e4e4af"
      },
      "source": [
        "# usando o método correto para adicionar multiplos itens para o set de frutas\n",
        "frutas = {'maça', 'banana', 'morango'}\n",
        "mais_frutas = {'laranja', 'manga', 'uvas'}\n",
        "frutas.update(mais_frutas)\n",
        "frutas"
      ],
      "execution_count": null,
      "outputs": [
        {
          "output_type": "execute_result",
          "data": {
            "text/plain": [
              "{'banana', 'laranja', 'manga', 'maça', 'morango', 'uvas'}"
            ]
          },
          "metadata": {
            "tags": []
          },
          "execution_count": 17
        }
      ]
    },
    {
      "cell_type": "code",
      "metadata": {
        "colab": {
          "base_uri": "https://localhost:8080/"
        },
        "id": "mmLbLipcFLvt",
        "outputId": "7cebcc3b-bb8f-4a51-c421-91c559d54033"
      },
      "source": [
        "# usando o método \"remove\" para remover a \"banana\" do set de frutas\n",
        "frutas = {'maçã', 'banana', 'morango'}\n",
        "frutas.remove('banana')\n",
        "frutas"
      ],
      "execution_count": null,
      "outputs": [
        {
          "output_type": "execute_result",
          "data": {
            "text/plain": [
              "{'maçã', 'morango'}"
            ]
          },
          "metadata": {
            "tags": []
          },
          "execution_count": 18
        }
      ]
    },
    {
      "cell_type": "code",
      "metadata": {
        "colab": {
          "base_uri": "https://localhost:8080/"
        },
        "id": "LC2Nz_IsFLtt",
        "outputId": "7ca016db-accb-486e-81f6-e4640ec361b2"
      },
      "source": [
        "# usando o método \"discard\" pra remover a \"banana\" do set de frutas\n",
        "frutas = {'maçã', 'banana', 'morango'}\n",
        "frutas.discard('banana')\n",
        "frutas"
      ],
      "execution_count": null,
      "outputs": [
        {
          "output_type": "execute_result",
          "data": {
            "text/plain": [
              "{'maçã', 'morango'}"
            ]
          },
          "metadata": {
            "tags": []
          },
          "execution_count": 19
        }
      ]
    },
    {
      "cell_type": "code",
      "metadata": {
        "colab": {
          "base_uri": "https://localhost:8080/"
        },
        "id": "rjVntZjcFLqH",
        "outputId": "bd4aebea-bacc-4126-a346-fa945bad9564"
      },
      "source": [
        "# use o método \"get\" para imprimir a valor da chave \"model\" do dicionário \"carro\"\n",
        "carro = { \n",
        "    'marca' : 'Ford',\n",
        "    'modelo': 'Mustang',\n",
        "    'anoa'  : 1964\n",
        "}\n",
        "\n",
        "print(carro.get('modelo'))"
      ],
      "execution_count": null,
      "outputs": [
        {
          "output_type": "stream",
          "text": [
            "Mustang\n"
          ],
          "name": "stdout"
        }
      ]
    },
    {
      "cell_type": "code",
      "metadata": {
        "colab": {
          "base_uri": "https://localhost:8080/"
        },
        "id": "wsNtug11FLnM",
        "outputId": "3f30c01f-23fc-4549-9227-b33249438554"
      },
      "source": [
        "# mudando o \"ano\" de 1964 para 2020\n",
        "carro = {\n",
        "    'marca' : 'Ford',\n",
        "    'modelo': 'Mustang',\n",
        "    'ano'   : 1964\n",
        "}\n",
        "\n",
        "carro['ano'] = 2020\n",
        "\n",
        "carro"
      ],
      "execution_count": null,
      "outputs": [
        {
          "output_type": "execute_result",
          "data": {
            "text/plain": [
              "{'ano': 2020, 'marca': 'Ford', 'modelo': 'Mustang'}"
            ]
          },
          "metadata": {
            "tags": []
          },
          "execution_count": 27
        }
      ]
    },
    {
      "cell_type": "code",
      "metadata": {
        "colab": {
          "base_uri": "https://localhost:8080/"
        },
        "id": "uGZprhnAFLlA",
        "outputId": "c7a26a05-7461-482c-ddf2-6d4d770570f8"
      },
      "source": [
        "# adicionar chave/valor para \"cor\": \"vermelho\" no dicionário \"carro\"\n",
        "carro = {\n",
        "    'marca' : 'Ford',\n",
        "    'modelo': 'Mustang',\n",
        "    'ano'   : 1964\n",
        "}\n",
        "\n",
        "carro['cor'] = 'vermelho'\n",
        "\n",
        "carro"
      ],
      "execution_count": null,
      "outputs": [
        {
          "output_type": "execute_result",
          "data": {
            "text/plain": [
              "{'ano': 1964, 'cor': 'vermelho', 'marca': 'Ford', 'modelo': 'Mustang'}"
            ]
          },
          "metadata": {
            "tags": []
          },
          "execution_count": 29
        }
      ]
    },
    {
      "cell_type": "code",
      "metadata": {
        "id": "ePQeeGnCFLjB",
        "colab": {
          "base_uri": "https://localhost:8080/"
        },
        "outputId": "19cceaba-4a22-43c8-8321-df6570908b76"
      },
      "source": [
        "# usando o método \"pop\" para remover \"modelo\" do dicionário\n",
        "carro = { \n",
        "    'marca' : 'Ford',\n",
        "    'modelo': 'Mustang',\n",
        "    'ano'   : 1964\n",
        "}\n",
        "\n",
        "carro.pop('modelo')\n",
        "carro"
      ],
      "execution_count": null,
      "outputs": [
        {
          "output_type": "execute_result",
          "data": {
            "text/plain": [
              "{'ano': 1964, 'marca': 'Ford'}"
            ]
          },
          "metadata": {
            "tags": []
          },
          "execution_count": 1
        }
      ]
    },
    {
      "cell_type": "code",
      "metadata": {
        "id": "jiSaw3BoFLhb",
        "colab": {
          "base_uri": "https://localhost:8080/"
        },
        "outputId": "678f386f-35ed-4fcd-9240-264180b265d6"
      },
      "source": [
        "# usando o método \"clear\" para limpar todo o dicionário\n",
        "carro = { \n",
        "    'marca': 'Ford',\n",
        "    'modelo': 'Mustang',\n",
        "    'ano': 1964\n",
        "}\n",
        "\n",
        "carro.clear()\n",
        "carro"
      ],
      "execution_count": 67,
      "outputs": [
        {
          "output_type": "execute_result",
          "data": {
            "text/plain": [
              "{}"
            ]
          },
          "metadata": {
            "tags": []
          },
          "execution_count": 67
        }
      ]
    },
    {
      "cell_type": "code",
      "metadata": {
        "id": "w8jgadSfFLfF",
        "colab": {
          "base_uri": "https://localhost:8080/"
        },
        "outputId": "5ed5c803-4040-4cec-827f-e8fdd945c225"
      },
      "source": [
        "# imprimindo \"Hello World\" se \"a\" é maior que \"b\"\n",
        "a = 50\n",
        "b = 10\n",
        "\n",
        "if a > b:\n",
        "  print('Hello World')"
      ],
      "execution_count": 68,
      "outputs": [
        {
          "output_type": "stream",
          "text": [
            "Hello World\n"
          ],
          "name": "stdout"
        }
      ]
    },
    {
      "cell_type": "code",
      "metadata": {
        "id": "UkhF8NR-FLcW",
        "colab": {
          "base_uri": "https://localhost:8080/"
        },
        "outputId": "368f9a0c-5379-4d5e-f949-99754ac50635"
      },
      "source": [
        "# imprimindo \"Hello World\" se \"a\" não é igual a \"b\"\n",
        "a = 50\n",
        "b = 10\n",
        "\n",
        "if a != b:\n",
        "  print('Hello World')"
      ],
      "execution_count": 69,
      "outputs": [
        {
          "output_type": "stream",
          "text": [
            "Hello World\n"
          ],
          "name": "stdout"
        }
      ]
    },
    {
      "cell_type": "code",
      "metadata": {
        "id": "SUSpBqvAFLXa",
        "colab": {
          "base_uri": "https://localhost:8080/"
        },
        "outputId": "61a871aa-182d-409c-91d5-b01a2ddf016e"
      },
      "source": [
        "# imprimindo \"Sim\" se \"a\" é igual a \"b\", outro caso imprimi \"Não\"\n",
        "a = 50 \n",
        "b = 10\n",
        "\n",
        "if a == b:\n",
        "  print('Sim')\n",
        "else:\n",
        "  print('Não')"
      ],
      "execution_count": 70,
      "outputs": [
        {
          "output_type": "stream",
          "text": [
            "Não\n"
          ],
          "name": "stdout"
        }
      ]
    },
    {
      "cell_type": "code",
      "metadata": {
        "id": "LCEVVjhWFLSz",
        "colab": {
          "base_uri": "https://localhost:8080/"
        },
        "outputId": "f16d3268-9417-46c8-d316-eb77dfb8f4da"
      },
      "source": [
        "# imprimindo \"1\" se \"a\" é igual a \"b\"\n",
        "# imprimindo \"2\" se \"a\" é maior que \"b\"\n",
        "# e outro caso imprimi \"3\"\n",
        "a = 50\n",
        "b = 10\n",
        "\n",
        "if a == b:\n",
        "  print('1')\n",
        "elif a > b:\n",
        "  print('2')\n",
        "else:\n",
        "  print('3')"
      ],
      "execution_count": 71,
      "outputs": [
        {
          "output_type": "stream",
          "text": [
            "2\n"
          ],
          "name": "stdout"
        }
      ]
    },
    {
      "cell_type": "code",
      "metadata": {
        "id": "X4-eQPx7FLQR"
      },
      "source": [
        "# imprimindo \"Hello\" if \"a\" é igual a \"b\", e \"c\" é igual a \"d\"\n",
        "if a == b and c == d:\n",
        "  print('Hello')"
      ],
      "execution_count": 72,
      "outputs": []
    },
    {
      "cell_type": "code",
      "metadata": {
        "id": "li3Hyh2yFLNF",
        "colab": {
          "base_uri": "https://localhost:8080/",
          "height": 197
        },
        "outputId": "56a5ddb3-9448-4993-84a4-5a2550651926"
      },
      "source": [
        "# imprimindo \"Hello\" se \"a\" é igual a \"b\", ou \"c\" é igual a \"d\"\n",
        "if a == b or c == d:\n",
        "  print('Hello')"
      ],
      "execution_count": 73,
      "outputs": [
        {
          "output_type": "error",
          "ename": "NameError",
          "evalue": "ignored",
          "traceback": [
            "\u001b[0;31m---------------------------------------------------------------------------\u001b[0m",
            "\u001b[0;31mNameError\u001b[0m                                 Traceback (most recent call last)",
            "\u001b[0;32m<ipython-input-73-79e725db5cf6>\u001b[0m in \u001b[0;36m<module>\u001b[0;34m()\u001b[0m\n\u001b[1;32m      1\u001b[0m \u001b[0;31m# imprimindo \"Hello\" se \"a\" é igual a \"b\", ou \"c\" é igual a \"d\"\u001b[0m\u001b[0;34m\u001b[0m\u001b[0;34m\u001b[0m\u001b[0;34m\u001b[0m\u001b[0m\n\u001b[0;32m----> 2\u001b[0;31m \u001b[0;32mif\u001b[0m \u001b[0ma\u001b[0m \u001b[0;34m==\u001b[0m \u001b[0mb\u001b[0m \u001b[0;32mor\u001b[0m \u001b[0mc\u001b[0m \u001b[0;34m==\u001b[0m \u001b[0md\u001b[0m\u001b[0;34m:\u001b[0m\u001b[0;34m\u001b[0m\u001b[0;34m\u001b[0m\u001b[0m\n\u001b[0m\u001b[1;32m      3\u001b[0m   \u001b[0mprint\u001b[0m\u001b[0;34m(\u001b[0m\u001b[0;34m'Hello'\u001b[0m\u001b[0;34m)\u001b[0m\u001b[0;34m\u001b[0m\u001b[0;34m\u001b[0m\u001b[0m\n",
            "\u001b[0;31mNameError\u001b[0m: name 'c' is not defined"
          ]
        }
      ]
    },
    {
      "cell_type": "code",
      "metadata": {
        "colab": {
          "base_uri": "https://localhost:8080/"
        },
        "id": "kfPnyBWPMtnU",
        "outputId": "52b9f0c7-c79b-4ab7-d1ec-e454510ce18f"
      },
      "source": [
        "# este exercício é para corrigir a indentação\n",
        "if 5 > 2:\n",
        "  print('Cinco é maior que dois! ')"
      ],
      "execution_count": 74,
      "outputs": [
        {
          "output_type": "stream",
          "text": [
            "Cinco é maior que dois! \n"
          ],
          "name": "stdout"
        }
      ]
    },
    {
      "cell_type": "code",
      "metadata": {
        "colab": {
          "base_uri": "https://localhost:8080/"
        },
        "id": "wirXO9v4Mtk8",
        "outputId": "a9e6bcb2-e17e-48bd-ae94-7e17701c3b2d"
      },
      "source": [
        "# declarando toda a condicional em uma única linha\n",
        "print(\"Yes\") if 5 > 2 else print(\"No\")"
      ],
      "execution_count": 75,
      "outputs": [
        {
          "output_type": "stream",
          "text": [
            "Yes\n"
          ],
          "name": "stdout"
        }
      ]
    },
    {
      "cell_type": "code",
      "metadata": {
        "colab": {
          "base_uri": "https://localhost:8080/"
        },
        "id": "NGAzPc-dP-Af",
        "outputId": "20462f12-0ddd-4b44-f2c2-95422bb54872"
      },
      "source": [
        "# imprima i, desde que i seja inferior a 6\n",
        "i = 1\n",
        "\n",
        "while i < 6:\n",
        "  print(i)\n",
        "  i += 1"
      ],
      "execution_count": 76,
      "outputs": [
        {
          "output_type": "stream",
          "text": [
            "1\n",
            "2\n",
            "3\n",
            "4\n",
            "5\n"
          ],
          "name": "stdout"
        }
      ]
    },
    {
      "cell_type": "code",
      "metadata": {
        "id": "gNUORFRKMtip"
      },
      "source": [
        "# parando o loop se é 3\n",
        "i = 1\n",
        "\n",
        "while i < 6:\n",
        "  if i == 3:\n",
        "    break\n",
        "  i += 1"
      ],
      "execution_count": 77,
      "outputs": []
    },
    {
      "cell_type": "code",
      "metadata": {
        "colab": {
          "base_uri": "https://localhost:8080/"
        },
        "id": "J6QHGfEhMthD",
        "outputId": "8108491a-7a8c-4a63-e2b9-5b6645e46935"
      },
      "source": [
        "# no loop, quando i for 3, pule diretamente para a próxima iteração\n",
        "i = 0\n",
        "\n",
        "while i < 6:\n",
        "  i += 1\n",
        "  if i == 3:\n",
        "    continue\n",
        "  print(i)"
      ],
      "execution_count": 78,
      "outputs": [
        {
          "output_type": "stream",
          "text": [
            "1\n",
            "2\n",
            "4\n",
            "5\n",
            "6\n"
          ],
          "name": "stdout"
        }
      ]
    },
    {
      "cell_type": "code",
      "metadata": {
        "colab": {
          "base_uri": "https://localhost:8080/"
        },
        "id": "i3cEIPIuMte2",
        "outputId": "90fce316-b4c5-48cc-8ee1-bbcfd5016990"
      },
      "source": [
        "# imprima uma mensagem quando a condição for falsa\n",
        "i = 1\n",
        "\n",
        "while i < 6:\n",
        "  print(i)\n",
        "  i += 1\n",
        "else:\n",
        "  print('i não é mais menor que 6')"
      ],
      "execution_count": 79,
      "outputs": [
        {
          "output_type": "stream",
          "text": [
            "1\n",
            "2\n",
            "3\n",
            "4\n",
            "5\n",
            "i não é mais menor que 6\n"
          ],
          "name": "stdout"
        }
      ]
    },
    {
      "cell_type": "code",
      "metadata": {
        "id": "-4FSCZcVMta-"
      },
      "source": [
        ""
      ],
      "execution_count": null,
      "outputs": []
    },
    {
      "cell_type": "code",
      "metadata": {
        "id": "UUQDITBUMtWh"
      },
      "source": [
        ""
      ],
      "execution_count": null,
      "outputs": []
    },
    {
      "cell_type": "code",
      "metadata": {
        "id": "BD7XWE5VMtSN"
      },
      "source": [
        ""
      ],
      "execution_count": null,
      "outputs": []
    },
    {
      "cell_type": "code",
      "metadata": {
        "id": "GvbXz7FeMtP6"
      },
      "source": [
        ""
      ],
      "execution_count": null,
      "outputs": []
    },
    {
      "cell_type": "code",
      "metadata": {
        "id": "YS1QshPIMtNB"
      },
      "source": [
        ""
      ],
      "execution_count": null,
      "outputs": []
    },
    {
      "cell_type": "code",
      "metadata": {
        "id": "9vfACiJfMtKN"
      },
      "source": [
        ""
      ],
      "execution_count": null,
      "outputs": []
    }
  ]
}