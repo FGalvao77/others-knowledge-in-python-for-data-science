{
  "nbformat": 4,
  "nbformat_minor": 0,
  "metadata": {
    "kernelspec": {
      "display_name": "Python 3",
      "language": "python",
      "name": "python3"
    },
    "language_info": {
      "codemirror_mode": {
        "name": "ipython",
        "version": 3
      },
      "file_extension": ".py",
      "mimetype": "text/x-python",
      "name": "python",
      "nbconvert_exporter": "python",
      "pygments_lexer": "ipython3",
      "version": "3.7.6"
    },
    "colab": {
      "name": "Regressão Linear Múltipla.ipynb",
      "provenance": [],
      "collapsed_sections": [],
      "include_colab_link": true
    }
  },
  "cells": [
    {
      "cell_type": "markdown",
      "metadata": {
        "id": "view-in-github",
        "colab_type": "text"
      },
      "source": [
        "<a href=\"https://colab.research.google.com/github/FGalvao77/others-knowledge-in-python-for-data-science/blob/main/Regress%C3%A3o_Linear_M%C3%BAltipla.ipynb\" target=\"_parent\"><img src=\"https://colab.research.google.com/assets/colab-badge.svg\" alt=\"Open In Colab\"/></a>"
      ]
    },
    {
      "cell_type": "markdown",
      "metadata": {
        "id": "iufF0xr3ty_a"
      },
      "source": [
        "## **Regressão Linear Múltipla**"
      ]
    },
    {
      "cell_type": "markdown",
      "metadata": {
        "id": "FfSlHYsOty_l"
      },
      "source": [
        "Neste notebook aprenderemos como utilizar a biblioteca scikit-learn para construirmos um modelo de previsão de preço, usando regressão linear múltipla. Para isso utilizaremos um conjunto de dados de carros usados listados pelo site www.cardekho.com e disponível em: https://www.kaggle.com/nehalbirla/vehicle-dataset-from-cardekho e adaptado neste notebook."
      ]
    },
    {
      "cell_type": "markdown",
      "metadata": {
        "id": "RjrA6VaBty_m"
      },
      "source": [
        "As informações contidas no dataset são:\n",
        "\n",
        "**nome_carro:**        nome do carro\n",
        "\n",
        "**ano:**               ano de fabricação\n",
        "\n",
        "**preco_venda:**       preço que o dono quer vender\n",
        "\n",
        "**preco_atual:**       preço da concessionária\n",
        "\n",
        "**kms_rodados:**       kilometragem do carro \n",
        "\n",
        "**tipo_combustivel:**  tipo de combustível do carro (Diesel, Gasolina, GasNatural)\n",
        "\n",
        "**tipo_vendedor:**     se o vendedor é um revendedor ou é a própria pessoa\n",
        "\n",
        "**tipo_transmissao:**  tipo de câmbio do carro\n",
        "\n",
        "**n_donos:**           número de donos que o carro já teve"
      ]
    },
    {
      "cell_type": "markdown",
      "metadata": {
        "id": "NrIALyOpty_n"
      },
      "source": [
        "### Importando bibliotecas necessárias"
      ]
    },
    {
      "cell_type": "code",
      "metadata": {
        "id": "7omEi1UZty_o"
      },
      "source": [
        "import pandas as pd\n",
        "import numpy as np\n",
        "import matplotlib.pyplot as plt\n",
        "%matplotlib inline"
      ],
      "execution_count": null,
      "outputs": []
    },
    {
      "cell_type": "markdown",
      "metadata": {
        "id": "80ORndUhty_p"
      },
      "source": [
        "### Carregando os dados"
      ]
    },
    {
      "cell_type": "code",
      "metadata": {
        "scrolled": true,
        "colab": {
          "base_uri": "https://localhost:8080/",
          "height": 204
        },
        "id": "QZ2dfF0Fty_p",
        "outputId": "408eb1d0-9c0d-413b-f3b6-28c5876ff737"
      },
      "source": [
        "df = pd.read_csv(\"car_data.csv\")\n",
        "\n",
        "# mostrando as primeiras linhas do arquivo.\n",
        "df.head()"
      ],
      "execution_count": null,
      "outputs": [
        {
          "output_type": "execute_result",
          "data": {
            "text/html": [
              "<div>\n",
              "<style scoped>\n",
              "    .dataframe tbody tr th:only-of-type {\n",
              "        vertical-align: middle;\n",
              "    }\n",
              "\n",
              "    .dataframe tbody tr th {\n",
              "        vertical-align: top;\n",
              "    }\n",
              "\n",
              "    .dataframe thead th {\n",
              "        text-align: right;\n",
              "    }\n",
              "</style>\n",
              "<table border=\"1\" class=\"dataframe\">\n",
              "  <thead>\n",
              "    <tr style=\"text-align: right;\">\n",
              "      <th></th>\n",
              "      <th>nome_carro</th>\n",
              "      <th>ano</th>\n",
              "      <th>preco_venda</th>\n",
              "      <th>preco_atual</th>\n",
              "      <th>kms_rodados</th>\n",
              "      <th>tipo_combustivel</th>\n",
              "      <th>tipo_vendedor</th>\n",
              "      <th>tipo_transmissao</th>\n",
              "      <th>n_donos</th>\n",
              "    </tr>\n",
              "  </thead>\n",
              "  <tbody>\n",
              "    <tr>\n",
              "      <th>0</th>\n",
              "      <td>ritz</td>\n",
              "      <td>2014</td>\n",
              "      <td>3.35</td>\n",
              "      <td>5.59</td>\n",
              "      <td>27000</td>\n",
              "      <td>Gasolina</td>\n",
              "      <td>Revendedor</td>\n",
              "      <td>Manual</td>\n",
              "      <td>0</td>\n",
              "    </tr>\n",
              "    <tr>\n",
              "      <th>1</th>\n",
              "      <td>sx4</td>\n",
              "      <td>2013</td>\n",
              "      <td>4.75</td>\n",
              "      <td>9.54</td>\n",
              "      <td>43000</td>\n",
              "      <td>Diesel</td>\n",
              "      <td>Revendedor</td>\n",
              "      <td>Manual</td>\n",
              "      <td>0</td>\n",
              "    </tr>\n",
              "    <tr>\n",
              "      <th>2</th>\n",
              "      <td>ciaz</td>\n",
              "      <td>2017</td>\n",
              "      <td>7.25</td>\n",
              "      <td>9.85</td>\n",
              "      <td>6900</td>\n",
              "      <td>Gasolina</td>\n",
              "      <td>Revendedor</td>\n",
              "      <td>Manual</td>\n",
              "      <td>0</td>\n",
              "    </tr>\n",
              "    <tr>\n",
              "      <th>3</th>\n",
              "      <td>wagon r</td>\n",
              "      <td>2011</td>\n",
              "      <td>2.85</td>\n",
              "      <td>4.15</td>\n",
              "      <td>5200</td>\n",
              "      <td>Gasolina</td>\n",
              "      <td>Revendedor</td>\n",
              "      <td>Manual</td>\n",
              "      <td>0</td>\n",
              "    </tr>\n",
              "    <tr>\n",
              "      <th>4</th>\n",
              "      <td>swift</td>\n",
              "      <td>2014</td>\n",
              "      <td>4.60</td>\n",
              "      <td>6.87</td>\n",
              "      <td>42450</td>\n",
              "      <td>Diesel</td>\n",
              "      <td>Revendedor</td>\n",
              "      <td>Manual</td>\n",
              "      <td>0</td>\n",
              "    </tr>\n",
              "  </tbody>\n",
              "</table>\n",
              "</div>"
            ],
            "text/plain": [
              "  nome_carro   ano  preco_venda  ...  tipo_vendedor  tipo_transmissao n_donos\n",
              "0       ritz  2014         3.35  ...     Revendedor            Manual       0\n",
              "1        sx4  2013         4.75  ...     Revendedor            Manual       0\n",
              "2       ciaz  2017         7.25  ...     Revendedor            Manual       0\n",
              "3    wagon r  2011         2.85  ...     Revendedor            Manual       0\n",
              "4      swift  2014         4.60  ...     Revendedor            Manual       0\n",
              "\n",
              "[5 rows x 9 columns]"
            ]
          },
          "metadata": {
            "tags": []
          },
          "execution_count": 39
        }
      ]
    },
    {
      "cell_type": "markdown",
      "metadata": {
        "id": "s32Zrlbcty_r"
      },
      "source": [
        "Tamanho dos nossos registros"
      ]
    },
    {
      "cell_type": "code",
      "metadata": {
        "colab": {
          "base_uri": "https://localhost:8080/"
        },
        "id": "C4ORmjJ9ty_r",
        "outputId": "291d16df-66ac-41d3-8b08-1fecd3aca334"
      },
      "source": [
        "# o nosso dataset possui 301 registros de carros usados\n",
        "print(df.shape)"
      ],
      "execution_count": null,
      "outputs": [
        {
          "output_type": "stream",
          "text": [
            "(301, 9)\n"
          ],
          "name": "stdout"
        }
      ]
    },
    {
      "cell_type": "markdown",
      "metadata": {
        "id": "lHG4BoLLty_s"
      },
      "source": [
        "Para o algoritmo de regressão, vamos substituir os dados que possuem textos por números. "
      ]
    },
    {
      "cell_type": "code",
      "metadata": {
        "scrolled": true,
        "colab": {
          "base_uri": "https://localhost:8080/",
          "height": 204
        },
        "id": "FaVimDQjty_t",
        "outputId": "53a2662e-a936-4a62-afc8-2083b9cbdff5"
      },
      "source": [
        "df['tipo_transmissao'].replace({'Manual': 0, 'Automatico': 1}, inplace=True)\n",
        "df['tipo_vendedor'].replace({'Revendedor': 0, 'Individual': 1}, inplace=True)\n",
        "df['tipo_combustivel'].replace({'Gasolina': 0, 'Diesel': 1, 'GasNatural': 2}, inplace=True)\n",
        "df.head()"
      ],
      "execution_count": null,
      "outputs": [
        {
          "output_type": "execute_result",
          "data": {
            "text/html": [
              "<div>\n",
              "<style scoped>\n",
              "    .dataframe tbody tr th:only-of-type {\n",
              "        vertical-align: middle;\n",
              "    }\n",
              "\n",
              "    .dataframe tbody tr th {\n",
              "        vertical-align: top;\n",
              "    }\n",
              "\n",
              "    .dataframe thead th {\n",
              "        text-align: right;\n",
              "    }\n",
              "</style>\n",
              "<table border=\"1\" class=\"dataframe\">\n",
              "  <thead>\n",
              "    <tr style=\"text-align: right;\">\n",
              "      <th></th>\n",
              "      <th>nome_carro</th>\n",
              "      <th>ano</th>\n",
              "      <th>preco_venda</th>\n",
              "      <th>preco_atual</th>\n",
              "      <th>kms_rodados</th>\n",
              "      <th>tipo_combustivel</th>\n",
              "      <th>tipo_vendedor</th>\n",
              "      <th>tipo_transmissao</th>\n",
              "      <th>n_donos</th>\n",
              "    </tr>\n",
              "  </thead>\n",
              "  <tbody>\n",
              "    <tr>\n",
              "      <th>0</th>\n",
              "      <td>ritz</td>\n",
              "      <td>2014</td>\n",
              "      <td>3.35</td>\n",
              "      <td>5.59</td>\n",
              "      <td>27000</td>\n",
              "      <td>0</td>\n",
              "      <td>0</td>\n",
              "      <td>0</td>\n",
              "      <td>0</td>\n",
              "    </tr>\n",
              "    <tr>\n",
              "      <th>1</th>\n",
              "      <td>sx4</td>\n",
              "      <td>2013</td>\n",
              "      <td>4.75</td>\n",
              "      <td>9.54</td>\n",
              "      <td>43000</td>\n",
              "      <td>1</td>\n",
              "      <td>0</td>\n",
              "      <td>0</td>\n",
              "      <td>0</td>\n",
              "    </tr>\n",
              "    <tr>\n",
              "      <th>2</th>\n",
              "      <td>ciaz</td>\n",
              "      <td>2017</td>\n",
              "      <td>7.25</td>\n",
              "      <td>9.85</td>\n",
              "      <td>6900</td>\n",
              "      <td>0</td>\n",
              "      <td>0</td>\n",
              "      <td>0</td>\n",
              "      <td>0</td>\n",
              "    </tr>\n",
              "    <tr>\n",
              "      <th>3</th>\n",
              "      <td>wagon r</td>\n",
              "      <td>2011</td>\n",
              "      <td>2.85</td>\n",
              "      <td>4.15</td>\n",
              "      <td>5200</td>\n",
              "      <td>0</td>\n",
              "      <td>0</td>\n",
              "      <td>0</td>\n",
              "      <td>0</td>\n",
              "    </tr>\n",
              "    <tr>\n",
              "      <th>4</th>\n",
              "      <td>swift</td>\n",
              "      <td>2014</td>\n",
              "      <td>4.60</td>\n",
              "      <td>6.87</td>\n",
              "      <td>42450</td>\n",
              "      <td>1</td>\n",
              "      <td>0</td>\n",
              "      <td>0</td>\n",
              "      <td>0</td>\n",
              "    </tr>\n",
              "  </tbody>\n",
              "</table>\n",
              "</div>"
            ],
            "text/plain": [
              "  nome_carro   ano  preco_venda  ...  tipo_vendedor  tipo_transmissao  n_donos\n",
              "0       ritz  2014         3.35  ...              0                 0        0\n",
              "1        sx4  2013         4.75  ...              0                 0        0\n",
              "2       ciaz  2017         7.25  ...              0                 0        0\n",
              "3    wagon r  2011         2.85  ...              0                 0        0\n",
              "4      swift  2014         4.60  ...              0                 0        0\n",
              "\n",
              "[5 rows x 9 columns]"
            ]
          },
          "metadata": {
            "tags": []
          },
          "execution_count": 41
        }
      ]
    },
    {
      "cell_type": "markdown",
      "metadata": {
        "id": "VHVg-lOFty_u"
      },
      "source": [
        "Vamos plotar em um gráfico os anos do carros versus o preço de venda"
      ]
    },
    {
      "cell_type": "code",
      "metadata": {
        "colab": {
          "base_uri": "https://localhost:8080/",
          "height": 279
        },
        "id": "-GChkDQpty_u",
        "outputId": "890d0cb9-a1d5-4d4f-86b9-78a532ef9da8"
      },
      "source": [
        "plt.scatter(df['ano'], df['preco_venda'],  color='blue')\n",
        "plt.xlabel(\"Ano do Carro\")\n",
        "plt.ylabel(\"Preço de venda\")\n",
        "plt.show()"
      ],
      "execution_count": null,
      "outputs": [
        {
          "output_type": "display_data",
          "data": {
            "image/png": "[encoded data removed]",
            "text/plain": [
              "<Figure size 432x288 with 1 Axes>"
            ]
          },
          "metadata": {
            "tags": [],
            "needs_background": "light"
          }
        }
      ]
    },
    {
      "cell_type": "markdown",
      "metadata": {
        "id": "vZxIb3Hgty_v"
      },
      "source": [
        "Agora vamos ver qual os anos dos carros que mais rodaram"
      ]
    },
    {
      "cell_type": "code",
      "metadata": {
        "scrolled": true,
        "colab": {
          "base_uri": "https://localhost:8080/",
          "height": 279
        },
        "id": "91su9NUzty_v",
        "outputId": "b5149562-32b2-4df0-fa34-898fb51aa4e8"
      },
      "source": [
        "plt.scatter(df['ano'], df['kms_rodados'],  color='red')\n",
        "plt.xlabel(\"Ano do Carro\")\n",
        "plt.ylabel(\"Kms Rodados\")\n",
        "plt.show()"
      ],
      "execution_count": null,
      "outputs": [
        {
          "output_type": "display_data",
          "data": {
            "image/png": "[encoded data removed]",
            "text/plain": [
              "<Figure size 432x288 with 1 Axes>"
            ]
          },
          "metadata": {
            "tags": [],
            "needs_background": "light"
          }
        }
      ]
    },
    {
      "cell_type": "markdown",
      "metadata": {
        "id": "EC-mfWhbty_w"
      },
      "source": [
        "Separando a variável dependente e as variáveis independentes"
      ]
    },
    {
      "cell_type": "code",
      "metadata": {
        "id": "GkcyjvfUty_w"
      },
      "source": [
        "# escolhendo as variáveis independentes\n",
        "x = df[['ano', 'preco_atual', 'kms_rodados', 'tipo_combustivel', 'tipo_vendedor', 'tipo_transmissao', 'n_donos']]"
      ],
      "execution_count": null,
      "outputs": []
    },
    {
      "cell_type": "code",
      "metadata": {
        "id": "5hzGkSUqty_w"
      },
      "source": [
        "# variável dependente\n",
        "y = df[['preco_venda']]"
      ],
      "execution_count": null,
      "outputs": []
    },
    {
      "cell_type": "markdown",
      "metadata": {
        "id": "6I0oz3mTty_x"
      },
      "source": [
        "### Separar dados em treino e teste"
      ]
    },
    {
      "cell_type": "markdown",
      "metadata": {
        "id": "hNtKFzRlty_x"
      },
      "source": [
        "Para construir nosso modelo de Machine Learning precisamos dividir os dados em duas partes. Uma para treinar o modelo\n",
        "e outra para testar o modelo com dados que ele não conhece. Para isso iremos separar 80% dos dados para treino e 20%\n",
        "dos dados para teste. Para isso usaremos a biblioteca train_test_split que faz essa separação automaticamente."
      ]
    },
    {
      "cell_type": "code",
      "metadata": {
        "id": "GBDwCLGity_x"
      },
      "source": [
        "from sklearn.model_selection import train_test_split\n",
        "\n",
        "x_train, x_test, y_train, y_test = train_test_split(x, y, test_size=0.2)\n"
      ],
      "execution_count": null,
      "outputs": []
    },
    {
      "cell_type": "markdown",
      "metadata": {
        "id": "ZEuep-yfty_y"
      },
      "source": [
        "**x_train** é a parte usada para treinar o algoritmo\n",
        "\n",
        "**x_test** é a parte usada para testar o algoritmo depois de treinado\n",
        "\n",
        "**y_train** é a parte das respostas usadas no treino\n",
        "\n",
        "**y_test** é a parte das respostas usadas para testar o algoritmo"
      ]
    },
    {
      "cell_type": "code",
      "metadata": {
        "colab": {
          "base_uri": "https://localhost:8080/"
        },
        "id": "XBqNSqjCty_y",
        "outputId": "ec2dab08-0a33-4658-814c-7db91c9ab09f"
      },
      "source": [
        "# vendo o número de registros que serão usados para o treino e teste\n",
        "print('Treino')\n",
        "print(\"x_train: \",x_train.shape)\n",
        "print(\"y_train: \",y_train.shape)\n",
        "\n",
        "print('\\nTeste')\n",
        "print(\"x_test: \",x_test.shape)\n",
        "print(\"y_test: \",y_test.shape)"
      ],
      "execution_count": null,
      "outputs": [
        {
          "output_type": "stream",
          "text": [
            "Treino\n",
            "x_train:  (240, 7)\n",
            "y_train:  (240, 1)\n",
            "\n",
            "Teste\n",
            "x_test:  (61, 7)\n",
            "y_test:  (61, 1)\n"
          ],
          "name": "stdout"
        }
      ]
    },
    {
      "cell_type": "markdown",
      "metadata": {
        "id": "FU3DmxiKty_z"
      },
      "source": [
        "### Treinando o Modelo"
      ]
    },
    {
      "cell_type": "code",
      "metadata": {
        "colab": {
          "base_uri": "https://localhost:8080/"
        },
        "id": "qh5ntyu4ty_z",
        "outputId": "63fd54e7-516c-433a-8622-53d1f6bb1171"
      },
      "source": [
        "from sklearn.linear_model import LinearRegression\n",
        "\n",
        "# define um modelo de regressão\n",
        "model = LinearRegression()\n",
        "\n",
        "# treina o modelo com os dados de treino\n",
        "model.fit(x_train, y_train)"
      ],
      "execution_count": null,
      "outputs": [
        {
          "output_type": "execute_result",
          "data": {
            "text/plain": [
              "LinearRegression(copy_X=True, fit_intercept=True, n_jobs=None, normalize=False)"
            ]
          },
          "metadata": {
            "tags": []
          },
          "execution_count": 48
        }
      ]
    },
    {
      "cell_type": "markdown",
      "metadata": {
        "id": "KwGPrZ6Jty_0"
      },
      "source": [
        "### Realiza a previsão dos preços"
      ]
    },
    {
      "cell_type": "code",
      "metadata": {
        "id": "vxHJDw3Wty_0"
      },
      "source": [
        "# y_pred contém a previsão dos preços do nosso modelo\n",
        "y_pred = model.predict(x_test)"
      ],
      "execution_count": null,
      "outputs": []
    },
    {
      "cell_type": "code",
      "metadata": {
        "colab": {
          "base_uri": "https://localhost:8080/"
        },
        "id": "fdtmlC7kty_0",
        "outputId": "9370cf0b-dcc5-4336-81d1-61f75c0891ca"
      },
      "source": [
        "print(y_pred.shape)\n",
        "print(y_test.shape)"
      ],
      "execution_count": null,
      "outputs": [
        {
          "output_type": "stream",
          "text": [
            "(61, 1)\n",
            "(61, 1)\n"
          ],
          "name": "stdout"
        }
      ]
    },
    {
      "cell_type": "markdown",
      "metadata": {
        "id": "Q7CCt_M3ty_1"
      },
      "source": [
        "Agora vamos plotar o preço dos carros, previsto pelo modelo versus os dados de teste"
      ]
    },
    {
      "cell_type": "code",
      "metadata": {
        "colab": {
          "base_uri": "https://localhost:8080/",
          "height": 279
        },
        "id": "rNkSZ5pVty_1",
        "outputId": "766353c4-1c54-41e1-c676-54bff978b876"
      },
      "source": [
        "plt.plot(range(y_pred.shape[0]), y_pred,'r--')\n",
        "plt.plot(range(y_test.shape[0]), y_test,'g--')\n",
        "plt.legend(['preço previsto', 'preço real'])\n",
        "plt.ylabel('Preço')\n",
        "plt.xlabel('Índice')\n",
        "\n",
        "plt.show()"
      ],
      "execution_count": null,
      "outputs": [
        {
          "output_type": "display_data",
          "data": {
            "image/png": "[encoded data removed]",
            "text/plain": [
              "<Figure size 432x288 with 1 Axes>"
            ]
          },
          "metadata": {
            "tags": [],
            "needs_background": "light"
          }
        }
      ]
    },
    {
      "cell_type": "markdown",
      "metadata": {
        "id": "WxS10HoDty_2"
      },
      "source": [
        "É possível observar no gráfico que o modelo, em alguns casos tende a prever preços mais baixos do que o preço real de venda."
      ]
    },
    {
      "cell_type": "markdown",
      "metadata": {
        "id": "GeLhihZPty_2"
      },
      "source": [
        "Para saber o quanto o nosso modelo está explicando os dados, ou o quanto o modelo pode prever corretamente,\n",
        "iremos utilizar a medida r2, que é o coeficiente de determinação. Para isso iremos utilizar os dados da resposta\n",
        "na etapa de teste e os dados de resposta previstos."
      ]
    },
    {
      "cell_type": "code",
      "metadata": {
        "colab": {
          "base_uri": "https://localhost:8080/"
        },
        "id": "WPpF7VP7ty_2",
        "outputId": "bdcd9788-5af3-44b2-be85-0e0869c7a6e5"
      },
      "source": [
        "from sklearn.metrics import r2_score\n",
        "\n",
        "print('R2-score: ', r2_score(y_test, y_pred))"
      ],
      "execution_count": null,
      "outputs": [
        {
          "output_type": "stream",
          "text": [
            "R2-score:  0.6182907084252411\n"
          ],
          "name": "stdout"
        }
      ]
    },
    {
      "cell_type": "markdown",
      "metadata": {
        "id": "dKUJejRWty_3"
      },
      "source": [
        "Quanto mais próximo de 1, mais o modelo é capaz de prever corretamente.\n",
        "Então do resultado acima, colocando em porcentagem podemos dizer que o nosso modelo\n",
        "prevê corretamente 87% dos preços."
      ]
    },
    {
      "cell_type": "markdown",
      "metadata": {
        "id": "dYuppnW0ty_3"
      },
      "source": [
        "### Agora é sua vez de Praticar"
      ]
    },
    {
      "cell_type": "markdown",
      "metadata": {
        "id": "NUznTi-1ty_4"
      },
      "source": [
        "Use as variáveis a seguir para fazer as previsões com base no que já foi visto"
      ]
    },
    {
      "cell_type": "code",
      "metadata": {
        "id": "ngD_7xakty_4"
      },
      "source": [
        "# definindo as variáveis independentes\n",
        "new_x = df[['ano', 'preco_atual', 'kms_rodados', 'tipo_combustivel']]\n",
        "\n",
        "# definindo a variável dependente\n",
        "new_y = df[['preco_venda']] "
      ],
      "execution_count": null,
      "outputs": []
    },
    {
      "cell_type": "markdown",
      "metadata": {
        "id": "TkIajKasty_4"
      },
      "source": [
        "Separe os dados em dados de treino e teste, e então defina um modelo de regressão e realize as previsões.\n",
        "depois use o r2_score para saber a nova porcentagem desse modelo. O resultado é melhor ou pior?"
      ]
    },
    {
      "cell_type": "code",
      "metadata": {
        "colab": {
          "base_uri": "https://localhost:8080/"
        },
        "id": "H_JWsVd9ty_5",
        "outputId": "33fb0118-f8a4-45aa-9383-da8ca777a801"
      },
      "source": [
        "# escreva seu código aqui\n",
        "\n",
        "# importando a biblioteca para separar os nossos dados de treino e teste\n",
        "from sklearn.model_selection import train_test_split\n",
        "\n",
        "x_train, x_test, y_train, y_test = train_test_split(new_x, new_y, test_size=0.2)\n",
        "\n",
        "# vendo a quantidade de registros que serão usados para o treino e teste\n",
        "print('Treino')\n",
        "print(\"x_train: \",x_train.shape)\n",
        "print(\"y_train: \",y_train.shape)\n",
        "\n",
        "print('\\nTeste')\n",
        "print(\"x_test: \",x_test.shape)\n",
        "print(\"y_test: \",y_test.shape)"
      ],
      "execution_count": null,
      "outputs": [
        {
          "output_type": "stream",
          "text": [
            "Treino\n",
            "x_train:  (240, 4)\n",
            "y_train:  (240, 1)\n",
            "\n",
            "Teste\n",
            "x_test:  (61, 4)\n",
            "y_test:  (61, 1)\n"
          ],
          "name": "stdout"
        }
      ]
    },
    {
      "cell_type": "code",
      "metadata": {
        "colab": {
          "base_uri": "https://localhost:8080/"
        },
        "id": "pPFJGBXqty_5",
        "outputId": "ac0c8155-dfb9-4ab7-f60c-ba3e0a80d745"
      },
      "source": [
        "# importando a biblioteca\n",
        "from sklearn.linear_model import LinearRegression\n",
        "\n",
        "# instanciando o modelo de regressão na variável \"modelo\"\n",
        "modelo = LinearRegression()\n",
        "\n",
        "# treinando o modelo com os dados de treino\n",
        "modelo.fit(x_train, y_train)"
      ],
      "execution_count": null,
      "outputs": [
        {
          "output_type": "execute_result",
          "data": {
            "text/plain": [
              "LinearRegression(copy_X=True, fit_intercept=True, n_jobs=None, normalize=False)"
            ]
          },
          "metadata": {
            "tags": []
          },
          "execution_count": 55
        }
      ]
    },
    {
      "cell_type": "code",
      "metadata": {
        "colab": {
          "base_uri": "https://localhost:8080/"
        },
        "id": "sEFXwNYWty_5",
        "outputId": "3bc44585-7c45-47c5-874b-b7c3f03c1380"
      },
      "source": [
        "# y_pred contém a previsão dos preços do nosso modelo\n",
        "y_pred = modelo.predict(x_test)\n",
        "\n",
        "print(y_pred.shape)\n",
        "print(y_test.shape)"
      ],
      "execution_count": null,
      "outputs": [
        {
          "output_type": "stream",
          "text": [
            "(61, 1)\n",
            "(61, 1)\n"
          ],
          "name": "stdout"
        }
      ]
    },
    {
      "cell_type": "code",
      "metadata": {
        "colab": {
          "base_uri": "https://localhost:8080/",
          "height": 279
        },
        "id": "0T_Tgdvmty_5",
        "outputId": "f3a3dde1-4835-483d-a881-020270d7c7bf"
      },
      "source": [
        "# configurando e plotando o gráfico de regressão\n",
        "plt.plot(range(y_pred.shape[0]), y_pred,'r--')\n",
        "plt.plot(range(y_test.shape[0]), y_test,'g--')\n",
        "plt.legend(['preço previsto', 'preço real'])\n",
        "plt.ylabel('Preço')\n",
        "plt.xlabel('Índice')\n",
        "\n",
        "plt.show()"
      ],
      "execution_count": null,
      "outputs": [
        {
          "output_type": "display_data",
          "data": {
            "image/png": "[encoded data removed]",
            "text/plain": [
              "<Figure size 432x288 with 1 Axes>"
            ]
          },
          "metadata": {
            "tags": [],
            "needs_background": "light"
          }
        }
      ]
    },
    {
      "cell_type": "code",
      "metadata": {
        "colab": {
          "base_uri": "https://localhost:8080/"
        },
        "id": "T_Lyzh96xhdz",
        "outputId": "0ed2fd78-4661-4215-ab6f-a13a8ccc3ec3"
      },
      "source": [
        "# utilizando a medida r2 (coeficiente de determinação), para determinar o quanto o nosso modelo é preciso\n",
        "# para isso utilizamos os dados da resposta na etapa de teste e os dados de resposta previstos\n",
        "from sklearn.metrics import r2_score\n",
        "\n",
        "print('R2-score: ', r2_score(y_test, y_pred))"
      ],
      "execution_count": null,
      "outputs": [
        {
          "output_type": "stream",
          "text": [
            "R2-score:  0.7722985692695343\n"
          ],
          "name": "stdout"
        }
      ]
    },
    {
      "cell_type": "markdown",
      "metadata": {
        "id": "jsiP9c2e0i2G"
      },
      "source": [
        "Praticamente o modelo teve é o mesmo comportamento do anterior.\n",
        " - em alguns casos, o modelo previu um valor mais baixo de venda do que o real."
      ]
    }
  ]
}