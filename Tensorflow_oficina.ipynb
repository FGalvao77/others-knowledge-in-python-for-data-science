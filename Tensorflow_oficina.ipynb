{
  "nbformat": 4,
  "nbformat_minor": 0,
  "metadata": {
    "colab": {
      "name": "Tensorflow_oficina.ipynb",
      "provenance": [],
      "collapsed_sections": [],
      "include_colab_link": true
    },
    "kernelspec": {
      "display_name": "Python 3",
      "language": "python",
      "name": "python3"
    },
    "language_info": {
      "codemirror_mode": {
        "name": "ipython",
        "version": 3
      },
      "file_extension": ".py",
      "mimetype": "text/x-python",
      "name": "python",
      "nbconvert_exporter": "python",
      "pygments_lexer": "ipython3",
      "version": "3.6.1"
    }
  },
  "cells": [
    {
      "cell_type": "markdown",
      "metadata": {
        "id": "view-in-github",
        "colab_type": "text"
      },
      "source": [
        "<a href=\"https://colab.research.google.com/github/FGalvao77/others-knowledge-in-python-for-data-science/blob/main/Tensorflow_oficina.ipynb\" target=\"_parent\"><img src=\"https://colab.research.google.com/assets/colab-badge.svg\" alt=\"Open In Colab\"/></a>"
      ]
    },
    {
      "cell_type": "markdown",
      "metadata": {
        "id": "dVbMgKwpYjri"
      },
      "source": [
        "# **Tensorflow (oficina prática)**"
      ]
    },
    {
      "cell_type": "markdown",
      "metadata": {
        "id": "Di1SHd_Y_qV4"
      },
      "source": [
        "![image.png](data:image/png;base64,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)"
      ]
    },
    {
      "cell_type": "markdown",
      "metadata": {
        "id": "QjXP6UnZ_qWC"
      },
      "source": [
        "![image.png](data:image/png;base64,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)"
      ]
    },
    {
      "cell_type": "markdown",
      "metadata": {
        "id": "wDt5igc1KL3U"
      },
      "source": [
        "# Oficina\n",
        "\n",
        "Nessa aula, você aprendeu que o TensorFlow é uma das bibliotecas de código aberto mais versáteis para a construção de Redes Neurais, possuindo um suporte para as diversas arquiteturas de redes. Então, a partir desse conhecimento adquirido, nesta oficina, você praticará a construção de uma rede neural, que vai classificar um conjunto de dígitos escritos à mão, conhecido como mnist. Para que seja possível a realização desses novos aprendizados, é fundamental que você:\n",
        "\n",
        "- Baixe o arquivo através do link `“Oficina - TensorFlow.ipynb”` e carregue-o no ambiente do Jupyter notebook;\n",
        "- Siga as seguintes instruções contidas no arquivo e aplique o que você aprendeu, para classificar corretamente o conjunto de dados, usando as bibliotecas TensorFlow e Keras:\n",
        " - “Treine uma rede neural com uma camada intermediária de 50 neurônios, utilizando o Keras e o TensorFlow sobre os dados contidos na variável train_images e usando os rótulos train_labels. Após construído o modelo, apresente a acurácia do projeto sobre os dados de teste (test_images, test_labels)”;\n",
        "\n",
        "- Identifique a acurácia obtida, ao executar o modelo, sobre um conjunto de dados de teste;\n",
        "- Por fim, exporte o arquivo do notebook e envie-o para a oficina da Aula 5.2 de Machine Learning."
      ]
    },
    {
      "cell_type": "code",
      "metadata": {
        "collapsed": true,
        "id": "_c6kGgLq6B6R"
      },
      "source": [
        "# importando as bibliotecas\n",
        "import tensorflow as tf\n",
        "from tensorflow import keras\n",
        "import numpy as np"
      ],
      "execution_count": null,
      "outputs": []
    },
    {
      "cell_type": "code",
      "metadata": {
        "collapsed": true,
        "id": "5ksvsRB16B6c"
      },
      "source": [
        "# importando o dataset\n",
        "# este dataset já está embutido na biblioteca \"keras\"\n",
        "fashion_mnist = keras.datasets.fashion_mnist\n",
        "\n",
        "# separando os dados de treino e teste\n",
        "(train_images, train_labels), (test_images, test_labels) = fashion_mnist.load_data()"
      ],
      "execution_count": null,
      "outputs": []
    },
    {
      "cell_type": "code",
      "metadata": {
        "colab": {
          "base_uri": "https://localhost:8080/"
        },
        "id": "aevxZgo26B6j",
        "outputId": "e91609d5-e74a-4603-98eb-7d23aae5a43d"
      },
      "source": [
        "# verificando o tamanho da base de treino - tensor 3D\n",
        "train_images.shape # 60000 elementos de matrizes de 28 por 28"
      ],
      "execution_count": null,
      "outputs": [
        {
          "output_type": "execute_result",
          "data": {
            "text/plain": [
              "(60000, 28, 28)"
            ]
          },
          "metadata": {
            "tags": []
          },
          "execution_count": 27
        }
      ]
    },
    {
      "cell_type": "code",
      "metadata": {
        "colab": {
          "base_uri": "https://localhost:8080/"
        },
        "id": "84Cf91vr6B6n",
        "outputId": "86aceb8b-1de7-4385-8ebe-3860c317e096"
      },
      "source": [
        "# verificando a quantidade de rótulos de treino\n",
        "len(train_labels)"
      ],
      "execution_count": null,
      "outputs": [
        {
          "output_type": "execute_result",
          "data": {
            "text/plain": [
              "60000"
            ]
          },
          "metadata": {
            "tags": []
          },
          "execution_count": 28
        }
      ]
    },
    {
      "cell_type": "code",
      "metadata": {
        "colab": {
          "base_uri": "https://localhost:8080/"
        },
        "id": "bQI68dl56B6r",
        "outputId": "c87eaa8a-800a-42cd-eea9-d9b33166846b"
      },
      "source": [
        "# verificando os rótulos da base de treino\n",
        "np.unique(train_labels)"
      ],
      "execution_count": null,
      "outputs": [
        {
          "output_type": "execute_result",
          "data": {
            "text/plain": [
              "array([0, 1, 2, 3, 4, 5, 6, 7, 8, 9], dtype=uint8)"
            ]
          },
          "metadata": {
            "tags": []
          },
          "execution_count": 29
        }
      ]
    },
    {
      "cell_type": "code",
      "metadata": {
        "colab": {
          "base_uri": "https://localhost:8080/"
        },
        "id": "bxPD-Au-6B6v",
        "outputId": "cc8e78af-3167-4159-ff0f-2214e89f8f10"
      },
      "source": [
        "# verificando também o tamanho da base de teste - tensor 3D\n",
        "test_images.shape # 10000 elementos de matrizes de 28 por 28"
      ],
      "execution_count": null,
      "outputs": [
        {
          "output_type": "execute_result",
          "data": {
            "text/plain": [
              "(10000, 28, 28)"
            ]
          },
          "metadata": {
            "tags": []
          },
          "execution_count": 30
        }
      ]
    },
    {
      "cell_type": "code",
      "metadata": {
        "colab": {
          "base_uri": "https://localhost:8080/"
        },
        "id": "b42JxOQn6B60",
        "outputId": "53000430-72bd-4825-8f1b-3ee794c9daeb"
      },
      "source": [
        "# verificando a quantidade de rótulos na base de teste\n",
        "len(test_labels)"
      ],
      "execution_count": null,
      "outputs": [
        {
          "output_type": "execute_result",
          "data": {
            "text/plain": [
              "10000"
            ]
          },
          "metadata": {
            "tags": []
          },
          "execution_count": 31
        }
      ]
    },
    {
      "cell_type": "code",
      "metadata": {
        "colab": {
          "base_uri": "https://localhost:8080/"
        },
        "id": "9JZ0l1ph6B64",
        "outputId": "cb7ef861-88e9-4dd7-b8a2-da93641f4a3a"
      },
      "source": [
        "# verificando os rótulos de teste\n",
        "# por questão de limitação de espaço (total de 10.000)\n",
        "# é somente exibido os três primeiros e três últimos rótulos de teste\n",
        "test_labels"
      ],
      "execution_count": null,
      "outputs": [
        {
          "output_type": "execute_result",
          "data": {
            "text/plain": [
              "array([9, 2, 1, ..., 8, 1, 5], dtype=uint8)"
            ]
          },
          "metadata": {
            "tags": []
          },
          "execution_count": 32
        }
      ]
    },
    {
      "cell_type": "code",
      "metadata": {
        "collapsed": true,
        "id": "L3SKeNvS6B7D"
      },
      "source": [
        "# as imagens de treino e teste é composta por matriz de 28 por 28\n",
        "# e cada um desses elementos da matriz é exatamente um pixel entre 0 e 255\n",
        "# sendo 0 ausência de cor e 255 máxima intensidade de cor\n",
        "# e alguns modelos, tais como a regressão linear e as próprias redes neurais, eles se beneficiam de atributos escalados\n",
        "# eles utilizam uma técnica de gradiente para otimização - uma derivada\n",
        "\n",
        "# transformando nossa imagem em escala pequena\n",
        "# como nossa imagem tem entre 0 e 255 pixels\n",
        "# então podemos dividir a matriz \n",
        "# portanto o pixel com maior intensidade de 255 será igual 1\n",
        "# de menor intensidade que é 0 continuará sendo 0\n",
        "# e os de intensidade intermediária estará entre 0 e 1\n",
        "# dessa forma, implicitamente estamos utilizando o \"MinMaxScaller\" sem chamá-lo\n",
        "\n",
        "train_images = train_images / 255.0 # imagens de treino\n",
        "\n",
        "test_images = test_images / 255.0 # imagens de teste"
      ],
      "execution_count": null,
      "outputs": []
    },
    {
      "cell_type": "code",
      "metadata": {
        "colab": {
          "base_uri": "https://localhost:8080/"
        },
        "id": "FZ21TQ4O6B7J",
        "outputId": "0ca9d62b-7328-442d-b274-83061685f6bd"
      },
      "source": [
        "# instanciando o modelo e sua arquitetura\n",
        "model = keras.Sequential([\n",
        "                          keras.layers.Flatten(input_shape=(28, 28)),\n",
        "                          keras.layers.Dense(50, activation=tf.nn.relu), # camada intermediária de 50 neurônios\n",
        "                          keras.layers.Dense(10, activation=tf.nn.softmax) # camada de saída de 10 neurônios\n",
        "                          # a última camada é exatemente a quantidade de classes presente no conjunto de dados\n",
        "])\n",
        "\n",
        "# dados sumarizados do modelo\n",
        "# mostra quantos pesos tem a rede neural e a estrutura do mesmo e suas camadas\n",
        "model.summary()"
      ],
      "execution_count": null,
      "outputs": [
        {
          "output_type": "stream",
          "text": [
            "Model: \"sequential_2\"\n",
            "_________________________________________________________________\n",
            "Layer (type)                 Output Shape              Param #   \n",
            "=================================================================\n",
            "flatten_2 (Flatten)          (None, 784)               0         \n",
            "_________________________________________________________________\n",
            "dense_4 (Dense)              (None, 50)                39250     \n",
            "_________________________________________________________________\n",
            "dense_5 (Dense)              (None, 10)                510       \n",
            "=================================================================\n",
            "Total params: 39,760\n",
            "Trainable params: 39,760\n",
            "Non-trainable params: 0\n",
            "_________________________________________________________________\n"
          ],
          "name": "stdout"
        }
      ]
    },
    {
      "cell_type": "code",
      "metadata": {
        "collapsed": true,
        "id": "2YLI-l8B6B7N"
      },
      "source": [
        "# compilando o modelo com a função \"compile\"\n",
        "model.compile(optimizer='adam', # otimizador para os pesos de treinamento\n",
        "              loss='sparse_categorical_crossentropy', # métrica de erro -entropia cruzada categórica esparsa\n",
        "              metrics=['accuracy']) # porcentagem de elementos classificados corretamente sobre o total"
      ],
      "execution_count": null,
      "outputs": []
    },
    {
      "cell_type": "code",
      "metadata": {
        "colab": {
          "base_uri": "https://localhost:8080/"
        },
        "id": "cBGct1Ij6B7R",
        "outputId": "d2e2bbf0-21b5-4343-a4ef-397706dd6065"
      },
      "source": [
        "# aplicando o treinamento do modelo e avaliando sua acurácia por épocas\n",
        "model.fit(train_images, train_labels, epochs=5) # 5 épocas de treinamento - iterações"
      ],
      "execution_count": null,
      "outputs": [
        {
          "output_type": "stream",
          "text": [
            "Epoch 1/5\n",
            "1875/1875 [==============================] - 3s 1ms/step - loss: 0.7022 - accuracy: 0.7563\n",
            "Epoch 2/5\n",
            "1875/1875 [==============================] - 2s 1ms/step - loss: 0.4149 - accuracy: 0.8546\n",
            "Epoch 3/5\n",
            "1875/1875 [==============================] - 2s 1ms/step - loss: 0.3738 - accuracy: 0.8655\n",
            "Epoch 4/5\n",
            "1875/1875 [==============================] - 2s 1ms/step - loss: 0.3502 - accuracy: 0.8753\n",
            "Epoch 5/5\n",
            "1875/1875 [==============================] - 2s 1ms/step - loss: 0.3266 - accuracy: 0.8826\n"
          ],
          "name": "stdout"
        },
        {
          "output_type": "execute_result",
          "data": {
            "text/plain": [
              "<tensorflow.python.keras.callbacks.History at 0x7fe26467fe90>"
            ]
          },
          "metadata": {
            "tags": []
          },
          "execution_count": 36
        }
      ]
    },
    {
      "cell_type": "code",
      "metadata": {
        "colab": {
          "base_uri": "https://localhost:8080/"
        },
        "id": "epEc3-yGHNhM",
        "outputId": "a4e5b4fa-8446-41dd-d6f6-c3c629edacc9"
      },
      "source": [
        "# avaliando ganho de acurácia - início e fim\n",
        "epoch_1 = 0.7563\n",
        "epoch_5 = 0.8826\n",
        "\n",
        "total = (epoch_5 / epoch_1) - 1\n",
        "total "
      ],
      "execution_count": null,
      "outputs": [
        {
          "output_type": "execute_result",
          "data": {
            "text/plain": [
              "0.16699722332407796"
            ]
          },
          "metadata": {
            "tags": []
          },
          "execution_count": 53
        }
      ]
    },
    {
      "cell_type": "markdown",
      "metadata": {
        "id": "xTBzNnSTIrC5"
      },
      "source": [
        "**Perceba que, da época 1 para 5, houve um ganho de aproximadamente de 17% de acurácia**"
      ]
    },
    {
      "cell_type": "code",
      "metadata": {
        "colab": {
          "base_uri": "https://localhost:8080/"
        },
        "id": "m_XoCgZx6B7X",
        "outputId": "a7ee4682-d4fd-4e9a-9ad6-ecb02add189a"
      },
      "source": [
        "# avaliando acurácia sobre os dados de teste\n",
        "test_loss, test_acc = model.evaluate(test_images, test_labels)\n",
        "\n",
        "# imprimindo acurácia do teste\n",
        "print('Test accuracy:', test_acc)"
      ],
      "execution_count": null,
      "outputs": [
        {
          "output_type": "stream",
          "text": [
            "313/313 [==============================] - 0s 906us/step - loss: 0.3720 - accuracy: 0.8681\n",
            "Test accuracy: 0.8680999875068665\n"
          ],
          "name": "stdout"
        }
      ]
    },
    {
      "cell_type": "code",
      "metadata": {
        "collapsed": true,
        "id": "831mHUzm6B7e"
      },
      "source": [
        "# criando uma variável para avaliar a predição para cada uma das imagens de teste \n",
        "predictions = model.predict(test_images)"
      ],
      "execution_count": null,
      "outputs": []
    },
    {
      "cell_type": "code",
      "metadata": {
        "colab": {
          "base_uri": "https://localhost:8080/"
        },
        "id": "VKWN75Op6B7h",
        "outputId": "acd7a14b-e795-470d-eb9c-392dc28a0590"
      },
      "source": [
        "# imprimindo a primeira predição\n",
        "predictions[0] # um array de 10 elementos com notações científicas\n",
        "# onde a classificação será dada com a maior valor das predições"
      ],
      "execution_count": null,
      "outputs": [
        {
          "output_type": "execute_result",
          "data": {
            "text/plain": [
              "array([5.1439947e-05, 6.6628473e-08, 1.6260406e-05, 5.1671004e-06,\n",
              "       2.0649744e-05, 2.7065206e-02, 9.9685945e-05, 7.3109046e-02,\n",
              "       1.1877426e-03, 8.9844465e-01], dtype=float32)"
            ]
          },
          "metadata": {
            "tags": []
          },
          "execution_count": 56
        }
      ]
    },
    {
      "cell_type": "code",
      "metadata": {
        "colab": {
          "base_uri": "https://localhost:8080/"
        },
        "id": "kaStAfhm6B7o",
        "outputId": "1ac49488-776c-43ef-e987-d83a2fc4b108"
      },
      "source": [
        "# verificando o índice máximo\n",
        "np.argmax(predictions[0]) # temos a classe \"9\""
      ],
      "execution_count": null,
      "outputs": [
        {
          "output_type": "execute_result",
          "data": {
            "text/plain": [
              "9"
            ]
          },
          "metadata": {
            "tags": []
          },
          "execution_count": 57
        }
      ]
    },
    {
      "cell_type": "code",
      "metadata": {
        "colab": {
          "base_uri": "https://localhost:8080/"
        },
        "id": "_JNGtaUf6B7t",
        "outputId": "b736fb40-7ce9-4472-ecdd-7eb26d430fe9"
      },
      "source": [
        "# avaliando a assertividade do modelo\n",
        "test_labels[0]\n",
        "# para a primeira imagem o modelo acertou"
      ],
      "execution_count": null,
      "outputs": [
        {
          "output_type": "execute_result",
          "data": {
            "text/plain": [
              "9"
            ]
          },
          "metadata": {
            "tags": []
          },
          "execution_count": 58
        }
      ]
    },
    {
      "cell_type": "code",
      "metadata": {
        "colab": {
          "base_uri": "https://localhost:8080/"
        },
        "id": "9PRNwJjx6B8D",
        "outputId": "b8b47660-497a-44ea-e04b-af171a3fd58f"
      },
      "source": [
        "# realizando uma avaliação separada - individual de cada uma das imagens\n",
        "img = test_images[0] # instanciando a imagem de teste [0] na variável \"img\"\n",
        "\n",
        "# imprimindo o shape da imagem - 28 x 28 \n",
        "print(img.shape)"
      ],
      "execution_count": null,
      "outputs": [
        {
          "output_type": "stream",
          "text": [
            "(28, 28)\n"
          ],
          "name": "stdout"
        }
      ]
    },
    {
      "cell_type": "code",
      "metadata": {
        "colab": {
          "base_uri": "https://localhost:8080/"
        },
        "id": "rgAEBBvr6B8H",
        "outputId": "b384f2ff-c517-4d36-b4e4-7232a645fc27"
      },
      "source": [
        "# o modelo espera um vetor de imagem que seja passado e, aqui só temos uma imagem sozinha\n",
        "# iremos utlizar o numpy para expandir a dimensão dessa imagem para ter um vetor \n",
        "img = (np.expand_dims(img,0)) # a função \"expand_dims\" irar expandir a dimensão da imagem colocando dentro de um novo vetor\n",
        "\n",
        "# imprimindo o shape do vetor\n",
        "print(img.shape)"
      ],
      "execution_count": null,
      "outputs": [
        {
          "output_type": "stream",
          "text": [
            "(1, 28, 28)\n"
          ],
          "name": "stdout"
        }
      ]
    },
    {
      "cell_type": "code",
      "metadata": {
        "colab": {
          "base_uri": "https://localhost:8080/"
        },
        "id": "kBd9iSvk6B8L",
        "outputId": "8cd4da46-28b6-49ac-a43d-b5ec7530c40d"
      },
      "source": [
        "# aplicando essa nova imagem de vetor ao modelo\n",
        "predictions_single = model.predict(img) # instanciando a predição da única imagem na variável \"predictions_single\"\n",
        "\n",
        "# imprimindo a variável \"predictions_single\" com o valor das predições\n",
        "print(predictions_single)"
      ],
      "execution_count": null,
      "outputs": [
        {
          "output_type": "stream",
          "text": [
            "[[5.1439849e-05 6.6628346e-08 1.6260377e-05 5.1670954e-06 2.0649724e-05\n",
            "  2.7065217e-02 9.9685851e-05 7.3109061e-02 1.1877432e-03 8.9844465e-01]]\n"
          ],
          "name": "stdout"
        }
      ]
    },
    {
      "cell_type": "code",
      "metadata": {
        "colab": {
          "base_uri": "https://localhost:8080/"
        },
        "id": "buMojq1B6B8S",
        "outputId": "0103fd8e-3f4e-4a47-ad27-d3e0b28c198e"
      },
      "source": [
        "# efetuando a predição\n",
        "# retornará o rótulo da primeira imagem\n",
        "np.argmax(predictions_single[0])"
      ],
      "execution_count": null,
      "outputs": [
        {
          "output_type": "execute_result",
          "data": {
            "text/plain": [
              "9"
            ]
          },
          "metadata": {
            "tags": []
          },
          "execution_count": 62
        }
      ]
    }
  ]
}