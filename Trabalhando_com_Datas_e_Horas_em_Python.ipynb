{
  "nbformat": 4,
  "nbformat_minor": 0,
  "metadata": {
    "colab": {
      "name": "Trabalhando com Datas e Horas em Python.ipynb",
      "provenance": [],
      "collapsed_sections": [],
      "authorship_tag": "ABX9TyOcSiopQ3MEFAJOD0d+OM1w",
      "include_colab_link": true
    },
    "kernelspec": {
      "name": "python3",
      "display_name": "Python 3"
    },
    "language_info": {
      "name": "python"
    }
  },
  "cells": [
    {
      "cell_type": "markdown",
      "metadata": {
        "id": "view-in-github",
        "colab_type": "text"
      },
      "source": [
        "<a href=\"https://colab.research.google.com/github/FGalvao77/others-knowledge-in-python-for-data-science/blob/main/Trabalhando_com_Datas_e_Horas_em_Python.ipynb\" target=\"_parent\"><img src=\"https://colab.research.google.com/assets/colab-badge.svg\" alt=\"Open In Colab\"/></a>"
      ]
    },
    {
      "cell_type": "markdown",
      "metadata": {
        "id": "hMbSRpv15drL"
      },
      "source": [
        "# **Trabalhando com Datas e Horas em Python**"
      ]
    },
    {
      "cell_type": "markdown",
      "metadata": {
        "id": "jQWYhWfy6K28"
      },
      "source": [
        "> **Vamos lá!**"
      ]
    },
    {
      "cell_type": "markdown",
      "metadata": {
        "id": "VSVy44XkaY9-"
      },
      "source": [
        "## **Trabalhando com Datas**"
      ]
    },
    {
      "cell_type": "markdown",
      "metadata": {
        "id": "3TbdQQsM6WMr"
      },
      "source": [
        "**Importando as bibliotecas necessárias**"
      ]
    },
    {
      "cell_type": "code",
      "metadata": {
        "id": "xcrw1JoQ5XSr"
      },
      "source": [
        "import datetime     # para recursos de data\n",
        "import pytz         # para recursos de cálculos de fuso horário"
      ],
      "execution_count": 3,
      "outputs": []
    },
    {
      "cell_type": "markdown",
      "metadata": {
        "id": "7lSnhJZ76hLz"
      },
      "source": [
        "**Visualizando a data e a hora**"
      ]
    },
    {
      "cell_type": "code",
      "metadata": {
        "colab": {
          "base_uri": "https://localhost:8080/"
        },
        "id": "eAj9gxIq5m_9",
        "outputId": "9de0d75f-b2ea-415c-d961-6e5bf1d212c0"
      },
      "source": [
        "# identificando a data e hora de hoje\n",
        "agora = datetime.datetime.now()\n",
        "print(agora)"
      ],
      "execution_count": 6,
      "outputs": [
        {
          "output_type": "stream",
          "text": [
            "2021-04-29 10:59:31.113335\n"
          ],
          "name": "stdout"
        }
      ]
    },
    {
      "cell_type": "markdown",
      "metadata": {
        "id": "xUe1dC9j7Vrk"
      },
      "source": [
        "**Visualizando somente a data**"
      ]
    },
    {
      "cell_type": "code",
      "metadata": {
        "colab": {
          "base_uri": "https://localhost:8080/"
        },
        "id": "Lgxi9osp5m7a",
        "outputId": "074f50a7-3961-424b-ee56-26a20b6de9a0"
      },
      "source": [
        "# identificando a data de hoje\n",
        "hoje = datetime.date.today()\n",
        "print(hoje)"
      ],
      "execution_count": 7,
      "outputs": [
        {
          "output_type": "stream",
          "text": [
            "2021-04-29\n"
          ],
          "name": "stdout"
        }
      ]
    },
    {
      "cell_type": "markdown",
      "metadata": {
        "id": "tQt-EuZ277ZU"
      },
      "source": [
        "**Vamos separar o `ano`, `mês` e `dia`**"
      ]
    },
    {
      "cell_type": "code",
      "metadata": {
        "colab": {
          "base_uri": "https://localhost:8080/"
        },
        "id": "hI_aAu7P5m4t",
        "outputId": "8773dd0f-728f-4715-cdf8-749d6b0cca04"
      },
      "source": [
        "# identificando o ano\n",
        "print('ano:', hoje.year)\n",
        "\n",
        "# identificando o mês\n",
        "print('mês:', hoje.month)\n",
        "\n",
        "# identificando o dia\n",
        "print('dia:', hoje.day)"
      ],
      "execution_count": 8,
      "outputs": [
        {
          "output_type": "stream",
          "text": [
            "ano: 2021\n",
            "mês: 4\n",
            "dia: 29\n"
          ],
          "name": "stdout"
        }
      ]
    },
    {
      "cell_type": "markdown",
      "metadata": {
        "id": "tNdrHQlG-R7P"
      },
      "source": [
        "**Vamos criar uma data passandoos parâmeteros**"
      ]
    },
    {
      "cell_type": "code",
      "metadata": {
        "colab": {
          "base_uri": "https://localhost:8080/"
        },
        "id": "_LWmqF2R5m3M",
        "outputId": "1938a205-e7e8-4768-8612-3ea7d4bd1a3c"
      },
      "source": [
        "# agrupando os valores para gerar uma data\n",
        "dia = 15\n",
        "mes = 1\n",
        "ano = 2021\n",
        "\n",
        "data_agrupada = datetime.datetime(ano, mes, dia)\n",
        "print(data_agrupada)"
      ],
      "execution_count": 9,
      "outputs": [
        {
          "output_type": "stream",
          "text": [
            "2021-01-15 00:00:00\n"
          ],
          "name": "stdout"
        }
      ]
    },
    {
      "cell_type": "markdown",
      "metadata": {
        "id": "b4Dz2iQe_Ddy"
      },
      "source": [
        "**Identificar o mês de uma data**"
      ]
    },
    {
      "cell_type": "code",
      "metadata": {
        "colab": {
          "base_uri": "https://localhost:8080/"
        },
        "id": "YMwH54Z05m0j",
        "outputId": "ec5a5bd1-64b1-4966-f748-f9953bbe0e0b"
      },
      "source": [
        "# identificando o mês\n",
        "identificar_mes = hoje.strftime('%B')\n",
        "print(identificar_mes)"
      ],
      "execution_count": 10,
      "outputs": [
        {
          "output_type": "stream",
          "text": [
            "April\n"
          ],
          "name": "stdout"
        }
      ]
    },
    {
      "cell_type": "markdown",
      "metadata": {
        "id": "NFnf0yF4_kV0"
      },
      "source": [
        "**Identificar o dia da semanaa mês de uma data**"
      ]
    },
    {
      "cell_type": "code",
      "metadata": {
        "colab": {
          "base_uri": "https://localhost:8080/"
        },
        "id": "9YvECPXg5myu",
        "outputId": "ef5f729f-0b9c-4a22-9455-1545bd617e47"
      },
      "source": [
        "# identificando o dia da semana\n",
        "identificar_dia_semana = hoje.strftime('%A')\n",
        "print(identificar_dia_semana)\n"
      ],
      "execution_count": 11,
      "outputs": [
        {
          "output_type": "stream",
          "text": [
            "Thursday\n"
          ],
          "name": "stdout"
        }
      ]
    },
    {
      "cell_type": "markdown",
      "metadata": {
        "id": "zCul1aPNAABx"
      },
      "source": [
        "**Identificar o dia da semana de uma data, sendo um valor numérico**"
      ]
    },
    {
      "cell_type": "code",
      "metadata": {
        "colab": {
          "base_uri": "https://localhost:8080/"
        },
        "id": "-zxeaTkX_9Qz",
        "outputId": "5efbf1c9-e993-48a8-c857-72441cdc71d3"
      },
      "source": [
        "# identificando o dia da semana - valor numérico\n",
        "# 0 é domingo;\n",
        "# 1 é segunda-feirra;\n",
        "# 2 é terça-feira e,\n",
        "# assim por diante\n",
        "\n",
        "dia_semana_valor = hoje.strftime('%w')\n",
        "print(dia_semana_valor)"
      ],
      "execution_count": 12,
      "outputs": [
        {
          "output_type": "stream",
          "text": [
            "4\n"
          ],
          "name": "stdout"
        }
      ]
    },
    {
      "cell_type": "markdown",
      "metadata": {
        "id": "2gXS_eYCA0Vh"
      },
      "source": [
        "**Identificar os dias do ano**"
      ]
    },
    {
      "cell_type": "code",
      "metadata": {
        "colab": {
          "base_uri": "https://localhost:8080/"
        },
        "id": "Fsh2x1oK5mwd",
        "outputId": "db32bd11-2f6b-4bbb-953b-234da96885a8"
      },
      "source": [
        "# identificando a quantidade de dias já corridos do ano\n",
        "dias_ano = hoje.strftime('%j')\n",
        "print('Já se passaram:', dias_ano, 'dias.')"
      ],
      "execution_count": 13,
      "outputs": [
        {
          "output_type": "stream",
          "text": [
            "Já se passaram: 119 dias.\n"
          ],
          "name": "stdout"
        }
      ]
    },
    {
      "cell_type": "markdown",
      "metadata": {
        "id": "IGdkTib1CBPE"
      },
      "source": [
        "**Identificar as semanas do ano**"
      ]
    },
    {
      "cell_type": "code",
      "metadata": {
        "colab": {
          "base_uri": "https://localhost:8080/"
        },
        "id": "d5VIcVlH5muv",
        "outputId": "dc673284-5c12-4f84-cd59-3838a6475305"
      },
      "source": [
        "# identificando o número da semana do ano\n",
        "semana_ano = hoje.strftime('%U')\n",
        "print('Já se passaram:', semana_ano, 'semanas.')"
      ],
      "execution_count": 14,
      "outputs": [
        {
          "output_type": "stream",
          "text": [
            "Já se passaram: 17 semanas.\n"
          ],
          "name": "stdout"
        }
      ]
    },
    {
      "cell_type": "markdown",
      "metadata": {
        "id": "ego8v6VPCaD_"
      },
      "source": [
        "**Identificar o horário do dia**"
      ]
    },
    {
      "cell_type": "code",
      "metadata": {
        "colab": {
          "base_uri": "https://localhost:8080/"
        },
        "id": "sRHXqa6f5msX",
        "outputId": "fe36f83b-9304-4d64-e0b2-fae109f62572"
      },
      "source": [
        "# identificando se é de manhã ou tarde\n",
        "# AM - antes da manhã\n",
        "# PM - poś da manhã\n",
        "horario_dia = hoje.strftime('%p')\n",
        "print(horario_dia)"
      ],
      "execution_count": 16,
      "outputs": [
        {
          "output_type": "stream",
          "text": [
            "AM\n"
          ],
          "name": "stdout"
        }
      ]
    },
    {
      "cell_type": "markdown",
      "metadata": {
        "id": "FKnKNf_BC-1R"
      },
      "source": [
        "**Ajustando a posição da data**"
      ]
    },
    {
      "cell_type": "code",
      "metadata": {
        "id": "CEzEGAZ15mqy"
      },
      "source": [
        "# formatando a data\n",
        "dia_mes_ano = '%d/%m/%y'\n",
        "mes_dia_ano = '%m/%d/%y'\n",
        "ano_mes_dia = '%y/%m/%d'"
      ],
      "execution_count": 17,
      "outputs": []
    },
    {
      "cell_type": "code",
      "metadata": {
        "id": "Tc9upQ6T5mlF",
        "colab": {
          "base_uri": "https://localhost:8080/"
        },
        "outputId": "81bfed8e-4eb9-4d79-aeb0-1ede7e89fab0"
      },
      "source": [
        "# imprimindo as datas formatadas\n",
        "print('Dia/Mês/Ano:', hoje.strftime(dia_mes_ano))\n",
        "print('Mês/Dia/Ano:', hoje.strftime(mes_dia_ano))\n",
        "print('Ano/Mês/Dia', hoje.strftime(ano_mes_dia))"
      ],
      "execution_count": 18,
      "outputs": [
        {
          "output_type": "stream",
          "text": [
            "Dia/Mês/Ano: 29/04/21\n",
            "Mês/Dia/Ano: 04/29/21\n",
            "Ano/Mês/Dia 21/04/29\n"
          ],
          "name": "stdout"
        }
      ]
    },
    {
      "cell_type": "code",
      "metadata": {
        "id": "FXT-feds5mii"
      },
      "source": [
        "# formatando a data\n",
        "dia_mes_ano = '%d-%m-%y'\n",
        "mes_dia_ano = '%m-%d-%y'\n",
        "ano_mes_dia = '%y-%m-%d'"
      ],
      "execution_count": 19,
      "outputs": []
    },
    {
      "cell_type": "code",
      "metadata": {
        "id": "VTmwnhVT5mgX",
        "colab": {
          "base_uri": "https://localhost:8080/"
        },
        "outputId": "9d5a8ca8-45e0-419b-ef2d-48d7c5433ab1"
      },
      "source": [
        "# imprimindo as datas formatadas\n",
        "print('Dia/Mês/Ano:', hoje.strftime(dia_mes_ano))\n",
        "print('Mês/Dia/Ano:', hoje.strftime(mes_dia_ano))\n",
        "print('Ano/Mês/Dia', hoje.strftime(ano_mes_dia))"
      ],
      "execution_count": 21,
      "outputs": [
        {
          "output_type": "stream",
          "text": [
            "Dia/Mês/Ano: 29-04-21\n",
            "Mês/Dia/Ano: 04-29-21\n",
            "Ano/Mês/Dia 21-04-29\n"
          ],
          "name": "stdout"
        }
      ]
    },
    {
      "cell_type": "markdown",
      "metadata": {
        "id": "DwpBhP2NBERQ"
      },
      "source": [
        "**Ajustando o fuso horário**"
      ]
    },
    {
      "cell_type": "code",
      "metadata": {
        "id": "aKgpJeVBBB1H"
      },
      "source": [
        "# formatando para horários locais mundiais\n",
        "formato = '%d/%m/%Y | %H:%M:%S'"
      ],
      "execution_count": 22,
      "outputs": []
    },
    {
      "cell_type": "code",
      "metadata": {
        "colab": {
          "base_uri": "https://localhost:8080/"
        },
        "id": "hh2KfjXGBByO",
        "outputId": "a6671118-9fff-4d7b-f73b-a1f77bed1541"
      },
      "source": [
        "# gerando o horário de New York\n",
        "local_pais_america = pytz.timezone('America/New_York')\n",
        "horario_local_new_york = datetime.datetime.now(local_pais_america)\n",
        "print('New York:', horario_local_new_york.strftime(formato))"
      ],
      "execution_count": 23,
      "outputs": [
        {
          "output_type": "stream",
          "text": [
            "New York: 29/04/2021 | 07:01:29\n"
          ],
          "name": "stdout"
        }
      ]
    },
    {
      "cell_type": "code",
      "metadata": {
        "colab": {
          "base_uri": "https://localhost:8080/"
        },
        "id": "xxQpQsuNBBwT",
        "outputId": "25f06611-ba39-48d2-d96f-deed67042f14"
      },
      "source": [
        "# gerando o horário de London\n",
        "local_pais_england = pytz.timezone('Europe/London')\n",
        "horario_local_london = datetime.datetime.now(local_pais_england)\n",
        "print(f'London: {horario_local_london.strftime(formato)}')"
      ],
      "execution_count": 24,
      "outputs": [
        {
          "output_type": "stream",
          "text": [
            "London: 29/04/2021 | 12:01:32\n"
          ],
          "name": "stdout"
        }
      ]
    },
    {
      "cell_type": "code",
      "metadata": {
        "colab": {
          "base_uri": "https://localhost:8080/"
        },
        "id": "auc8wAULBBtm",
        "outputId": "08b08fed-067e-4162-840f-c59b822cd6bd"
      },
      "source": [
        "# gerando o horário de Tokyo\n",
        "local_pais_japan = pytz.timezone('Asia/Tokyo')\n",
        "horario_local_japan = datetime.datetime.now(local_pais_japan)\n",
        "print(f'Tokyo: {horario_local_japan.strftime(formato)}')"
      ],
      "execution_count": 26,
      "outputs": [
        {
          "output_type": "stream",
          "text": [
            "Tokyo: 29/04/2021 | 20:01:49\n"
          ],
          "name": "stdout"
        }
      ]
    },
    {
      "cell_type": "code",
      "metadata": {
        "colab": {
          "base_uri": "https://localhost:8080/"
        },
        "id": "bH7B8LVZBBrc",
        "outputId": "127e61ac-d2a3-4082-cd4e-2bd50eb248ed"
      },
      "source": [
        "# gerando o horário de Rio Branco - Acre\n",
        "local_pais_brazil = pytz.timezone('America/Rio_Branco')\n",
        "horario_local_brazil = datetime.datetime.now(local_pais_brazil)\n",
        "print('Rio Branco - AC:', horario_local_brazil.strftime(formato))"
      ],
      "execution_count": 30,
      "outputs": [
        {
          "output_type": "stream",
          "text": [
            "Rio Branco - AC: 29/04/2021 | 06:03:22\n"
          ],
          "name": "stdout"
        }
      ]
    },
    {
      "cell_type": "code",
      "metadata": {
        "colab": {
          "base_uri": "https://localhost:8080/"
        },
        "id": "MevQ7UY7BBpi",
        "outputId": "a262044d-3b09-4fd4-986a-a24cb1e21ca2"
      },
      "source": [
        "# gerando o horário de São Paulo\n",
        "local_pais_brazil_saopaulo = pytz.timezone('America/Sao_Paulo')\n",
        "horario_local_brazil_saopaulo = datetime.datetime.now(local_pais_brazil_saopaulo)\n",
        "print('São Paulo - SP:', horario_local_brazil_saopaulo.strftime(formato))"
      ],
      "execution_count": 31,
      "outputs": [
        {
          "output_type": "stream",
          "text": [
            "São Paulo - SP: 29/04/2021 | 08:03:24\n"
          ],
          "name": "stdout"
        }
      ]
    },
    {
      "cell_type": "markdown",
      "metadata": {
        "id": "p2xgNSRVHZ-t"
      },
      "source": [
        "**Convertendo uma data para inteiro**"
      ]
    },
    {
      "cell_type": "code",
      "metadata": {
        "colab": {
          "base_uri": "https://localhost:8080/"
        },
        "id": "HL-YCkS3BBoQ",
        "outputId": "0e5348a7-9119-47a0-fb20-c2995bec8da5"
      },
      "source": [
        "# convertendo a data para um número inteiro\n",
        "data_convertida = hoje.toordinal()\n",
        "print(data_convertida)"
      ],
      "execution_count": 32,
      "outputs": [
        {
          "output_type": "stream",
          "text": [
            "737909\n"
          ],
          "name": "stdout"
        }
      ]
    },
    {
      "cell_type": "code",
      "metadata": {
        "colab": {
          "base_uri": "https://localhost:8080/"
        },
        "id": "hs36lmymHyFs",
        "outputId": "d8fff3d1-e3f3-448b-b8ad-067e95bedbf4"
      },
      "source": [
        "type(data_convertida)"
      ],
      "execution_count": 33,
      "outputs": [
        {
          "output_type": "execute_result",
          "data": {
            "text/plain": [
              "int"
            ]
          },
          "metadata": {
            "tags": []
          },
          "execution_count": 33
        }
      ]
    },
    {
      "cell_type": "markdown",
      "metadata": {
        "id": "KDs_zAZZH35d"
      },
      "source": [
        "**Convertendo uma string para data**"
      ]
    },
    {
      "cell_type": "code",
      "metadata": {
        "id": "5DHF1JpzBBm1"
      },
      "source": [
        "# instanciando três variáveis de strings\n",
        "data_01 = 'Wednesday, June 6, 2018'\n",
        "data_02 = '6/6/18'\n",
        "data_03 = '06-06-2018'"
      ],
      "execution_count": 44,
      "outputs": []
    },
    {
      "cell_type": "code",
      "metadata": {
        "colab": {
          "base_uri": "https://localhost:8080/"
        },
        "id": "V9VKxQ6qBBjK",
        "outputId": "5082e669-1be3-45b2-89f7-b5027236d6db"
      },
      "source": [
        "# convertendo strings para data\n",
        "# define \"dates as datetime objects\"\n",
        "data_01_convertida = datetime.datetime.strptime(data_01,\n",
        "                                                '%A, %B %d, %Y')\n",
        "print(data_01_convertida)\n",
        "\n",
        "data_02_convertida = datetime.datetime.strptime(data_02,\n",
        "                                                '%m/%d/%y')\n",
        "print(data_02_convertida)\n",
        "\n",
        "data_03_convertida = datetime.datetime.strptime(data_03, \n",
        "                                                '%m-%d-%Y')\n",
        "print(data_03_convertida)"
      ],
      "execution_count": 46,
      "outputs": [
        {
          "output_type": "stream",
          "text": [
            "2018-06-06 00:00:00\n",
            "2018-06-06 00:00:00\n",
            "2018-06-06 00:00:00\n"
          ],
          "name": "stdout"
        }
      ]
    },
    {
      "cell_type": "markdown",
      "metadata": {
        "id": "7m-h_ZAeU5I8"
      },
      "source": [
        "**Operando com datas**"
      ]
    },
    {
      "cell_type": "code",
      "metadata": {
        "id": "zuVa7Kg9BBhX",
        "colab": {
          "base_uri": "https://localhost:8080/"
        },
        "outputId": "8d9871d1-55d7-49f0-c71b-e6e6a3838dc5"
      },
      "source": [
        "# atribuíndo datas futuras\n",
        "futuro = datetime.date.fromordinal(hoje.toordinal() + 45)\n",
        "print(futuro)"
      ],
      "execution_count": 47,
      "outputs": [
        {
          "output_type": "stream",
          "text": [
            "2021-06-13\n"
          ],
          "name": "stdout"
        }
      ]
    },
    {
      "cell_type": "code",
      "metadata": {
        "id": "Py1VdxNNBBfH",
        "colab": {
          "base_uri": "https://localhost:8080/"
        },
        "outputId": "eafe775c-589d-425e-926f-7bf24f880704"
      },
      "source": [
        "# atribuíndo datas passadas\n",
        "passado = datetime.date.fromordinal(hoje.toordinal() - 120)\n",
        "print(passado)"
      ],
      "execution_count": 49,
      "outputs": [
        {
          "output_type": "stream",
          "text": [
            "2020-12-30\n"
          ],
          "name": "stdout"
        }
      ]
    },
    {
      "cell_type": "code",
      "metadata": {
        "colab": {
          "base_uri": "https://localhost:8080/"
        },
        "id": "UGLPu5rETMXQ",
        "outputId": "a34cf3b2-50e6-4afa-e0f2-8a5436844a64"
      },
      "source": [
        "# calculando o intervalo entre duas datas\n",
        "intervalo = futuro - passado\n",
        "print(intervalo.days, 'dias')"
      ],
      "execution_count": 51,
      "outputs": [
        {
          "output_type": "stream",
          "text": [
            "165 dias\n"
          ],
          "name": "stdout"
        }
      ]
    },
    {
      "cell_type": "markdown",
      "metadata": {
        "id": "mOEUpMNSWHYU"
      },
      "source": [
        "**Funções com data**"
      ]
    },
    {
      "cell_type": "code",
      "metadata": {
        "id": "JNqPL1J8TMVJ"
      },
      "source": [
        "# criando uma regra de dias da semana\n",
        "def dias_semana(num_semana):\n",
        "  dias = ['Segunda-feira', 'Terça-feira', 'Quarta-feira',\n",
        "          'Quinta-feira', 'Sexta-feira', 'Sábado', 'Domingo']\n",
        "  return dias[num_semana]"
      ],
      "execution_count": 52,
      "outputs": []
    },
    {
      "cell_type": "code",
      "metadata": {
        "colab": {
          "base_uri": "https://localhost:8080/"
        },
        "id": "ADCpOUlKTMS5",
        "outputId": "3d4903cc-f77c-4e2d-b2c6-b39c696cd750"
      },
      "source": [
        "num_semana = int(hoje.weekday())\n",
        "print('Hoje é', dias_semana(num_semana))"
      ],
      "execution_count": 54,
      "outputs": [
        {
          "output_type": "stream",
          "text": [
            "Hoje é Quinta-feira\n"
          ],
          "name": "stdout"
        }
      ]
    },
    {
      "cell_type": "markdown",
      "metadata": {
        "id": "tr19Lldkaxm0"
      },
      "source": [
        "## **Trabalhando com Horas**"
      ]
    },
    {
      "cell_type": "markdown",
      "metadata": {
        "id": "4QCR5CkCXDOx"
      },
      "source": [
        "**Extrair horas de uma data completa**"
      ]
    },
    {
      "cell_type": "code",
      "metadata": {
        "colab": {
          "base_uri": "https://localhost:8080/"
        },
        "id": "9V0SkhCHTMQr",
        "outputId": "2d048a50-69d6-489a-8d2f-495974d03fea"
      },
      "source": [
        "# extraindo apenas a hora\n",
        "print('Hora:', agora.hour)"
      ],
      "execution_count": 55,
      "outputs": [
        {
          "output_type": "stream",
          "text": [
            "Hora 10\n"
          ],
          "name": "stdout"
        }
      ]
    },
    {
      "cell_type": "code",
      "metadata": {
        "colab": {
          "base_uri": "https://localhost:8080/"
        },
        "id": "2-bKk1ZgTMOh",
        "outputId": "da84854d-274d-401b-8816-838af263d3a8"
      },
      "source": [
        "# extraindo apenas os minutos\n",
        "print('Minutos:', agora.minute)"
      ],
      "execution_count": 56,
      "outputs": [
        {
          "output_type": "stream",
          "text": [
            "Minutos: 59\n"
          ],
          "name": "stdout"
        }
      ]
    },
    {
      "cell_type": "markdown",
      "metadata": {
        "id": "0e1Bul4QXh6O"
      },
      "source": [
        "**Converter para hora temporal**"
      ]
    },
    {
      "cell_type": "code",
      "metadata": {
        "colab": {
          "base_uri": "https://localhost:8080/"
        },
        "id": "6epeVRylTMMS",
        "outputId": "bf261b2d-5063-4e2d-e256-9de436d2a043"
      },
      "source": [
        "# converter um horário para horário temporal\n",
        "hora_temporal = datetime.datetime.timestamp(agora)\n",
        "print('Hora temporal', hora_temporal)"
      ],
      "execution_count": 57,
      "outputs": [
        {
          "output_type": "stream",
          "text": [
            "Hora temporal 1619693971.113335\n"
          ],
          "name": "stdout"
        }
      ]
    },
    {
      "cell_type": "markdown",
      "metadata": {
        "id": "7UTQThViX_UC"
      },
      "source": [
        "**Converter de hora temporal para hora padrão**\n"
      ]
    },
    {
      "cell_type": "code",
      "metadata": {
        "colab": {
          "base_uri": "https://localhost:8080/"
        },
        "id": "ZzkU8Pl2TMJP",
        "outputId": "73dbec23-8df9-435f-9e3d-2e8d78bac8ae"
      },
      "source": [
        "# convertendo hora temporal\n",
        "hora_temporal_numerica = 1619387477.137997\n",
        "\n",
        "converter =datetime.datetime.fromtimestamp(hora_temporal_numerica)\n",
        "print('Hora_convertida', converter)"
      ],
      "execution_count": 59,
      "outputs": [
        {
          "output_type": "stream",
          "text": [
            "Hora_convertida 2021-04-25 21:51:17.137997\n"
          ],
          "name": "stdout"
        }
      ]
    },
    {
      "cell_type": "markdown",
      "metadata": {
        "id": "7YJsLqi_Ytax"
      },
      "source": [
        "**Converter string em horário**"
      ]
    },
    {
      "cell_type": "code",
      "metadata": {
        "colab": {
          "base_uri": "https://localhost:8080/"
        },
        "id": "fNnBYrx8TL1U",
        "outputId": "772fdeba-fb5e-4972-a564-9f1fcdce5475"
      },
      "source": [
        "# converter string em hora\n",
        "# ajustando o horário com 24 horas\n",
        "hora_formatada_1 = '2018-06-29 12:15:27.243860'\n",
        "ajustando_1 = datetime.datetime.strptime(hora_formatada_1,\n",
        "                                         '%Y-%m-%d %H:%M:%S.%f')\n",
        "print('Horário:', ajustando_1.time())"
      ],
      "execution_count": 62,
      "outputs": [
        {
          "output_type": "stream",
          "text": [
            "Horário: 12:15:27.243860\n"
          ],
          "name": "stdout"
        }
      ]
    },
    {
      "cell_type": "markdown",
      "metadata": {
        "id": "Dt_z5fF6a6RF"
      },
      "source": [
        "## **Biblioteca `Parse`**"
      ]
    },
    {
      "cell_type": "markdown",
      "metadata": {
        "id": "mI2pdplzZxW4"
      },
      "source": [
        "**Recurso rápido para converter strings**\n",
        "\n",
        "- `\"dateutil.parser\"`.\n",
        "  - Este módulo oferece um analisador de string de data / hora genérico que é capaz de analisar os formatos mais conhecidos para representar uma data e / ou hora.\n"
      ]
    },
    {
      "cell_type": "code",
      "metadata": {
        "id": "y6Qk77PBTLWj"
      },
      "source": [
        "# função para todos os tipos de data de string\n",
        "from dateutil.parser import parse"
      ],
      "execution_count": 63,
      "outputs": []
    },
    {
      "cell_type": "code",
      "metadata": {
        "id": "pabWHT1ZZuZG"
      },
      "source": [
        "# instanciando uma lista com vários formatados de datas em string\n",
        "formatos_datas = [\n",
        "                  '2021-04-25 09:12:32.243860',\n",
        "                  'Apr 25 2021 9:40AM',\n",
        "                  'Apr 25 2021 at 9:40AM',\n",
        "                  'April 25, 2021, 19:29:55',\n",
        "                  'Sun, 25/04/2021, 11:22PM',\n",
        "                  'Sun, 25 April, 2021',\n",
        "                  '2021-04-25T10:12:45Z',\n",
        "                  '2021-04-25 17:08:00.586525+00:00',\n",
        "                  '2021-04-25 17:08:00.586525+05:00',\n",
        "                  'Sunday, 25th April, 2021 at 4:30pm'\n",
        "]"
      ],
      "execution_count": 64,
      "outputs": []
    },
    {
      "cell_type": "code",
      "metadata": {
        "colab": {
          "base_uri": "https://localhost:8080/"
        },
        "id": "0lZLuTX4ZuW4",
        "outputId": "4f93bb9f-1934-46ef-8f11-e734d016be82"
      },
      "source": [
        "# instanciando um laço de repetição para imprimir as datas acima\n",
        "for consulta_data in formatos_datas:\n",
        "  print('Parsing (convertendo):' + consulta_data)\n",
        "  data = parse(consulta_data)\n",
        "  print(data.date())\n",
        "  print(data.time())\n",
        "  print(data.tzinfo)\n",
        "  print('--------------------\\*/--------------------\\n')"
      ],
      "execution_count": 71,
      "outputs": [
        {
          "output_type": "stream",
          "text": [
            "Parsing (convertendo):2021-04-25 09:12:32.243860\n",
            "2021-04-25\n",
            "09:12:32.243860\n",
            "None\n",
            "--------------------\\*/--------------------\n",
            "\n",
            "Parsing (convertendo):Apr 25 2021 9:40AM\n",
            "2021-04-25\n",
            "09:40:00\n",
            "None\n",
            "--------------------\\*/--------------------\n",
            "\n",
            "Parsing (convertendo):Apr 25 2021 at 9:40AM\n",
            "2021-04-25\n",
            "09:40:00\n",
            "None\n",
            "--------------------\\*/--------------------\n",
            "\n",
            "Parsing (convertendo):April 25, 2021, 19:29:55\n",
            "2021-04-25\n",
            "19:29:55\n",
            "None\n",
            "--------------------\\*/--------------------\n",
            "\n",
            "Parsing (convertendo):Sun, 25/04/2021, 11:22PM\n",
            "2021-04-25\n",
            "23:22:00\n",
            "None\n",
            "--------------------\\*/--------------------\n",
            "\n",
            "Parsing (convertendo):Sun, 25 April, 2021\n",
            "2021-04-25\n",
            "00:00:00\n",
            "None\n",
            "--------------------\\*/--------------------\n",
            "\n",
            "Parsing (convertendo):2021-04-25T10:12:45Z\n",
            "2021-04-25\n",
            "10:12:45\n",
            "tzlocal()\n",
            "--------------------\\*/--------------------\n",
            "\n",
            "Parsing (convertendo):2021-04-25 17:08:00.586525+00:00\n",
            "2021-04-25\n",
            "17:08:00.586525\n",
            "tzlocal()\n",
            "--------------------\\*/--------------------\n",
            "\n",
            "Parsing (convertendo):2021-04-25 17:08:00.586525+05:00\n",
            "2021-04-25\n",
            "17:08:00.586525\n",
            "tzoffset(None, 18000)\n",
            "--------------------\\*/--------------------\n",
            "\n",
            "Parsing (convertendo):Sunday, 25th April, 2021 at 4:30pm\n",
            "2021-04-25\n",
            "16:30:00\n",
            "None\n",
            "--------------------\\*/--------------------\n",
            "\n"
          ],
          "name": "stdout"
        }
      ]
    },
    {
      "cell_type": "markdown",
      "metadata": {
        "id": "rBEVHEileRne"
      },
      "source": [
        "**Chegamos ao final**"
      ]
    },
    {
      "cell_type": "markdown",
      "metadata": {
        "id": "Vl9Ff3fUeXse"
      },
      "source": [
        "Esse guia é como podemos tratar diferentes formas de datas e horŕios em Python.\n",
        "\n",
        "Mas se houver alguma(s) dúvida(s) e um maior aprofudamentamento sobre o assunto. Consulte as documentações das bibliotecas/funções utilizados nesse tutorial. Segue abaixo:\n",
        " - https://dateutil.readthedocs.io/en/stable/parser.html\n",
        " - https://pypi.org/project/pytz/\n",
        " - https://docs.python.org/pt-br/3/library/datetime.html"
      ]
    },
    {
      "cell_type": "code",
      "metadata": {
        "id": "LHyVPWbZZuUa"
      },
      "source": [
        ""
      ],
      "execution_count": null,
      "outputs": []
    },
    {
      "cell_type": "code",
      "metadata": {
        "id": "fYkDanNgZuSI"
      },
      "source": [
        ""
      ],
      "execution_count": null,
      "outputs": []
    },
    {
      "cell_type": "code",
      "metadata": {
        "id": "_3kqEBTCZuP6"
      },
      "source": [
        ""
      ],
      "execution_count": null,
      "outputs": []
    },
    {
      "cell_type": "code",
      "metadata": {
        "id": "b9k2y5X-ZuMU"
      },
      "source": [
        ""
      ],
      "execution_count": null,
      "outputs": []
    },
    {
      "cell_type": "code",
      "metadata": {
        "id": "dAudZEeqZuJ1"
      },
      "source": [
        ""
      ],
      "execution_count": null,
      "outputs": []
    },
    {
      "cell_type": "code",
      "metadata": {
        "id": "pdQ_aGZXZuHp"
      },
      "source": [
        ""
      ],
      "execution_count": null,
      "outputs": []
    },
    {
      "cell_type": "code",
      "metadata": {
        "id": "WFdc03r2ZuFR"
      },
      "source": [
        ""
      ],
      "execution_count": null,
      "outputs": []
    },
    {
      "cell_type": "code",
      "metadata": {
        "id": "1pvdeGPVZuB_"
      },
      "source": [
        ""
      ],
      "execution_count": null,
      "outputs": []
    },
    {
      "cell_type": "code",
      "metadata": {
        "id": "rCL8kHwVZt_j"
      },
      "source": [
        ""
      ],
      "execution_count": null,
      "outputs": []
    },
    {
      "cell_type": "code",
      "metadata": {
        "id": "myJIDNLkZt9I"
      },
      "source": [
        ""
      ],
      "execution_count": null,
      "outputs": []
    },
    {
      "cell_type": "code",
      "metadata": {
        "id": "ya69sz0FZt6l"
      },
      "source": [
        ""
      ],
      "execution_count": null,
      "outputs": []
    },
    {
      "cell_type": "code",
      "metadata": {
        "id": "_B0tHCMNZt38"
      },
      "source": [
        ""
      ],
      "execution_count": null,
      "outputs": []
    },
    {
      "cell_type": "code",
      "metadata": {
        "id": "VXtIH802Zt0l"
      },
      "source": [
        ""
      ],
      "execution_count": null,
      "outputs": []
    }
  ]
}