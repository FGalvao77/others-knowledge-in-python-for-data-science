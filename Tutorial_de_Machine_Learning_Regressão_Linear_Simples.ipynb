{
  "nbformat": 4,
  "nbformat_minor": 0,
  "metadata": {
    "colab": {
      "name": "Tutorial de Machine Learning - Regressão Linear Simples.ipynb",
      "provenance": [],
      "collapsed_sections": [],
      "authorship_tag": "ABX9TyN0Xn5qh7pPYlw6wwGPzzQv",
      "include_colab_link": true
    },
    "kernelspec": {
      "name": "python3",
      "display_name": "Python 3"
    },
    "language_info": {
      "name": "python"
    }
  },
  "cells": [
    {
      "cell_type": "markdown",
      "metadata": {
        "id": "view-in-github",
        "colab_type": "text"
      },
      "source": [
        "<a href=\"https://colab.research.google.com/github/FGalvao77/others-knowledge-in-python-for-data-science/blob/main/Tutorial_de_Machine_Learning_Regress%C3%A3o_Linear_Simples.ipynb\" target=\"_parent\"><img src=\"https://colab.research.google.com/assets/colab-badge.svg\" alt=\"Open In Colab\"/></a>"
      ]
    },
    {
      "cell_type": "markdown",
      "metadata": {
        "id": "wMb-HPCvAQ_8"
      },
      "source": [
        "# **Tutorial de Machine Learning - Regressão Linear Simples [ Python ]**"
      ]
    },
    {
      "cell_type": "markdown",
      "metadata": {
        "id": "SNz-wL0NAc13"
      },
      "source": [
        "Resumo sobre Regressão Linear\n",
        "\n",
        "A analise de regressão linear avalia a relação estatística entre uma ou mais variáveis. Vamos exemplificar ...\n",
        "\n",
        "    Variação de gasto com Alimentação x Salário\n",
        "\n",
        "    Concessão limite de cartão de crédito x Salário\n",
        "\n",
        "Quando consideramos o efeito de duas ou mais variáveis, utilizamos a analise de regressão múltipla, exemplo:\n",
        "- alimentação\n",
        "- salário\n",
        "- limite de crédito\n",
        "\n",
        "Quando consideramos o efeito de apenas 1 variável, utilizamos a analise de regressão simples.\n",
        "\n",
        "**Para que serve uma regressão ?**\n",
        "\n",
        "O modelo de regressão serve para prever comportamentos com base na associação entre duas variáveis que geralmente possuem uma boa correlação.\n",
        "\n",
        "Onde utilizo essa regressão ?\n",
        "\n",
        "As aplicações são diversas !! Mas vamos exemplificar:\n",
        "\n",
        "  - ``Prever o valor`` de fechamento de uma ação na ibovespa;\n",
        "  - ``Produtividade`` de colaboradores de um call center;\n",
        "  - ``%`` de Desmatamento nos próximos anos;\n",
        "  - ``Previsão`` de faturamento.\n",
        "  - Muitos outros !\n",
        "\n",
        "**Observação: Estatística** ``não é 100% assertiva, o papel dela é te direcionar``.\n"
      ]
    },
    {
      "cell_type": "markdown",
      "metadata": {
        "id": "Z1P3yUUcBqoV"
      },
      "source": [
        "# **Regressão Linear - Simples**"
      ]
    },
    {
      "cell_type": "markdown",
      "metadata": {
        "id": "j5jozyaHB0n-"
      },
      "source": [
        "**Vamos importar as bibliotecas externas que iremos precisar**"
      ]
    },
    {
      "cell_type": "code",
      "metadata": {
        "id": "LUrYmRnSALby"
      },
      "source": [
        "# biblioteca para modelagem de dados\n",
        "import pandas as pd\n",
        "\n",
        "# biblioteca para recursos matemáticos\n",
        "import numpy as np\n",
        "\n",
        "# biblioteca para recursos gráficos\n",
        "import matplotlib.pyplot as plt\n",
        "\n",
        "%matplotlib inline"
      ],
      "execution_count": null,
      "outputs": []
    },
    {
      "cell_type": "markdown",
      "metadata": {
        "id": "Anf-rL2ZCckh"
      },
      "source": [
        "**Vamos criar alguns dados fictícios para podemos usar nesse exemplo**"
      ]
    },
    {
      "cell_type": "code",
      "metadata": {
        "colab": {
          "base_uri": "https://localhost:8080/",
          "height": 204
        },
        "id": "JQcZrhhyAU70",
        "outputId": "994b7961-b59f-41bf-ea62-5db8b5bec596"
      },
      "source": [
        "# criando nossa base de dados\n",
        "# base de preço de apartamentos - valores fictícios\n",
        "\n",
        "# criando lista com os valores\n",
        "metragem = [40, 45, 50, 55, 60, 62, 65, 70, 80, 90, \n",
        "            92, 100, 110, 120, 150]\n",
        "\n",
        "valor = [200, 280, 310, 350, 390, 410, 450, 490, 550,\n",
        "         620, 670, 700, 750, 810, 989]\n",
        "\n",
        "# organizando os valores em um dicionário\n",
        "\n",
        "dic = {\n",
        "    'metragem': metragem,\n",
        "    'valor do imóvel': valor\n",
        "}\n",
        "\n",
        "# criando um data frame com o dicionário \n",
        "df_preco = pd.DataFrame(data = dic)\n",
        "\n",
        "# verificando as 5 primeiras linhas\n",
        "df_preco.head()"
      ],
      "execution_count": null,
      "outputs": [
        {
          "output_type": "execute_result",
          "data": {
            "text/html": [
              "<div>\n",
              "<style scoped>\n",
              "    .dataframe tbody tr th:only-of-type {\n",
              "        vertical-align: middle;\n",
              "    }\n",
              "\n",
              "    .dataframe tbody tr th {\n",
              "        vertical-align: top;\n",
              "    }\n",
              "\n",
              "    .dataframe thead th {\n",
              "        text-align: right;\n",
              "    }\n",
              "</style>\n",
              "<table border=\"1\" class=\"dataframe\">\n",
              "  <thead>\n",
              "    <tr style=\"text-align: right;\">\n",
              "      <th></th>\n",
              "      <th>metragem</th>\n",
              "      <th>valor do imóvel</th>\n",
              "    </tr>\n",
              "  </thead>\n",
              "  <tbody>\n",
              "    <tr>\n",
              "      <th>0</th>\n",
              "      <td>40</td>\n",
              "      <td>200</td>\n",
              "    </tr>\n",
              "    <tr>\n",
              "      <th>1</th>\n",
              "      <td>45</td>\n",
              "      <td>280</td>\n",
              "    </tr>\n",
              "    <tr>\n",
              "      <th>2</th>\n",
              "      <td>50</td>\n",
              "      <td>310</td>\n",
              "    </tr>\n",
              "    <tr>\n",
              "      <th>3</th>\n",
              "      <td>55</td>\n",
              "      <td>350</td>\n",
              "    </tr>\n",
              "    <tr>\n",
              "      <th>4</th>\n",
              "      <td>60</td>\n",
              "      <td>390</td>\n",
              "    </tr>\n",
              "  </tbody>\n",
              "</table>\n",
              "</div>"
            ],
            "text/plain": [
              "   metragem  valor do imóvel\n",
              "0        40              200\n",
              "1        45              280\n",
              "2        50              310\n",
              "3        55              350\n",
              "4        60              390"
            ]
          },
          "metadata": {
            "tags": []
          },
          "execution_count": 3
        }
      ]
    },
    {
      "cell_type": "markdown",
      "metadata": {
        "id": "m-XakWeZEPcC"
      },
      "source": [
        "**Vamos usar esses dados para prever o** `valor de um apartamento.`\n",
        "\n",
        "**Nesse exemplo criamos alguns dados fictícios para treinamos o modelo.**"
      ]
    },
    {
      "cell_type": "markdown",
      "metadata": {
        "id": "6l4a-Q4gEWm1"
      },
      "source": [
        "**Vamos gerar um gráfico com 2 eixos para entender os dados**"
      ]
    },
    {
      "cell_type": "code",
      "metadata": {
        "colab": {
          "base_uri": "https://localhost:8080/",
          "height": 347
        },
        "id": "dkCNe-hIAU45",
        "outputId": "e8738af6-977b-403d-d635-df1a9df2de53"
      },
      "source": [
        "# plotagem dos dados\n",
        "\n",
        "# ajustando o tamanho do gráfico\n",
        "plt.figure(figsize = (14, 7))\n",
        "\n",
        "# passando os valores para o gráfico\n",
        "plt.scatter(df_preco['metragem'].values,\n",
        "            df_preco['valor do imóvel'].values)\n",
        "\n",
        "# definindo um título\n",
        "plt.title('Preço de apartamentos')\n",
        "\n",
        "# definindo o nome do eixo x\n",
        "plt.xlabel('metragem (m2)')\n",
        "\n",
        "# definindo o nome do eixo y\n",
        "plt.ylabel('valor (R$) - mil');"
      ],
      "execution_count": null,
      "outputs": [
        {
          "output_type": "display_data",
          "data": {
            "image/png": "[encoded data removed]",
            "text/plain": [
              "<Figure size 1008x504 with 1 Axes>"
            ]
          },
          "metadata": {
            "tags": [],
            "needs_background": "light"
          }
        }
      ]
    },
    {
      "cell_type": "markdown",
      "metadata": {
        "id": "1J6tBVzaYcTW"
      },
      "source": [
        "Nesse exemplo os dados foram forjados.\n",
        "É nítido que há uma correlação entre essas 2 variável.\n",
        "\n",
        "``Quanto maior a metragem maior o valor do imóvel.``\n"
      ]
    },
    {
      "cell_type": "markdown",
      "metadata": {
        "id": "7KTDTzGPYmH-"
      },
      "source": [
        "**Vamos calcular a correlação**"
      ]
    },
    {
      "cell_type": "code",
      "metadata": {
        "id": "I59gqEw8AU2a"
      },
      "source": [
        "# separando os dados mo eixo x e y\n",
        "eixo_x = df_preco.iloc[:, 0].values\n",
        "eixo_y = df_preco.iloc[:, 1].values"
      ],
      "execution_count": null,
      "outputs": []
    },
    {
      "cell_type": "code",
      "metadata": {
        "id": "FSgIDeD_AU0k",
        "colab": {
          "base_uri": "https://localhost:8080/"
        },
        "outputId": "c1e7e3ef-bc0f-451e-ed36-93b9415d7031"
      },
      "source": [
        "# calculando a correlação entre os dados usando o numpy\n",
        "correlacao = np.corrcoef(eixo_x, eixo_y)\n",
        "correlacao"
      ],
      "execution_count": null,
      "outputs": [
        {
          "output_type": "execute_result",
          "data": {
            "text/plain": [
              "array([[1.        , 0.99320395],\n",
              "       [0.99320395, 1.        ]])"
            ]
          },
          "metadata": {
            "tags": []
          },
          "execution_count": 9
        }
      ]
    },
    {
      "cell_type": "markdown",
      "metadata": {
        "id": "NT6oyIPek9ad"
      },
      "source": [
        "Perceba que, a correlação das variáveis ficou em ``0.99 (Forte)``.\n",
        "\n",
        "Verifique na tabela abaixo a escala."
      ]
    },
    {
      "cell_type": "markdown",
      "metadata": {
        "id": "O-6mPGqzlZfi"
      },
      "source": [
        "![image.png](data:image/png;base64,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)"
      ]
    },
    {
      "cell_type": "markdown",
      "metadata": {
        "id": "-J2ppLmzl6_A"
      },
      "source": [
        "A correlação pode ser ``positiva`` ou ``negativa``, a escala vai de ``1`` a ``-1``.\n",
        "\n",
        "**Quanto mais próximo de 1, há uma correlação positiva, ou seja, quando uma\n",
        "variável cresce a outra cresce.**\n",
        "\n",
        "**Quanto mais próxima de -1, há uma correlação negativa, ou seja, quando uma\n",
        "variável cresce a outra diminui ou vice-versa.**\n",
        "\n",
        "No nosso ``exemplo a correlação ficou em 0.99``, ou seja, há uma\n",
        "**correlação muito forte entre o metragem vs preço.**"
      ]
    },
    {
      "cell_type": "markdown",
      "metadata": {
        "id": "KzD7FpKPmZU-"
      },
      "source": [
        "Na regressão é **sempre importante haver correlações fortes** entre as variáveis.\n",
        "\n",
        "_Caso não haja, o modelo irá ter uma ``dispersão muito grande``, e as previsões\n",
        "ficaram fora da realidade._"
      ]
    },
    {
      "cell_type": "markdown",
      "metadata": {
        "id": "BN1XvZ7cmo4e"
      },
      "source": [
        "**Ajustar os dados em uma matriz para serem inseridos no ``sklearn``**\n"
      ]
    },
    {
      "cell_type": "code",
      "metadata": {
        "colab": {
          "base_uri": "https://localhost:8080/"
        },
        "id": "I71Q0Q_GmsWU",
        "outputId": "c7e69d62-6e63-4580-8a83-a095f02c6f1d"
      },
      "source": [
        "# convertendo o eixo x para formato de matriz\n",
        "\n",
        "# - 1 quer dizer para não mexer nas linhas\n",
        "# 1 quer dizer para incluir uma coluna\n",
        "eixo_x = eixo_x.reshape(-1, 1)\n",
        "eixo_x"
      ],
      "execution_count": null,
      "outputs": [
        {
          "output_type": "execute_result",
          "data": {
            "text/plain": [
              "array([[ 40],\n",
              "       [ 45],\n",
              "       [ 50],\n",
              "       [ 55],\n",
              "       [ 60],\n",
              "       [ 62],\n",
              "       [ 65],\n",
              "       [ 70],\n",
              "       [ 80],\n",
              "       [ 90],\n",
              "       [ 92],\n",
              "       [100],\n",
              "       [110],\n",
              "       [120],\n",
              "       [150]])"
            ]
          },
          "metadata": {
            "tags": []
          },
          "execution_count": 13
        }
      ]
    },
    {
      "cell_type": "markdown",
      "metadata": {
        "id": "uXImosIsnV59"
      },
      "source": [
        "**Vamos treinar o modelo**"
      ]
    },
    {
      "cell_type": "code",
      "metadata": {
        "id": "ww9gVxzbAUyj"
      },
      "source": [
        "# importando a biblioteca com os recursos da regressão linear\n",
        "from sklearn.linear_model import LinearRegression"
      ],
      "execution_count": null,
      "outputs": []
    },
    {
      "cell_type": "code",
      "metadata": {
        "colab": {
          "base_uri": "https://localhost:8080/"
        },
        "id": "oS4oa3NwmtL9",
        "outputId": "7d010b4d-ceab-4a74-cd86-941f27f31f6c"
      },
      "source": [
        "# definindo uma variável com os cálculos estatísticos\n",
        "regressor = LinearRegression()\n",
        "\n",
        "# visualizando o nosso modelo e seus parâmetros\n",
        "regressor"
      ],
      "execution_count": null,
      "outputs": [
        {
          "output_type": "execute_result",
          "data": {
            "text/plain": [
              "LinearRegression(copy_X=True, fit_intercept=True, n_jobs=None, normalize=False)"
            ]
          },
          "metadata": {
            "tags": []
          },
          "execution_count": 20
        }
      ]
    },
    {
      "cell_type": "code",
      "metadata": {
        "colab": {
          "base_uri": "https://localhost:8080/"
        },
        "id": "0WOv1oIDmtJh",
        "outputId": "d194ecb3-7ac3-4b83-a3ef-1b97e62c631f"
      },
      "source": [
        "# passando os dados para treinar o modelo\n",
        "regressor.fit(eixo_x, eixo_y)"
      ],
      "execution_count": null,
      "outputs": [
        {
          "output_type": "execute_result",
          "data": {
            "text/plain": [
              "LinearRegression(copy_X=True, fit_intercept=True, n_jobs=None, normalize=False)"
            ]
          },
          "metadata": {
            "tags": []
          },
          "execution_count": 21
        }
      ]
    },
    {
      "cell_type": "code",
      "metadata": {
        "id": "zBjIedIrmtGv"
      },
      "source": [
        "# identificando o b0 e b1 - referência da fórmula da regressão linear\n",
        "b1 = regressor.coef_  # coeficiente\n",
        "b0 = regressor.intercept_   # constante"
      ],
      "execution_count": null,
      "outputs": []
    },
    {
      "cell_type": "code",
      "metadata": {
        "colab": {
          "base_uri": "https://localhost:8080/"
        },
        "id": "kepnJarDmtEQ",
        "outputId": "c50ffdf0-1172-4963-df1a-f274ef7b3721"
      },
      "source": [
        "# visualizando os valores\n",
        "print(f'b0 = {b0} \\nb1 = {b1[0]}')"
      ],
      "execution_count": null,
      "outputs": [
        {
          "output_type": "stream",
          "text": [
            "b0 = -32.38752208173719 \n",
            "b1 = 7.110860244933606\n"
          ],
          "name": "stdout"
        }
      ]
    },
    {
      "cell_type": "markdown",
      "metadata": {
        "id": "YZib5mUwpw4X"
      },
      "source": [
        "**Formula da regressão linear**"
      ]
    },
    {
      "cell_type": "markdown",
      "metadata": {
        "id": "dyoAJXs0pi6Z"
      },
      "source": [
        "![image.png](data:image/png;base64,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)"
      ]
    },
    {
      "cell_type": "markdown",
      "metadata": {
        "id": "se7OyGqIpstX"
      },
      "source": [
        "![image.png](data:image/png;base64,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)"
      ]
    },
    {
      "cell_type": "markdown",
      "metadata": {
        "id": "Z3fqSzdMp8K2"
      },
      "source": [
        "Caso não tenha conhecimento sobre estatística, vou deixar um vídeo bem legal de como funciona essa formula.\n",
        "\n",
        "https://www.youtube.com/watch?v=n--K70T6c3A&list=PLVGJZxcisYSGmqs4muOxEoiqUYWlAVmef&index=17"
      ]
    },
    {
      "cell_type": "markdown",
      "metadata": {
        "id": "YLVfqR5_q4xU"
      },
      "source": [
        "**Vamos Calcular o score dessa regressão**"
      ]
    },
    {
      "cell_type": "code",
      "metadata": {
        "colab": {
          "base_uri": "https://localhost:8080/"
        },
        "id": "Rq_QszH7mtBO",
        "outputId": "9f9fbe75-4751-471e-bfc8-850e474cd058"
      },
      "source": [
        "# calculando o score da regressão\n",
        "score = regressor.score(eixo_x, eixo_y)\n",
        "score"
      ],
      "execution_count": null,
      "outputs": [
        {
          "output_type": "execute_result",
          "data": {
            "text/plain": [
              "0.9864540901286758"
            ]
          },
          "metadata": {
            "tags": []
          },
          "execution_count": 25
        }
      ]
    },
    {
      "cell_type": "markdown",
      "metadata": {
        "id": "ShRcWjuMrKZU"
      },
      "source": [
        "Esse score é diferente da correlação.\n",
        "Porem a escala é bem similar, quanto mais próximo de 1 é melhor"
      ]
    },
    {
      "cell_type": "markdown",
      "metadata": {
        "id": "bpeAZxkLrNVl"
      },
      "source": [
        "**Vamos entender a reta que foi gerada pelo modelo**"
      ]
    },
    {
      "cell_type": "code",
      "metadata": {
        "colab": {
          "base_uri": "https://localhost:8080/",
          "height": 458
        },
        "id": "H2QM2pzmms-9",
        "outputId": "2d67a0ab-5694-4c3f-89c4-6dcdef1f8572"
      },
      "source": [
        "# plotagem da reta\n",
        "\n",
        "# ajustando o tamanho do gráfico\n",
        "plt.figure(figsize=(12, 7))\n",
        "\n",
        "# passando os valores para o gráfico\n",
        "plt.scatter(df_preco['metragem'].values,\n",
        "            df_preco['valor do imóvel'].values)\n",
        "\n",
        "# plotando a reta gerada pela regressão\n",
        "plt.plot(eixo_x, regressor.predict(eixo_x), color = 'red')\n",
        "\n",
        "# definindo um título\n",
        "plt.title('Preço de apartamentos')\n",
        "\n",
        "# definindo o nome do eixo x\n",
        "plt.xlabel('metragem (m2)')\n",
        "\n",
        "# definindo o nome do eixo y\n",
        "plt.ylabel('valor do imóvel (R$ - mil)');"
      ],
      "execution_count": null,
      "outputs": [
        {
          "output_type": "display_data",
          "data": {
            "image/png": "[encoded data removed]",
            "text/plain": [
              "<Figure size 864x504 with 1 Axes>"
            ]
          },
          "metadata": {
            "tags": [],
            "needs_background": "light"
          }
        }
      ]
    },
    {
      "cell_type": "markdown",
      "metadata": {
        "id": "2k7-GFK5sibK"
      },
      "source": [
        "Avaliando o modelo.\n",
        "\n",
        "Nessa previsão a ``reta vermelha`` ficou bem próxima dos dados, ou seja, o modelo\n",
        "teve uma ótima performance.\n",
        "\n",
        "**Lembrando que os dados são forjados. Nem sempre ficara dessa forma nos modelos.**"
      ]
    },
    {
      "cell_type": "markdown",
      "metadata": {
        "id": "qb0bLEmdssS6"
      },
      "source": [
        "**Fazendo uma previsão**"
      ]
    },
    {
      "cell_type": "code",
      "metadata": {
        "id": "nhyckuxjrLQ9"
      },
      "source": [
        "# fazendo as previsões\n",
        "\n",
        "# vampos prever o valor de um apartamento de 50 metros\n",
        "tamanho_apt = [[50]]  # lembrando que o modelo somente aceita um valor de matriz de array\n"
      ],
      "execution_count": null,
      "outputs": []
    },
    {
      "cell_type": "code",
      "metadata": {
        "colab": {
          "base_uri": "https://localhost:8080/"
        },
        "id": "z7YbKv7MrLzF",
        "outputId": "910eb2d4-e912-447e-8120-c2a69878199b"
      },
      "source": [
        "# prevendo quanto custaria o avlor de um apartamento\n",
        "previsao = regressor.predict(tamanho_apt)\n",
        "\n",
        "print(f'Um apartamento de {tamanho_apt[0][0]} metros')\n",
        "print(f'Usando o modelo para prever o valor, custaria: R$ {round(previsao[0], 3)}')"
      ],
      "execution_count": null,
      "outputs": [
        {
          "output_type": "stream",
          "text": [
            "Um apartamento de 50 metros\n",
            "Usando o modelo para prever o valor, custaria: R$ 323.155\n"
          ],
          "name": "stdout"
        }
      ]
    },
    {
      "cell_type": "markdown",
      "metadata": {
        "id": "CY--ZvWFuZxN"
      },
      "source": [
        "Nesse exemplo acima, fizemos uma previsão de um valor de uma apartamento de 50 metros.\n",
        "\n",
        "Nos nossos dados um apartamento de 50 metros custava 310. O modelo previu 323.\n",
        "\n",
        "**Ressalto que estatística não é 100% assertiva. Ela é diretiva.**"
      ]
    },
    {
      "cell_type": "markdown",
      "metadata": {
        "id": "7YPiVarSuoj8"
      },
      "source": [
        "**Final**\n",
        "\n",
        "Esse guia é um exemplo de uma regressão linear simples.\n",
        "\n",
        "Guia da documentação caso queira mais detalhes\n",
        "- https://scikit-learn.org/stable/modules/generated/sklearn.linear_model.LinearRegression.html\n",
        "\n"
      ]
    },
    {
      "cell_type": "markdown",
      "metadata": {
        "id": "dwnp_Jt4QWcu"
      },
      "source": [
        "## **Vamos praticar um pouco mais...**"
      ]
    },
    {
      "cell_type": "code",
      "metadata": {
        "id": "5vVpdQ1-rLpU"
      },
      "source": [
        "# importando as bibliotecas necessárias para modelagem de dados\n",
        "\n",
        "import pandas as pd   # biblioteca para modelagem de dados\n",
        "import numpy as np    # biblioteca para recursos matemáticos\n",
        "import matplotlib.pyplot as plt   # biblioteca para recursos gráficos\n",
        "\n",
        "# comando mágico para exibir elementos gráficos na tela\n",
        "%matplotlib inline"
      ],
      "execution_count": null,
      "outputs": []
    },
    {
      "cell_type": "markdown",
      "metadata": {
        "id": "5h0CVfJpfaMH"
      },
      "source": [
        "**Criando nossa base de dados**\n",
        " - base de notas do exame Vs horas de estudo - valores fictícios"
      ]
    },
    {
      "cell_type": "code",
      "metadata": {
        "id": "59Sc_EaxfZJy"
      },
      "source": [
        "# criando duas listas - nota_exame e horas_estudo\n",
        "\n",
        "nota_exame = [1.0, 3.5, 5.0, 5.5, 5.75, 6.25, \n",
        "              7.0, 7.5, 8.0, 9.5, 9.5, 9.75]\n",
        "\n",
        "horas_estudo = [3.3, 4.5, 6.2, 7.5, 7.8, 8.9,\n",
        "                9.5, 9.9, 11.4, 14.3, 14.7, 15.9]\n",
        "\n"
      ],
      "execution_count": null,
      "outputs": []
    },
    {
      "cell_type": "code",
      "metadata": {
        "colab": {
          "base_uri": "https://localhost:8080/",
          "height": 204
        },
        "id": "6SlIRcachjst",
        "outputId": "fde8ff77-609e-4813-a40b-cd81c59df6df"
      },
      "source": [
        "# organizando os valores em um dicionário\n",
        "\n",
        "dic = {\n",
        "    'horas_estudo': horas_estudo,\n",
        "    'nota_exame': nota_exame\n",
        "}\n",
        "\n",
        "# criando um data frame com o dicionário\n",
        "df_nota_exame = pd.DataFrame(dic)\n",
        "\n",
        "# verificando as 5 primeiras linhas\n",
        "df_nota_exame.head()"
      ],
      "execution_count": null,
      "outputs": [
        {
          "output_type": "execute_result",
          "data": {
            "text/html": [
              "<div>\n",
              "<style scoped>\n",
              "    .dataframe tbody tr th:only-of-type {\n",
              "        vertical-align: middle;\n",
              "    }\n",
              "\n",
              "    .dataframe tbody tr th {\n",
              "        vertical-align: top;\n",
              "    }\n",
              "\n",
              "    .dataframe thead th {\n",
              "        text-align: right;\n",
              "    }\n",
              "</style>\n",
              "<table border=\"1\" class=\"dataframe\">\n",
              "  <thead>\n",
              "    <tr style=\"text-align: right;\">\n",
              "      <th></th>\n",
              "      <th>horas_estudo</th>\n",
              "      <th>nota_exame</th>\n",
              "    </tr>\n",
              "  </thead>\n",
              "  <tbody>\n",
              "    <tr>\n",
              "      <th>0</th>\n",
              "      <td>3.3</td>\n",
              "      <td>1.00</td>\n",
              "    </tr>\n",
              "    <tr>\n",
              "      <th>1</th>\n",
              "      <td>4.5</td>\n",
              "      <td>3.50</td>\n",
              "    </tr>\n",
              "    <tr>\n",
              "      <th>2</th>\n",
              "      <td>6.2</td>\n",
              "      <td>5.00</td>\n",
              "    </tr>\n",
              "    <tr>\n",
              "      <th>3</th>\n",
              "      <td>7.5</td>\n",
              "      <td>5.50</td>\n",
              "    </tr>\n",
              "    <tr>\n",
              "      <th>4</th>\n",
              "      <td>7.8</td>\n",
              "      <td>5.75</td>\n",
              "    </tr>\n",
              "  </tbody>\n",
              "</table>\n",
              "</div>"
            ],
            "text/plain": [
              "   horas_estudo  nota_exame\n",
              "0           3.3        1.00\n",
              "1           4.5        3.50\n",
              "2           6.2        5.00\n",
              "3           7.5        5.50\n",
              "4           7.8        5.75"
            ]
          },
          "metadata": {
            "tags": []
          },
          "execution_count": 75
        }
      ]
    },
    {
      "cell_type": "markdown",
      "metadata": {
        "id": "H2XuO8qIj7fC"
      },
      "source": [
        "**Vamos gerar um gráfico com 2 eixos para entender os dados**"
      ]
    },
    {
      "cell_type": "code",
      "metadata": {
        "colab": {
          "base_uri": "https://localhost:8080/",
          "height": 458
        },
        "id": "oLp-yB5JfIl9",
        "outputId": "e2a7eebc-4bf2-402a-c080-b5311cacf6ca"
      },
      "source": [
        "# plotagem dos dados\n",
        "\n",
        "# ajustando o tamanho do gráfico\n",
        "plt.figure(figsize = (14, 7))\n",
        "\n",
        "# passando os valores para o gráfico\n",
        "plt.scatter(df_nota_exame['horas_estudo'].values,\n",
        "            df_nota_exame['nota_exame'].values)\n",
        "\n",
        "# definindo um título\n",
        "plt.title('Nota final do exame')\n",
        "\n",
        "# definindo o nome do eixo x\n",
        "plt.xlabel('horas')\n",
        "\n",
        "# definindo o nome do eixo y\n",
        "plt.ylabel('nota');\n"
      ],
      "execution_count": null,
      "outputs": [
        {
          "output_type": "display_data",
          "data": {
            "image/png": "[encoded data removed]",
            "text/plain": [
              "<Figure size 1008x504 with 1 Axes>"
            ]
          },
          "metadata": {
            "tags": [],
            "needs_background": "light"
          }
        }
      ]
    },
    {
      "cell_type": "markdown",
      "metadata": {
        "id": "eHapjQwWkGuD"
      },
      "source": [
        "**Vamos calcular a correlação**"
      ]
    },
    {
      "cell_type": "code",
      "metadata": {
        "id": "Mjs1xvbAfIi8"
      },
      "source": [
        "# separando os dados mo eixo x e y\n",
        "eixo_x = df_nota_exame.iloc[:, 0].values\n",
        "eixo_y = df_nota_exame.iloc[:, 1].values"
      ],
      "execution_count": null,
      "outputs": []
    },
    {
      "cell_type": "code",
      "metadata": {
        "colab": {
          "base_uri": "https://localhost:8080/"
        },
        "id": "TLQLfyVEfIgc",
        "outputId": "549b8fc8-106f-4af1-ec1c-b22b84023b25"
      },
      "source": [
        "# calculando a correlação entre os dados usando o numpy\n",
        "correlacao = np.corrcoef(eixo_x, eixo_y)\n",
        "correlacao"
      ],
      "execution_count": null,
      "outputs": [
        {
          "output_type": "execute_result",
          "data": {
            "text/plain": [
              "array([[1.        , 0.96847098],\n",
              "       [0.96847098, 1.        ]])"
            ]
          },
          "metadata": {
            "tags": []
          },
          "execution_count": 78
        }
      ]
    },
    {
      "cell_type": "markdown",
      "metadata": {
        "id": "MGlzh2F9kkEb"
      },
      "source": [
        "**Ajustar os dados em uma matriz para serem inseridos no sklearn**"
      ]
    },
    {
      "cell_type": "code",
      "metadata": {
        "colab": {
          "base_uri": "https://localhost:8080/"
        },
        "id": "NykXpYhgfIXc",
        "outputId": "f20b9667-9ccc-48a7-c8bb-7bb96a1ce794"
      },
      "source": [
        "# convertendo o eixo x para formato de matriz\n",
        "\n",
        "# - 1 quer dizer para não mexer nas linhas\n",
        "# 1 quer dizer para incluir uma coluna\n",
        "eixo_x = eixo_x.reshape(-1, 1)\n",
        "eixo_x"
      ],
      "execution_count": null,
      "outputs": [
        {
          "output_type": "execute_result",
          "data": {
            "text/plain": [
              "array([[ 3.3],\n",
              "       [ 4.5],\n",
              "       [ 6.2],\n",
              "       [ 7.5],\n",
              "       [ 7.8],\n",
              "       [ 8.9],\n",
              "       [ 9.5],\n",
              "       [ 9.9],\n",
              "       [11.4],\n",
              "       [14.3],\n",
              "       [14.7],\n",
              "       [15.9]])"
            ]
          },
          "metadata": {
            "tags": []
          },
          "execution_count": 79
        }
      ]
    },
    {
      "cell_type": "markdown",
      "metadata": {
        "id": "_2Uur449kyJ5"
      },
      "source": [
        "**Vamos treinar o modelo**"
      ]
    },
    {
      "cell_type": "code",
      "metadata": {
        "id": "aRyKQ8KPfH_0"
      },
      "source": [
        "# importando a biblioteca com os recursos da regressão linear\n",
        "from sklearn.linear_model import LinearRegression"
      ],
      "execution_count": null,
      "outputs": []
    },
    {
      "cell_type": "code",
      "metadata": {
        "colab": {
          "base_uri": "https://localhost:8080/"
        },
        "id": "y_KgzIm6kz7o",
        "outputId": "a57c77ed-621c-418a-8d4b-eeb17302bf37"
      },
      "source": [
        "# definindo uma variável com os cálculos estatísticos\n",
        "regressor = LinearRegression()\n",
        "\n",
        "# visualizando o nosso modelo e seus parâmetros\n",
        "regressor"
      ],
      "execution_count": null,
      "outputs": [
        {
          "output_type": "execute_result",
          "data": {
            "text/plain": [
              "LinearRegression(copy_X=True, fit_intercept=True, n_jobs=None, normalize=False)"
            ]
          },
          "metadata": {
            "tags": []
          },
          "execution_count": 81
        }
      ]
    },
    {
      "cell_type": "code",
      "metadata": {
        "colab": {
          "base_uri": "https://localhost:8080/"
        },
        "id": "Po2for4akz6G",
        "outputId": "888c1373-d1f4-4ffb-c664-dbc3e5124391"
      },
      "source": [
        "# passando os dados para treinar o modelo\n",
        "regressor.fit(eixo_x, eixo_y)"
      ],
      "execution_count": null,
      "outputs": [
        {
          "output_type": "execute_result",
          "data": {
            "text/plain": [
              "LinearRegression(copy_X=True, fit_intercept=True, n_jobs=None, normalize=False)"
            ]
          },
          "metadata": {
            "tags": []
          },
          "execution_count": 82
        }
      ]
    },
    {
      "cell_type": "code",
      "metadata": {
        "id": "1FrV0oUqkz4s"
      },
      "source": [
        "# identificando o b0 e b1 - referência da fórmula da regressão linear\n",
        "b1 = regressor.coef_  # coeficiente\n",
        "b0 = regressor.intercept_   # constante"
      ],
      "execution_count": null,
      "outputs": []
    },
    {
      "cell_type": "code",
      "metadata": {
        "colab": {
          "base_uri": "https://localhost:8080/"
        },
        "id": "mwBCxBPEkz2o",
        "outputId": "9fec246a-dddb-4d81-ca89-47039ba77efa"
      },
      "source": [
        "# visualizando os valores\n",
        "print(f'b0 = {b0} \\nb1 = {b1[0]}')"
      ],
      "execution_count": null,
      "outputs": [
        {
          "output_type": "stream",
          "text": [
            "b0 = 0.5194562685728066 \n",
            "b1 = 0.6322785318448315\n"
          ],
          "name": "stdout"
        }
      ]
    },
    {
      "cell_type": "markdown",
      "metadata": {
        "id": "77H3Wunylbs3"
      },
      "source": [
        "**Vamos Calcular o score dessa regressão**"
      ]
    },
    {
      "cell_type": "code",
      "metadata": {
        "colab": {
          "base_uri": "https://localhost:8080/"
        },
        "id": "5BcUDjnwkz09",
        "outputId": "ff9ee98e-373f-48cf-d94a-a693530025a2"
      },
      "source": [
        "# calculando o score da regressão\n",
        "score = regressor.score(eixo_x, eixo_y)\n",
        "score"
      ],
      "execution_count": null,
      "outputs": [
        {
          "output_type": "execute_result",
          "data": {
            "text/plain": [
              "0.9379360345063908"
            ]
          },
          "metadata": {
            "tags": []
          },
          "execution_count": 85
        }
      ]
    },
    {
      "cell_type": "markdown",
      "metadata": {
        "id": "492hT7rxlpSb"
      },
      "source": [
        "**Vamos entender a reta que foi gerada pelo modelo**"
      ]
    },
    {
      "cell_type": "code",
      "metadata": {
        "colab": {
          "base_uri": "https://localhost:8080/",
          "height": 458
        },
        "id": "W0y_jVWbkzvx",
        "outputId": "8224427b-53f4-4b67-a86a-54b13b189306"
      },
      "source": [
        "# plotagem da reta\n",
        "\n",
        "# ajustando o tamanho do gráfico\n",
        "plt.figure(figsize=(12, 7))\n",
        "\n",
        "# passando os valores para o gráfico\n",
        "plt.scatter(df_nota_exame['horas_estudo'].values,\n",
        "            df_nota_exame['nota_exame'].values)\n",
        "\n",
        "# plotando a reta gerada pela regressão\n",
        "plt.plot(eixo_x, regressor.predict(eixo_x), color = 'red')\n",
        "\n",
        "# definindo um título\n",
        "plt.title('Nota final do exame')\n",
        "\n",
        "# definindo o nome do eixo x\n",
        "plt.xlabel('horas')\n",
        "\n",
        "# definindo o nome do eixo y\n",
        "plt.ylabel('nota');\n"
      ],
      "execution_count": null,
      "outputs": [
        {
          "output_type": "display_data",
          "data": {
            "image/png": "[encoded data removed]",
            "text/plain": [
              "<Figure size 864x504 with 1 Axes>"
            ]
          },
          "metadata": {
            "tags": [],
            "needs_background": "light"
          }
        }
      ]
    },
    {
      "cell_type": "markdown",
      "metadata": {
        "id": "gdhjbADImPJw"
      },
      "source": [
        "**Fazendo uma previsão**"
      ]
    },
    {
      "cell_type": "code",
      "metadata": {
        "id": "hstJfzabmJvS"
      },
      "source": [
        "# vampos prever a nota de um aluno que dedicou 8.1 horas para estudar\n",
        "aluno_01 = [[8.1]]  # lembrando que o modelo somente aceita um valor de matriz de array\n"
      ],
      "execution_count": null,
      "outputs": []
    },
    {
      "cell_type": "code",
      "metadata": {
        "colab": {
          "base_uri": "https://localhost:8080/"
        },
        "id": "cxm5-q_PmJsx",
        "outputId": "27a26f0f-0c44-4361-9453-4160e3a79425"
      },
      "source": [
        "# prevendo quanto custaria o avlor de um apartamento\n",
        "previsao = regressor.predict(aluno_01)\n",
        "\n",
        "print(f'Um aluno que dedicou {aluno_01[0][0]} horas')\n",
        "print(f'Usando o modelo para prever, ele tem a probabilidade de ter uma nota no exame final de {previsao[0]:.2f}')"
      ],
      "execution_count": null,
      "outputs": [
        {
          "output_type": "stream",
          "text": [
            "Um aluno que dedicou 8.1 horas\n",
            "Usando o modelo para prever, ele tem a probabilidade de ter uma nota no exame final de 5.64\n"
          ],
          "name": "stdout"
        }
      ]
    },
    {
      "cell_type": "code",
      "metadata": {
        "colab": {
          "base_uri": "https://localhost:8080/",
          "height": 421
        },
        "id": "FzZWWJz5mJqZ",
        "outputId": "826e5795-d717-4aa1-f259-4d0c17e9a339"
      },
      "source": [
        "df_nota_exame"
      ],
      "execution_count": null,
      "outputs": [
        {
          "output_type": "execute_result",
          "data": {
            "text/html": [
              "<div>\n",
              "<style scoped>\n",
              "    .dataframe tbody tr th:only-of-type {\n",
              "        vertical-align: middle;\n",
              "    }\n",
              "\n",
              "    .dataframe tbody tr th {\n",
              "        vertical-align: top;\n",
              "    }\n",
              "\n",
              "    .dataframe thead th {\n",
              "        text-align: right;\n",
              "    }\n",
              "</style>\n",
              "<table border=\"1\" class=\"dataframe\">\n",
              "  <thead>\n",
              "    <tr style=\"text-align: right;\">\n",
              "      <th></th>\n",
              "      <th>horas_estudo</th>\n",
              "      <th>nota_exame</th>\n",
              "    </tr>\n",
              "  </thead>\n",
              "  <tbody>\n",
              "    <tr>\n",
              "      <th>0</th>\n",
              "      <td>3.3</td>\n",
              "      <td>1.00</td>\n",
              "    </tr>\n",
              "    <tr>\n",
              "      <th>1</th>\n",
              "      <td>4.5</td>\n",
              "      <td>3.50</td>\n",
              "    </tr>\n",
              "    <tr>\n",
              "      <th>2</th>\n",
              "      <td>6.2</td>\n",
              "      <td>5.00</td>\n",
              "    </tr>\n",
              "    <tr>\n",
              "      <th>3</th>\n",
              "      <td>7.5</td>\n",
              "      <td>5.50</td>\n",
              "    </tr>\n",
              "    <tr>\n",
              "      <th>4</th>\n",
              "      <td>7.8</td>\n",
              "      <td>5.75</td>\n",
              "    </tr>\n",
              "    <tr>\n",
              "      <th>5</th>\n",
              "      <td>8.9</td>\n",
              "      <td>6.25</td>\n",
              "    </tr>\n",
              "    <tr>\n",
              "      <th>6</th>\n",
              "      <td>9.5</td>\n",
              "      <td>7.00</td>\n",
              "    </tr>\n",
              "    <tr>\n",
              "      <th>7</th>\n",
              "      <td>9.9</td>\n",
              "      <td>7.50</td>\n",
              "    </tr>\n",
              "    <tr>\n",
              "      <th>8</th>\n",
              "      <td>11.4</td>\n",
              "      <td>8.00</td>\n",
              "    </tr>\n",
              "    <tr>\n",
              "      <th>9</th>\n",
              "      <td>14.3</td>\n",
              "      <td>9.50</td>\n",
              "    </tr>\n",
              "    <tr>\n",
              "      <th>10</th>\n",
              "      <td>14.7</td>\n",
              "      <td>9.50</td>\n",
              "    </tr>\n",
              "    <tr>\n",
              "      <th>11</th>\n",
              "      <td>15.9</td>\n",
              "      <td>9.75</td>\n",
              "    </tr>\n",
              "  </tbody>\n",
              "</table>\n",
              "</div>"
            ],
            "text/plain": [
              "    horas_estudo  nota_exame\n",
              "0            3.3        1.00\n",
              "1            4.5        3.50\n",
              "2            6.2        5.00\n",
              "3            7.5        5.50\n",
              "4            7.8        5.75\n",
              "5            8.9        6.25\n",
              "6            9.5        7.00\n",
              "7            9.9        7.50\n",
              "8           11.4        8.00\n",
              "9           14.3        9.50\n",
              "10          14.7        9.50\n",
              "11          15.9        9.75"
            ]
          },
          "metadata": {
            "tags": []
          },
          "execution_count": 92
        }
      ]
    },
    {
      "cell_type": "code",
      "metadata": {
        "colab": {
          "base_uri": "https://localhost:8080/"
        },
        "id": "gT6IikvKmJoS",
        "outputId": "95650bef-45fb-415f-dfce-49d70a2e2afb"
      },
      "source": [
        "aluno_02 = [[11.5]]\n",
        "\n",
        "previsao = regressor.predict(aluno_02)\n",
        "\n",
        "print(f'Um aluno que dedicou {aluno_02[0][0]} horas')\n",
        "print(f'Usando o modelo para prever, ele tem a probabilidade de ter uma nota no exame final de {previsao[0]:.2f}')"
      ],
      "execution_count": null,
      "outputs": [
        {
          "output_type": "stream",
          "text": [
            "Um aluno que dedicou 11.5 horas\n",
            "Usando o modelo para prever, ele tem a probabilidade de ter uma nota no exame final de 7.79\n"
          ],
          "name": "stdout"
        }
      ]
    },
    {
      "cell_type": "code",
      "metadata": {
        "id": "5UUzOGygmJl1"
      },
      "source": [
        ""
      ],
      "execution_count": null,
      "outputs": []
    },
    {
      "cell_type": "code",
      "metadata": {
        "id": "RpP8MT4mmJjv"
      },
      "source": [
        ""
      ],
      "execution_count": null,
      "outputs": []
    },
    {
      "cell_type": "code",
      "metadata": {
        "id": "De6bGkWAmJhs"
      },
      "source": [
        ""
      ],
      "execution_count": null,
      "outputs": []
    },
    {
      "cell_type": "code",
      "metadata": {
        "id": "ASOlLbp1mJfq"
      },
      "source": [
        ""
      ],
      "execution_count": null,
      "outputs": []
    },
    {
      "cell_type": "code",
      "metadata": {
        "id": "0E03wXB_mJdo"
      },
      "source": [
        ""
      ],
      "execution_count": null,
      "outputs": []
    },
    {
      "cell_type": "code",
      "metadata": {
        "id": "-jYDi8rwmJbo"
      },
      "source": [
        ""
      ],
      "execution_count": null,
      "outputs": []
    },
    {
      "cell_type": "code",
      "metadata": {
        "id": "f_LnB4j2mJZl"
      },
      "source": [
        ""
      ],
      "execution_count": null,
      "outputs": []
    },
    {
      "cell_type": "code",
      "metadata": {
        "id": "s7vokru0mJXN"
      },
      "source": [
        ""
      ],
      "execution_count": null,
      "outputs": []
    },
    {
      "cell_type": "code",
      "metadata": {
        "id": "TOMwFo5RmJUS"
      },
      "source": [
        ""
      ],
      "execution_count": null,
      "outputs": []
    },
    {
      "cell_type": "code",
      "metadata": {
        "id": "136AflaImJRv"
      },
      "source": [
        ""
      ],
      "execution_count": null,
      "outputs": []
    }
  ]
}