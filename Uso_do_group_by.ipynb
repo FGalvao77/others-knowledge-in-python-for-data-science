{
  "nbformat": 4,
  "nbformat_minor": 0,
  "metadata": {
    "colab": {
      "name": "Uso do group by.ipynb",
      "provenance": [],
      "collapsed_sections": [],
      "authorship_tag": "ABX9TyNFLAMDDzDOoJ+3UF5PHykz",
      "include_colab_link": true
    },
    "kernelspec": {
      "name": "python3",
      "display_name": "Python 3"
    }
  },
  "cells": [
    {
      "cell_type": "markdown",
      "metadata": {
        "id": "view-in-github",
        "colab_type": "text"
      },
      "source": [
        "<a href=\"https://colab.research.google.com/github/FGalvao77/others-knowledge-in-python-for-data-science/blob/main/Uso_do_group_by.ipynb\" target=\"_parent\"><img src=\"https://colab.research.google.com/assets/colab-badge.svg\" alt=\"Open In Colab\"/></a>"
      ]
    },
    {
      "cell_type": "code",
      "metadata": {
        "id": "N7CmvR0N1lum"
      },
      "source": [
        "# importando as biblioteca\n",
        "import pandas as pd\n",
        "import numpy as np"
      ],
      "execution_count": 1,
      "outputs": []
    },
    {
      "cell_type": "code",
      "metadata": {
        "id": "vo321Gly111j"
      },
      "source": [
        "# criando um dicionário de lista\n",
        "data = {\n",
        "    'Sede': ['SP', 'SP', 'MG', 'MG', 'RJ', 'RJ', \n",
        "             'ES', 'ES'],\n",
        "    'Vendedor': ['Jorge', 'Ana', 'Tiago', 'Pedro', \n",
        "                 'Raphaela', 'Gustavo', 'Maria', \n",
        "                 'Carolina'],\n",
        "    'Vendas': [2000, 2500, 3100, 1200, 1500, \n",
        "               3900, 2900, 3900]\n",
        "}"
      ],
      "execution_count": 2,
      "outputs": []
    },
    {
      "cell_type": "code",
      "metadata": {
        "colab": {
          "base_uri": "https://localhost:8080/",
          "height": 297
        },
        "id": "yjBE3RP511ya",
        "outputId": "88fb3de7-9b66-40ac-ab36-199f893d579f"
      },
      "source": [
        "# através do dicionário de lista criando um dataframe\n",
        "df = pd.DataFrame(data)\n",
        "df"
      ],
      "execution_count": 3,
      "outputs": [
        {
          "output_type": "execute_result",
          "data": {
            "text/html": [
              "<div>\n",
              "<style scoped>\n",
              "    .dataframe tbody tr th:only-of-type {\n",
              "        vertical-align: middle;\n",
              "    }\n",
              "\n",
              "    .dataframe tbody tr th {\n",
              "        vertical-align: top;\n",
              "    }\n",
              "\n",
              "    .dataframe thead th {\n",
              "        text-align: right;\n",
              "    }\n",
              "</style>\n",
              "<table border=\"1\" class=\"dataframe\">\n",
              "  <thead>\n",
              "    <tr style=\"text-align: right;\">\n",
              "      <th></th>\n",
              "      <th>Sede</th>\n",
              "      <th>Vendedor</th>\n",
              "      <th>Vendas</th>\n",
              "    </tr>\n",
              "  </thead>\n",
              "  <tbody>\n",
              "    <tr>\n",
              "      <th>0</th>\n",
              "      <td>SP</td>\n",
              "      <td>Jorge</td>\n",
              "      <td>2000</td>\n",
              "    </tr>\n",
              "    <tr>\n",
              "      <th>1</th>\n",
              "      <td>SP</td>\n",
              "      <td>Ana</td>\n",
              "      <td>2500</td>\n",
              "    </tr>\n",
              "    <tr>\n",
              "      <th>2</th>\n",
              "      <td>MG</td>\n",
              "      <td>Tiago</td>\n",
              "      <td>3100</td>\n",
              "    </tr>\n",
              "    <tr>\n",
              "      <th>3</th>\n",
              "      <td>MG</td>\n",
              "      <td>Pedro</td>\n",
              "      <td>1200</td>\n",
              "    </tr>\n",
              "    <tr>\n",
              "      <th>4</th>\n",
              "      <td>RJ</td>\n",
              "      <td>Raphaela</td>\n",
              "      <td>1500</td>\n",
              "    </tr>\n",
              "    <tr>\n",
              "      <th>5</th>\n",
              "      <td>RJ</td>\n",
              "      <td>Gustavo</td>\n",
              "      <td>3900</td>\n",
              "    </tr>\n",
              "    <tr>\n",
              "      <th>6</th>\n",
              "      <td>ES</td>\n",
              "      <td>Maria</td>\n",
              "      <td>2900</td>\n",
              "    </tr>\n",
              "    <tr>\n",
              "      <th>7</th>\n",
              "      <td>ES</td>\n",
              "      <td>Carolina</td>\n",
              "      <td>3900</td>\n",
              "    </tr>\n",
              "  </tbody>\n",
              "</table>\n",
              "</div>"
            ],
            "text/plain": [
              "  Sede  Vendedor  Vendas\n",
              "0   SP     Jorge    2000\n",
              "1   SP       Ana    2500\n",
              "2   MG     Tiago    3100\n",
              "3   MG     Pedro    1200\n",
              "4   RJ  Raphaela    1500\n",
              "5   RJ   Gustavo    3900\n",
              "6   ES     Maria    2900\n",
              "7   ES  Carolina    3900"
            ]
          },
          "metadata": {
            "tags": []
          },
          "execution_count": 3
        }
      ]
    },
    {
      "cell_type": "code",
      "metadata": {
        "colab": {
          "base_uri": "https://localhost:8080/"
        },
        "id": "cP3drv1s11u6",
        "outputId": "46eb24b6-fda6-4101-89b9-d959a9e8ba06"
      },
      "source": [
        "# agrupando por região\n",
        "df.groupby('Sede')"
      ],
      "execution_count": 4,
      "outputs": [
        {
          "output_type": "execute_result",
          "data": {
            "text/plain": [
              "<pandas.core.groupby.generic.DataFrameGroupBy object at 0x7f6ab71d1510>"
            ]
          },
          "metadata": {
            "tags": []
          },
          "execution_count": 4
        }
      ]
    },
    {
      "cell_type": "code",
      "metadata": {
        "id": "bFT7Brz711ry"
      },
      "source": [
        "# visualizar o agrupamento\n",
        "by_sede = df.groupby('Sede')"
      ],
      "execution_count": 5,
      "outputs": []
    },
    {
      "cell_type": "code",
      "metadata": {
        "colab": {
          "base_uri": "https://localhost:8080/",
          "height": 204
        },
        "id": "e8c3RIu811jb",
        "outputId": "42cd4acb-a23c-40fc-888a-0ae177aef217"
      },
      "source": [
        "# visualizando os vendedores com maior venda\n",
        "by_sede.max()"
      ],
      "execution_count": 6,
      "outputs": [
        {
          "output_type": "execute_result",
          "data": {
            "text/html": [
              "<div>\n",
              "<style scoped>\n",
              "    .dataframe tbody tr th:only-of-type {\n",
              "        vertical-align: middle;\n",
              "    }\n",
              "\n",
              "    .dataframe tbody tr th {\n",
              "        vertical-align: top;\n",
              "    }\n",
              "\n",
              "    .dataframe thead th {\n",
              "        text-align: right;\n",
              "    }\n",
              "</style>\n",
              "<table border=\"1\" class=\"dataframe\">\n",
              "  <thead>\n",
              "    <tr style=\"text-align: right;\">\n",
              "      <th></th>\n",
              "      <th>Vendedor</th>\n",
              "      <th>Vendas</th>\n",
              "    </tr>\n",
              "    <tr>\n",
              "      <th>Sede</th>\n",
              "      <th></th>\n",
              "      <th></th>\n",
              "    </tr>\n",
              "  </thead>\n",
              "  <tbody>\n",
              "    <tr>\n",
              "      <th>ES</th>\n",
              "      <td>Maria</td>\n",
              "      <td>3900</td>\n",
              "    </tr>\n",
              "    <tr>\n",
              "      <th>MG</th>\n",
              "      <td>Tiago</td>\n",
              "      <td>3100</td>\n",
              "    </tr>\n",
              "    <tr>\n",
              "      <th>RJ</th>\n",
              "      <td>Raphaela</td>\n",
              "      <td>3900</td>\n",
              "    </tr>\n",
              "    <tr>\n",
              "      <th>SP</th>\n",
              "      <td>Jorge</td>\n",
              "      <td>2500</td>\n",
              "    </tr>\n",
              "  </tbody>\n",
              "</table>\n",
              "</div>"
            ],
            "text/plain": [
              "      Vendedor  Vendas\n",
              "Sede                  \n",
              "ES       Maria    3900\n",
              "MG       Tiago    3100\n",
              "RJ    Raphaela    3900\n",
              "SP       Jorge    2500"
            ]
          },
          "metadata": {
            "tags": []
          },
          "execution_count": 6
        }
      ]
    },
    {
      "cell_type": "code",
      "metadata": {
        "colab": {
          "base_uri": "https://localhost:8080/",
          "height": 204
        },
        "id": "3pMsipzA4jCu",
        "outputId": "a9f0eb61-558b-41b5-d389-abc9e4b0111d"
      },
      "source": [
        "# visualizando a média de vendas por sede\n",
        "by_sede.mean()"
      ],
      "execution_count": 7,
      "outputs": [
        {
          "output_type": "execute_result",
          "data": {
            "text/html": [
              "<div>\n",
              "<style scoped>\n",
              "    .dataframe tbody tr th:only-of-type {\n",
              "        vertical-align: middle;\n",
              "    }\n",
              "\n",
              "    .dataframe tbody tr th {\n",
              "        vertical-align: top;\n",
              "    }\n",
              "\n",
              "    .dataframe thead th {\n",
              "        text-align: right;\n",
              "    }\n",
              "</style>\n",
              "<table border=\"1\" class=\"dataframe\">\n",
              "  <thead>\n",
              "    <tr style=\"text-align: right;\">\n",
              "      <th></th>\n",
              "      <th>Vendas</th>\n",
              "    </tr>\n",
              "    <tr>\n",
              "      <th>Sede</th>\n",
              "      <th></th>\n",
              "    </tr>\n",
              "  </thead>\n",
              "  <tbody>\n",
              "    <tr>\n",
              "      <th>ES</th>\n",
              "      <td>3400</td>\n",
              "    </tr>\n",
              "    <tr>\n",
              "      <th>MG</th>\n",
              "      <td>2150</td>\n",
              "    </tr>\n",
              "    <tr>\n",
              "      <th>RJ</th>\n",
              "      <td>2700</td>\n",
              "    </tr>\n",
              "    <tr>\n",
              "      <th>SP</th>\n",
              "      <td>2250</td>\n",
              "    </tr>\n",
              "  </tbody>\n",
              "</table>\n",
              "</div>"
            ],
            "text/plain": [
              "      Vendas\n",
              "Sede        \n",
              "ES      3400\n",
              "MG      2150\n",
              "RJ      2700\n",
              "SP      2250"
            ]
          },
          "metadata": {
            "tags": []
          },
          "execution_count": 7
        }
      ]
    },
    {
      "cell_type": "code",
      "metadata": {
        "colab": {
          "base_uri": "https://localhost:8080/",
          "height": 235
        },
        "id": "2T2QExVJ4i_8",
        "outputId": "593b3b96-2618-4a6e-80e1-396437487b65"
      },
      "source": [
        "# dados estatísticos\n",
        "by_sede.describe()"
      ],
      "execution_count": 8,
      "outputs": [
        {
          "output_type": "execute_result",
          "data": {
            "text/html": [
              "<div>\n",
              "<style scoped>\n",
              "    .dataframe tbody tr th:only-of-type {\n",
              "        vertical-align: middle;\n",
              "    }\n",
              "\n",
              "    .dataframe tbody tr th {\n",
              "        vertical-align: top;\n",
              "    }\n",
              "\n",
              "    .dataframe thead tr th {\n",
              "        text-align: left;\n",
              "    }\n",
              "\n",
              "    .dataframe thead tr:last-of-type th {\n",
              "        text-align: right;\n",
              "    }\n",
              "</style>\n",
              "<table border=\"1\" class=\"dataframe\">\n",
              "  <thead>\n",
              "    <tr>\n",
              "      <th></th>\n",
              "      <th colspan=\"8\" halign=\"left\">Vendas</th>\n",
              "    </tr>\n",
              "    <tr>\n",
              "      <th></th>\n",
              "      <th>count</th>\n",
              "      <th>mean</th>\n",
              "      <th>std</th>\n",
              "      <th>min</th>\n",
              "      <th>25%</th>\n",
              "      <th>50%</th>\n",
              "      <th>75%</th>\n",
              "      <th>max</th>\n",
              "    </tr>\n",
              "    <tr>\n",
              "      <th>Sede</th>\n",
              "      <th></th>\n",
              "      <th></th>\n",
              "      <th></th>\n",
              "      <th></th>\n",
              "      <th></th>\n",
              "      <th></th>\n",
              "      <th></th>\n",
              "      <th></th>\n",
              "    </tr>\n",
              "  </thead>\n",
              "  <tbody>\n",
              "    <tr>\n",
              "      <th>ES</th>\n",
              "      <td>2.0</td>\n",
              "      <td>3400.0</td>\n",
              "      <td>707.106781</td>\n",
              "      <td>2900.0</td>\n",
              "      <td>3150.0</td>\n",
              "      <td>3400.0</td>\n",
              "      <td>3650.0</td>\n",
              "      <td>3900.0</td>\n",
              "    </tr>\n",
              "    <tr>\n",
              "      <th>MG</th>\n",
              "      <td>2.0</td>\n",
              "      <td>2150.0</td>\n",
              "      <td>1343.502884</td>\n",
              "      <td>1200.0</td>\n",
              "      <td>1675.0</td>\n",
              "      <td>2150.0</td>\n",
              "      <td>2625.0</td>\n",
              "      <td>3100.0</td>\n",
              "    </tr>\n",
              "    <tr>\n",
              "      <th>RJ</th>\n",
              "      <td>2.0</td>\n",
              "      <td>2700.0</td>\n",
              "      <td>1697.056275</td>\n",
              "      <td>1500.0</td>\n",
              "      <td>2100.0</td>\n",
              "      <td>2700.0</td>\n",
              "      <td>3300.0</td>\n",
              "      <td>3900.0</td>\n",
              "    </tr>\n",
              "    <tr>\n",
              "      <th>SP</th>\n",
              "      <td>2.0</td>\n",
              "      <td>2250.0</td>\n",
              "      <td>353.553391</td>\n",
              "      <td>2000.0</td>\n",
              "      <td>2125.0</td>\n",
              "      <td>2250.0</td>\n",
              "      <td>2375.0</td>\n",
              "      <td>2500.0</td>\n",
              "    </tr>\n",
              "  </tbody>\n",
              "</table>\n",
              "</div>"
            ],
            "text/plain": [
              "     Vendas                                                             \n",
              "      count    mean          std     min     25%     50%     75%     max\n",
              "Sede                                                                    \n",
              "ES      2.0  3400.0   707.106781  2900.0  3150.0  3400.0  3650.0  3900.0\n",
              "MG      2.0  2150.0  1343.502884  1200.0  1675.0  2150.0  2625.0  3100.0\n",
              "RJ      2.0  2700.0  1697.056275  1500.0  2100.0  2700.0  3300.0  3900.0\n",
              "SP      2.0  2250.0   353.553391  2000.0  2125.0  2250.0  2375.0  2500.0"
            ]
          },
          "metadata": {
            "tags": []
          },
          "execution_count": 8
        }
      ]
    },
    {
      "cell_type": "code",
      "metadata": {
        "colab": {
          "base_uri": "https://localhost:8080/",
          "height": 297
        },
        "id": "_rvJQUoW4i9X",
        "outputId": "62cfec2f-5e16-4809-e9a7-cca99847fdc8"
      },
      "source": [
        "# dados estatísticos\n",
        "by_sede.describe().transpose()"
      ],
      "execution_count": 9,
      "outputs": [
        {
          "output_type": "execute_result",
          "data": {
            "text/html": [
              "<div>\n",
              "<style scoped>\n",
              "    .dataframe tbody tr th:only-of-type {\n",
              "        vertical-align: middle;\n",
              "    }\n",
              "\n",
              "    .dataframe tbody tr th {\n",
              "        vertical-align: top;\n",
              "    }\n",
              "\n",
              "    .dataframe thead th {\n",
              "        text-align: right;\n",
              "    }\n",
              "</style>\n",
              "<table border=\"1\" class=\"dataframe\">\n",
              "  <thead>\n",
              "    <tr style=\"text-align: right;\">\n",
              "      <th></th>\n",
              "      <th>Sede</th>\n",
              "      <th>ES</th>\n",
              "      <th>MG</th>\n",
              "      <th>RJ</th>\n",
              "      <th>SP</th>\n",
              "    </tr>\n",
              "  </thead>\n",
              "  <tbody>\n",
              "    <tr>\n",
              "      <th rowspan=\"8\" valign=\"top\">Vendas</th>\n",
              "      <th>count</th>\n",
              "      <td>2.000000</td>\n",
              "      <td>2.000000</td>\n",
              "      <td>2.000000</td>\n",
              "      <td>2.000000</td>\n",
              "    </tr>\n",
              "    <tr>\n",
              "      <th>mean</th>\n",
              "      <td>3400.000000</td>\n",
              "      <td>2150.000000</td>\n",
              "      <td>2700.000000</td>\n",
              "      <td>2250.000000</td>\n",
              "    </tr>\n",
              "    <tr>\n",
              "      <th>std</th>\n",
              "      <td>707.106781</td>\n",
              "      <td>1343.502884</td>\n",
              "      <td>1697.056275</td>\n",
              "      <td>353.553391</td>\n",
              "    </tr>\n",
              "    <tr>\n",
              "      <th>min</th>\n",
              "      <td>2900.000000</td>\n",
              "      <td>1200.000000</td>\n",
              "      <td>1500.000000</td>\n",
              "      <td>2000.000000</td>\n",
              "    </tr>\n",
              "    <tr>\n",
              "      <th>25%</th>\n",
              "      <td>3150.000000</td>\n",
              "      <td>1675.000000</td>\n",
              "      <td>2100.000000</td>\n",
              "      <td>2125.000000</td>\n",
              "    </tr>\n",
              "    <tr>\n",
              "      <th>50%</th>\n",
              "      <td>3400.000000</td>\n",
              "      <td>2150.000000</td>\n",
              "      <td>2700.000000</td>\n",
              "      <td>2250.000000</td>\n",
              "    </tr>\n",
              "    <tr>\n",
              "      <th>75%</th>\n",
              "      <td>3650.000000</td>\n",
              "      <td>2625.000000</td>\n",
              "      <td>3300.000000</td>\n",
              "      <td>2375.000000</td>\n",
              "    </tr>\n",
              "    <tr>\n",
              "      <th>max</th>\n",
              "      <td>3900.000000</td>\n",
              "      <td>3100.000000</td>\n",
              "      <td>3900.000000</td>\n",
              "      <td>2500.000000</td>\n",
              "    </tr>\n",
              "  </tbody>\n",
              "</table>\n",
              "</div>"
            ],
            "text/plain": [
              "Sede                   ES           MG           RJ           SP\n",
              "Vendas count     2.000000     2.000000     2.000000     2.000000\n",
              "       mean   3400.000000  2150.000000  2700.000000  2250.000000\n",
              "       std     707.106781  1343.502884  1697.056275   353.553391\n",
              "       min    2900.000000  1200.000000  1500.000000  2000.000000\n",
              "       25%    3150.000000  1675.000000  2100.000000  2125.000000\n",
              "       50%    3400.000000  2150.000000  2700.000000  2250.000000\n",
              "       75%    3650.000000  2625.000000  3300.000000  2375.000000\n",
              "       max    3900.000000  3100.000000  3900.000000  2500.000000"
            ]
          },
          "metadata": {
            "tags": []
          },
          "execution_count": 9
        }
      ]
    },
    {
      "cell_type": "code",
      "metadata": {
        "colab": {
          "base_uri": "https://localhost:8080/",
          "height": 297
        },
        "id": "rUIvjb_m4i59",
        "outputId": "d28e22dd-7ff2-4b1f-d559-28deaaa92727"
      },
      "source": [
        "# dados estatísticos\n",
        "by_sede.describe().T"
      ],
      "execution_count": 10,
      "outputs": [
        {
          "output_type": "execute_result",
          "data": {
            "text/html": [
              "<div>\n",
              "<style scoped>\n",
              "    .dataframe tbody tr th:only-of-type {\n",
              "        vertical-align: middle;\n",
              "    }\n",
              "\n",
              "    .dataframe tbody tr th {\n",
              "        vertical-align: top;\n",
              "    }\n",
              "\n",
              "    .dataframe thead th {\n",
              "        text-align: right;\n",
              "    }\n",
              "</style>\n",
              "<table border=\"1\" class=\"dataframe\">\n",
              "  <thead>\n",
              "    <tr style=\"text-align: right;\">\n",
              "      <th></th>\n",
              "      <th>Sede</th>\n",
              "      <th>ES</th>\n",
              "      <th>MG</th>\n",
              "      <th>RJ</th>\n",
              "      <th>SP</th>\n",
              "    </tr>\n",
              "  </thead>\n",
              "  <tbody>\n",
              "    <tr>\n",
              "      <th rowspan=\"8\" valign=\"top\">Vendas</th>\n",
              "      <th>count</th>\n",
              "      <td>2.000000</td>\n",
              "      <td>2.000000</td>\n",
              "      <td>2.000000</td>\n",
              "      <td>2.000000</td>\n",
              "    </tr>\n",
              "    <tr>\n",
              "      <th>mean</th>\n",
              "      <td>3400.000000</td>\n",
              "      <td>2150.000000</td>\n",
              "      <td>2700.000000</td>\n",
              "      <td>2250.000000</td>\n",
              "    </tr>\n",
              "    <tr>\n",
              "      <th>std</th>\n",
              "      <td>707.106781</td>\n",
              "      <td>1343.502884</td>\n",
              "      <td>1697.056275</td>\n",
              "      <td>353.553391</td>\n",
              "    </tr>\n",
              "    <tr>\n",
              "      <th>min</th>\n",
              "      <td>2900.000000</td>\n",
              "      <td>1200.000000</td>\n",
              "      <td>1500.000000</td>\n",
              "      <td>2000.000000</td>\n",
              "    </tr>\n",
              "    <tr>\n",
              "      <th>25%</th>\n",
              "      <td>3150.000000</td>\n",
              "      <td>1675.000000</td>\n",
              "      <td>2100.000000</td>\n",
              "      <td>2125.000000</td>\n",
              "    </tr>\n",
              "    <tr>\n",
              "      <th>50%</th>\n",
              "      <td>3400.000000</td>\n",
              "      <td>2150.000000</td>\n",
              "      <td>2700.000000</td>\n",
              "      <td>2250.000000</td>\n",
              "    </tr>\n",
              "    <tr>\n",
              "      <th>75%</th>\n",
              "      <td>3650.000000</td>\n",
              "      <td>2625.000000</td>\n",
              "      <td>3300.000000</td>\n",
              "      <td>2375.000000</td>\n",
              "    </tr>\n",
              "    <tr>\n",
              "      <th>max</th>\n",
              "      <td>3900.000000</td>\n",
              "      <td>3100.000000</td>\n",
              "      <td>3900.000000</td>\n",
              "      <td>2500.000000</td>\n",
              "    </tr>\n",
              "  </tbody>\n",
              "</table>\n",
              "</div>"
            ],
            "text/plain": [
              "Sede                   ES           MG           RJ           SP\n",
              "Vendas count     2.000000     2.000000     2.000000     2.000000\n",
              "       mean   3400.000000  2150.000000  2700.000000  2250.000000\n",
              "       std     707.106781  1343.502884  1697.056275   353.553391\n",
              "       min    2900.000000  1200.000000  1500.000000  2000.000000\n",
              "       25%    3150.000000  1675.000000  2100.000000  2125.000000\n",
              "       50%    3400.000000  2150.000000  2700.000000  2250.000000\n",
              "       75%    3650.000000  2625.000000  3300.000000  2375.000000\n",
              "       max    3900.000000  3100.000000  3900.000000  2500.000000"
            ]
          },
          "metadata": {
            "tags": []
          },
          "execution_count": 10
        }
      ]
    },
    {
      "cell_type": "code",
      "metadata": {
        "colab": {
          "base_uri": "https://localhost:8080/"
        },
        "id": "gTe8kZM659ih",
        "outputId": "0a2a59d0-1e46-4762-e469-a53bea389740"
      },
      "source": [
        "# dados estatísticos por  uma coluna específica\n",
        "by_sede.describe().transpose()['SP']"
      ],
      "execution_count": 11,
      "outputs": [
        {
          "output_type": "execute_result",
          "data": {
            "text/plain": [
              "Vendas  count       2.000000\n",
              "        mean     2250.000000\n",
              "        std       353.553391\n",
              "        min      2000.000000\n",
              "        25%      2125.000000\n",
              "        50%      2250.000000\n",
              "        75%      2375.000000\n",
              "        max      2500.000000\n",
              "Name: SP, dtype: float64"
            ]
          },
          "metadata": {
            "tags": []
          },
          "execution_count": 11
        }
      ]
    },
    {
      "cell_type": "code",
      "metadata": {
        "colab": {
          "base_uri": "https://localhost:8080/"
        },
        "id": "cq7yjCGI59fm",
        "outputId": "676698f4-b04b-4901-e837-039cff11f425"
      },
      "source": [
        "# dados estatísticos por  uma coluna específica\n",
        "by_sede.describe().T['SP']"
      ],
      "execution_count": 12,
      "outputs": [
        {
          "output_type": "execute_result",
          "data": {
            "text/plain": [
              "Vendas  count       2.000000\n",
              "        mean     2250.000000\n",
              "        std       353.553391\n",
              "        min      2000.000000\n",
              "        25%      2125.000000\n",
              "        50%      2250.000000\n",
              "        75%      2375.000000\n",
              "        max      2500.000000\n",
              "Name: SP, dtype: float64"
            ]
          },
          "metadata": {
            "tags": []
          },
          "execution_count": 12
        }
      ]
    },
    {
      "cell_type": "code",
      "metadata": {
        "colab": {
          "base_uri": "https://localhost:8080/",
          "height": 266
        },
        "id": "tWHUrVx259cr",
        "outputId": "2b3ceb0f-0ba0-43bb-eddd-8cd91a12cbd3"
      },
      "source": [
        "# instanciando novos dados para criar um dataframe multi-indexes\n",
        "arrays = [['São Paulo', 'São Paulo', \n",
        "           'Rio de Janeiro', 'Rio de Janeiro', \n",
        "           'Minas Gerais', 'Minas Gerais'], \n",
        "          ['Garrafas', 'Copos', 'Garrafas', 'Copos', \n",
        "           'Garrafas', 'Copos']]\n",
        "\n",
        "indexes = pd.MultiIndex.from_arrays(arrays, names=('Estado', 'Produto'))\n",
        "\n",
        "df = pd.DataFrame({'Total vendido R$': [10000, 35000, 22400, 12890, 13900, 23751]}, index=indexes)\n",
        "\n",
        "df"
      ],
      "execution_count": 13,
      "outputs": [
        {
          "output_type": "execute_result",
          "data": {
            "text/html": [
              "<div>\n",
              "<style scoped>\n",
              "    .dataframe tbody tr th:only-of-type {\n",
              "        vertical-align: middle;\n",
              "    }\n",
              "\n",
              "    .dataframe tbody tr th {\n",
              "        vertical-align: top;\n",
              "    }\n",
              "\n",
              "    .dataframe thead th {\n",
              "        text-align: right;\n",
              "    }\n",
              "</style>\n",
              "<table border=\"1\" class=\"dataframe\">\n",
              "  <thead>\n",
              "    <tr style=\"text-align: right;\">\n",
              "      <th></th>\n",
              "      <th></th>\n",
              "      <th>Total vendido R$</th>\n",
              "    </tr>\n",
              "    <tr>\n",
              "      <th>Estado</th>\n",
              "      <th>Produto</th>\n",
              "      <th></th>\n",
              "    </tr>\n",
              "  </thead>\n",
              "  <tbody>\n",
              "    <tr>\n",
              "      <th rowspan=\"2\" valign=\"top\">São Paulo</th>\n",
              "      <th>Garrafas</th>\n",
              "      <td>10000</td>\n",
              "    </tr>\n",
              "    <tr>\n",
              "      <th>Copos</th>\n",
              "      <td>35000</td>\n",
              "    </tr>\n",
              "    <tr>\n",
              "      <th rowspan=\"2\" valign=\"top\">Rio de Janeiro</th>\n",
              "      <th>Garrafas</th>\n",
              "      <td>22400</td>\n",
              "    </tr>\n",
              "    <tr>\n",
              "      <th>Copos</th>\n",
              "      <td>12890</td>\n",
              "    </tr>\n",
              "    <tr>\n",
              "      <th rowspan=\"2\" valign=\"top\">Minas Gerais</th>\n",
              "      <th>Garrafas</th>\n",
              "      <td>13900</td>\n",
              "    </tr>\n",
              "    <tr>\n",
              "      <th>Copos</th>\n",
              "      <td>23751</td>\n",
              "    </tr>\n",
              "  </tbody>\n",
              "</table>\n",
              "</div>"
            ],
            "text/plain": [
              "                         Total vendido R$\n",
              "Estado         Produto                   \n",
              "São Paulo      Garrafas             10000\n",
              "               Copos                35000\n",
              "Rio de Janeiro Garrafas             22400\n",
              "               Copos                12890\n",
              "Minas Gerais   Garrafas             13900\n",
              "               Copos                23751"
            ]
          },
          "metadata": {
            "tags": []
          },
          "execution_count": 13
        }
      ]
    },
    {
      "cell_type": "code",
      "metadata": {
        "id": "mSdHLp3O59Z7"
      },
      "source": [
        "arrays = [['São Paulo', 'São Paulo', \n",
        "           'Rio de Janeiro', 'Rio de Janeiro', \n",
        "           'Minas Gerais', 'Minas Gerais'], \n",
        "          ['Garrafas', 'Copos', 'Garrafas', 'Copos', \n",
        "           'Garrafas', 'Copos']]"
      ],
      "execution_count": 14,
      "outputs": []
    },
    {
      "cell_type": "code",
      "metadata": {
        "id": "2ld8NVTq59W9"
      },
      "source": [
        "indexes = pd.MultiIndex.from_arrays(arrays, names=('Estado', 'Produto'))"
      ],
      "execution_count": 15,
      "outputs": []
    },
    {
      "cell_type": "code",
      "metadata": {
        "id": "YRFX1rzS59Ua"
      },
      "source": [
        "df1 = pd.DataFrame({'Total vendido R$': [10000, 35000, 22400, 12890, 13900, 23751]}, index=indexes)"
      ],
      "execution_count": 16,
      "outputs": []
    },
    {
      "cell_type": "code",
      "metadata": {
        "colab": {
          "base_uri": "https://localhost:8080/",
          "height": 266
        },
        "id": "vocweB0q59Ry",
        "outputId": "3b504384-4c38-4e11-e59d-ba176caea855"
      },
      "source": [
        "df1"
      ],
      "execution_count": 17,
      "outputs": [
        {
          "output_type": "execute_result",
          "data": {
            "text/html": [
              "<div>\n",
              "<style scoped>\n",
              "    .dataframe tbody tr th:only-of-type {\n",
              "        vertical-align: middle;\n",
              "    }\n",
              "\n",
              "    .dataframe tbody tr th {\n",
              "        vertical-align: top;\n",
              "    }\n",
              "\n",
              "    .dataframe thead th {\n",
              "        text-align: right;\n",
              "    }\n",
              "</style>\n",
              "<table border=\"1\" class=\"dataframe\">\n",
              "  <thead>\n",
              "    <tr style=\"text-align: right;\">\n",
              "      <th></th>\n",
              "      <th></th>\n",
              "      <th>Total vendido R$</th>\n",
              "    </tr>\n",
              "    <tr>\n",
              "      <th>Estado</th>\n",
              "      <th>Produto</th>\n",
              "      <th></th>\n",
              "    </tr>\n",
              "  </thead>\n",
              "  <tbody>\n",
              "    <tr>\n",
              "      <th rowspan=\"2\" valign=\"top\">São Paulo</th>\n",
              "      <th>Garrafas</th>\n",
              "      <td>10000</td>\n",
              "    </tr>\n",
              "    <tr>\n",
              "      <th>Copos</th>\n",
              "      <td>35000</td>\n",
              "    </tr>\n",
              "    <tr>\n",
              "      <th rowspan=\"2\" valign=\"top\">Rio de Janeiro</th>\n",
              "      <th>Garrafas</th>\n",
              "      <td>22400</td>\n",
              "    </tr>\n",
              "    <tr>\n",
              "      <th>Copos</th>\n",
              "      <td>12890</td>\n",
              "    </tr>\n",
              "    <tr>\n",
              "      <th rowspan=\"2\" valign=\"top\">Minas Gerais</th>\n",
              "      <th>Garrafas</th>\n",
              "      <td>13900</td>\n",
              "    </tr>\n",
              "    <tr>\n",
              "      <th>Copos</th>\n",
              "      <td>23751</td>\n",
              "    </tr>\n",
              "  </tbody>\n",
              "</table>\n",
              "</div>"
            ],
            "text/plain": [
              "                         Total vendido R$\n",
              "Estado         Produto                   \n",
              "São Paulo      Garrafas             10000\n",
              "               Copos                35000\n",
              "Rio de Janeiro Garrafas             22400\n",
              "               Copos                12890\n",
              "Minas Gerais   Garrafas             13900\n",
              "               Copos                23751"
            ]
          },
          "metadata": {
            "tags": []
          },
          "execution_count": 17
        }
      ]
    },
    {
      "cell_type": "code",
      "metadata": {
        "id": "7D7AV-f059PD",
        "colab": {
          "base_uri": "https://localhost:8080/",
          "height": 297
        },
        "outputId": "c0cad9fa-93de-438e-c7d8-41b1c2753f09"
      },
      "source": [
        "# realizando agrupamento por \"estado\"\n",
        "by_estado = df1.groupby('Estado', level=0)\n",
        "by_estado.describe().T"
      ],
      "execution_count": 18,
      "outputs": [
        {
          "output_type": "execute_result",
          "data": {
            "text/html": [
              "<div>\n",
              "<style scoped>\n",
              "    .dataframe tbody tr th:only-of-type {\n",
              "        vertical-align: middle;\n",
              "    }\n",
              "\n",
              "    .dataframe tbody tr th {\n",
              "        vertical-align: top;\n",
              "    }\n",
              "\n",
              "    .dataframe thead th {\n",
              "        text-align: right;\n",
              "    }\n",
              "</style>\n",
              "<table border=\"1\" class=\"dataframe\">\n",
              "  <thead>\n",
              "    <tr style=\"text-align: right;\">\n",
              "      <th></th>\n",
              "      <th>Estado</th>\n",
              "      <th>Minas Gerais</th>\n",
              "      <th>Rio de Janeiro</th>\n",
              "      <th>São Paulo</th>\n",
              "    </tr>\n",
              "  </thead>\n",
              "  <tbody>\n",
              "    <tr>\n",
              "      <th rowspan=\"8\" valign=\"top\">Total vendido R$</th>\n",
              "      <th>count</th>\n",
              "      <td>2.000000</td>\n",
              "      <td>2.000000</td>\n",
              "      <td>2.00000</td>\n",
              "    </tr>\n",
              "    <tr>\n",
              "      <th>mean</th>\n",
              "      <td>18825.500000</td>\n",
              "      <td>17645.000000</td>\n",
              "      <td>22500.00000</td>\n",
              "    </tr>\n",
              "    <tr>\n",
              "      <th>std</th>\n",
              "      <td>6965.708901</td>\n",
              "      <td>6724.585489</td>\n",
              "      <td>17677.66953</td>\n",
              "    </tr>\n",
              "    <tr>\n",
              "      <th>min</th>\n",
              "      <td>13900.000000</td>\n",
              "      <td>12890.000000</td>\n",
              "      <td>10000.00000</td>\n",
              "    </tr>\n",
              "    <tr>\n",
              "      <th>25%</th>\n",
              "      <td>16362.750000</td>\n",
              "      <td>15267.500000</td>\n",
              "      <td>16250.00000</td>\n",
              "    </tr>\n",
              "    <tr>\n",
              "      <th>50%</th>\n",
              "      <td>18825.500000</td>\n",
              "      <td>17645.000000</td>\n",
              "      <td>22500.00000</td>\n",
              "    </tr>\n",
              "    <tr>\n",
              "      <th>75%</th>\n",
              "      <td>21288.250000</td>\n",
              "      <td>20022.500000</td>\n",
              "      <td>28750.00000</td>\n",
              "    </tr>\n",
              "    <tr>\n",
              "      <th>max</th>\n",
              "      <td>23751.000000</td>\n",
              "      <td>22400.000000</td>\n",
              "      <td>35000.00000</td>\n",
              "    </tr>\n",
              "  </tbody>\n",
              "</table>\n",
              "</div>"
            ],
            "text/plain": [
              "Estado                  Minas Gerais  Rio de Janeiro    São Paulo\n",
              "Total vendido R$ count      2.000000        2.000000      2.00000\n",
              "                 mean   18825.500000    17645.000000  22500.00000\n",
              "                 std     6965.708901     6724.585489  17677.66953\n",
              "                 min    13900.000000    12890.000000  10000.00000\n",
              "                 25%    16362.750000    15267.500000  16250.00000\n",
              "                 50%    18825.500000    17645.000000  22500.00000\n",
              "                 75%    21288.250000    20022.500000  28750.00000\n",
              "                 max    23751.000000    22400.000000  35000.00000"
            ]
          },
          "metadata": {
            "tags": []
          },
          "execution_count": 18
        }
      ]
    },
    {
      "cell_type": "code",
      "metadata": {
        "id": "THMGeiWf59MN",
        "colab": {
          "base_uri": "https://localhost:8080/",
          "height": 173
        },
        "outputId": "301b849d-4435-4e00-9491-4293d89b23a4"
      },
      "source": [
        "by_estado.mean()"
      ],
      "execution_count": 19,
      "outputs": [
        {
          "output_type": "execute_result",
          "data": {
            "text/html": [
              "<div>\n",
              "<style scoped>\n",
              "    .dataframe tbody tr th:only-of-type {\n",
              "        vertical-align: middle;\n",
              "    }\n",
              "\n",
              "    .dataframe tbody tr th {\n",
              "        vertical-align: top;\n",
              "    }\n",
              "\n",
              "    .dataframe thead th {\n",
              "        text-align: right;\n",
              "    }\n",
              "</style>\n",
              "<table border=\"1\" class=\"dataframe\">\n",
              "  <thead>\n",
              "    <tr style=\"text-align: right;\">\n",
              "      <th></th>\n",
              "      <th>Total vendido R$</th>\n",
              "    </tr>\n",
              "    <tr>\n",
              "      <th>Estado</th>\n",
              "      <th></th>\n",
              "    </tr>\n",
              "  </thead>\n",
              "  <tbody>\n",
              "    <tr>\n",
              "      <th>Minas Gerais</th>\n",
              "      <td>18825.5</td>\n",
              "    </tr>\n",
              "    <tr>\n",
              "      <th>Rio de Janeiro</th>\n",
              "      <td>17645.0</td>\n",
              "    </tr>\n",
              "    <tr>\n",
              "      <th>São Paulo</th>\n",
              "      <td>22500.0</td>\n",
              "    </tr>\n",
              "  </tbody>\n",
              "</table>\n",
              "</div>"
            ],
            "text/plain": [
              "                Total vendido R$\n",
              "Estado                          \n",
              "Minas Gerais             18825.5\n",
              "Rio de Janeiro           17645.0\n",
              "São Paulo                22500.0"
            ]
          },
          "metadata": {
            "tags": []
          },
          "execution_count": 19
        }
      ]
    },
    {
      "cell_type": "code",
      "metadata": {
        "id": "Poqf1QD459I6"
      },
      "source": [
        "by_produto = df1.groupby('Produto', level=1)"
      ],
      "execution_count": 20,
      "outputs": []
    },
    {
      "cell_type": "code",
      "metadata": {
        "id": "MziWjOC8jB5T",
        "colab": {
          "base_uri": "https://localhost:8080/",
          "height": 142
        },
        "outputId": "10d06121-fe6b-42d8-f0b4-ca75551c1236"
      },
      "source": [
        "by_produto.mean()"
      ],
      "execution_count": 21,
      "outputs": [
        {
          "output_type": "execute_result",
          "data": {
            "text/html": [
              "<div>\n",
              "<style scoped>\n",
              "    .dataframe tbody tr th:only-of-type {\n",
              "        vertical-align: middle;\n",
              "    }\n",
              "\n",
              "    .dataframe tbody tr th {\n",
              "        vertical-align: top;\n",
              "    }\n",
              "\n",
              "    .dataframe thead th {\n",
              "        text-align: right;\n",
              "    }\n",
              "</style>\n",
              "<table border=\"1\" class=\"dataframe\">\n",
              "  <thead>\n",
              "    <tr style=\"text-align: right;\">\n",
              "      <th></th>\n",
              "      <th>Total vendido R$</th>\n",
              "    </tr>\n",
              "    <tr>\n",
              "      <th>Produto</th>\n",
              "      <th></th>\n",
              "    </tr>\n",
              "  </thead>\n",
              "  <tbody>\n",
              "    <tr>\n",
              "      <th>Copos</th>\n",
              "      <td>23880.333333</td>\n",
              "    </tr>\n",
              "    <tr>\n",
              "      <th>Garrafas</th>\n",
              "      <td>15433.333333</td>\n",
              "    </tr>\n",
              "  </tbody>\n",
              "</table>\n",
              "</div>"
            ],
            "text/plain": [
              "          Total vendido R$\n",
              "Produto                   \n",
              "Copos         23880.333333\n",
              "Garrafas      15433.333333"
            ]
          },
          "metadata": {
            "tags": []
          },
          "execution_count": 21
        }
      ]
    },
    {
      "cell_type": "code",
      "metadata": {
        "id": "cOEWoUQNjBpS"
      },
      "source": [
        ""
      ],
      "execution_count": null,
      "outputs": []
    }
  ]
}