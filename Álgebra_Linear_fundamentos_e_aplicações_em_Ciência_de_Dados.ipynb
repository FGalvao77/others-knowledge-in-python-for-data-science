{
  "nbformat": 4,
  "nbformat_minor": 0,
  "metadata": {
    "colab": {
      "name": "Álgebra Linear: fundamentos e aplicações em Ciência de Dados.ipynb",
      "provenance": [],
      "collapsed_sections": [],
      "authorship_tag": "ABX9TyM84+FgMeTCWZTBYA7R4sEk",
      "include_colab_link": true
    },
    "kernelspec": {
      "name": "python3",
      "display_name": "Python 3"
    }
  },
  "cells": [
    {
      "cell_type": "markdown",
      "metadata": {
        "id": "view-in-github",
        "colab_type": "text"
      },
      "source": [
        "<a href=\"https://colab.research.google.com/github/FGalvao77/others-knowledge-in-python-for-data-science/blob/main/%C3%81lgebra_Linear_fundamentos_e_aplica%C3%A7%C3%B5es_em_Ci%C3%AAncia_de_Dados.ipynb\" target=\"_parent\"><img src=\"https://colab.research.google.com/assets/colab-badge.svg\" alt=\"Open In Colab\"/></a>"
      ]
    },
    {
      "cell_type": "markdown",
      "metadata": {
        "id": "fK7VOLOFUJBr"
      },
      "source": [
        "# Álgebra Linear: fundamentos e aplicações em Ciência de Dados"
      ]
    },
    {
      "cell_type": "markdown",
      "metadata": {
        "id": "uPlufX4bUPQB"
      },
      "source": [
        "> ## Tópicos:\n",
        "1. Vetor\n",
        "2. Matrizes\n",
        "3. Sistemas Lineares\n",
        "4. Determinante\n",
        "5. Produto interno\n",
        "6. Norma\n",
        "7. Combinação Linear\n",
        "8. Hands On! - Parte I\n",
        "9. Hands On! - Parte II\n",
        "10. Próximos passos: Rede Neural\n",
        "11. Adendos\n"
      ]
    },
    {
      "cell_type": "markdown",
      "metadata": {
        "id": "va-JIgxHUTiY"
      },
      "source": [
        ">> ### 1. Vetor"
      ]
    },
    {
      "cell_type": "code",
      "metadata": {
        "id": "cr12UaCBUEMK"
      },
      "source": [
        "import numpy as np"
      ],
      "execution_count": null,
      "outputs": []
    },
    {
      "cell_type": "code",
      "metadata": {
        "colab": {
          "base_uri": "https://localhost:8080/"
        },
        "id": "557MLqY3UdcS",
        "outputId": "fafc77b5-6e90-4e6b-dcd1-791d07c3a14a"
      },
      "source": [
        "x = np.array([[1], [7], [-1]])\n",
        "x"
      ],
      "execution_count": null,
      "outputs": [
        {
          "output_type": "execute_result",
          "data": {
            "text/plain": [
              "array([[ 1],\n",
              "       [ 7],\n",
              "       [-1]])"
            ]
          },
          "metadata": {
            "tags": []
          },
          "execution_count": 2
        }
      ]
    },
    {
      "cell_type": "markdown",
      "metadata": {
        "id": "0lRlMpsaUpTg"
      },
      "source": [
        "- Vetor: módulo, direção e sentido (array unidimensional 1-D)."
      ]
    },
    {
      "cell_type": "code",
      "metadata": {
        "colab": {
          "base_uri": "https://localhost:8080/"
        },
        "id": "cSjH4BkgUdZT",
        "outputId": "d90c56d3-36b5-4346-f506-bd70d3056dea"
      },
      "source": [
        "u = np.array([[1], [2], [3]])\n",
        "u"
      ],
      "execution_count": null,
      "outputs": [
        {
          "output_type": "execute_result",
          "data": {
            "text/plain": [
              "array([[1],\n",
              "       [2],\n",
              "       [3]])"
            ]
          },
          "metadata": {
            "tags": []
          },
          "execution_count": 3
        }
      ]
    },
    {
      "cell_type": "code",
      "metadata": {
        "colab": {
          "base_uri": "https://localhost:8080/"
        },
        "id": "Z2yXx3RgUdWo",
        "outputId": "115e382f-fd3f-40b0-c997-5bb0e7d631c0"
      },
      "source": [
        "type(u)"
      ],
      "execution_count": null,
      "outputs": [
        {
          "output_type": "execute_result",
          "data": {
            "text/plain": [
              "numpy.ndarray"
            ]
          },
          "metadata": {
            "tags": []
          },
          "execution_count": 4
        }
      ]
    },
    {
      "cell_type": "code",
      "metadata": {
        "colab": {
          "base_uri": "https://localhost:8080/"
        },
        "id": "iDMFPAxnUdUA",
        "outputId": "220a9275-2249-4dcb-e2ba-e18becbfeaae"
      },
      "source": [
        "u.shape"
      ],
      "execution_count": null,
      "outputs": [
        {
          "output_type": "execute_result",
          "data": {
            "text/plain": [
              "(3, 1)"
            ]
          },
          "metadata": {
            "tags": []
          },
          "execution_count": 5
        }
      ]
    },
    {
      "cell_type": "code",
      "metadata": {
        "colab": {
          "base_uri": "https://localhost:8080/"
        },
        "id": "jzxDR78xUdRI",
        "outputId": "dd538b94-3bf2-4b75-d3e6-cd7bc26427fb"
      },
      "source": [
        "x = np.array([1, 7, -1])\n",
        "x"
      ],
      "execution_count": null,
      "outputs": [
        {
          "output_type": "execute_result",
          "data": {
            "text/plain": [
              "array([ 1,  7, -1])"
            ]
          },
          "metadata": {
            "tags": []
          },
          "execution_count": 6
        }
      ]
    },
    {
      "cell_type": "code",
      "metadata": {
        "colab": {
          "base_uri": "https://localhost:8080/"
        },
        "id": "vadhDxKFUdOw",
        "outputId": "f0182762-05af-4b88-c1aa-adaeed73e778"
      },
      "source": [
        "x.shape = (x.shape[0],1)\n",
        "x"
      ],
      "execution_count": null,
      "outputs": [
        {
          "output_type": "execute_result",
          "data": {
            "text/plain": [
              "array([[ 1],\n",
              "       [ 7],\n",
              "       [-1]])"
            ]
          },
          "metadata": {
            "tags": []
          },
          "execution_count": 7
        }
      ]
    },
    {
      "cell_type": "code",
      "metadata": {
        "colab": {
          "base_uri": "https://localhost:8080/"
        },
        "id": "7oAU5zuBUdMI",
        "outputId": "213129da-3ffe-4a5b-8da7-64d6decc985b"
      },
      "source": [
        "x = np.array([10, 15, 20]).reshape(-1, 1)\n",
        "x"
      ],
      "execution_count": null,
      "outputs": [
        {
          "output_type": "execute_result",
          "data": {
            "text/plain": [
              "array([[10],\n",
              "       [15],\n",
              "       [20]])"
            ]
          },
          "metadata": {
            "tags": []
          },
          "execution_count": 8
        }
      ]
    },
    {
      "cell_type": "markdown",
      "metadata": {
        "id": "mjD30yMJVG8w"
      },
      "source": [
        "Igualdade"
      ]
    },
    {
      "cell_type": "code",
      "metadata": {
        "id": "3LdZT4C9UdJB"
      },
      "source": [
        "u = np.array([1, 4, 100])\n",
        "v = np.array([1, np.log2(16), np.power(10, 2)])"
      ],
      "execution_count": null,
      "outputs": []
    },
    {
      "cell_type": "code",
      "metadata": {
        "colab": {
          "base_uri": "https://localhost:8080/"
        },
        "id": "omzHhmWYVL6P",
        "outputId": "79ea0d1a-2515-4000-cd5b-690c8b489a48"
      },
      "source": [
        "u == v"
      ],
      "execution_count": null,
      "outputs": [
        {
          "output_type": "execute_result",
          "data": {
            "text/plain": [
              "array([ True,  True,  True])"
            ]
          },
          "metadata": {
            "tags": []
          },
          "execution_count": 10
        }
      ]
    },
    {
      "cell_type": "markdown",
      "metadata": {
        "id": "KX84Z5m4VP__"
      },
      "source": [
        "Soma e multiplicação por escalar"
      ]
    },
    {
      "cell_type": "code",
      "metadata": {
        "colab": {
          "base_uri": "https://localhost:8080/"
        },
        "id": "chAT0oiVVL3Y",
        "outputId": "8934a0a9-7dd9-4a62-a8bb-5c73e643f733"
      },
      "source": [
        "u = np.array([11, 12, 13])\n",
        "v = np.array([9, 3, 2])\n",
        "u + v"
      ],
      "execution_count": null,
      "outputs": [
        {
          "output_type": "execute_result",
          "data": {
            "text/plain": [
              "array([20, 15, 15])"
            ]
          },
          "metadata": {
            "tags": []
          },
          "execution_count": 11
        }
      ]
    },
    {
      "cell_type": "code",
      "metadata": {
        "colab": {
          "base_uri": "https://localhost:8080/"
        },
        "id": "im4eU3grVL1H",
        "outputId": "2107d4bc-4e83-413a-9a0c-ee59ee7f71f5"
      },
      "source": [
        "10 * u\n"
      ],
      "execution_count": null,
      "outputs": [
        {
          "output_type": "execute_result",
          "data": {
            "text/plain": [
              "array([110, 120, 130])"
            ]
          },
          "metadata": {
            "tags": []
          },
          "execution_count": 12
        }
      ]
    },
    {
      "cell_type": "markdown",
      "metadata": {
        "id": "ShTXVaL5VYs_"
      },
      "source": [
        "Produto escalar (ou produto interno)\n"
      ]
    },
    {
      "cell_type": "code",
      "metadata": {
        "colab": {
          "base_uri": "https://localhost:8080/"
        },
        "id": "iVvHOU2jVLy1",
        "outputId": "595fd7ed-e2a2-4a42-f847-2ef60dc8bd84"
      },
      "source": [
        "sum(u * v)"
      ],
      "execution_count": null,
      "outputs": [
        {
          "output_type": "execute_result",
          "data": {
            "text/plain": [
              "161"
            ]
          },
          "metadata": {
            "tags": []
          },
          "execution_count": 13
        }
      ]
    },
    {
      "cell_type": "code",
      "metadata": {
        "colab": {
          "base_uri": "https://localhost:8080/"
        },
        "id": "G1BPlmK4VLwY",
        "outputId": "af59c03d-84b8-4e61-8b37-3af0b3083489"
      },
      "source": [
        "np.inner(u,v)"
      ],
      "execution_count": null,
      "outputs": [
        {
          "output_type": "execute_result",
          "data": {
            "text/plain": [
              "161"
            ]
          },
          "metadata": {
            "tags": []
          },
          "execution_count": 14
        }
      ]
    },
    {
      "cell_type": "markdown",
      "metadata": {
        "id": "2lK9MosFVg_O"
      },
      "source": [
        "Dois vetores são ortogonais ou perpendiculares se o produto interno entre eles for nulo.\n"
      ]
    },
    {
      "cell_type": "code",
      "metadata": {
        "id": "Myyv4H6AVLuB"
      },
      "source": [
        "u = np.array([3,-4])"
      ],
      "execution_count": null,
      "outputs": []
    },
    {
      "cell_type": "code",
      "metadata": {
        "colab": {
          "base_uri": "https://localhost:8080/"
        },
        "id": "jAYIeorPVLrv",
        "outputId": "d23d3363-ae3b-4ed5-9d13-cccdd0a082c0"
      },
      "source": [
        "np.sqrt(np.inner(u, u))"
      ],
      "execution_count": null,
      "outputs": [
        {
          "output_type": "execute_result",
          "data": {
            "text/plain": [
              "5.0"
            ]
          },
          "metadata": {
            "tags": []
          },
          "execution_count": 16
        }
      ]
    },
    {
      "cell_type": "markdown",
      "metadata": {
        "id": "Qq5UUp2JVoSO"
      },
      "source": [
        "Generalizando para o Rn podemos definir todas as operações anteriores."
      ]
    },
    {
      "cell_type": "markdown",
      "metadata": {
        "id": "ayyrBpg_V0xn"
      },
      "source": [
        ">> ### 2. Matriz\n",
        "  - representação tabular de dados;\n",
        "  - notação: Am × n."
      ]
    },
    {
      "cell_type": "code",
      "metadata": {
        "id": "d473Dr7TVLof"
      },
      "source": [
        "import numpy as np"
      ],
      "execution_count": null,
      "outputs": []
    },
    {
      "cell_type": "code",
      "metadata": {
        "id": "j-Eoqe31VLjv"
      },
      "source": [
        "matrix = np.array([[-11, 2], [7, 15]])"
      ],
      "execution_count": null,
      "outputs": []
    },
    {
      "cell_type": "code",
      "metadata": {
        "colab": {
          "base_uri": "https://localhost:8080/"
        },
        "id": "soWZ4ErYVLgv",
        "outputId": "88e5c5b2-6ba6-4948-9283-6aa9ca0546fc"
      },
      "source": [
        "matrix"
      ],
      "execution_count": null,
      "outputs": [
        {
          "output_type": "execute_result",
          "data": {
            "text/plain": [
              "array([[-11,   2],\n",
              "       [  7,  15]])"
            ]
          },
          "metadata": {
            "tags": []
          },
          "execution_count": 19
        }
      ]
    },
    {
      "cell_type": "code",
      "metadata": {
        "colab": {
          "base_uri": "https://localhost:8080/"
        },
        "id": "Ek64EeIyVLcf",
        "outputId": "0ce5ba73-296f-492d-9f8a-a9239b20c363"
      },
      "source": [
        "type(matrix)"
      ],
      "execution_count": null,
      "outputs": [
        {
          "output_type": "execute_result",
          "data": {
            "text/plain": [
              "numpy.ndarray"
            ]
          },
          "metadata": {
            "tags": []
          },
          "execution_count": 20
        }
      ]
    },
    {
      "cell_type": "code",
      "metadata": {
        "colab": {
          "base_uri": "https://localhost:8080/"
        },
        "id": "FNxWHI5CWH1h",
        "outputId": "d60604c1-6609-48b7-db30-3b5cc929684a"
      },
      "source": [
        "matrix.shape"
      ],
      "execution_count": null,
      "outputs": [
        {
          "output_type": "execute_result",
          "data": {
            "text/plain": [
              "(2, 2)"
            ]
          },
          "metadata": {
            "tags": []
          },
          "execution_count": 21
        }
      ]
    },
    {
      "cell_type": "code",
      "metadata": {
        "colab": {
          "base_uri": "https://localhost:8080/"
        },
        "id": "Xy16jjRfWHwf",
        "outputId": "6b5183dc-f169-474c-8c55-15798eb0e66f"
      },
      "source": [
        "matrix.ndim #número de dimensões"
      ],
      "execution_count": null,
      "outputs": [
        {
          "output_type": "execute_result",
          "data": {
            "text/plain": [
              "2"
            ]
          },
          "metadata": {
            "tags": []
          },
          "execution_count": 22
        }
      ]
    },
    {
      "cell_type": "markdown",
      "metadata": {
        "id": "ewVz5dTiWOdH"
      },
      "source": [
        ">>> #### 2.1 Matrizes importantes\n",
        "\n"
      ]
    },
    {
      "cell_type": "markdown",
      "metadata": {
        "id": "P9WDaccXWgV2"
      },
      "source": [
        "1. Matriz Quadrada: matriz em que o número de linhas é igual ao número de colunas (m = n)."
      ]
    },
    {
      "cell_type": "code",
      "metadata": {
        "id": "H7pP4dSRWHtt"
      },
      "source": [
        "A = np.array([[-1, 2], [4, 5]])"
      ],
      "execution_count": null,
      "outputs": []
    },
    {
      "cell_type": "code",
      "metadata": {
        "colab": {
          "base_uri": "https://localhost:8080/"
        },
        "id": "N6vugptUWHrp",
        "outputId": "38268e51-b9a7-4452-abaf-ee59f35bb70a"
      },
      "source": [
        "A"
      ],
      "execution_count": null,
      "outputs": [
        {
          "output_type": "execute_result",
          "data": {
            "text/plain": [
              "array([[-1,  2],\n",
              "       [ 4,  5]])"
            ]
          },
          "metadata": {
            "tags": []
          },
          "execution_count": 24
        }
      ]
    },
    {
      "cell_type": "markdown",
      "metadata": {
        "id": "KyATNZOdWckY"
      },
      "source": [
        "1. Matriz Nula: matriz em que todos os elementos são nulos, ou seja, aij = 0 para todo i e j.\n"
      ]
    },
    {
      "cell_type": "code",
      "metadata": {
        "colab": {
          "base_uri": "https://localhost:8080/"
        },
        "id": "rBp6SQmiWHpH",
        "outputId": "a714f9f0-042a-43c5-fa42-cd7a9f4dbf31"
      },
      "source": [
        "B = np.array([[0, 0, 0], [0, 0, 0]])\n",
        "B"
      ],
      "execution_count": null,
      "outputs": [
        {
          "output_type": "execute_result",
          "data": {
            "text/plain": [
              "array([[0, 0, 0],\n",
              "       [0, 0, 0]])"
            ]
          },
          "metadata": {
            "tags": []
          },
          "execution_count": 25
        }
      ]
    },
    {
      "cell_type": "code",
      "metadata": {
        "colab": {
          "base_uri": "https://localhost:8080/"
        },
        "id": "_WJqoLp4WHmf",
        "outputId": "3882212b-af6f-4a82-b49c-ebb6d53021d0"
      },
      "source": [
        "B = np.zeros(shape = (2, 3))\n",
        "B"
      ],
      "execution_count": null,
      "outputs": [
        {
          "output_type": "execute_result",
          "data": {
            "text/plain": [
              "array([[0., 0., 0.],\n",
              "       [0., 0., 0.]])"
            ]
          },
          "metadata": {
            "tags": []
          },
          "execution_count": 26
        }
      ]
    },
    {
      "cell_type": "code",
      "metadata": {
        "colab": {
          "base_uri": "https://localhost:8080/"
        },
        "id": "k0PnJu_IWHkA",
        "outputId": "f32b46c6-efaf-4bc0-eb41-058076198b94"
      },
      "source": [
        "K = np.zeros(shape = (10, 10))\n",
        "K"
      ],
      "execution_count": null,
      "outputs": [
        {
          "output_type": "execute_result",
          "data": {
            "text/plain": [
              "array([[0., 0., 0., 0., 0., 0., 0., 0., 0., 0.],\n",
              "       [0., 0., 0., 0., 0., 0., 0., 0., 0., 0.],\n",
              "       [0., 0., 0., 0., 0., 0., 0., 0., 0., 0.],\n",
              "       [0., 0., 0., 0., 0., 0., 0., 0., 0., 0.],\n",
              "       [0., 0., 0., 0., 0., 0., 0., 0., 0., 0.],\n",
              "       [0., 0., 0., 0., 0., 0., 0., 0., 0., 0.],\n",
              "       [0., 0., 0., 0., 0., 0., 0., 0., 0., 0.],\n",
              "       [0., 0., 0., 0., 0., 0., 0., 0., 0., 0.],\n",
              "       [0., 0., 0., 0., 0., 0., 0., 0., 0., 0.],\n",
              "       [0., 0., 0., 0., 0., 0., 0., 0., 0., 0.]])"
            ]
          },
          "metadata": {
            "tags": []
          },
          "execution_count": 27
        }
      ]
    },
    {
      "cell_type": "markdown",
      "metadata": {
        "id": "G6dVpNQyWsou"
      },
      "source": [
        "1. Matriz-Coluna: matriz que possui uma única coluna (Am × 1\n",
        ")."
      ]
    },
    {
      "cell_type": "code",
      "metadata": {
        "colab": {
          "base_uri": "https://localhost:8080/"
        },
        "id": "I6ai0ZUlWpbp",
        "outputId": "14c90481-ea64-401c-aa41-33841d5b2f0b"
      },
      "source": [
        "C = np.array([[-1], [2], [10], [5]])\n",
        "C"
      ],
      "execution_count": null,
      "outputs": [
        {
          "output_type": "execute_result",
          "data": {
            "text/plain": [
              "array([[-1],\n",
              "       [ 2],\n",
              "       [10],\n",
              "       [ 5]])"
            ]
          },
          "metadata": {
            "tags": []
          },
          "execution_count": 28
        }
      ]
    },
    {
      "cell_type": "markdown",
      "metadata": {
        "id": "Z1hvgkEiWwuu"
      },
      "source": [
        "1. Matriz-Linha: matriz com uma única linha (A1 × n\n",
        ")\n"
      ]
    },
    {
      "cell_type": "code",
      "metadata": {
        "colab": {
          "base_uri": "https://localhost:8080/"
        },
        "id": "b9N7GIvbWHhN",
        "outputId": "9b7fdad2-151d-46c9-b9bf-28ed7e659824"
      },
      "source": [
        "D = np.array([-1, 2, 10, 5])\n",
        "D"
      ],
      "execution_count": null,
      "outputs": [
        {
          "output_type": "execute_result",
          "data": {
            "text/plain": [
              "array([-1,  2, 10,  5])"
            ]
          },
          "metadata": {
            "tags": []
          },
          "execution_count": 29
        }
      ]
    },
    {
      "cell_type": "markdown",
      "metadata": {
        "id": "_OjIOunlZCZb"
      },
      "source": [
        "1. Matriz diagonal: matriz quadrada em que qualquer elemento fora da diagonal principal é nulo, isto é,\n",
        "aij = 0 para i ≠ j.\n"
      ]
    },
    {
      "cell_type": "code",
      "metadata": {
        "colab": {
          "base_uri": "https://localhost:8080/"
        },
        "id": "pOeiFqiHY_17",
        "outputId": "143e7834-9b68-4a55-c9e8-12f2bb145279"
      },
      "source": [
        "E = np.diag(np.arange(5,16,5))\n",
        "E"
      ],
      "execution_count": null,
      "outputs": [
        {
          "output_type": "execute_result",
          "data": {
            "text/plain": [
              "array([[ 5,  0,  0],\n",
              "       [ 0, 10,  0],\n",
              "       [ 0,  0, 15]])"
            ]
          },
          "metadata": {
            "tags": []
          },
          "execution_count": 3
        }
      ]
    },
    {
      "cell_type": "markdown",
      "metadata": {
        "id": "_H6_paUYZNxc"
      },
      "source": [
        "1. Matriz identidade: matriz em que aij = 1 , ∀i = j e aij = 0, ∀i ≠ j. Assim, a matriz identidade, ou matriz\n",
        "unitária, de ordem n, denotada por In\n",
        " ou, simplesmente, por I, é a matriz quadrada com 1 na diagonal\n",
        "principal e 0 em todas as demais entradas. A matriz identidade I é análoga ao escalar 1, pois, dada\n",
        "qualquer matriz Am × n\n",
        ", temos que AI = IA = A. Para uma matriz Bn × 1\n",
        ", verifica-se IB = B"
      ]
    },
    {
      "cell_type": "code",
      "metadata": {
        "colab": {
          "base_uri": "https://localhost:8080/"
        },
        "id": "dmDz__J6Y_zl",
        "outputId": "76b8362e-9a6e-4549-9ace-5c3edcb3bb1b"
      },
      "source": [
        "I = np.eye(3)\n",
        "I"
      ],
      "execution_count": null,
      "outputs": [
        {
          "output_type": "execute_result",
          "data": {
            "text/plain": [
              "array([[1., 0., 0.],\n",
              "       [0., 1., 0.],\n",
              "       [0., 0., 1.]])"
            ]
          },
          "metadata": {
            "tags": []
          },
          "execution_count": 4
        }
      ]
    },
    {
      "cell_type": "code",
      "metadata": {
        "colab": {
          "base_uri": "https://localhost:8080/"
        },
        "id": "k_3QlGPDY_xR",
        "outputId": "7f0ceb8f-2bc8-46c0-faad-39df688c4ef4"
      },
      "source": [
        "I = np.identity(3)\n",
        "I"
      ],
      "execution_count": null,
      "outputs": [
        {
          "output_type": "execute_result",
          "data": {
            "text/plain": [
              "array([[1., 0., 0.],\n",
              "       [0., 1., 0.],\n",
              "       [0., 0., 1.]])"
            ]
          },
          "metadata": {
            "tags": []
          },
          "execution_count": 5
        }
      ]
    },
    {
      "cell_type": "markdown",
      "metadata": {
        "id": "K_iBHdkVZWLE"
      },
      "source": [
        "1. Matriz simétrica: matriz quadrada em que aij = aji\n",
        " para quaisquer i, j e A\n",
        "T = A.\n"
      ]
    },
    {
      "cell_type": "code",
      "metadata": {
        "colab": {
          "base_uri": "https://localhost:8080/"
        },
        "id": "OchqjdAoY_uY",
        "outputId": "b9e71206-811a-489f-a819-d5c5ee6b26a7"
      },
      "source": [
        "F = np.array([[4, 3, -1], [3, 2, 0], [-1, 0, 5]])\n",
        "F"
      ],
      "execution_count": null,
      "outputs": [
        {
          "output_type": "execute_result",
          "data": {
            "text/plain": [
              "array([[ 4,  3, -1],\n",
              "       [ 3,  2,  0],\n",
              "       [-1,  0,  5]])"
            ]
          },
          "metadata": {
            "tags": []
          },
          "execution_count": 6
        }
      ]
    },
    {
      "cell_type": "code",
      "metadata": {
        "colab": {
          "base_uri": "https://localhost:8080/"
        },
        "id": "jv0MhmvvY_sS",
        "outputId": "16ba84c3-1214-425d-a9af-45688478dd98"
      },
      "source": [
        "F.T == F"
      ],
      "execution_count": null,
      "outputs": [
        {
          "output_type": "execute_result",
          "data": {
            "text/plain": [
              "array([[ True,  True,  True],\n",
              "       [ True,  True,  True],\n",
              "       [ True,  True,  True]])"
            ]
          },
          "metadata": {
            "tags": []
          },
          "execution_count": 7
        }
      ]
    },
    {
      "cell_type": "markdown",
      "metadata": {
        "id": "Hjvn4oRAZdYm"
      },
      "source": [
        "1. Matriz Idempotente: matriz quadrada em que A ⋅ A = A ."
      ]
    },
    {
      "cell_type": "code",
      "metadata": {
        "colab": {
          "base_uri": "https://localhost:8080/"
        },
        "id": "M5cqZd1bY_pI",
        "outputId": "07402922-dd28-4bab-d93a-2f0d7dbca118"
      },
      "source": [
        "L = np.array([[5, -5], [4, -4]])\n",
        "L"
      ],
      "execution_count": null,
      "outputs": [
        {
          "output_type": "execute_result",
          "data": {
            "text/plain": [
              "array([[ 5, -5],\n",
              "       [ 4, -4]])"
            ]
          },
          "metadata": {
            "tags": []
          },
          "execution_count": 8
        }
      ]
    },
    {
      "cell_type": "code",
      "metadata": {
        "colab": {
          "base_uri": "https://localhost:8080/"
        },
        "id": "jujE8Fn3Y_mY",
        "outputId": "f7d7c1e2-9d93-4945-96e9-1b61dcc8bea5"
      },
      "source": [
        "np.dot(L, L)"
      ],
      "execution_count": null,
      "outputs": [
        {
          "output_type": "execute_result",
          "data": {
            "text/plain": [
              "array([[ 5, -5],\n",
              "       [ 4, -4]])"
            ]
          },
          "metadata": {
            "tags": []
          },
          "execution_count": 9
        }
      ]
    },
    {
      "cell_type": "markdown",
      "metadata": {
        "id": "_eQGILZRZlIk"
      },
      "source": [
        ">>> #### 2.2 Operações matriciais\n",
        "2.2.1 Adição e multiplicação por escalar\n",
        "As matrizes precisam ter a mesma ordem."
      ]
    },
    {
      "cell_type": "code",
      "metadata": {
        "colab": {
          "base_uri": "https://localhost:8080/"
        },
        "id": "8a-N7naSY_j2",
        "outputId": "1636a043-0cbf-4e9a-c05f-3087d382b406"
      },
      "source": [
        "A = np.array([[1, 3], [2, 7]])\n",
        "B = np.array([[2, 5], [5, 3]])\n",
        "soma = A+B\n",
        "soma"
      ],
      "execution_count": null,
      "outputs": [
        {
          "output_type": "execute_result",
          "data": {
            "text/plain": [
              "array([[ 3,  8],\n",
              "       [ 7, 10]])"
            ]
          },
          "metadata": {
            "tags": []
          },
          "execution_count": 10
        }
      ]
    },
    {
      "cell_type": "markdown",
      "metadata": {
        "id": "JNvHaCM4Z0wj"
      },
      "source": [
        "Produto por escalar"
      ]
    },
    {
      "cell_type": "code",
      "metadata": {
        "colab": {
          "base_uri": "https://localhost:8080/"
        },
        "id": "-Js9PFp8Y_hZ",
        "outputId": "33c2f3c5-3fff-4609-aef2-f2e8e54f612b"
      },
      "source": [
        "10 * A"
      ],
      "execution_count": null,
      "outputs": [
        {
          "output_type": "execute_result",
          "data": {
            "text/plain": [
              "array([[10, 30],\n",
              "       [20, 70]])"
            ]
          },
          "metadata": {
            "tags": []
          },
          "execution_count": 11
        }
      ]
    },
    {
      "cell_type": "markdown",
      "metadata": {
        "id": "oRe5g2FKZ8CU"
      },
      "source": [
        "2.2.2 Multiplicação de matrizes\n",
        "- Multiplicação entre uma matriz linha e uma matriz coluna"
      ]
    },
    {
      "cell_type": "code",
      "metadata": {
        "id": "TJinCUuIY_eY"
      },
      "source": [
        "u = np.array([1, 5, 10])\n",
        "v = np.array([[2], [3], [2]])\n"
      ],
      "execution_count": null,
      "outputs": []
    },
    {
      "cell_type": "code",
      "metadata": {
        "colab": {
          "base_uri": "https://localhost:8080/"
        },
        "id": "FncLTdC6Y_bf",
        "outputId": "ddf3169f-9198-4618-b54b-8c7397cba600"
      },
      "source": [
        "u"
      ],
      "execution_count": null,
      "outputs": [
        {
          "output_type": "execute_result",
          "data": {
            "text/plain": [
              "array([ 1,  5, 10])"
            ]
          },
          "metadata": {
            "tags": []
          },
          "execution_count": 13
        }
      ]
    },
    {
      "cell_type": "code",
      "metadata": {
        "colab": {
          "base_uri": "https://localhost:8080/"
        },
        "id": "Dl10FDp3Y_ZI",
        "outputId": "9621d023-0f0a-4f77-bdaa-323ccd80306a"
      },
      "source": [
        "v"
      ],
      "execution_count": null,
      "outputs": [
        {
          "output_type": "execute_result",
          "data": {
            "text/plain": [
              "array([[2],\n",
              "       [3],\n",
              "       [2]])"
            ]
          },
          "metadata": {
            "tags": []
          },
          "execution_count": 14
        }
      ]
    },
    {
      "cell_type": "code",
      "metadata": {
        "colab": {
          "base_uri": "https://localhost:8080/"
        },
        "id": "5tlgrSTPY_V-",
        "outputId": "e35c9beb-dad6-4f4c-fd12-e6e8b58e686f"
      },
      "source": [
        "np.dot(u,v)\n"
      ],
      "execution_count": null,
      "outputs": [
        {
          "output_type": "execute_result",
          "data": {
            "text/plain": [
              "array([37])"
            ]
          },
          "metadata": {
            "tags": []
          },
          "execution_count": 15
        }
      ]
    },
    {
      "cell_type": "markdown",
      "metadata": {
        "id": "rsUNQOe_aJ7C"
      },
      "source": [
        "- Caso geral de multiplicação de matrizes\n",
        "Am × p\n",
        "⋅ Bp × n = Cm × n\n",
        "O elemento cij\n",
        " será obtido por meio da multiplicação dos elementos da i-ésima linha da primeira matriz pelos\n",
        "correspondentes elementos da j-ésima coluna da segunda matriz, com a posterior soma destes produtos.\n"
      ]
    },
    {
      "cell_type": "code",
      "metadata": {
        "colab": {
          "base_uri": "https://localhost:8080/"
        },
        "id": "onmLVDJaY_Tb",
        "outputId": "98282e5a-6989-4421-d7c0-886078849705"
      },
      "source": [
        "A = np.array([[2, 1], [4, 2], [5, 3]])\n",
        "B = np.array([[1, -1], [0, 4]])\n",
        "C = np.dot(A,B)\n",
        "C"
      ],
      "execution_count": null,
      "outputs": [
        {
          "output_type": "execute_result",
          "data": {
            "text/plain": [
              "array([[2, 2],\n",
              "       [4, 4],\n",
              "       [5, 7]])"
            ]
          },
          "metadata": {
            "tags": []
          },
          "execution_count": 16
        }
      ]
    },
    {
      "cell_type": "markdown",
      "metadata": {
        "id": "JfcDsi1ZaO-G"
      },
      "source": [
        ">>> #### 2.3 Matriz transposta\n",
        "A transposta de uma matriz A, denotada por A\n",
        "T\n",
        " ou A\n",
        "′\n",
        ", é a matriz obtida escrevendo as colunas de A, na\n",
        "mesma ordem, como linhas.\n"
      ]
    },
    {
      "cell_type": "code",
      "metadata": {
        "colab": {
          "base_uri": "https://localhost:8080/"
        },
        "id": "VVUKyqeyY_Q9",
        "outputId": "0fd1f52b-0ed4-4722-d8c9-d5b8db2a30cf"
      },
      "source": [
        "A = np.array([[1, 7], [8, 3], [1, 2]])\n",
        "A\n"
      ],
      "execution_count": null,
      "outputs": [
        {
          "output_type": "execute_result",
          "data": {
            "text/plain": [
              "array([[1, 7],\n",
              "       [8, 3],\n",
              "       [1, 2]])"
            ]
          },
          "metadata": {
            "tags": []
          },
          "execution_count": 17
        }
      ]
    },
    {
      "cell_type": "code",
      "metadata": {
        "colab": {
          "base_uri": "https://localhost:8080/"
        },
        "id": "GYN99DpXY_OW",
        "outputId": "2104001b-4adb-46ba-db56-4a06991e9db3"
      },
      "source": [
        "A.T\n"
      ],
      "execution_count": null,
      "outputs": [
        {
          "output_type": "execute_result",
          "data": {
            "text/plain": [
              "array([[1, 8, 1],\n",
              "       [7, 3, 2]])"
            ]
          },
          "metadata": {
            "tags": []
          },
          "execution_count": 18
        }
      ]
    },
    {
      "cell_type": "code",
      "metadata": {
        "colab": {
          "base_uri": "https://localhost:8080/"
        },
        "id": "dgmTF6rkY_Lg",
        "outputId": "978d16f0-e8c5-416a-b419-acfb9048fd68"
      },
      "source": [
        "A.transpose()\n"
      ],
      "execution_count": null,
      "outputs": [
        {
          "output_type": "execute_result",
          "data": {
            "text/plain": [
              "array([[1, 8, 1],\n",
              "       [7, 3, 2]])"
            ]
          },
          "metadata": {
            "tags": []
          },
          "execution_count": 19
        }
      ]
    },
    {
      "cell_type": "markdown",
      "metadata": {
        "id": "sIi5A-S5aiPL"
      },
      "source": [
        ">>> #### 2.4 Traço de uma matriz\n",
        "O traço de uma matriz quadrada A, denotado por tr(A), é a soma dos elementos da diagonal principal, a\n",
        "saber, tr(A) = a11 + a22 + a33 + . . . + ann"
      ]
    },
    {
      "cell_type": "code",
      "metadata": {
        "colab": {
          "base_uri": "https://localhost:8080/"
        },
        "id": "3fdkMU-tY_I5",
        "outputId": "b18f20f8-8594-4a3b-e2b9-aeab9b9c7811"
      },
      "source": [
        "A = np.array([[2, 7, 1], [8, 3, 2], [1, 2, 10]])\n",
        "A.trace()\n"
      ],
      "execution_count": null,
      "outputs": [
        {
          "output_type": "execute_result",
          "data": {
            "text/plain": [
              "15"
            ]
          },
          "metadata": {
            "tags": []
          },
          "execution_count": 20
        }
      ]
    },
    {
      "cell_type": "markdown",
      "metadata": {
        "id": "s96A9TAOao8j"
      },
      "source": [
        ">>> #### 2.5 Matriz Inversa\n",
        "Uma matriz quadrada A é dita invertível, ou não singular, se existir uma matriz B tal que AB = BA = I onde I é\n",
        "a matriz identidade. Uma tal matriz B é única.\n"
      ]
    },
    {
      "cell_type": "code",
      "metadata": {
        "id": "6rG3O5KgafjR"
      },
      "source": [
        "Z = np.array([[3,4],[1,0]])\n",
        "Z_inv = np.linalg.inv(Z)\n"
      ],
      "execution_count": null,
      "outputs": []
    },
    {
      "cell_type": "code",
      "metadata": {
        "colab": {
          "base_uri": "https://localhost:8080/"
        },
        "id": "afhUtirmafg6",
        "outputId": "3f4242c0-73ac-4052-b6eb-216f83fa6368"
      },
      "source": [
        "Z_inv"
      ],
      "execution_count": null,
      "outputs": [
        {
          "output_type": "execute_result",
          "data": {
            "text/plain": [
              "array([[ 0.  ,  1.  ],\n",
              "       [ 0.25, -0.75]])"
            ]
          },
          "metadata": {
            "tags": []
          },
          "execution_count": 22
        }
      ]
    },
    {
      "cell_type": "code",
      "metadata": {
        "colab": {
          "base_uri": "https://localhost:8080/"
        },
        "id": "SEChP-Z2afd9",
        "outputId": "9b7c78ea-af23-48ab-eda1-50ef7bcb1f31"
      },
      "source": [
        "Z.dot(Z_inv)\n"
      ],
      "execution_count": null,
      "outputs": [
        {
          "output_type": "execute_result",
          "data": {
            "text/plain": [
              "array([[1., 0.],\n",
              "       [0., 1.]])"
            ]
          },
          "metadata": {
            "tags": []
          },
          "execution_count": 23
        }
      ]
    },
    {
      "cell_type": "markdown",
      "metadata": {
        "id": "836ZBv-MazCB"
      },
      "source": [
        "> # Dinâmica 1"
      ]
    },
    {
      "cell_type": "markdown",
      "metadata": {
        "id": "xXPJLu0ka2ZZ"
      },
      "source": [
        ">> ## 3. Sistemas Lineares\n",
        "- Um sistema linear pode ter uma única solução, múltiplas soluções ou nenhuma solução.\n"
      ]
    },
    {
      "cell_type": "code",
      "metadata": {
        "id": "XCy44mY_afcB"
      },
      "source": [
        "A = np.array ([[3, -7], [5, 2]])\n",
        "B = np.array([[1], [4]])"
      ],
      "execution_count": null,
      "outputs": []
    },
    {
      "cell_type": "code",
      "metadata": {
        "id": "Xi5hCnOiafZz"
      },
      "source": [
        "X = (np.linalg.solve(A, B))\n"
      ],
      "execution_count": null,
      "outputs": []
    },
    {
      "cell_type": "code",
      "metadata": {
        "colab": {
          "base_uri": "https://localhost:8080/"
        },
        "id": "R-IJwhN-afXZ",
        "outputId": "16ad3f58-f76a-40d9-f552-e779d695faba"
      },
      "source": [
        "X #solução do sistema\n"
      ],
      "execution_count": null,
      "outputs": [
        {
          "output_type": "execute_result",
          "data": {
            "text/plain": [
              "array([[0.73170732],\n",
              "       [0.17073171]])"
            ]
          },
          "metadata": {
            "tags": []
          },
          "execution_count": 26
        }
      ]
    },
    {
      "cell_type": "markdown",
      "metadata": {
        "id": "yJSYCJ4_bB5x"
      },
      "source": [
        "> # 4. Determinante\n",
        "- Podemos pensar no determinante como um número associado a uma matriz quadrada Am × n\n",
        ". Denotamos\n",
        "det A.\n",
        "\n",
        "Basta utilizar a função np.linalg.det()\n"
      ]
    },
    {
      "cell_type": "code",
      "metadata": {
        "id": "UtNlrHYYafVh"
      },
      "source": [
        "V = np.array([[1, 2, 3, 4], [4, 3, 1, 1], [0, 2, 4, 6], [5, 7, 9, 1]])"
      ],
      "execution_count": null,
      "outputs": []
    },
    {
      "cell_type": "code",
      "metadata": {
        "colab": {
          "base_uri": "https://localhost:8080/"
        },
        "id": "Qw_zZtYLafSL",
        "outputId": "fdecc1a3-bde3-4f62-fa24-02d71c40e788"
      },
      "source": [
        "round (np.linalg.det(V))\n"
      ],
      "execution_count": null,
      "outputs": [
        {
          "output_type": "execute_result",
          "data": {
            "text/plain": [
              "-20"
            ]
          },
          "metadata": {
            "tags": []
          },
          "execution_count": 28
        }
      ]
    },
    {
      "cell_type": "markdown",
      "metadata": {
        "id": "s5OC94FtbN28"
      },
      "source": [
        "> # 5. Produto interno\n",
        "Produto interno canônico:"
      ]
    },
    {
      "cell_type": "code",
      "metadata": {
        "id": "wBPlsPUfafPh"
      },
      "source": [
        "i = np.array([1, 0, 0])\n",
        "j = np.array([0, 1, 0])\n",
        "k = np.array([0, 0, 1])"
      ],
      "execution_count": null,
      "outputs": []
    },
    {
      "cell_type": "code",
      "metadata": {
        "colab": {
          "base_uri": "https://localhost:8080/"
        },
        "id": "K4kU7_HobLkT",
        "outputId": "52020175-70fe-470c-bdb1-b947039069a4"
      },
      "source": [
        "np.inner(i,j)\n"
      ],
      "execution_count": null,
      "outputs": [
        {
          "output_type": "execute_result",
          "data": {
            "text/plain": [
              "0"
            ]
          },
          "metadata": {
            "tags": []
          },
          "execution_count": 30
        }
      ]
    },
    {
      "cell_type": "code",
      "metadata": {
        "colab": {
          "base_uri": "https://localhost:8080/"
        },
        "id": "sfFCCbfUbLic",
        "outputId": "8156f0a0-3b1e-4b2a-ba86-1a4e2375eb20"
      },
      "source": [
        "np.inner(j,k)"
      ],
      "execution_count": null,
      "outputs": [
        {
          "output_type": "execute_result",
          "data": {
            "text/plain": [
              "0"
            ]
          },
          "metadata": {
            "tags": []
          },
          "execution_count": 31
        }
      ]
    },
    {
      "cell_type": "markdown",
      "metadata": {
        "id": "C7Km0eKebV8N"
      },
      "source": [
        "Se dois vetores x, y, em um dado espaço vetorial possuem produto interno nulo, então esses vetores são\n",
        "ortogonais.\n"
      ]
    },
    {
      "cell_type": "markdown",
      "metadata": {
        "id": "_AnsOp8mbY8I"
      },
      "source": [
        "> # 6. Norma\n",
        "Seja x ∈ R\n",
        "n\n",
        ", o número | x | é denominado norma euclidiana ou distância."
      ]
    },
    {
      "cell_type": "markdown",
      "metadata": {
        "id": "anp8g7_NbdDh"
      },
      "source": [
        "> # 7. Combinação Linear\n",
        "Sejam v\n",
        "1\n",
        ", v\n",
        "2\n",
        ", …v\n",
        "n\n",
        " vetores de um espaço vetorial V e os escalares reais a1\n",
        ", a2\n",
        ", …an\n",
        ". Qualquer vetor v ∈ V, tal\n",
        "que v = a1v1 + a2v2 + a3v3 + …anvn\n",
        " é uma combinação linear dos vetores v1\n",
        ", v2\n",
        ", …, vn\n",
        ".\n"
      ]
    },
    {
      "cell_type": "code",
      "metadata": {
        "id": "ygfudMopbLfg"
      },
      "source": [
        "u = np.array([1, 0])\n",
        "v = np.array([0, 1])\n",
        "w = np.array([3, 2])\n"
      ],
      "execution_count": null,
      "outputs": []
    },
    {
      "cell_type": "code",
      "metadata": {
        "colab": {
          "base_uri": "https://localhost:8080/"
        },
        "id": "Q4XE_uy_bLcz",
        "outputId": "1dceee31-c4a5-43fd-d34f-63598b91c887"
      },
      "source": [
        "3 * u + 2 * v"
      ],
      "execution_count": null,
      "outputs": [
        {
          "output_type": "execute_result",
          "data": {
            "text/plain": [
              "array([3, 2])"
            ]
          },
          "metadata": {
            "tags": []
          },
          "execution_count": 33
        }
      ]
    },
    {
      "cell_type": "markdown",
      "metadata": {
        "id": "NMyWTDnRbk64"
      },
      "source": [
        "# Dinâmica 2"
      ]
    },
    {
      "cell_type": "markdown",
      "metadata": {
        "id": "n42ZY42nbz1_"
      },
      "source": [
        "8. Hands On! - Parte 1\n",
        " 1. Encontre WI sendo W =\n",
        "1 3 0 20\n",
        "2 −1 10 13\n",
        "3 4 10 0\n",
        "4 9 −1 0\n",
        " e I =\n",
        "2 0\n",
        "−4 11\n",
        "5 −2 [ ] [ 6 0 ]\n",
        "\n",
        " 1. Construa uma matriz 5 × 5 e encontre traço, diagonal principal e secundária.\n",
        "\n",
        " 1. Crie uma matriz 2 × 2 somente com elementos pares e calcule seu determinante.\n",
        "\n",
        " 1. Represente os sistemas abaixo na forma matricial e encontre as respectivas soluções.\n",
        "a)\n",
        "2x + y = 5\n",
        "x − 3y = 0\n",
        "b)\n",
        "2a + b + c = − 1\n",
        "a + c = 0\n",
        "−3a + 5b − c = 2\n",
        "{\n",
        "{\n",
        "\n",
        " 1. Determine a inversa das matrizes:\n",
        "a) H =\n",
        "1 0\n",
        "3 0\n",
        "b) I =\n",
        "1 0 0\n",
        "1 3 1\n",
        "1 2 0\n",
        "[ ]\n",
        "[ ]\n"
      ]
    },
    {
      "cell_type": "markdown",
      "metadata": {
        "id": "jz9-0zC0cB52"
      },
      "source": [
        "# 9. Hands On! - Parte 2"
      ]
    },
    {
      "cell_type": "markdown",
      "metadata": {
        "id": "Xy5cHI1-cEaG"
      },
      "source": [
        "1. Com base nos dados gerados a seguir obtenha a matriz de coeficientes da regressão linear e em\n",
        "seguida utilize a biblioteca Statsmodels para verificar os resultados obtidos.\n"
      ]
    },
    {
      "cell_type": "code",
      "metadata": {
        "id": "Nk_p-58vbl3I"
      },
      "source": [
        "from sklearn.datasets import make_regression\n",
        "X, y = make_regression(n_samples = 1000, n_features = 10, random_state = 99)"
      ],
      "execution_count": null,
      "outputs": []
    },
    {
      "cell_type": "markdown",
      "metadata": {
        "id": "DOnw9UDQcK6W"
      },
      "source": [
        "1. Use a biblioteca sklearn para ajustar um modelo de regressão linear com base nas matrizes anteriores,\n",
        "calcule ainda outras métricas de avaliação da regressão. Use a função train_test_split() para separar os\n",
        "dados em treino e teste com random_state igual a 55."
      ]
    },
    {
      "cell_type": "markdown",
      "metadata": {
        "id": "s046kK3ZcN0u"
      },
      "source": [
        "1. Faça:\n",
        " a. Importe o banco de dados anexo nesta aula (kc_house_data.csv);\n",
        "\n",
        " b. Mostre as 5 primeiras linhas;\n",
        "\n",
        " c. Mostre as colunas e o índice do dataset;\n",
        "\n",
        " d. Mostre o shape do dataset;\n",
        "\n",
        " e. Mostre informações do objeto criado com a função info();\n",
        "\n",
        " f. Mostre o dtype de cada coluna;\n",
        "\n",
        " g. Remova as seguintes colunas: 'id', 'date', 'zipcode', 'lat', 'long';\n",
        "\n",
        " h. Verifique se há missing data no dataset;\n",
        "\n",
        " i. Mostre estatísticas descritivas do dataset com a função describe();\n",
        "\n",
        " j. Calcule a matriz de correlação;\n",
        "\n",
        " l. Calcule a matriz de covariância;\n",
        "\n",
        " m. Faça um mapa de calor com base na matriz de correlação, use o módulo Seaborn;\n",
        "\n",
        " n. Faça um gráfico das relações entre as variáveis do dataset com a função pairplot do módulo Seaborn;\n",
        "\n",
        " o. Defina a variável target (coluna 'price') e armazene em uma variável;\n",
        "\n",
        " p. Defina as variáveis preditoras, que serão utilizadas para explicar o preço, e armazene em uma variável;\n",
        "\n",
        " q. Use a função train_test_split do sklearn para separar o dataset em dados de treino e teste, defina o\n",
        "test_size = 0.3 e random_state = 33;\n",
        "\n",
        " r. Crie um modelo de regressão linear e ajuste aos dados de treino, use: from sklearn.linear_model import\n",
        "LinearRegression;\n",
        "\n",
        " s. Calcule o coeficiente de determinação do modelo com a função score(), passando os dados de teste;"
      ]
    },
    {
      "cell_type": "code",
      "metadata": {
        "id": "LsWhwpvwbLaW"
      },
      "source": [
        ""
      ],
      "execution_count": null,
      "outputs": []
    },
    {
      "cell_type": "code",
      "metadata": {
        "id": "89TjwIMear3l"
      },
      "source": [
        ""
      ],
      "execution_count": null,
      "outputs": []
    },
    {
      "cell_type": "code",
      "metadata": {
        "id": "4fVa9gn-bLXJ"
      },
      "source": [
        ""
      ],
      "execution_count": null,
      "outputs": []
    },
    {
      "cell_type": "code",
      "metadata": {
        "id": "EJHSHvvJbLSM"
      },
      "source": [
        ""
      ],
      "execution_count": null,
      "outputs": []
    },
    {
      "cell_type": "code",
      "metadata": {
        "id": "CUcwXJt0bLNp"
      },
      "source": [
        ""
      ],
      "execution_count": null,
      "outputs": []
    },
    {
      "cell_type": "code",
      "metadata": {
        "id": "jRDkFpTgbLJR"
      },
      "source": [
        ""
      ],
      "execution_count": null,
      "outputs": []
    },
    {
      "cell_type": "code",
      "metadata": {
        "id": "tkr1YesKbLGP"
      },
      "source": [
        ""
      ],
      "execution_count": null,
      "outputs": []
    }
  ]
}